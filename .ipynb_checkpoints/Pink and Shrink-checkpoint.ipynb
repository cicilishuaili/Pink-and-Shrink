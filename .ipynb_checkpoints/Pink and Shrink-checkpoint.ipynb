{
 "cells": [
  {
   "cell_type": "markdown",
   "metadata": {},
   "source": [
    "### First things first\n",
    "\n",
    "Install the amazon product wrapper: \n",
    "\n",
    "`pip install python-amazon-product-api`\n",
    "\n",
    "Other installations may be required:\n",
    "* nltk\n",
    "* pandas \n",
    "* lxml \n",
    "* bokeh"
   ]
  },
  {
   "cell_type": "code",
   "execution_count": 72,
   "metadata": {},
   "outputs": [
    {
     "data": {
      "text/html": [
       "\n",
       "    <div class=\"bk-root\">\n",
       "        <a href=\"https://bokeh.pydata.org\" target=\"_blank\" class=\"bk-logo bk-logo-small bk-logo-notebook\"></a>\n",
       "        <span id=\"b1f5f2f5-43b3-4ddd-bc0f-b03d001ae14d\">Loading BokehJS ...</span>\n",
       "    </div>"
      ]
     },
     "metadata": {},
     "output_type": "display_data"
    },
    {
     "data": {
      "application/javascript": [
       "\n",
       "(function(root) {\n",
       "  function now() {\n",
       "    return new Date();\n",
       "  }\n",
       "\n",
       "  var force = true;\n",
       "\n",
       "  if (typeof (root._bokeh_onload_callbacks) === \"undefined\" || force === true) {\n",
       "    root._bokeh_onload_callbacks = [];\n",
       "    root._bokeh_is_loading = undefined;\n",
       "  }\n",
       "\n",
       "  var JS_MIME_TYPE = 'application/javascript';\n",
       "  var HTML_MIME_TYPE = 'text/html';\n",
       "  var EXEC_MIME_TYPE = 'application/vnd.bokehjs_exec.v0+json';\n",
       "  var CLASS_NAME = 'output_bokeh rendered_html';\n",
       "\n",
       "  /**\n",
       "   * Render data to the DOM node\n",
       "   */\n",
       "  function render(props, node) {\n",
       "    var script = document.createElement(\"script\");\n",
       "    node.appendChild(script);\n",
       "  }\n",
       "\n",
       "  /**\n",
       "   * Handle when an output is cleared or removed\n",
       "   */\n",
       "  function handleClearOutput(event, handle) {\n",
       "    var cell = handle.cell;\n",
       "\n",
       "    var id = cell.output_area._bokeh_element_id;\n",
       "    var server_id = cell.output_area._bokeh_server_id;\n",
       "    // Clean up Bokeh references\n",
       "    if (id !== undefined) {\n",
       "      Bokeh.index[id].model.document.clear();\n",
       "      delete Bokeh.index[id];\n",
       "    }\n",
       "\n",
       "    if (server_id !== undefined) {\n",
       "      // Clean up Bokeh references\n",
       "      var cmd = \"from bokeh.io.state import curstate; print(curstate().uuid_to_server['\" + server_id + \"'].get_sessions()[0].document.roots[0]._id)\";\n",
       "      cell.notebook.kernel.execute(cmd, {\n",
       "        iopub: {\n",
       "          output: function(msg) {\n",
       "            var element_id = msg.content.text.trim();\n",
       "            Bokeh.index[element_id].model.document.clear();\n",
       "            delete Bokeh.index[element_id];\n",
       "          }\n",
       "        }\n",
       "      });\n",
       "      // Destroy server and session\n",
       "      var cmd = \"import bokeh.io.notebook as ion; ion.destroy_server('\" + server_id + \"')\";\n",
       "      cell.notebook.kernel.execute(cmd);\n",
       "    }\n",
       "  }\n",
       "\n",
       "  /**\n",
       "   * Handle when a new output is added\n",
       "   */\n",
       "  function handleAddOutput(event, handle) {\n",
       "    var output_area = handle.output_area;\n",
       "    var output = handle.output;\n",
       "\n",
       "    // limit handleAddOutput to display_data with EXEC_MIME_TYPE content only\n",
       "    if ((output.output_type != \"display_data\") || (!output.data.hasOwnProperty(EXEC_MIME_TYPE))) {\n",
       "      return\n",
       "    }\n",
       "\n",
       "    var toinsert = output_area.element.find(\".\" + CLASS_NAME.split(' ')[0]);\n",
       "\n",
       "    if (output.metadata[EXEC_MIME_TYPE][\"id\"] !== undefined) {\n",
       "      toinsert[toinsert.length - 1].firstChild.textContent = output.data[JS_MIME_TYPE];\n",
       "      // store reference to embed id on output_area\n",
       "      output_area._bokeh_element_id = output.metadata[EXEC_MIME_TYPE][\"id\"];\n",
       "    }\n",
       "    if (output.metadata[EXEC_MIME_TYPE][\"server_id\"] !== undefined) {\n",
       "      var bk_div = document.createElement(\"div\");\n",
       "      bk_div.innerHTML = output.data[HTML_MIME_TYPE];\n",
       "      var script_attrs = bk_div.children[0].attributes;\n",
       "      for (var i = 0; i < script_attrs.length; i++) {\n",
       "        toinsert[toinsert.length - 1].firstChild.setAttribute(script_attrs[i].name, script_attrs[i].value);\n",
       "      }\n",
       "      // store reference to server id on output_area\n",
       "      output_area._bokeh_server_id = output.metadata[EXEC_MIME_TYPE][\"server_id\"];\n",
       "    }\n",
       "  }\n",
       "\n",
       "  function register_renderer(events, OutputArea) {\n",
       "\n",
       "    function append_mime(data, metadata, element) {\n",
       "      // create a DOM node to render to\n",
       "      var toinsert = this.create_output_subarea(\n",
       "        metadata,\n",
       "        CLASS_NAME,\n",
       "        EXEC_MIME_TYPE\n",
       "      );\n",
       "      this.keyboard_manager.register_events(toinsert);\n",
       "      // Render to node\n",
       "      var props = {data: data, metadata: metadata[EXEC_MIME_TYPE]};\n",
       "      render(props, toinsert[toinsert.length - 1]);\n",
       "      element.append(toinsert);\n",
       "      return toinsert\n",
       "    }\n",
       "\n",
       "    /* Handle when an output is cleared or removed */\n",
       "    events.on('clear_output.CodeCell', handleClearOutput);\n",
       "    events.on('delete.Cell', handleClearOutput);\n",
       "\n",
       "    /* Handle when a new output is added */\n",
       "    events.on('output_added.OutputArea', handleAddOutput);\n",
       "\n",
       "    /**\n",
       "     * Register the mime type and append_mime function with output_area\n",
       "     */\n",
       "    OutputArea.prototype.register_mime_type(EXEC_MIME_TYPE, append_mime, {\n",
       "      /* Is output safe? */\n",
       "      safe: true,\n",
       "      /* Index of renderer in `output_area.display_order` */\n",
       "      index: 0\n",
       "    });\n",
       "  }\n",
       "\n",
       "  // register the mime type if in Jupyter Notebook environment and previously unregistered\n",
       "  if (root.Jupyter !== undefined) {\n",
       "    var events = require('base/js/events');\n",
       "    var OutputArea = require('notebook/js/outputarea').OutputArea;\n",
       "\n",
       "    if (OutputArea.prototype.mime_types().indexOf(EXEC_MIME_TYPE) == -1) {\n",
       "      register_renderer(events, OutputArea);\n",
       "    }\n",
       "  }\n",
       "\n",
       "  \n",
       "  if (typeof (root._bokeh_timeout) === \"undefined\" || force === true) {\n",
       "    root._bokeh_timeout = Date.now() + 5000;\n",
       "    root._bokeh_failed_load = false;\n",
       "  }\n",
       "\n",
       "  var NB_LOAD_WARNING = {'data': {'text/html':\n",
       "     \"<div style='background-color: #fdd'>\\n\"+\n",
       "     \"<p>\\n\"+\n",
       "     \"BokehJS does not appear to have successfully loaded. If loading BokehJS from CDN, this \\n\"+\n",
       "     \"may be due to a slow or bad network connection. Possible fixes:\\n\"+\n",
       "     \"</p>\\n\"+\n",
       "     \"<ul>\\n\"+\n",
       "     \"<li>re-rerun `output_notebook()` to attempt to load from CDN again, or</li>\\n\"+\n",
       "     \"<li>use INLINE resources instead, as so:</li>\\n\"+\n",
       "     \"</ul>\\n\"+\n",
       "     \"<code>\\n\"+\n",
       "     \"from bokeh.resources import INLINE\\n\"+\n",
       "     \"output_notebook(resources=INLINE)\\n\"+\n",
       "     \"</code>\\n\"+\n",
       "     \"</div>\"}};\n",
       "\n",
       "  function display_loaded() {\n",
       "    var el = document.getElementById(\"b1f5f2f5-43b3-4ddd-bc0f-b03d001ae14d\");\n",
       "    if (el != null) {\n",
       "      el.textContent = \"BokehJS is loading...\";\n",
       "    }\n",
       "    if (root.Bokeh !== undefined) {\n",
       "      if (el != null) {\n",
       "        el.textContent = \"BokehJS \" + root.Bokeh.version + \" successfully loaded.\";\n",
       "      }\n",
       "    } else if (Date.now() < root._bokeh_timeout) {\n",
       "      setTimeout(display_loaded, 100)\n",
       "    }\n",
       "  }\n",
       "\n",
       "\n",
       "  function run_callbacks() {\n",
       "    try {\n",
       "      root._bokeh_onload_callbacks.forEach(function(callback) { callback() });\n",
       "    }\n",
       "    finally {\n",
       "      delete root._bokeh_onload_callbacks\n",
       "    }\n",
       "    console.info(\"Bokeh: all callbacks have finished\");\n",
       "  }\n",
       "\n",
       "  function load_libs(js_urls, callback) {\n",
       "    root._bokeh_onload_callbacks.push(callback);\n",
       "    if (root._bokeh_is_loading > 0) {\n",
       "      console.log(\"Bokeh: BokehJS is being loaded, scheduling callback at\", now());\n",
       "      return null;\n",
       "    }\n",
       "    if (js_urls == null || js_urls.length === 0) {\n",
       "      run_callbacks();\n",
       "      return null;\n",
       "    }\n",
       "    console.log(\"Bokeh: BokehJS not loaded, scheduling load and callback at\", now());\n",
       "    root._bokeh_is_loading = js_urls.length;\n",
       "    for (var i = 0; i < js_urls.length; i++) {\n",
       "      var url = js_urls[i];\n",
       "      var s = document.createElement('script');\n",
       "      s.src = url;\n",
       "      s.async = false;\n",
       "      s.onreadystatechange = s.onload = function() {\n",
       "        root._bokeh_is_loading--;\n",
       "        if (root._bokeh_is_loading === 0) {\n",
       "          console.log(\"Bokeh: all BokehJS libraries loaded\");\n",
       "          run_callbacks()\n",
       "        }\n",
       "      };\n",
       "      s.onerror = function() {\n",
       "        console.warn(\"failed to load library \" + url);\n",
       "      };\n",
       "      console.log(\"Bokeh: injecting script tag for BokehJS library: \", url);\n",
       "      document.getElementsByTagName(\"head\")[0].appendChild(s);\n",
       "    }\n",
       "  };var element = document.getElementById(\"b1f5f2f5-43b3-4ddd-bc0f-b03d001ae14d\");\n",
       "  if (element == null) {\n",
       "    console.log(\"Bokeh: ERROR: autoload.js configured with elementid 'b1f5f2f5-43b3-4ddd-bc0f-b03d001ae14d' but no matching script tag was found. \")\n",
       "    return false;\n",
       "  }\n",
       "\n",
       "  var js_urls = [\"https://cdn.pydata.org/bokeh/release/bokeh-0.12.15.min.js\", \"https://cdn.pydata.org/bokeh/release/bokeh-widgets-0.12.15.min.js\", \"https://cdn.pydata.org/bokeh/release/bokeh-tables-0.12.15.min.js\", \"https://cdn.pydata.org/bokeh/release/bokeh-gl-0.12.15.min.js\"];\n",
       "\n",
       "  var inline_js = [\n",
       "    function(Bokeh) {\n",
       "      Bokeh.set_log_level(\"info\");\n",
       "    },\n",
       "    \n",
       "    function(Bokeh) {\n",
       "      \n",
       "    },\n",
       "    function(Bokeh) {\n",
       "      console.log(\"Bokeh: injecting CSS: https://cdn.pydata.org/bokeh/release/bokeh-0.12.15.min.css\");\n",
       "      Bokeh.embed.inject_css(\"https://cdn.pydata.org/bokeh/release/bokeh-0.12.15.min.css\");\n",
       "      console.log(\"Bokeh: injecting CSS: https://cdn.pydata.org/bokeh/release/bokeh-widgets-0.12.15.min.css\");\n",
       "      Bokeh.embed.inject_css(\"https://cdn.pydata.org/bokeh/release/bokeh-widgets-0.12.15.min.css\");\n",
       "      console.log(\"Bokeh: injecting CSS: https://cdn.pydata.org/bokeh/release/bokeh-tables-0.12.15.min.css\");\n",
       "      Bokeh.embed.inject_css(\"https://cdn.pydata.org/bokeh/release/bokeh-tables-0.12.15.min.css\");\n",
       "    }\n",
       "  ];\n",
       "\n",
       "  function run_inline_js() {\n",
       "    \n",
       "    if ((root.Bokeh !== undefined) || (force === true)) {\n",
       "      for (var i = 0; i < inline_js.length; i++) {\n",
       "        inline_js[i].call(root, root.Bokeh);\n",
       "      }if (force === true) {\n",
       "        display_loaded();\n",
       "      }} else if (Date.now() < root._bokeh_timeout) {\n",
       "      setTimeout(run_inline_js, 100);\n",
       "    } else if (!root._bokeh_failed_load) {\n",
       "      console.log(\"Bokeh: BokehJS failed to load within specified timeout.\");\n",
       "      root._bokeh_failed_load = true;\n",
       "    } else if (force !== true) {\n",
       "      var cell = $(document.getElementById(\"b1f5f2f5-43b3-4ddd-bc0f-b03d001ae14d\")).parents('.cell').data().cell;\n",
       "      cell.output_area.append_execute_result(NB_LOAD_WARNING)\n",
       "    }\n",
       "\n",
       "  }\n",
       "\n",
       "  if (root._bokeh_is_loading === 0) {\n",
       "    console.log(\"Bokeh: BokehJS loaded, going straight to plotting\");\n",
       "    run_inline_js();\n",
       "  } else {\n",
       "    load_libs(js_urls, function() {\n",
       "      console.log(\"Bokeh: BokehJS plotting callback run at\", now());\n",
       "      run_inline_js();\n",
       "    });\n",
       "  }\n",
       "}(window));"
      ],
      "application/vnd.bokehjs_load.v0+json": "\n(function(root) {\n  function now() {\n    return new Date();\n  }\n\n  var force = true;\n\n  if (typeof (root._bokeh_onload_callbacks) === \"undefined\" || force === true) {\n    root._bokeh_onload_callbacks = [];\n    root._bokeh_is_loading = undefined;\n  }\n\n  \n\n  \n  if (typeof (root._bokeh_timeout) === \"undefined\" || force === true) {\n    root._bokeh_timeout = Date.now() + 5000;\n    root._bokeh_failed_load = false;\n  }\n\n  var NB_LOAD_WARNING = {'data': {'text/html':\n     \"<div style='background-color: #fdd'>\\n\"+\n     \"<p>\\n\"+\n     \"BokehJS does not appear to have successfully loaded. If loading BokehJS from CDN, this \\n\"+\n     \"may be due to a slow or bad network connection. Possible fixes:\\n\"+\n     \"</p>\\n\"+\n     \"<ul>\\n\"+\n     \"<li>re-rerun `output_notebook()` to attempt to load from CDN again, or</li>\\n\"+\n     \"<li>use INLINE resources instead, as so:</li>\\n\"+\n     \"</ul>\\n\"+\n     \"<code>\\n\"+\n     \"from bokeh.resources import INLINE\\n\"+\n     \"output_notebook(resources=INLINE)\\n\"+\n     \"</code>\\n\"+\n     \"</div>\"}};\n\n  function display_loaded() {\n    var el = document.getElementById(\"b1f5f2f5-43b3-4ddd-bc0f-b03d001ae14d\");\n    if (el != null) {\n      el.textContent = \"BokehJS is loading...\";\n    }\n    if (root.Bokeh !== undefined) {\n      if (el != null) {\n        el.textContent = \"BokehJS \" + root.Bokeh.version + \" successfully loaded.\";\n      }\n    } else if (Date.now() < root._bokeh_timeout) {\n      setTimeout(display_loaded, 100)\n    }\n  }\n\n\n  function run_callbacks() {\n    try {\n      root._bokeh_onload_callbacks.forEach(function(callback) { callback() });\n    }\n    finally {\n      delete root._bokeh_onload_callbacks\n    }\n    console.info(\"Bokeh: all callbacks have finished\");\n  }\n\n  function load_libs(js_urls, callback) {\n    root._bokeh_onload_callbacks.push(callback);\n    if (root._bokeh_is_loading > 0) {\n      console.log(\"Bokeh: BokehJS is being loaded, scheduling callback at\", now());\n      return null;\n    }\n    if (js_urls == null || js_urls.length === 0) {\n      run_callbacks();\n      return null;\n    }\n    console.log(\"Bokeh: BokehJS not loaded, scheduling load and callback at\", now());\n    root._bokeh_is_loading = js_urls.length;\n    for (var i = 0; i < js_urls.length; i++) {\n      var url = js_urls[i];\n      var s = document.createElement('script');\n      s.src = url;\n      s.async = false;\n      s.onreadystatechange = s.onload = function() {\n        root._bokeh_is_loading--;\n        if (root._bokeh_is_loading === 0) {\n          console.log(\"Bokeh: all BokehJS libraries loaded\");\n          run_callbacks()\n        }\n      };\n      s.onerror = function() {\n        console.warn(\"failed to load library \" + url);\n      };\n      console.log(\"Bokeh: injecting script tag for BokehJS library: \", url);\n      document.getElementsByTagName(\"head\")[0].appendChild(s);\n    }\n  };var element = document.getElementById(\"b1f5f2f5-43b3-4ddd-bc0f-b03d001ae14d\");\n  if (element == null) {\n    console.log(\"Bokeh: ERROR: autoload.js configured with elementid 'b1f5f2f5-43b3-4ddd-bc0f-b03d001ae14d' but no matching script tag was found. \")\n    return false;\n  }\n\n  var js_urls = [\"https://cdn.pydata.org/bokeh/release/bokeh-0.12.15.min.js\", \"https://cdn.pydata.org/bokeh/release/bokeh-widgets-0.12.15.min.js\", \"https://cdn.pydata.org/bokeh/release/bokeh-tables-0.12.15.min.js\", \"https://cdn.pydata.org/bokeh/release/bokeh-gl-0.12.15.min.js\"];\n\n  var inline_js = [\n    function(Bokeh) {\n      Bokeh.set_log_level(\"info\");\n    },\n    \n    function(Bokeh) {\n      \n    },\n    function(Bokeh) {\n      console.log(\"Bokeh: injecting CSS: https://cdn.pydata.org/bokeh/release/bokeh-0.12.15.min.css\");\n      Bokeh.embed.inject_css(\"https://cdn.pydata.org/bokeh/release/bokeh-0.12.15.min.css\");\n      console.log(\"Bokeh: injecting CSS: https://cdn.pydata.org/bokeh/release/bokeh-widgets-0.12.15.min.css\");\n      Bokeh.embed.inject_css(\"https://cdn.pydata.org/bokeh/release/bokeh-widgets-0.12.15.min.css\");\n      console.log(\"Bokeh: injecting CSS: https://cdn.pydata.org/bokeh/release/bokeh-tables-0.12.15.min.css\");\n      Bokeh.embed.inject_css(\"https://cdn.pydata.org/bokeh/release/bokeh-tables-0.12.15.min.css\");\n    }\n  ];\n\n  function run_inline_js() {\n    \n    if ((root.Bokeh !== undefined) || (force === true)) {\n      for (var i = 0; i < inline_js.length; i++) {\n        inline_js[i].call(root, root.Bokeh);\n      }if (force === true) {\n        display_loaded();\n      }} else if (Date.now() < root._bokeh_timeout) {\n      setTimeout(run_inline_js, 100);\n    } else if (!root._bokeh_failed_load) {\n      console.log(\"Bokeh: BokehJS failed to load within specified timeout.\");\n      root._bokeh_failed_load = true;\n    } else if (force !== true) {\n      var cell = $(document.getElementById(\"b1f5f2f5-43b3-4ddd-bc0f-b03d001ae14d\")).parents('.cell').data().cell;\n      cell.output_area.append_execute_result(NB_LOAD_WARNING)\n    }\n\n  }\n\n  if (root._bokeh_is_loading === 0) {\n    console.log(\"Bokeh: BokehJS loaded, going straight to plotting\");\n    run_inline_js();\n  } else {\n    load_libs(js_urls, function() {\n      console.log(\"Bokeh: BokehJS plotting callback run at\", now());\n      run_inline_js();\n    });\n  }\n}(window));"
     },
     "metadata": {},
     "output_type": "display_data"
    }
   ],
   "source": [
    "from __future__ import absolute_import, division, print_function\n",
    "from amazonproduct import API\n",
    "import os\n",
    "from nltk.corpus.reader.plaintext import CategorizedPlaintextCorpusReader\n",
    "from nltk import word_tokenize, FreqDist\n",
    "from nltk.corpus import stopwords\n",
    "import string\n",
    "from nltk.classify import NaiveBayesClassifier, util\n",
    "import random\n",
    "import pandas as pd\n",
    "import re\n",
    "\n",
    "from bokeh.io import show\n",
    "from bokeh.models import ColumnDataSource, PrintfTickFormatter, LabelSet\n",
    "from bokeh.plotting import figure\n",
    "from bokeh.models.glyphs import HBar\n",
    "from bokeh.io import output_notebook\n",
    "output_notebook()"
   ]
  },
  {
   "cell_type": "markdown",
   "metadata": {},
   "source": [
    "### Set up API\n",
    "\n",
    "Fill in your own info here, example dictionary shown"
   ]
  },
  {
   "cell_type": "code",
   "execution_count": 1,
   "metadata": {
    "collapsed": true
   },
   "outputs": [],
   "source": [
    "# sample configuration dictionary\n",
    "cfg = {\n",
    "    'access_key': 'ABCDEFG1234X',\n",
    "    'secret_key': 'Ydjkei78HdkffdklieAHDJWE3134',\n",
    "    'associate_tag': 'redtoad-10',\n",
    "    'locale': 'us'\n",
    "}"
   ]
  },
  {
   "cell_type": "code",
   "execution_count": 6,
   "metadata": {},
   "outputs": [],
   "source": []
  },
  {
   "cell_type": "code",
   "execution_count": 8,
   "metadata": {},
   "outputs": [],
   "source": [
    "api = API(cfg = cfg)"
   ]
  },
  {
   "cell_type": "markdown",
   "metadata": {
    "collapsed": true
   },
   "source": [
    "### List of Allowed Index (for US)\n",
    "\n",
    "To do a search for items to pull their descriptions, one needs both an \"index\" and a \"node ID\". The \"node ID\" is numeric and part of the tree of categories that range from the broad to the specific, while the \"index\" are one-level broad description.\n",
    "Sometimes it's hard to know the necessary index to look into. And for product searches it is required and cannot be simply \"All\".\n",
    "\n",
    "These are the indices allowed:\n",
    "'Wine','Wireless','ArtsAndCrafts','Miscellaneous','Electronics','Jewelry','MobileApps','Photo','Shoes',\n",
    "'KindleStore','Automotive','Vehicles','Pantry','MusicalInstruments','DigitalMusic','GiftCards','FashionBaby',\n",
    "'FashionGirls','GourmetFood','HomeGarden','MusicTracks','UnboxVideo','FashionWomen','VideoGames','FashionMen',\n",
    "'Kitchen','Video','Software','Beauty','Grocery',,'FashionBoys','Industrial','PetSupplies','OfficeProducts',\n",
    "'Magazines','Watches','Luggage','OutdoorLiving','Toys','SportingGoods','PCHardware','Movies','Books','Collectibles',\n",
    "'Handmade','VHS','MP3Downloads','HomeAndBusinessServices','Fashion','Tools','Baby','Apparel','Marketplace','DVD',\n",
    "'Appliances','Music','LawnAndGarden','WirelessAccessories','Blended','HealthPersonalCare','Classical'"
   ]
  },
  {
   "cell_type": "markdown",
   "metadata": {},
   "source": [
    "### Finding Mirrored Categories\n",
    "\n",
    "After just some browsing of Amazon and their tree of categories, you can find that Amazon already has a sort of conveniently mirred male/female node ID's for a lot of product categories. This is easier done for men's vs. women's fashion categories as the subtrees are similarly structure. For others where the men vs. women distinguishes are made later, such as vitamins/minerals and deodorant/anti-perspirant, I have yet to find the solution. Some of the mirrored nodes IDs items found are:\n",
    "\n",
    "* socks\n",
    "* wallets\n",
    "* pants\n",
    "* shirts\n",
    "* eyewear\n",
    "* razor\n",
    "* running shoes\n",
    "* perfume/cologne\n",
    "\n",
    "Some of the considerations and constraints to take into account is that we want something specific to be constrained but not too specific such that we cannot retrieve enough items from sum of the subcategories. Recall that the API restricts to 20 pages which translates only to roughly 200 items per node ID, so we are circumventing this by pulling from each of the \"child nodes\" in addition to the original node. \n",
    "\n",
    "We need enough item description data to form a corpus, so generally speaking, the larger the number of items the better. We can also pull from different indices (e.g. for shoes, there's the obvious \"shoes\" but also \"fashion\" and \"sportinggoods\". The good thing is that Amazon items has a unique item code, so any duplicates is overwritten and won't be over-represented.\n",
    "\n",
    "Unfortunately this method of getting around the item limit implies approximate equal representation across the subcategories, while in reality, some subcategory may be vastly more popular than others. Also, another caveat is that the same product items in different sizes, colors, styles, etc. will each have their unique code and may over-represent a particular item in description count."
   ]
  },
  {
   "cell_type": "code",
   "execution_count": 169,
   "metadata": {},
   "outputs": [],
   "source": [
    "shoes_running = {}\n",
    "shoes_running['f'] = 679360011\n",
    "shoes_running['m'] = 679286011\n",
    "\n",
    "perfume = {}\n",
    "perfume['f'] = 11056931\n",
    "perfume['m'] = 11056761\n",
    "\n",
    "watch = {}\n",
    "watch['f'] = 6358543011\n",
    "watch['m'] = 6358539011\n",
    "\n",
    "razor = {}\n",
    "razor['f'] = 13269991011\n",
    "razor['m'] = 13271080011\n",
    "\n",
    "eyewear = {}\n",
    "eyewear['m'] = 7072330011\n",
    "eyewear['f'] = 7072321011\n",
    "\n",
    "glasses = {}\n",
    "glasses['m'] = 2474995011\n",
    "glasses['f'] = 2474971011\n",
    "\n",
    "socks = {}\n",
    "socks['f'] = 1044886\n",
    "socks['m'] = 1045708\n",
    "\n",
    "wallets = {}\n",
    "wallets['m'] = 2475895011\n",
    "wallets['f'] = 2475898011\n",
    "\n",
    "shirts = {}\n",
    "shirts['m'] = 11444073011\n",
    "shirts['f'] = 11444120011\n",
    "\n",
    "pants = {}\n",
    "pants['f'] = 11443933011\n",
    "pants['m'] = 11443885011"
   ]
  },
  {
   "cell_type": "markdown",
   "metadata": {},
   "source": [
    "### Checking symmetry\n",
    "\n",
    "Some interesting aspect can already be gleamed from the subcategories of what seems to be symmetric categories.\n",
    "\n",
    "Things like running shoes and shirts seems to have matching subcategories (child_nodes)."
   ]
  },
  {
   "cell_type": "code",
   "execution_count": 30,
   "metadata": {},
   "outputs": [
    {
     "name": "stdout",
     "output_type": "stream",
     "text": [
      "Road Running (14210388011)\n",
      "Track & Field & Cross Country (3412255011)\n",
      "Trail Running (1264582011)\n",
      "----------------------------\n",
      "Road Running (14210389011)\n",
      "Track & Field & Cross Country (3420973011)\n",
      "Trail Running (1264575011)\n"
     ]
    }
   ],
   "source": [
    "print_child_nodes(shoes_running['f'])\n",
    "print(\"----------------------------\")\n",
    "print_child_nodes(shoes_running['m'])"
   ]
  },
  {
   "cell_type": "code",
   "execution_count": 31,
   "metadata": {},
   "outputs": [
    {
     "name": "stdout",
     "output_type": "stream",
     "text": [
      "Compression Tops (9590778011)\n",
      "Polo Shirts (11444121011)\n",
      "T-Shirts (11444122011)\n",
      "Tank Tops (11444123011)\n",
      "----------------------------\n",
      "Compression Tops (9590779011)\n",
      "Polo Shirts (11444074011)\n",
      "T-Shirts (11444075011)\n",
      "Tank Tops (11444076011)\n"
     ]
    }
   ],
   "source": [
    "print_child_nodes(shirts['f'])\n",
    "print(\"----------------------------\")\n",
    "print_child_nodes(shirts['m'])"
   ]
  },
  {
   "cell_type": "markdown",
   "metadata": {
    "scrolled": false
   },
   "source": [
    "### Ensuring Symmetry\n",
    "\n",
    "But other items see more differences across the gender mirror. One of the artifact of this difference is reflected at first in that the category of \"perfume\" for women is called \"cologne\" for men.\n",
    "\n",
    "Here, \"safety razors\" and \"straight razors\" are only present in razors for men, while \"razors with soap bars\" are only present for women. \n",
    "\"Essential Oils\" are a unique subcategory for perfume for women. As is \"Capri Pants\" for women.\n",
    "There are 5 more subcategories for women's socks from \"Leg Warmers\" to \"Sheers\" to \"No Show & Liner Socks\"\n",
    "\n",
    "An option is to only pull from the same subcategories to ensure that symmetry is completely preserved. In otherwords, we can excluse those unique subcategories via node ID. We can do this to a certain extent for products we can find in multiple indices to still ensure a large corpus. But if \"capri\" shows up as a keyword for women's pants or \"essential\" or \"oil\" for women's perfume, we would know the reasons. "
   ]
  },
  {
   "cell_type": "code",
   "execution_count": 35,
   "metadata": {
    "scrolled": true
   },
   "outputs": [
    {
     "name": "stdout",
     "output_type": "stream",
     "text": [
      "Cartridges & Refills (13269995011)\n",
      "Disposable Razors (13269997011)\n",
      "Razor Systems (13269993011)\n",
      "Razors with Soap Bars (13295188011)\n",
      "----------------------------\n",
      "Razor Systems (13271082011)\n",
      "Cartridges & Refills (13271084011)\n",
      "Disposable Razors (13271086011)\n",
      "Safety Razors (13271088011)\n",
      "Straight Razors (13271090011)\n"
     ]
    }
   ],
   "source": [
    "print_child_nodes(razor['f'])\n",
    "print(\"----------------------------\")\n",
    "print_child_nodes(razor['m'])"
   ]
  },
  {
   "cell_type": "code",
   "execution_count": 36,
   "metadata": {},
   "outputs": [
    {
     "name": "stdout",
     "output_type": "stream",
     "text": [
      "Casual Socks (2376196011)\n",
      "Dress & Trouser Socks (2376197011)\n",
      "Athletic Socks (1044920)\n",
      "Leg Warmers (2376198011)\n",
      "Tights (1044936)\n",
      "Sheers (1044934)\n",
      "Slipper Socks (2376199011)\n",
      "No Show & Liner Socks (2376200011)\n",
      "----------------------------\n",
      "Casual Socks (2476509011)\n",
      "Dress & Trouser Socks (1045726)\n",
      "Athletic Socks (1045724)\n"
     ]
    }
   ],
   "source": [
    "print_child_nodes(socks['f'])\n",
    "print(\"----------------------------\")\n",
    "print_child_nodes(socks['m'])"
   ]
  },
  {
   "cell_type": "code",
   "execution_count": 37,
   "metadata": {},
   "outputs": [
    {
     "name": "stdout",
     "output_type": "stream",
     "text": [
      "Body Sprays (3783161)\n",
      "Cologne (11057051)\n",
      "Eau Fraiche (16262036011)\n",
      "Eau de Parfum (11057071)\n",
      "Eau de Toilette (11057081)\n",
      "Essential Oils (11057091)\n",
      "Sets (11057111)\n",
      "----------------------------\n",
      "Body Sprays (16262034011)\n",
      "Cologne (11059721)\n",
      "Eau Fraiche (16262035011)\n",
      "Eau de Parfum (363235011)\n",
      "Eau de Toilette (363236011)\n",
      "Sets (11059741)\n"
     ]
    }
   ],
   "source": [
    "print_child_nodes(perfume['f'])\n",
    "print(\"----------------------------\")\n",
    "print_child_nodes(perfume['m'])"
   ]
  },
  {
   "cell_type": "code",
   "execution_count": 39,
   "metadata": {},
   "outputs": [
    {
     "name": "stdout",
     "output_type": "stream",
     "text": [
      "Capri Pants (11443934011)\n",
      "Insulated Pants (11443935011)\n",
      "Shell Pants (11443936011)\n",
      "----------------------------\n",
      "Insulated Pants (11443887011)\n",
      "Shell Pants (11443888011)\n"
     ]
    }
   ],
   "source": [
    "print_child_nodes(pants['f'])\n",
    "print(\"----------------------------\")\n",
    "print_child_nodes(pants['m'])"
   ]
  },
  {
   "cell_type": "code",
   "execution_count": 172,
   "metadata": {
    "scrolled": true
   },
   "outputs": [
    {
     "name": "stdout",
     "output_type": "stream",
     "text": [
      "Sunglasses (2474971011)\n",
      "Eyeglass Cases (3478925011)\n",
      "Eyeglass Chains (3478927011)\n",
      "Eyewear Frames (3478921011)\n",
      "Replacement Sunglass Lenses (3508162011)\n",
      "----------------------------\n",
      "Sunglasses (2474995011)\n",
      "Eyeglass Cases (3478924011)\n",
      "Eyeglass Chains (3478926011)\n",
      "Eyewear Frames (3478922011)\n",
      "Replacement Sunglass Lenses (3508163011)\n"
     ]
    }
   ],
   "source": [
    "print_child_nodes(eyewear['f'])\n",
    "print(\"----------------------------\")\n",
    "print_child_nodes(eyewear['m'])"
   ]
  },
  {
   "cell_type": "markdown",
   "metadata": {},
   "source": [
    "## Categories that are \"Predictable\"\n",
    "\n",
    "The Naive Bayes algorithm used is very simple and interpretable, so the products with gender that can be somewhat accurately predicted by this method have distinguishing words that appear mostly in one category. The set up is also very straightforward, with a simple 80/20 split for training/testing data sets. In the future it might become more rigorous/complex, but for now will do.\n",
    "\n",
    "With that sad, the test accuracy is surprisingly high, in the high 70s to mid 80s for things like razors, perfume, shirt, pants, and wallets. Keep in mind that a human may not be able to accurately predict whether a product description is one for a women's or a men's product with 100% accuracy.\n",
    "\n",
    "There may be reasons that these categories do well that goes back to the data tiself. For perfume at least, it seems like there are standardized formats for descriptions for many of the products offered, e.g. the maker brand and what mix of aroma it presents. This kind of outlined format is well suited as it likely offers keywords without clutter or noise. It could also be, however, the expected problem of duplicate and overused product descriptions, both which increases the association between the gender label and particular words that show up again and again for this reason along."
   ]
  },
  {
   "cell_type": "code",
   "execution_count": 110,
   "metadata": {},
   "outputs": [],
   "source": [
    "hb_indices = ['HealthPersonalCare', 'Beauty']\n",
    "for index in hb_indices:\n",
    "    Razor_Corpus = build_corpus(index, \"RazorCorpus\", razor)"
   ]
  },
  {
   "cell_type": "code",
   "execution_count": 125,
   "metadata": {},
   "outputs": [],
   "source": [
    "razor_exclude = [13295188011, 13271088011, 13271090011]\n",
    "for index in hb_indices:\n",
    "        Razor_Corpus2 = build_corpus(index, \"RazorCorpus2\", razor, exclude = razor_exclude)"
   ]
  },
  {
   "cell_type": "code",
   "execution_count": 145,
   "metadata": {},
   "outputs": [
    {
     "name": "stdout",
     "output_type": "stream",
     "text": [
      "Training accuracy: 94.5804195804\n",
      "Test accuracy: 85.3146853147\n"
     ]
    },
    {
     "data": {
      "text/html": [
       "\n",
       "<div class=\"bk-root\">\n",
       "    <div class=\"bk-plotdiv\" id=\"a8240abe-6796-426f-9807-02db8e745f08\"></div>\n",
       "</div>"
      ]
     },
     "metadata": {},
     "output_type": "display_data"
    },
    {
     "data": {
      "application/javascript": [
       "(function(root) {\n",
       "  function embed_document(root) {\n",
       "    \n",
       "  var docs_json = {\"66b8c8ca-1681-4a8d-9382-887b846d7ed3\":{\"roots\":{\"references\":[{\"attributes\":{},\"id\":\"6766b339-b8c6-4715-86f2-35b7b2b78cdf\",\"type\":\"LinearScale\"},{\"attributes\":{\"data_source\":{\"id\":\"1e8e9127-03b9-444d-8a48-89dfcd6f3273\",\"type\":\"ColumnDataSource\"},\"glyph\":{\"id\":\"56de563f-0058-4335-8bad-894aef289acf\",\"type\":\"HBar\"},\"hover_glyph\":null,\"muted_glyph\":null,\"nonselection_glyph\":{\"id\":\"583baf6c-52b9-43c0-bbbc-8efc66b157d4\",\"type\":\"HBar\"},\"selection_glyph\":null,\"view\":{\"id\":\"d5ad7b5a-b363-474a-a3fe-14dc3ba35a67\",\"type\":\"CDSView\"}},\"id\":\"1e9363a1-1c4c-4ab4-b93c-b985070159ca\",\"type\":\"GlyphRenderer\"},{\"attributes\":{\"axis_label\":\"Likelihood Ratio\",\"axis_label_text_font_size\":{\"value\":\"1em\"},\"formatter\":{\"id\":\"12a64ef7-aa50-44af-ba0e-855b0a88bc65\",\"type\":\"PrintfTickFormatter\"},\"major_label_text_font_size\":{\"value\":\"1em\"},\"plot\":{\"id\":\"20500b29-8a0a-4e02-ad3a-7073526ebdf2\",\"subtype\":\"Figure\",\"type\":\"Plot\"},\"ticker\":{\"id\":\"dd017182-3cb2-4241-84c9-c2530c0d681b\",\"type\":\"BasicTicker\"}},\"id\":\"9692423d-fe8a-4673-b213-200bc55cdb56\",\"type\":\"LinearAxis\"},{\"attributes\":{\"fill_color\":{\"value\":\"deeppink\"},\"height\":{\"value\":0.8},\"line_color\":{\"value\":\"deeppink\"},\"right\":{\"field\":\"ratio\"},\"y\":{\"field\":\"word\"}},\"id\":\"0adb092c-24ae-48eb-98ab-53f2cae06938\",\"type\":\"HBar\"},{\"attributes\":{\"label\":{\"value\":\"Male\"},\"renderers\":[{\"id\":\"1e9363a1-1c4c-4ab4-b93c-b985070159ca\",\"type\":\"GlyphRenderer\"}]},\"id\":\"c4d8ec4d-163f-41c8-845e-c7a7900493d1\",\"type\":\"LegendItem\"},{\"attributes\":{},\"id\":\"1038eb83-3865-4c00-8bf0-568ac6c8bafb\",\"type\":\"CategoricalScale\"},{\"attributes\":{},\"id\":\"06c11de7-2d4e-4d86-baee-58488ac80aeb\",\"type\":\"WheelZoomTool\"},{\"attributes\":{\"overlay\":{\"id\":\"30479098-f7e3-49e9-9d5a-f32844908e88\",\"type\":\"BoxAnnotation\"}},\"id\":\"27061309-765d-42b2-8dfe-cccc28c62844\",\"type\":\"BoxZoomTool\"},{\"attributes\":{\"active_drag\":\"auto\",\"active_inspect\":\"auto\",\"active_scroll\":\"auto\",\"active_tap\":\"auto\",\"tools\":[{\"id\":\"a2b8c9e3-09e7-4325-afdc-85a973544cf2\",\"type\":\"PanTool\"},{\"id\":\"06c11de7-2d4e-4d86-baee-58488ac80aeb\",\"type\":\"WheelZoomTool\"},{\"id\":\"27061309-765d-42b2-8dfe-cccc28c62844\",\"type\":\"BoxZoomTool\"},{\"id\":\"8370b591-d491-48fb-a833-6a05654eb1eb\",\"type\":\"SaveTool\"},{\"id\":\"6c44156c-1a9d-47e7-a294-c0e4a8eb0687\",\"type\":\"ResetTool\"},{\"id\":\"bff4e801-693c-4ad8-9b5d-f7d4e669ba80\",\"type\":\"HelpTool\"}]},\"id\":\"0aff0574-045b-4acc-9d15-3cc196c5de0a\",\"type\":\"Toolbar\"},{\"attributes\":{\"items\":[{\"id\":\"78617496-2a10-4d16-8ee2-da11a828c69a\",\"type\":\"LegendItem\"},{\"id\":\"c4d8ec4d-163f-41c8-845e-c7a7900493d1\",\"type\":\"LegendItem\"}],\"label_text_font_size\":{\"value\":\"1em\"},\"location\":\"bottom_right\",\"plot\":{\"id\":\"20500b29-8a0a-4e02-ad3a-7073526ebdf2\",\"subtype\":\"Figure\",\"type\":\"Plot\"}},\"id\":\"74d2c43a-bd23-41d9-8f80-df94702b09f5\",\"type\":\"Legend\"},{\"attributes\":{\"label\":{\"value\":\"Female\"},\"renderers\":[{\"id\":\"b0f53b2c-5652-4c30-80dc-e3cb97c1f32a\",\"type\":\"GlyphRenderer\"}]},\"id\":\"78617496-2a10-4d16-8ee2-da11a828c69a\",\"type\":\"LegendItem\"},{\"attributes\":{},\"id\":\"8370b591-d491-48fb-a833-6a05654eb1eb\",\"type\":\"SaveTool\"},{\"attributes\":{},\"id\":\"a2b8c9e3-09e7-4325-afdc-85a973544cf2\",\"type\":\"PanTool\"},{\"attributes\":{\"data_source\":{\"id\":\"4e48e1b7-90e1-470b-93a9-398df835b1b6\",\"type\":\"ColumnDataSource\"},\"glyph\":{\"id\":\"0adb092c-24ae-48eb-98ab-53f2cae06938\",\"type\":\"HBar\"},\"hover_glyph\":null,\"muted_glyph\":null,\"nonselection_glyph\":{\"id\":\"47db2816-d77e-4e08-aeb3-c200dd1dacf1\",\"type\":\"HBar\"},\"selection_glyph\":null,\"view\":{\"id\":\"7594be1b-6fa8-4698-974a-9169f6b4e134\",\"type\":\"CDSView\"}},\"id\":\"b0f53b2c-5652-4c30-80dc-e3cb97c1f32a\",\"type\":\"GlyphRenderer\"},{\"attributes\":{},\"id\":\"bff4e801-693c-4ad8-9b5d-f7d4e669ba80\",\"type\":\"HelpTool\"},{\"attributes\":{\"fill_color\":{\"value\":\"deepskyblue\"},\"height\":{\"value\":0.8},\"left\":{\"field\":\"ratio\"},\"line_color\":{\"value\":\"deepskyblue\"},\"right\":{\"value\":0},\"y\":{\"field\":\"word\"}},\"id\":\"56de563f-0058-4335-8bad-894aef289acf\",\"type\":\"HBar\"},{\"attributes\":{\"source\":{\"id\":\"4e48e1b7-90e1-470b-93a9-398df835b1b6\",\"type\":\"ColumnDataSource\"}},\"id\":\"7594be1b-6fa8-4698-974a-9169f6b4e134\",\"type\":\"CDSView\"},{\"attributes\":{\"source\":{\"id\":\"1e8e9127-03b9-444d-8a48-89dfcd6f3273\",\"type\":\"ColumnDataSource\"}},\"id\":\"d5ad7b5a-b363-474a-a3fe-14dc3ba35a67\",\"type\":\"CDSView\"},{\"attributes\":{\"callback\":null,\"end\":66.82222222222222,\"start\":-66.82222222222222},\"id\":\"9d58806a-570c-4981-a07a-ed4c4b6267f7\",\"type\":\"Range1d\"},{\"attributes\":{\"callback\":null,\"column_names\":[\"gender\",\"word\",\"index\",\"ratio\"],\"data\":{\"gender\":[\"m\",\"m\",\"m\",\"m\",\"m\",\"m\",\"m\",\"m\",\"m\",\"m\",\"m\",\"m\",\"m\",\"m\",\"m\"],\"index\":[1,2,5,7,15,16,18,17,19,23,24,25,26,28,29],\"ratio\":{\"__ndarray__\":\"J3ZiJ3biO8BjJ3ZiJ/Y5wNmJndiJHTHAyHu8x3s8MMCxEzuxEzsowGIndmIndifAdmIndmInJcB2Yid2YiclwCh2Yid2YiTA2Ymd2ImdI8DZiZ3YiZ0jwIqd2Imd2CLAip3YiZ3YIsA8sRM7sRMiwO3ETuzETiHA\",\"dtype\":\"float64\",\"shape\":[15]},\"word\":[\"double\",\"straight\",\"professional\",\"edge\",\"provide\",\"included\",\"gift\",\"beard\",\"angle\",\"please\",\"fusion\",\"many\",\"platinum\",\"end\",\"excellent\"]},\"selected\":null,\"selection_policy\":null},\"id\":\"1e8e9127-03b9-444d-8a48-89dfcd6f3273\",\"type\":\"ColumnDataSource\"},{\"attributes\":{},\"id\":\"6c44156c-1a9d-47e7-a294-c0e4a8eb0687\",\"type\":\"ResetTool\"},{\"attributes\":{\"formatter\":{\"id\":\"64afe302-74b1-4a83-9171-898e7ea41b7a\",\"type\":\"CategoricalTickFormatter\"},\"plot\":{\"id\":\"20500b29-8a0a-4e02-ad3a-7073526ebdf2\",\"subtype\":\"Figure\",\"type\":\"Plot\"},\"ticker\":{\"id\":\"bfa418c3-2510-4c33-aed1-627029e071bb\",\"type\":\"CategoricalTicker\"},\"visible\":false},\"id\":\"ec35dc37-25fe-4955-8010-f132aca164cd\",\"type\":\"CategoricalAxis\"},{\"attributes\":{},\"id\":\"dd017182-3cb2-4241-84c9-c2530c0d681b\",\"type\":\"BasicTicker\"},{\"attributes\":{},\"id\":\"64afe302-74b1-4a83-9171-898e7ea41b7a\",\"type\":\"CategoricalTickFormatter\"},{\"attributes\":{},\"id\":\"bfa418c3-2510-4c33-aed1-627029e071bb\",\"type\":\"CategoricalTicker\"},{\"attributes\":{\"level\":\"glyph\",\"plot\":{\"id\":\"20500b29-8a0a-4e02-ad3a-7073526ebdf2\",\"subtype\":\"Figure\",\"type\":\"Plot\"},\"source\":{\"id\":\"d95dcb25-2b72-4254-a1c8-4cae957aa927\",\"type\":\"ColumnDataSource\"},\"text\":{\"field\":\"word\"},\"x\":{\"value\":0},\"x_offset\":{\"value\":5},\"y\":{\"field\":\"word\"},\"y_offset\":{\"value\":-9}},\"id\":\"9f3f56ce-9db7-478a-a915-3319bb47719b\",\"type\":\"LabelSet\"},{\"attributes\":{\"callback\":null,\"factors\":[\"double\",\"straight\",\"professional\",\"edge\",\"provide\",\"included\",\"gift\",\"beard\",\"angle\",\"please\",\"fusion\",\"many\",\"platinum\",\"end\",\"excellent\",\"silky\",\"closely\",\"softer\",\"legs\",\"women\",\"shower\",\"curves\",\"scented\",\"embrace\",\"butter\",\"step\",\"leaving\",\"moisturizing\",\"intuition\",\"venus\"],\"range_padding\":0.1},\"id\":\"5bf1c0f9-7216-4f74-9a38-cd8581c9b9ff\",\"type\":\"FactorRange\"},{\"attributes\":{\"callback\":null,\"column_names\":[\"gender\",\"word\",\"index\",\"ratio\"],\"data\":{\"gender\":[\"f\",\"f\",\"f\",\"f\",\"f\",\"f\",\"f\",\"f\",\"f\",\"f\",\"f\",\"f\",\"f\",\"f\",\"f\"],\"index\":[27,22,21,20,14,12,13,11,10,8,9,6,4,3,0],\"ratio\":{\"__ndarray__\":\"uB6F61G4IkBQ+qRP+qQjQFD6pE/6pCNA4ARO4AROJEDl5eXl5eUpQG2g0wY6bSxAbaDTBjptLEA4juM4juMsQDIzMzMzMy9AMjMzMzMzL0AzMzMzMzMvQBdswRZswTBAERERERERM0BOG+i0gU45QJM+6ZM+6U5A\",\"dtype\":\"float64\",\"shape\":[15]},\"word\":[\"silky\",\"closely\",\"softer\",\"legs\",\"women\",\"shower\",\"curves\",\"scented\",\"embrace\",\"butter\",\"step\",\"leaving\",\"moisturizing\",\"intuition\",\"venus\"]},\"selected\":null,\"selection_policy\":null},\"id\":\"6ad9858e-97e4-4a6f-a005-012ca0cce357\",\"type\":\"ColumnDataSource\"},{\"attributes\":{\"grid_line_color\":{\"value\":null},\"plot\":{\"id\":\"20500b29-8a0a-4e02-ad3a-7073526ebdf2\",\"subtype\":\"Figure\",\"type\":\"Plot\"},\"ticker\":{\"id\":\"dd017182-3cb2-4241-84c9-c2530c0d681b\",\"type\":\"BasicTicker\"}},\"id\":\"a8857198-7f9d-4cf3-8c8e-b0e593320bf3\",\"type\":\"Grid\"},{\"attributes\":{\"format\":\"%u\"},\"id\":\"12a64ef7-aa50-44af-ba0e-855b0a88bc65\",\"type\":\"PrintfTickFormatter\"},{\"attributes\":{\"bottom_units\":\"screen\",\"fill_alpha\":{\"value\":0.5},\"fill_color\":{\"value\":\"lightgrey\"},\"left_units\":\"screen\",\"level\":\"overlay\",\"line_alpha\":{\"value\":1.0},\"line_color\":{\"value\":\"black\"},\"line_dash\":[4,4],\"line_width\":{\"value\":2},\"plot\":null,\"render_mode\":\"css\",\"right_units\":\"screen\",\"top_units\":\"screen\"},\"id\":\"30479098-f7e3-49e9-9d5a-f32844908e88\",\"type\":\"BoxAnnotation\"},{\"attributes\":{\"plot\":null,\"text\":\"Most Informative Words in Descriptions for Razors\",\"text_font_size\":{\"value\":\"1.2em\"}},\"id\":\"21d7a4bb-6d2a-4f81-9d9b-c1f95d4a4367\",\"type\":\"Title\"},{\"attributes\":{\"callback\":null,\"column_names\":[\"gender\",\"word\",\"index\",\"ratio\"],\"data\":{\"gender\":[\"f\",\"f\",\"f\",\"f\",\"f\",\"f\",\"f\",\"f\",\"f\",\"f\",\"f\",\"f\",\"f\",\"f\",\"f\"],\"index\":[27,22,21,20,14,12,13,11,10,8,9,6,4,3,0],\"ratio\":{\"__ndarray__\":\"uB6F61G4IkBQ+qRP+qQjQFD6pE/6pCNA4ARO4AROJEDl5eXl5eUpQG2g0wY6bSxAbaDTBjptLEA4juM4juMsQDIzMzMzMy9AMjMzMzMzL0AzMzMzMzMvQBdswRZswTBAERERERERM0BOG+i0gU45QJM+6ZM+6U5A\",\"dtype\":\"float64\",\"shape\":[15]},\"word\":[\"silky\",\"closely\",\"softer\",\"legs\",\"women\",\"shower\",\"curves\",\"scented\",\"embrace\",\"butter\",\"step\",\"leaving\",\"moisturizing\",\"intuition\",\"venus\"]},\"selected\":null,\"selection_policy\":null},\"id\":\"4e48e1b7-90e1-470b-93a9-398df835b1b6\",\"type\":\"ColumnDataSource\"},{\"attributes\":{\"fill_alpha\":{\"value\":0.1},\"fill_color\":{\"value\":\"#1f77b4\"},\"height\":{\"value\":0.8},\"left\":{\"field\":\"ratio\"},\"line_alpha\":{\"value\":0.1},\"line_color\":{\"value\":\"#1f77b4\"},\"right\":{\"value\":0},\"y\":{\"field\":\"word\"}},\"id\":\"583baf6c-52b9-43c0-bbbc-8efc66b157d4\",\"type\":\"HBar\"},{\"attributes\":{\"callback\":null,\"column_names\":[\"gender\",\"word\",\"index\",\"ratio\"],\"data\":{\"gender\":[\"m\",\"m\",\"m\",\"m\",\"m\",\"m\",\"m\",\"m\",\"m\",\"m\",\"m\",\"m\",\"m\",\"m\",\"m\"],\"index\":[1,2,5,7,15,16,18,17,19,23,24,25,26,28,29],\"ratio\":{\"__ndarray__\":\"J3ZiJ3biO8BjJ3ZiJ/Y5wNmJndiJHTHAyHu8x3s8MMCxEzuxEzsowGIndmIndifAdmIndmInJcB2Yid2YiclwCh2Yid2YiTA2Ymd2ImdI8DZiZ3YiZ0jwIqd2Imd2CLAip3YiZ3YIsA8sRM7sRMiwO3ETuzETiHA\",\"dtype\":\"float64\",\"shape\":[15]},\"word\":[\"double\",\"straight\",\"professional\",\"edge\",\"provide\",\"included\",\"gift\",\"beard\",\"angle\",\"please\",\"fusion\",\"many\",\"platinum\",\"end\",\"excellent\"]},\"selected\":null,\"selection_policy\":null},\"id\":\"d95dcb25-2b72-4254-a1c8-4cae957aa927\",\"type\":\"ColumnDataSource\"},{\"attributes\":{\"fill_alpha\":{\"value\":0.1},\"fill_color\":{\"value\":\"#1f77b4\"},\"height\":{\"value\":0.8},\"line_alpha\":{\"value\":0.1},\"line_color\":{\"value\":\"#1f77b4\"},\"right\":{\"field\":\"ratio\"},\"y\":{\"field\":\"word\"}},\"id\":\"47db2816-d77e-4e08-aeb3-c200dd1dacf1\",\"type\":\"HBar\"},{\"attributes\":{\"dimension\":1,\"grid_line_color\":{\"value\":null},\"plot\":{\"id\":\"20500b29-8a0a-4e02-ad3a-7073526ebdf2\",\"subtype\":\"Figure\",\"type\":\"Plot\"},\"ticker\":{\"id\":\"bfa418c3-2510-4c33-aed1-627029e071bb\",\"type\":\"CategoricalTicker\"}},\"id\":\"c11ba5f3-7189-44c3-b1c5-4eb360063a8e\",\"type\":\"Grid\"},{\"attributes\":{\"level\":\"glyph\",\"plot\":{\"id\":\"20500b29-8a0a-4e02-ad3a-7073526ebdf2\",\"subtype\":\"Figure\",\"type\":\"Plot\"},\"source\":{\"id\":\"6ad9858e-97e4-4a6f-a005-012ca0cce357\",\"type\":\"ColumnDataSource\"},\"text\":{\"field\":\"word\"},\"text_align\":\"right\",\"x\":{\"value\":0},\"x_offset\":{\"value\":-5},\"y\":{\"field\":\"word\"},\"y_offset\":{\"value\":-9}},\"id\":\"390e2843-d8c5-44a5-87a2-1914611a107b\",\"type\":\"LabelSet\"},{\"attributes\":{\"below\":[{\"id\":\"9692423d-fe8a-4673-b213-200bc55cdb56\",\"type\":\"LinearAxis\"}],\"left\":[{\"id\":\"ec35dc37-25fe-4955-8010-f132aca164cd\",\"type\":\"CategoricalAxis\"}],\"renderers\":[{\"id\":\"9692423d-fe8a-4673-b213-200bc55cdb56\",\"type\":\"LinearAxis\"},{\"id\":\"a8857198-7f9d-4cf3-8c8e-b0e593320bf3\",\"type\":\"Grid\"},{\"id\":\"ec35dc37-25fe-4955-8010-f132aca164cd\",\"type\":\"CategoricalAxis\"},{\"id\":\"c11ba5f3-7189-44c3-b1c5-4eb360063a8e\",\"type\":\"Grid\"},{\"id\":\"30479098-f7e3-49e9-9d5a-f32844908e88\",\"type\":\"BoxAnnotation\"},{\"id\":\"74d2c43a-bd23-41d9-8f80-df94702b09f5\",\"type\":\"Legend\"},{\"id\":\"b0f53b2c-5652-4c30-80dc-e3cb97c1f32a\",\"type\":\"GlyphRenderer\"},{\"id\":\"1e9363a1-1c4c-4ab4-b93c-b985070159ca\",\"type\":\"GlyphRenderer\"},{\"id\":\"9f3f56ce-9db7-478a-a915-3319bb47719b\",\"type\":\"LabelSet\"},{\"id\":\"390e2843-d8c5-44a5-87a2-1914611a107b\",\"type\":\"LabelSet\"}],\"title\":{\"id\":\"21d7a4bb-6d2a-4f81-9d9b-c1f95d4a4367\",\"type\":\"Title\"},\"toolbar\":{\"id\":\"0aff0574-045b-4acc-9d15-3cc196c5de0a\",\"type\":\"Toolbar\"},\"x_range\":{\"id\":\"9d58806a-570c-4981-a07a-ed4c4b6267f7\",\"type\":\"Range1d\"},\"x_scale\":{\"id\":\"6766b339-b8c6-4715-86f2-35b7b2b78cdf\",\"type\":\"LinearScale\"},\"y_range\":{\"id\":\"5bf1c0f9-7216-4f74-9a38-cd8581c9b9ff\",\"type\":\"FactorRange\"},\"y_scale\":{\"id\":\"1038eb83-3865-4c00-8bf0-568ac6c8bafb\",\"type\":\"CategoricalScale\"}},\"id\":\"20500b29-8a0a-4e02-ad3a-7073526ebdf2\",\"subtype\":\"Figure\",\"type\":\"Plot\"}],\"root_ids\":[\"20500b29-8a0a-4e02-ad3a-7073526ebdf2\"]},\"title\":\"Bokeh Application\",\"version\":\"0.12.15\"}};\n",
       "  var render_items = [{\"docid\":\"66b8c8ca-1681-4a8d-9382-887b846d7ed3\",\"elementid\":\"a8240abe-6796-426f-9807-02db8e745f08\",\"modelid\":\"20500b29-8a0a-4e02-ad3a-7073526ebdf2\"}];\n",
       "  root.Bokeh.embed.embed_items_notebook(docs_json, render_items);\n",
       "\n",
       "  }\n",
       "  if (root.Bokeh !== undefined) {\n",
       "    embed_document(root);\n",
       "  } else {\n",
       "    var attempts = 0;\n",
       "    var timer = setInterval(function(root) {\n",
       "      if (root.Bokeh !== undefined) {\n",
       "        embed_document(root);\n",
       "        clearInterval(timer);\n",
       "      }\n",
       "      attempts++;\n",
       "      if (attempts > 100) {\n",
       "        console.log(\"Bokeh: ERROR: Unable to run BokehJS code because BokehJS library is missing\")\n",
       "        clearInterval(timer);\n",
       "      }\n",
       "    }, 10, root)\n",
       "  }\n",
       "})(window);"
      ],
      "application/vnd.bokehjs_exec.v0+json": ""
     },
     "metadata": {
      "application/vnd.bokehjs_exec.v0+json": {
       "id": "20500b29-8a0a-4e02-ad3a-7073526ebdf2"
      }
     },
     "output_type": "display_data"
    }
   ],
   "source": [
    "#RazorFD = get_FD(Razor_Corpus)\n",
    "razor_labeled = create_features(Razor_Corpus)\n",
    "razorSC = NB_classify(razor_labeled)\n",
    "razor_features = store_most_informative_features(razorSC, 30)\n",
    "graph_features(razor_features, 'Razors')"
   ]
  },
  {
   "cell_type": "code",
   "execution_count": 144,
   "metadata": {
    "scrolled": true
   },
   "outputs": [
    {
     "name": "stdout",
     "output_type": "stream",
     "text": [
      "Training accuracy: 94.1025641026\n",
      "Test accuracy: 87.7551020408\n"
     ]
    },
    {
     "data": {
      "text/html": [
       "\n",
       "<div class=\"bk-root\">\n",
       "    <div class=\"bk-plotdiv\" id=\"7364f653-fab2-4558-9c5c-57e4126b4f12\"></div>\n",
       "</div>"
      ]
     },
     "metadata": {},
     "output_type": "display_data"
    },
    {
     "data": {
      "application/javascript": [
       "(function(root) {\n",
       "  function embed_document(root) {\n",
       "    \n",
       "  var docs_json = {\"627ba053-ccf1-4178-a400-414e8baf22d1\":{\"roots\":{\"references\":[{\"attributes\":{\"format\":\"%u\"},\"id\":\"2eb02a33-afd3-42b8-8637-080fa68be694\",\"type\":\"PrintfTickFormatter\"},{\"attributes\":{\"callback\":null,\"column_names\":[\"gender\",\"word\",\"index\",\"ratio\"],\"data\":{\"gender\":[\"m\",\"m\",\"m\",\"m\",\"m\",\"m\",\"m\",\"m\",\"m\",\"m\",\"m\",\"m\",\"m\",\"m\",\"m\",\"m\",\"m\",\"m\",\"m\",\"m\",\"m\",\"m\"],\"index\":[3,5,6,7,8,9,10,12,13,14,15,16,17,20,21,25,24,26,27,23,29,28],\"ratio\":{\"__ndarray__\":\"n+h7ou+JJMDrRqobqW4iwOtGqhupbiLALcDmM84CIsARdkHYBWEhwDal2JRiUyDAdS+jiln3HsAEBw4cOHAcwAMHDhw4cBzA5udzKW1+GsBPZTyV8VQawE9lPJXxVBrAT2U8lfFUGsDJyNk2oowYwJvDag6rORjA5yGZh2QeFsDnIZmHZB4WwOchmYdkHhbA5yGZh2QeFsDnIZmHZB4WwOchmYdkHhbA5yGZh2QeFsA=\",\"dtype\":\"float64\",\"shape\":[22]},\"word\":[\"superior\",\"provide\",\"sharp\",\"edge\",\"mach3\",\"ensure\",\"100\",\"dorco\",\"fusion\",\"men\",\"angle\",\"us\",\"proglide\",\"precision\",\"perfectly\",\"formerly\",\"always\",\"manufactured\",\"top\",\"offering\",\"systems\",\"right\"]},\"selected\":null,\"selection_policy\":null},\"id\":\"7d461457-1bcd-4a6f-8bdc-aa58f3238dd4\",\"type\":\"ColumnDataSource\"},{\"attributes\":{},\"id\":\"5a51698d-b60c-4c3d-8900-e4d352ce9a30\",\"type\":\"HelpTool\"},{\"attributes\":{\"label\":{\"value\":\"Male\"},\"renderers\":[{\"id\":\"a5139686-3aad-461b-9b16-43ec64cdf3f5\",\"type\":\"GlyphRenderer\"}]},\"id\":\"bcd13e75-13fa-4912-ac04-516b738b3348\",\"type\":\"LegendItem\"},{\"attributes\":{\"source\":{\"id\":\"66f4e884-6af7-49e8-9e5c-82d4034b1f8a\",\"type\":\"ColumnDataSource\"}},\"id\":\"2c274eec-a573-4ad9-aaea-1f64f3a6f589\",\"type\":\"CDSView\"},{\"attributes\":{},\"id\":\"d9006787-6d37-4a62-b84c-2a4e7085c535\",\"type\":\"LinearScale\"},{\"attributes\":{},\"id\":\"a7690bec-5c53-4fdc-81a0-394e206d8b07\",\"type\":\"CategoricalScale\"},{\"attributes\":{},\"id\":\"d8b4312e-dff6-40ee-8b27-f54f8e883e5d\",\"type\":\"CategoricalTickFormatter\"},{\"attributes\":{},\"id\":\"97edf916-0b74-4e26-aa33-c3ff2b5fdac8\",\"type\":\"PanTool\"},{\"attributes\":{\"grid_line_color\":{\"value\":null},\"plot\":{\"id\":\"2dda2b4b-3570-459b-9c73-a6cccc41a7e7\",\"subtype\":\"Figure\",\"type\":\"Plot\"},\"ticker\":{\"id\":\"a7225097-98c3-45de-9e24-32356b910678\",\"type\":\"BasicTicker\"}},\"id\":\"063691c7-9d6a-4ae4-8071-412f528454f4\",\"type\":\"Grid\"},{\"attributes\":{\"bottom_units\":\"screen\",\"fill_alpha\":{\"value\":0.5},\"fill_color\":{\"value\":\"lightgrey\"},\"left_units\":\"screen\",\"level\":\"overlay\",\"line_alpha\":{\"value\":1.0},\"line_color\":{\"value\":\"black\"},\"line_dash\":[4,4],\"line_width\":{\"value\":2},\"plot\":null,\"render_mode\":\"css\",\"right_units\":\"screen\",\"top_units\":\"screen\"},\"id\":\"d09036b4-61a9-4adc-82b7-44f490a27d14\",\"type\":\"BoxAnnotation\"},{\"attributes\":{\"data_source\":{\"id\":\"fb88d8ea-3c20-461f-b1f7-50d1fa442578\",\"type\":\"ColumnDataSource\"},\"glyph\":{\"id\":\"80b1b8ac-85d3-44a1-ac9c-32f52e72d9dd\",\"type\":\"HBar\"},\"hover_glyph\":null,\"muted_glyph\":null,\"nonselection_glyph\":{\"id\":\"00c19d7d-2aed-4527-8241-a7158fc25285\",\"type\":\"HBar\"},\"selection_glyph\":null,\"view\":{\"id\":\"80f0267b-4dc9-4ead-9b83-7a596a69a01a\",\"type\":\"CDSView\"}},\"id\":\"a5139686-3aad-461b-9b16-43ec64cdf3f5\",\"type\":\"GlyphRenderer\"},{\"attributes\":{\"below\":[{\"id\":\"415a666b-5908-43dd-b457-ef8259c0785d\",\"type\":\"LinearAxis\"}],\"left\":[{\"id\":\"fd75cbf2-92a6-4bfe-aeb0-212e308155cf\",\"type\":\"CategoricalAxis\"}],\"renderers\":[{\"id\":\"415a666b-5908-43dd-b457-ef8259c0785d\",\"type\":\"LinearAxis\"},{\"id\":\"063691c7-9d6a-4ae4-8071-412f528454f4\",\"type\":\"Grid\"},{\"id\":\"fd75cbf2-92a6-4bfe-aeb0-212e308155cf\",\"type\":\"CategoricalAxis\"},{\"id\":\"b1794f11-68d0-4d84-baa8-2335ea882c8e\",\"type\":\"Grid\"},{\"id\":\"d09036b4-61a9-4adc-82b7-44f490a27d14\",\"type\":\"BoxAnnotation\"},{\"id\":\"4dce44a0-a35c-463f-b9a5-7da6fe6b195d\",\"type\":\"Legend\"},{\"id\":\"ef4ec904-9c28-4ac9-9036-0f0683433b15\",\"type\":\"GlyphRenderer\"},{\"id\":\"a5139686-3aad-461b-9b16-43ec64cdf3f5\",\"type\":\"GlyphRenderer\"},{\"id\":\"96c21773-ed71-4514-8410-7ee7917a2429\",\"type\":\"LabelSet\"},{\"id\":\"07fd75bb-1e4d-4514-8b40-1421547e92bb\",\"type\":\"LabelSet\"}],\"title\":{\"id\":\"b064be46-4d90-4054-8b12-d966fadaf644\",\"type\":\"Title\"},\"toolbar\":{\"id\":\"141007b0-e254-42ba-895e-83513bc471b0\",\"type\":\"Toolbar\"},\"x_range\":{\"id\":\"69713746-8421-48ee-8ec8-adac1d3941cd\",\"type\":\"Range1d\"},\"x_scale\":{\"id\":\"d9006787-6d37-4a62-b84c-2a4e7085c535\",\"type\":\"LinearScale\"},\"y_range\":{\"id\":\"6a349017-7139-402d-9296-b2b858703ee7\",\"type\":\"FactorRange\"},\"y_scale\":{\"id\":\"a7690bec-5c53-4fdc-81a0-394e206d8b07\",\"type\":\"CategoricalScale\"}},\"id\":\"2dda2b4b-3570-459b-9c73-a6cccc41a7e7\",\"subtype\":\"Figure\",\"type\":\"Plot\"},{\"attributes\":{\"level\":\"glyph\",\"plot\":{\"id\":\"2dda2b4b-3570-459b-9c73-a6cccc41a7e7\",\"subtype\":\"Figure\",\"type\":\"Plot\"},\"source\":{\"id\":\"7d461457-1bcd-4a6f-8bdc-aa58f3238dd4\",\"type\":\"ColumnDataSource\"},\"text\":{\"field\":\"word\"},\"x\":{\"value\":0},\"x_offset\":{\"value\":5},\"y\":{\"field\":\"word\"},\"y_offset\":{\"value\":-9}},\"id\":\"96c21773-ed71-4514-8410-7ee7917a2429\",\"type\":\"LabelSet\"},{\"attributes\":{},\"id\":\"a7225097-98c3-45de-9e24-32356b910678\",\"type\":\"BasicTicker\"},{\"attributes\":{\"fill_color\":{\"value\":\"deepskyblue\"},\"height\":{\"value\":0.8},\"left\":{\"field\":\"ratio\"},\"line_color\":{\"value\":\"deepskyblue\"},\"right\":{\"value\":0},\"y\":{\"field\":\"word\"}},\"id\":\"80b1b8ac-85d3-44a1-ac9c-32f52e72d9dd\",\"type\":\"HBar\"},{\"attributes\":{\"source\":{\"id\":\"fb88d8ea-3c20-461f-b1f7-50d1fa442578\",\"type\":\"ColumnDataSource\"}},\"id\":\"80f0267b-4dc9-4ead-9b83-7a596a69a01a\",\"type\":\"CDSView\"},{\"attributes\":{},\"id\":\"54851faf-e169-4edb-b105-b2b06644aba1\",\"type\":\"SaveTool\"},{\"attributes\":{\"dimension\":1,\"grid_line_color\":{\"value\":null},\"plot\":{\"id\":\"2dda2b4b-3570-459b-9c73-a6cccc41a7e7\",\"subtype\":\"Figure\",\"type\":\"Plot\"},\"ticker\":{\"id\":\"b9fc0b33-13a4-4952-b0bf-ec7f638b628b\",\"type\":\"CategoricalTicker\"}},\"id\":\"b1794f11-68d0-4d84-baa8-2335ea882c8e\",\"type\":\"Grid\"},{\"attributes\":{\"callback\":null,\"column_names\":[\"gender\",\"word\",\"index\",\"ratio\"],\"data\":{\"gender\":[\"f\",\"f\",\"f\",\"f\",\"f\",\"f\",\"f\",\"f\"],\"index\":[22,18,19,11,4,2,1,0],\"ratio\":{\"__ndarray__\":\"kn0qtQXfF0Auhf4kY1EZQC6F/iRjURlA8ZZCf5KxHEAaZgdHEGkjQN13S6E/ySZAvoBtTld5KECyIRjMhx8pQA==\",\"dtype\":\"float64\",\"shape\":[8]},\"word\":[\"convenient\",\"closely\",\"holder\",\"butter\",\"intuition\",\"silky\",\"legs\",\"women\"]},\"selected\":null,\"selection_policy\":null},\"id\":\"eaaef0c0-7b10-480d-a7d2-bc2afbaa7438\",\"type\":\"ColumnDataSource\"},{\"attributes\":{\"fill_color\":{\"value\":\"deeppink\"},\"height\":{\"value\":0.8},\"line_color\":{\"value\":\"deeppink\"},\"right\":{\"field\":\"ratio\"},\"y\":{\"field\":\"word\"}},\"id\":\"64e87ee5-6ed3-487e-85d4-b2bf2a6b9cfb\",\"type\":\"HBar\"},{\"attributes\":{\"level\":\"glyph\",\"plot\":{\"id\":\"2dda2b4b-3570-459b-9c73-a6cccc41a7e7\",\"subtype\":\"Figure\",\"type\":\"Plot\"},\"source\":{\"id\":\"eaaef0c0-7b10-480d-a7d2-bc2afbaa7438\",\"type\":\"ColumnDataSource\"},\"text\":{\"field\":\"word\"},\"text_align\":\"right\",\"x\":{\"value\":0},\"x_offset\":{\"value\":-5},\"y\":{\"field\":\"word\"},\"y_offset\":{\"value\":-9}},\"id\":\"07fd75bb-1e4d-4514-8b40-1421547e92bb\",\"type\":\"LabelSet\"},{\"attributes\":{\"callback\":null,\"column_names\":[\"gender\",\"word\",\"index\",\"ratio\"],\"data\":{\"gender\":[\"f\",\"f\",\"f\",\"f\",\"f\",\"f\",\"f\",\"f\"],\"index\":[22,18,19,11,4,2,1,0],\"ratio\":{\"__ndarray__\":\"kn0qtQXfF0Auhf4kY1EZQC6F/iRjURlA8ZZCf5KxHEAaZgdHEGkjQN13S6E/ySZAvoBtTld5KECyIRjMhx8pQA==\",\"dtype\":\"float64\",\"shape\":[8]},\"word\":[\"convenient\",\"closely\",\"holder\",\"butter\",\"intuition\",\"silky\",\"legs\",\"women\"]},\"selected\":null,\"selection_policy\":null},\"id\":\"66f4e884-6af7-49e8-9e5c-82d4034b1f8a\",\"type\":\"ColumnDataSource\"},{\"attributes\":{\"label\":{\"value\":\"Female\"},\"renderers\":[{\"id\":\"ef4ec904-9c28-4ac9-9036-0f0683433b15\",\"type\":\"GlyphRenderer\"}]},\"id\":\"351b39cc-5f64-4fdc-a5d9-f3f15fdccc15\",\"type\":\"LegendItem\"},{\"attributes\":{\"overlay\":{\"id\":\"d09036b4-61a9-4adc-82b7-44f490a27d14\",\"type\":\"BoxAnnotation\"}},\"id\":\"39131679-68f3-4c7d-b541-68479e52cd60\",\"type\":\"BoxZoomTool\"},{\"attributes\":{\"callback\":null,\"column_names\":[\"gender\",\"word\",\"index\",\"ratio\"],\"data\":{\"gender\":[\"m\",\"m\",\"m\",\"m\",\"m\",\"m\",\"m\",\"m\",\"m\",\"m\",\"m\",\"m\",\"m\",\"m\",\"m\",\"m\",\"m\",\"m\",\"m\",\"m\",\"m\",\"m\"],\"index\":[3,5,6,7,8,9,10,12,13,14,15,16,17,20,21,25,24,26,27,23,29,28],\"ratio\":{\"__ndarray__\":\"n+h7ou+JJMDrRqobqW4iwOtGqhupbiLALcDmM84CIsARdkHYBWEhwDal2JRiUyDAdS+jiln3HsAEBw4cOHAcwAMHDhw4cBzA5udzKW1+GsBPZTyV8VQawE9lPJXxVBrAT2U8lfFUGsDJyNk2oowYwJvDag6rORjA5yGZh2QeFsDnIZmHZB4WwOchmYdkHhbA5yGZh2QeFsDnIZmHZB4WwOchmYdkHhbA5yGZh2QeFsA=\",\"dtype\":\"float64\",\"shape\":[22]},\"word\":[\"superior\",\"provide\",\"sharp\",\"edge\",\"mach3\",\"ensure\",\"100\",\"dorco\",\"fusion\",\"men\",\"angle\",\"us\",\"proglide\",\"precision\",\"perfectly\",\"formerly\",\"always\",\"manufactured\",\"top\",\"offering\",\"systems\",\"right\"]},\"selected\":null,\"selection_policy\":null},\"id\":\"fb88d8ea-3c20-461f-b1f7-50d1fa442578\",\"type\":\"ColumnDataSource\"},{\"attributes\":{\"data_source\":{\"id\":\"66f4e884-6af7-49e8-9e5c-82d4034b1f8a\",\"type\":\"ColumnDataSource\"},\"glyph\":{\"id\":\"64e87ee5-6ed3-487e-85d4-b2bf2a6b9cfb\",\"type\":\"HBar\"},\"hover_glyph\":null,\"muted_glyph\":null,\"nonselection_glyph\":{\"id\":\"14235489-bfc6-4d6f-8f79-50cbfef28e4a\",\"type\":\"HBar\"},\"selection_glyph\":null,\"view\":{\"id\":\"2c274eec-a573-4ad9-aaea-1f64f3a6f589\",\"type\":\"CDSView\"}},\"id\":\"ef4ec904-9c28-4ac9-9036-0f0683433b15\",\"type\":\"GlyphRenderer\"},{\"attributes\":{\"formatter\":{\"id\":\"d8b4312e-dff6-40ee-8b27-f54f8e883e5d\",\"type\":\"CategoricalTickFormatter\"},\"plot\":{\"id\":\"2dda2b4b-3570-459b-9c73-a6cccc41a7e7\",\"subtype\":\"Figure\",\"type\":\"Plot\"},\"ticker\":{\"id\":\"b9fc0b33-13a4-4952-b0bf-ec7f638b628b\",\"type\":\"CategoricalTicker\"},\"visible\":false},\"id\":\"fd75cbf2-92a6-4bfe-aeb0-212e308155cf\",\"type\":\"CategoricalAxis\"},{\"attributes\":{\"callback\":null,\"factors\":[\"superior\",\"provide\",\"sharp\",\"edge\",\"mach3\",\"ensure\",\"100\",\"dorco\",\"fusion\",\"men\",\"angle\",\"us\",\"proglide\",\"precision\",\"perfectly\",\"formerly\",\"always\",\"manufactured\",\"top\",\"offering\",\"systems\",\"right\",\"convenient\",\"closely\",\"holder\",\"butter\",\"intuition\",\"silky\",\"legs\",\"women\"],\"range_padding\":0.1},\"id\":\"6a349017-7139-402d-9296-b2b858703ee7\",\"type\":\"FactorRange\"},{\"attributes\":{\"fill_alpha\":{\"value\":0.1},\"fill_color\":{\"value\":\"#1f77b4\"},\"height\":{\"value\":0.8},\"line_alpha\":{\"value\":0.1},\"line_color\":{\"value\":\"#1f77b4\"},\"right\":{\"field\":\"ratio\"},\"y\":{\"field\":\"word\"}},\"id\":\"14235489-bfc6-4d6f-8f79-50cbfef28e4a\",\"type\":\"HBar\"},{\"attributes\":{\"active_drag\":\"auto\",\"active_inspect\":\"auto\",\"active_scroll\":\"auto\",\"active_tap\":\"auto\",\"tools\":[{\"id\":\"97edf916-0b74-4e26-aa33-c3ff2b5fdac8\",\"type\":\"PanTool\"},{\"id\":\"778eb04a-b902-47e4-bef6-3becf20ae0b0\",\"type\":\"WheelZoomTool\"},{\"id\":\"39131679-68f3-4c7d-b541-68479e52cd60\",\"type\":\"BoxZoomTool\"},{\"id\":\"54851faf-e169-4edb-b105-b2b06644aba1\",\"type\":\"SaveTool\"},{\"id\":\"c5c6fc28-d303-47c3-8225-a4de292162c1\",\"type\":\"ResetTool\"},{\"id\":\"5a51698d-b60c-4c3d-8900-e4d352ce9a30\",\"type\":\"HelpTool\"}]},\"id\":\"141007b0-e254-42ba-895e-83513bc471b0\",\"type\":\"Toolbar\"},{\"attributes\":{\"fill_alpha\":{\"value\":0.1},\"fill_color\":{\"value\":\"#1f77b4\"},\"height\":{\"value\":0.8},\"left\":{\"field\":\"ratio\"},\"line_alpha\":{\"value\":0.1},\"line_color\":{\"value\":\"#1f77b4\"},\"right\":{\"value\":0},\"y\":{\"field\":\"word\"}},\"id\":\"00c19d7d-2aed-4527-8241-a7158fc25285\",\"type\":\"HBar\"},{\"attributes\":{},\"id\":\"778eb04a-b902-47e4-bef6-3becf20ae0b0\",\"type\":\"WheelZoomTool\"},{\"attributes\":{\"callback\":null,\"end\":17.561582925744776,\"start\":-17.561582925744776},\"id\":\"69713746-8421-48ee-8ec8-adac1d3941cd\",\"type\":\"Range1d\"},{\"attributes\":{\"plot\":null,\"text\":\"Most Informative Words in Descriptions for Razors\",\"text_font_size\":{\"value\":\"1.2em\"}},\"id\":\"b064be46-4d90-4054-8b12-d966fadaf644\",\"type\":\"Title\"},{\"attributes\":{\"items\":[{\"id\":\"351b39cc-5f64-4fdc-a5d9-f3f15fdccc15\",\"type\":\"LegendItem\"},{\"id\":\"bcd13e75-13fa-4912-ac04-516b738b3348\",\"type\":\"LegendItem\"}],\"label_text_font_size\":{\"value\":\"1em\"},\"location\":\"bottom_right\",\"plot\":{\"id\":\"2dda2b4b-3570-459b-9c73-a6cccc41a7e7\",\"subtype\":\"Figure\",\"type\":\"Plot\"}},\"id\":\"4dce44a0-a35c-463f-b9a5-7da6fe6b195d\",\"type\":\"Legend\"},{\"attributes\":{},\"id\":\"c5c6fc28-d303-47c3-8225-a4de292162c1\",\"type\":\"ResetTool\"},{\"attributes\":{},\"id\":\"b9fc0b33-13a4-4952-b0bf-ec7f638b628b\",\"type\":\"CategoricalTicker\"},{\"attributes\":{\"axis_label\":\"Likelihood Ratio\",\"axis_label_text_font_size\":{\"value\":\"1em\"},\"formatter\":{\"id\":\"2eb02a33-afd3-42b8-8637-080fa68be694\",\"type\":\"PrintfTickFormatter\"},\"major_label_text_font_size\":{\"value\":\"1em\"},\"plot\":{\"id\":\"2dda2b4b-3570-459b-9c73-a6cccc41a7e7\",\"subtype\":\"Figure\",\"type\":\"Plot\"},\"ticker\":{\"id\":\"a7225097-98c3-45de-9e24-32356b910678\",\"type\":\"BasicTicker\"}},\"id\":\"415a666b-5908-43dd-b457-ef8259c0785d\",\"type\":\"LinearAxis\"}],\"root_ids\":[\"2dda2b4b-3570-459b-9c73-a6cccc41a7e7\"]},\"title\":\"Bokeh Application\",\"version\":\"0.12.15\"}};\n",
       "  var render_items = [{\"docid\":\"627ba053-ccf1-4178-a400-414e8baf22d1\",\"elementid\":\"7364f653-fab2-4558-9c5c-57e4126b4f12\",\"modelid\":\"2dda2b4b-3570-459b-9c73-a6cccc41a7e7\"}];\n",
       "  root.Bokeh.embed.embed_items_notebook(docs_json, render_items);\n",
       "\n",
       "  }\n",
       "  if (root.Bokeh !== undefined) {\n",
       "    embed_document(root);\n",
       "  } else {\n",
       "    var attempts = 0;\n",
       "    var timer = setInterval(function(root) {\n",
       "      if (root.Bokeh !== undefined) {\n",
       "        embed_document(root);\n",
       "        clearInterval(timer);\n",
       "      }\n",
       "      attempts++;\n",
       "      if (attempts > 100) {\n",
       "        console.log(\"Bokeh: ERROR: Unable to run BokehJS code because BokehJS library is missing\")\n",
       "        clearInterval(timer);\n",
       "      }\n",
       "    }, 10, root)\n",
       "  }\n",
       "})(window);"
      ],
      "application/vnd.bokehjs_exec.v0+json": ""
     },
     "metadata": {
      "application/vnd.bokehjs_exec.v0+json": {
       "id": "2dda2b4b-3570-459b-9c73-a6cccc41a7e7"
      }
     },
     "output_type": "display_data"
    }
   ],
   "source": [
    "razor_labeled2 = create_features(Razor_Corpus2)\n",
    "razorSC2 = NB_classify(razor_labeled2)\n",
    "razor_features2 = store_most_informative_features(razorSC2, 30)\n",
    "graph_features(razor_features2, 'Razors')"
   ]
  },
  {
   "cell_type": "code",
   "execution_count": null,
   "metadata": {},
   "outputs": [],
   "source": [
    "for index in hb_indices:\n",
    "    Perfume_Corpus = build_corpus(index, \"PerfumeCorpus\", perfume)"
   ]
  },
  {
   "cell_type": "code",
   "execution_count": 155,
   "metadata": {},
   "outputs": [],
   "source": [
    "perfume_exclude = [11057091]\n",
    "for index in hb_indices:\n",
    "    Perfume_Corpus2 = build_corpus(\"Beauty\", \"PerfumeCorpus\", perfume, perfume_exclude)"
   ]
  },
  {
   "cell_type": "code",
   "execution_count": 151,
   "metadata": {
    "scrolled": false
   },
   "outputs": [
    {
     "name": "stdout",
     "output_type": "stream",
     "text": [
      "Training accuracy: 90.3883495146\n",
      "Test accuracy: 83.7209302326\n"
     ]
    },
    {
     "data": {
      "text/html": [
       "\n",
       "<div class=\"bk-root\">\n",
       "    <div class=\"bk-plotdiv\" id=\"c674ec06-6601-4c95-af59-7a8fed01349a\"></div>\n",
       "</div>"
      ]
     },
     "metadata": {},
     "output_type": "display_data"
    },
    {
     "data": {
      "application/javascript": [
       "(function(root) {\n",
       "  function embed_document(root) {\n",
       "    \n",
       "  var docs_json = {\"acc2d347-5c12-4d33-a6d2-779f67015a4f\":{\"roots\":{\"references\":[{\"attributes\":{},\"id\":\"954f15d0-255d-4d35-8495-6733522fd8ee\",\"type\":\"HelpTool\"},{\"attributes\":{\"callback\":null,\"end\":29.82451154529307,\"start\":-29.82451154529307},\"id\":\"0d018b6d-ad05-43c7-a402-67ed314cd85e\",\"type\":\"Range1d\"},{\"attributes\":{},\"id\":\"68e6c328-20b3-4016-ae5e-68595ede5e61\",\"type\":\"ResetTool\"},{\"attributes\":{\"items\":[{\"id\":\"9bd00fa7-292e-43f7-b990-5ec16fdf3a10\",\"type\":\"LegendItem\"},{\"id\":\"5dd9f067-0518-4a53-abe4-b20d006a34c3\",\"type\":\"LegendItem\"}],\"label_text_font_size\":{\"value\":\"1em\"},\"location\":\"bottom_right\",\"plot\":{\"id\":\"e0b86da6-2c5f-4229-b738-4bfce0a0927a\",\"subtype\":\"Figure\",\"type\":\"Plot\"}},\"id\":\"e824dd54-5d95-48ce-baa6-ba52cc0408c8\",\"type\":\"Legend\"},{\"attributes\":{},\"id\":\"60185dc3-3258-43c0-a4c1-dc89712c8616\",\"type\":\"PanTool\"},{\"attributes\":{\"callback\":null,\"column_names\":[\"gender\",\"word\",\"index\",\"ratio\"],\"data\":{\"gender\":[\"m\",\"m\",\"m\",\"m\",\"m\",\"m\",\"m\",\"m\",\"m\",\"m\",\"m\",\"m\",\"m\",\"m\",\"m\",\"m\",\"m\"],\"index\":[1,2,3,4,5,6,9,10,14,13,16,15,18,23,22,27,26],\"ratio\":{\"__ndarray__\":\"2zUoXQACNsCcWvI0owEywEzGC1NtojDAIHkx7YzYKsCNfho5sKspwOLw56zKFSfA7p/vpZCbJcBRawG7t6UkwDtIDcnRASTAO0gNydEBJMCJ8CrsEmgiwInwKuwSaCLA/+I7AO99IcDWmEgPVM4gwNaYSA9UziDARoLMZCppHsBGgsxkKmkewA==\",\"dtype\":\"float64\",\"shape\":[17]},\"word\":[\"rosewood\",\"tobacco\",\"sage\",\"masculine\",\"man\",\"men\",\"bod\",\"homme\",\"impression\",\"manly\",\"claiborne\",\"ellis\",\"cardamom\",\"shave\",\"designer\",\"distinctive\",\"stick\"]},\"selected\":null,\"selection_policy\":null},\"id\":\"9f168cc4-5cd1-4518-9dcb-38fe0370149a\",\"type\":\"ColumnDataSource\"},{\"attributes\":{\"label\":{\"value\":\"Female\"},\"renderers\":[{\"id\":\"972cd9a6-c643-4bc5-a208-f34b25ab2e96\",\"type\":\"GlyphRenderer\"}]},\"id\":\"9bd00fa7-292e-43f7-b990-5ec16fdf3a10\",\"type\":\"LegendItem\"},{\"attributes\":{\"grid_line_color\":{\"value\":null},\"plot\":{\"id\":\"e0b86da6-2c5f-4229-b738-4bfce0a0927a\",\"subtype\":\"Figure\",\"type\":\"Plot\"},\"ticker\":{\"id\":\"0f754596-e1e8-4c85-a47c-e7ee7fb2f5e1\",\"type\":\"BasicTicker\"}},\"id\":\"2268c034-1fd8-4018-afd9-16fafea4fd9c\",\"type\":\"Grid\"},{\"attributes\":{\"format\":\"%u\"},\"id\":\"e4de319d-1d02-4efe-b9af-56e6f2ada205\",\"type\":\"PrintfTickFormatter\"},{\"attributes\":{\"overlay\":{\"id\":\"b9b52220-d3c9-46c2-b932-c9256df3b352\",\"type\":\"BoxAnnotation\"}},\"id\":\"ba57ada3-f601-4721-a8e0-6d1b8c09d2d3\",\"type\":\"BoxZoomTool\"},{\"attributes\":{\"label\":{\"value\":\"Male\"},\"renderers\":[{\"id\":\"475c4be8-f623-4187-afe4-fc45d6e8ba77\",\"type\":\"GlyphRenderer\"}]},\"id\":\"5dd9f067-0518-4a53-abe4-b20d006a34c3\",\"type\":\"LegendItem\"},{\"attributes\":{\"callback\":null,\"factors\":[\"rosewood\",\"tobacco\",\"sage\",\"masculine\",\"man\",\"men\",\"bod\",\"homme\",\"impression\",\"manly\",\"claiborne\",\"ellis\",\"cardamom\",\"shave\",\"designer\",\"distinctive\",\"stick\",\"ease\",\"origin\",\"using\",\"package\",\"added\",\"extraction\",\"eucalyptus\",\"away\",\"women\",\"uses\",\"victoria\",\"delicate\",\"essential\"],\"range_padding\":0.1},\"id\":\"f3c5bb02-f6d7-4e63-a46d-ca20b175cc79\",\"type\":\"FactorRange\"},{\"attributes\":{},\"id\":\"bfb60c36-9908-48ea-9446-e4277b90766f\",\"type\":\"CategoricalTickFormatter\"},{\"attributes\":{},\"id\":\"0f754596-e1e8-4c85-a47c-e7ee7fb2f5e1\",\"type\":\"BasicTicker\"},{\"attributes\":{\"below\":[{\"id\":\"51dc8156-fa84-48e1-a056-6a0fdb9982b7\",\"type\":\"LinearAxis\"}],\"left\":[{\"id\":\"bf918e7b-bcb7-4f52-a3c7-9cac4247dc8f\",\"type\":\"CategoricalAxis\"}],\"renderers\":[{\"id\":\"51dc8156-fa84-48e1-a056-6a0fdb9982b7\",\"type\":\"LinearAxis\"},{\"id\":\"2268c034-1fd8-4018-afd9-16fafea4fd9c\",\"type\":\"Grid\"},{\"id\":\"bf918e7b-bcb7-4f52-a3c7-9cac4247dc8f\",\"type\":\"CategoricalAxis\"},{\"id\":\"33e190a2-6b2b-480a-b5d4-78f448714bd6\",\"type\":\"Grid\"},{\"id\":\"b9b52220-d3c9-46c2-b932-c9256df3b352\",\"type\":\"BoxAnnotation\"},{\"id\":\"e824dd54-5d95-48ce-baa6-ba52cc0408c8\",\"type\":\"Legend\"},{\"id\":\"972cd9a6-c643-4bc5-a208-f34b25ab2e96\",\"type\":\"GlyphRenderer\"},{\"id\":\"475c4be8-f623-4187-afe4-fc45d6e8ba77\",\"type\":\"GlyphRenderer\"},{\"id\":\"7b8debfb-42e8-4af2-bf44-d3e1b51c1252\",\"type\":\"LabelSet\"},{\"id\":\"d8340c2f-9e31-4545-85f6-0ed01607d336\",\"type\":\"LabelSet\"}],\"title\":{\"id\":\"7e4081e5-9b18-48c4-83cf-b79276dc7d94\",\"type\":\"Title\"},\"toolbar\":{\"id\":\"bfc511ae-aa6d-423a-b1ad-eec26e239bbe\",\"type\":\"Toolbar\"},\"x_range\":{\"id\":\"0d018b6d-ad05-43c7-a402-67ed314cd85e\",\"type\":\"Range1d\"},\"x_scale\":{\"id\":\"b792bb9b-670c-4b31-9cb4-fb20076fa63b\",\"type\":\"LinearScale\"},\"y_range\":{\"id\":\"f3c5bb02-f6d7-4e63-a46d-ca20b175cc79\",\"type\":\"FactorRange\"},\"y_scale\":{\"id\":\"5ba3ca54-9a35-4378-bfb6-33c847fbebe7\",\"type\":\"CategoricalScale\"}},\"id\":\"e0b86da6-2c5f-4229-b738-4bfce0a0927a\",\"subtype\":\"Figure\",\"type\":\"Plot\"},{\"attributes\":{\"fill_color\":{\"value\":\"deepskyblue\"},\"height\":{\"value\":0.8},\"left\":{\"field\":\"ratio\"},\"line_color\":{\"value\":\"deepskyblue\"},\"right\":{\"value\":0},\"y\":{\"field\":\"word\"}},\"id\":\"75df412f-2f56-48e0-bc36-cab451f5229c\",\"type\":\"HBar\"},{\"attributes\":{\"callback\":null,\"column_names\":[\"gender\",\"word\",\"index\",\"ratio\"],\"data\":{\"gender\":[\"f\",\"f\",\"f\",\"f\",\"f\",\"f\",\"f\",\"f\",\"f\",\"f\",\"f\",\"f\",\"f\"],\"index\":[29,28,25,24,19,20,21,17,12,11,8,7,0],\"ratio\":{\"__ndarray__\":\"F//1kUX9HUAX//WRRf0dQFz5ttx7Uh9AcCXxsfoaIEBVS+eaUjchQFVL55pSNyFAVUvnmlI3IUA5cd2DqlMiQAK9yVVajCRAAr3JVVqMJEDn4r8+sqglQOfivz6yqCVASjVKMBPTOEA=\",\"dtype\":\"float64\",\"shape\":[13]},\"word\":[\"ease\",\"origin\",\"using\",\"package\",\"added\",\"extraction\",\"eucalyptus\",\"away\",\"women\",\"uses\",\"victoria\",\"delicate\",\"essential\"]},\"selected\":null,\"selection_policy\":null},\"id\":\"cfda586c-975c-40ef-84a4-47d23460acf4\",\"type\":\"ColumnDataSource\"},{\"attributes\":{},\"id\":\"218fd44a-1915-4be3-8ba0-9f4f959e1564\",\"type\":\"SaveTool\"},{\"attributes\":{\"dimension\":1,\"grid_line_color\":{\"value\":null},\"plot\":{\"id\":\"e0b86da6-2c5f-4229-b738-4bfce0a0927a\",\"subtype\":\"Figure\",\"type\":\"Plot\"},\"ticker\":{\"id\":\"a54e895a-5979-4e3e-b1da-3e3c557252e7\",\"type\":\"CategoricalTicker\"}},\"id\":\"33e190a2-6b2b-480a-b5d4-78f448714bd6\",\"type\":\"Grid\"},{\"attributes\":{},\"id\":\"a54e895a-5979-4e3e-b1da-3e3c557252e7\",\"type\":\"CategoricalTicker\"},{\"attributes\":{\"callback\":null,\"column_names\":[\"gender\",\"word\",\"index\",\"ratio\"],\"data\":{\"gender\":[\"m\",\"m\",\"m\",\"m\",\"m\",\"m\",\"m\",\"m\",\"m\",\"m\",\"m\",\"m\",\"m\",\"m\",\"m\",\"m\",\"m\"],\"index\":[1,2,3,4,5,6,9,10,14,13,16,15,18,23,22,27,26],\"ratio\":{\"__ndarray__\":\"2zUoXQACNsCcWvI0owEywEzGC1NtojDAIHkx7YzYKsCNfho5sKspwOLw56zKFSfA7p/vpZCbJcBRawG7t6UkwDtIDcnRASTAO0gNydEBJMCJ8CrsEmgiwInwKuwSaCLA/+I7AO99IcDWmEgPVM4gwNaYSA9UziDARoLMZCppHsBGgsxkKmkewA==\",\"dtype\":\"float64\",\"shape\":[17]},\"word\":[\"rosewood\",\"tobacco\",\"sage\",\"masculine\",\"man\",\"men\",\"bod\",\"homme\",\"impression\",\"manly\",\"claiborne\",\"ellis\",\"cardamom\",\"shave\",\"designer\",\"distinctive\",\"stick\"]},\"selected\":null,\"selection_policy\":null},\"id\":\"dd90077f-38ad-4354-b074-3ad80e502336\",\"type\":\"ColumnDataSource\"},{\"attributes\":{\"fill_alpha\":{\"value\":0.1},\"fill_color\":{\"value\":\"#1f77b4\"},\"height\":{\"value\":0.8},\"left\":{\"field\":\"ratio\"},\"line_alpha\":{\"value\":0.1},\"line_color\":{\"value\":\"#1f77b4\"},\"right\":{\"value\":0},\"y\":{\"field\":\"word\"}},\"id\":\"9a54aa85-8ec2-4ceb-a720-1e595a350862\",\"type\":\"HBar\"},{\"attributes\":{\"level\":\"glyph\",\"plot\":{\"id\":\"e0b86da6-2c5f-4229-b738-4bfce0a0927a\",\"subtype\":\"Figure\",\"type\":\"Plot\"},\"source\":{\"id\":\"e610970b-7804-4cff-864f-e5632327e48f\",\"type\":\"ColumnDataSource\"},\"text\":{\"field\":\"word\"},\"text_align\":\"right\",\"x\":{\"value\":0},\"x_offset\":{\"value\":-5},\"y\":{\"field\":\"word\"},\"y_offset\":{\"value\":-9}},\"id\":\"d8340c2f-9e31-4545-85f6-0ed01607d336\",\"type\":\"LabelSet\"},{\"attributes\":{\"formatter\":{\"id\":\"bfb60c36-9908-48ea-9446-e4277b90766f\",\"type\":\"CategoricalTickFormatter\"},\"plot\":{\"id\":\"e0b86da6-2c5f-4229-b738-4bfce0a0927a\",\"subtype\":\"Figure\",\"type\":\"Plot\"},\"ticker\":{\"id\":\"a54e895a-5979-4e3e-b1da-3e3c557252e7\",\"type\":\"CategoricalTicker\"},\"visible\":false},\"id\":\"bf918e7b-bcb7-4f52-a3c7-9cac4247dc8f\",\"type\":\"CategoricalAxis\"},{\"attributes\":{\"fill_color\":{\"value\":\"deeppink\"},\"height\":{\"value\":0.8},\"line_color\":{\"value\":\"deeppink\"},\"right\":{\"field\":\"ratio\"},\"y\":{\"field\":\"word\"}},\"id\":\"0cdd9a37-b815-48eb-bfa7-1a7d674454bf\",\"type\":\"HBar\"},{\"attributes\":{\"plot\":null,\"text\":\"Most Informative Words in Descriptions for Perfume\",\"text_font_size\":{\"value\":\"1.2em\"}},\"id\":\"7e4081e5-9b18-48c4-83cf-b79276dc7d94\",\"type\":\"Title\"},{\"attributes\":{\"data_source\":{\"id\":\"dd90077f-38ad-4354-b074-3ad80e502336\",\"type\":\"ColumnDataSource\"},\"glyph\":{\"id\":\"75df412f-2f56-48e0-bc36-cab451f5229c\",\"type\":\"HBar\"},\"hover_glyph\":null,\"muted_glyph\":null,\"nonselection_glyph\":{\"id\":\"9a54aa85-8ec2-4ceb-a720-1e595a350862\",\"type\":\"HBar\"},\"selection_glyph\":null,\"view\":{\"id\":\"1a565934-f72f-429e-8dce-3a38181a1ac5\",\"type\":\"CDSView\"}},\"id\":\"475c4be8-f623-4187-afe4-fc45d6e8ba77\",\"type\":\"GlyphRenderer\"},{\"attributes\":{\"bottom_units\":\"screen\",\"fill_alpha\":{\"value\":0.5},\"fill_color\":{\"value\":\"lightgrey\"},\"left_units\":\"screen\",\"level\":\"overlay\",\"line_alpha\":{\"value\":1.0},\"line_color\":{\"value\":\"black\"},\"line_dash\":[4,4],\"line_width\":{\"value\":2},\"plot\":null,\"render_mode\":\"css\",\"right_units\":\"screen\",\"top_units\":\"screen\"},\"id\":\"b9b52220-d3c9-46c2-b932-c9256df3b352\",\"type\":\"BoxAnnotation\"},{\"attributes\":{\"level\":\"glyph\",\"plot\":{\"id\":\"e0b86da6-2c5f-4229-b738-4bfce0a0927a\",\"subtype\":\"Figure\",\"type\":\"Plot\"},\"source\":{\"id\":\"9f168cc4-5cd1-4518-9dcb-38fe0370149a\",\"type\":\"ColumnDataSource\"},\"text\":{\"field\":\"word\"},\"x\":{\"value\":0},\"x_offset\":{\"value\":5},\"y\":{\"field\":\"word\"},\"y_offset\":{\"value\":-9}},\"id\":\"7b8debfb-42e8-4af2-bf44-d3e1b51c1252\",\"type\":\"LabelSet\"},{\"attributes\":{\"source\":{\"id\":\"cfda586c-975c-40ef-84a4-47d23460acf4\",\"type\":\"ColumnDataSource\"}},\"id\":\"8d808d44-2a78-4690-b47c-8cf44fcfb4dd\",\"type\":\"CDSView\"},{\"attributes\":{},\"id\":\"5ba3ca54-9a35-4378-bfb6-33c847fbebe7\",\"type\":\"CategoricalScale\"},{\"attributes\":{},\"id\":\"b792bb9b-670c-4b31-9cb4-fb20076fa63b\",\"type\":\"LinearScale\"},{\"attributes\":{\"callback\":null,\"column_names\":[\"gender\",\"word\",\"index\",\"ratio\"],\"data\":{\"gender\":[\"f\",\"f\",\"f\",\"f\",\"f\",\"f\",\"f\",\"f\",\"f\",\"f\",\"f\",\"f\",\"f\"],\"index\":[29,28,25,24,19,20,21,17,12,11,8,7,0],\"ratio\":{\"__ndarray__\":\"F//1kUX9HUAX//WRRf0dQFz5ttx7Uh9AcCXxsfoaIEBVS+eaUjchQFVL55pSNyFAVUvnmlI3IUA5cd2DqlMiQAK9yVVajCRAAr3JVVqMJEDn4r8+sqglQOfivz6yqCVASjVKMBPTOEA=\",\"dtype\":\"float64\",\"shape\":[13]},\"word\":[\"ease\",\"origin\",\"using\",\"package\",\"added\",\"extraction\",\"eucalyptus\",\"away\",\"women\",\"uses\",\"victoria\",\"delicate\",\"essential\"]},\"selected\":null,\"selection_policy\":null},\"id\":\"e610970b-7804-4cff-864f-e5632327e48f\",\"type\":\"ColumnDataSource\"},{\"attributes\":{},\"id\":\"c090d18a-8826-4975-8198-ecde7dc4375a\",\"type\":\"WheelZoomTool\"},{\"attributes\":{\"axis_label\":\"Likelihood Ratio\",\"axis_label_text_font_size\":{\"value\":\"1em\"},\"formatter\":{\"id\":\"e4de319d-1d02-4efe-b9af-56e6f2ada205\",\"type\":\"PrintfTickFormatter\"},\"major_label_text_font_size\":{\"value\":\"1em\"},\"plot\":{\"id\":\"e0b86da6-2c5f-4229-b738-4bfce0a0927a\",\"subtype\":\"Figure\",\"type\":\"Plot\"},\"ticker\":{\"id\":\"0f754596-e1e8-4c85-a47c-e7ee7fb2f5e1\",\"type\":\"BasicTicker\"}},\"id\":\"51dc8156-fa84-48e1-a056-6a0fdb9982b7\",\"type\":\"LinearAxis\"},{\"attributes\":{\"active_drag\":\"auto\",\"active_inspect\":\"auto\",\"active_scroll\":\"auto\",\"active_tap\":\"auto\",\"tools\":[{\"id\":\"60185dc3-3258-43c0-a4c1-dc89712c8616\",\"type\":\"PanTool\"},{\"id\":\"c090d18a-8826-4975-8198-ecde7dc4375a\",\"type\":\"WheelZoomTool\"},{\"id\":\"ba57ada3-f601-4721-a8e0-6d1b8c09d2d3\",\"type\":\"BoxZoomTool\"},{\"id\":\"218fd44a-1915-4be3-8ba0-9f4f959e1564\",\"type\":\"SaveTool\"},{\"id\":\"68e6c328-20b3-4016-ae5e-68595ede5e61\",\"type\":\"ResetTool\"},{\"id\":\"954f15d0-255d-4d35-8495-6733522fd8ee\",\"type\":\"HelpTool\"}]},\"id\":\"bfc511ae-aa6d-423a-b1ad-eec26e239bbe\",\"type\":\"Toolbar\"},{\"attributes\":{\"fill_alpha\":{\"value\":0.1},\"fill_color\":{\"value\":\"#1f77b4\"},\"height\":{\"value\":0.8},\"line_alpha\":{\"value\":0.1},\"line_color\":{\"value\":\"#1f77b4\"},\"right\":{\"field\":\"ratio\"},\"y\":{\"field\":\"word\"}},\"id\":\"7f1ec781-d22b-4990-8e46-0d85fda39753\",\"type\":\"HBar\"},{\"attributes\":{\"source\":{\"id\":\"dd90077f-38ad-4354-b074-3ad80e502336\",\"type\":\"ColumnDataSource\"}},\"id\":\"1a565934-f72f-429e-8dce-3a38181a1ac5\",\"type\":\"CDSView\"},{\"attributes\":{\"data_source\":{\"id\":\"cfda586c-975c-40ef-84a4-47d23460acf4\",\"type\":\"ColumnDataSource\"},\"glyph\":{\"id\":\"0cdd9a37-b815-48eb-bfa7-1a7d674454bf\",\"type\":\"HBar\"},\"hover_glyph\":null,\"muted_glyph\":null,\"nonselection_glyph\":{\"id\":\"7f1ec781-d22b-4990-8e46-0d85fda39753\",\"type\":\"HBar\"},\"selection_glyph\":null,\"view\":{\"id\":\"8d808d44-2a78-4690-b47c-8cf44fcfb4dd\",\"type\":\"CDSView\"}},\"id\":\"972cd9a6-c643-4bc5-a208-f34b25ab2e96\",\"type\":\"GlyphRenderer\"}],\"root_ids\":[\"e0b86da6-2c5f-4229-b738-4bfce0a0927a\"]},\"title\":\"Bokeh Application\",\"version\":\"0.12.15\"}};\n",
       "  var render_items = [{\"docid\":\"acc2d347-5c12-4d33-a6d2-779f67015a4f\",\"elementid\":\"c674ec06-6601-4c95-af59-7a8fed01349a\",\"modelid\":\"e0b86da6-2c5f-4229-b738-4bfce0a0927a\"}];\n",
       "  root.Bokeh.embed.embed_items_notebook(docs_json, render_items);\n",
       "\n",
       "  }\n",
       "  if (root.Bokeh !== undefined) {\n",
       "    embed_document(root);\n",
       "  } else {\n",
       "    var attempts = 0;\n",
       "    var timer = setInterval(function(root) {\n",
       "      if (root.Bokeh !== undefined) {\n",
       "        embed_document(root);\n",
       "        clearInterval(timer);\n",
       "      }\n",
       "      attempts++;\n",
       "      if (attempts > 100) {\n",
       "        console.log(\"Bokeh: ERROR: Unable to run BokehJS code because BokehJS library is missing\")\n",
       "        clearInterval(timer);\n",
       "      }\n",
       "    }, 10, root)\n",
       "  }\n",
       "})(window);"
      ],
      "application/vnd.bokehjs_exec.v0+json": ""
     },
     "metadata": {
      "application/vnd.bokehjs_exec.v0+json": {
       "id": "e0b86da6-2c5f-4229-b738-4bfce0a0927a"
      }
     },
     "output_type": "display_data"
    }
   ],
   "source": [
    "#PerfumeFD = get_FD(Perfume_Corpus)\n",
    "perfume_labeled = create_features(Perfume_Corpus)\n",
    "perfumeSC = NB_classify(perfume_labeled)\n",
    "perfume_features = store_most_informative_features(perfumeSC,30)\n",
    "graph_features(perfume_features, \"Perfume\")"
   ]
  },
  {
   "cell_type": "code",
   "execution_count": 156,
   "metadata": {},
   "outputs": [
    {
     "name": "stdout",
     "output_type": "stream",
     "text": [
      "Training accuracy: 90.8613445378\n",
      "Test accuracy: 81.512605042\n"
     ]
    },
    {
     "data": {
      "text/html": [
       "\n",
       "<div class=\"bk-root\">\n",
       "    <div class=\"bk-plotdiv\" id=\"ab9112ad-0be8-49f4-92a3-858299d4e335\"></div>\n",
       "</div>"
      ]
     },
     "metadata": {},
     "output_type": "display_data"
    },
    {
     "data": {
      "application/javascript": [
       "(function(root) {\n",
       "  function embed_document(root) {\n",
       "    \n",
       "  var docs_json = {\"8bb77e84-5600-4fc5-8f16-38fbc9dda537\":{\"roots\":{\"references\":[{\"attributes\":{},\"id\":\"e5601996-efa0-4f87-9db3-2c00eca970c8\",\"type\":\"BasicTicker\"},{\"attributes\":{\"data_source\":{\"id\":\"b6419d67-9582-415a-84ed-fc64881d0989\",\"type\":\"ColumnDataSource\"},\"glyph\":{\"id\":\"d180b79b-6768-48bc-b56b-a6f334f237b0\",\"type\":\"HBar\"},\"hover_glyph\":null,\"muted_glyph\":null,\"nonselection_glyph\":{\"id\":\"ff73480c-c761-4f56-bfb6-2fc48f4c7454\",\"type\":\"HBar\"},\"selection_glyph\":null,\"view\":{\"id\":\"108d2f5e-0a82-49a7-8b03-d723e4a4d4f8\",\"type\":\"CDSView\"}},\"id\":\"f1a29163-59a8-4306-8d7c-5e033291f19b\",\"type\":\"GlyphRenderer\"},{\"attributes\":{},\"id\":\"893a2ebb-97fc-41a0-9ecf-8dc7093bdb80\",\"type\":\"SaveTool\"},{\"attributes\":{\"dimension\":1,\"grid_line_color\":{\"value\":null},\"plot\":{\"id\":\"ffb884e4-684b-4af5-ac6a-2558a4f7c8ee\",\"subtype\":\"Figure\",\"type\":\"Plot\"},\"ticker\":{\"id\":\"4240b127-c06b-49c9-9856-c72800bd70f4\",\"type\":\"CategoricalTicker\"}},\"id\":\"4eece8b5-8c84-4e78-af41-d86de3f7cb4d\",\"type\":\"Grid\"},{\"attributes\":{\"plot\":null,\"text\":\"Most Informative Words in Descriptions for Perfume\",\"text_font_size\":{\"value\":\"1.2em\"}},\"id\":\"1d3d0731-268e-49b3-aaf9-5858d6bb1394\",\"type\":\"Title\"},{\"attributes\":{\"items\":[{\"id\":\"7af10780-1467-4204-bcaf-12dd71b3f01f\",\"type\":\"LegendItem\"},{\"id\":\"2465fe89-0917-428d-911b-efcabaeed2d6\",\"type\":\"LegendItem\"}],\"label_text_font_size\":{\"value\":\"1em\"},\"location\":\"bottom_right\",\"plot\":{\"id\":\"ffb884e4-684b-4af5-ac6a-2558a4f7c8ee\",\"subtype\":\"Figure\",\"type\":\"Plot\"}},\"id\":\"7a5a1e43-6c36-4031-bbd1-1a1711347ee9\",\"type\":\"Legend\"},{\"attributes\":{},\"id\":\"8df3a54b-2597-4c1c-b53f-04f61f66fc89\",\"type\":\"ResetTool\"},{\"attributes\":{\"level\":\"glyph\",\"plot\":{\"id\":\"ffb884e4-684b-4af5-ac6a-2558a4f7c8ee\",\"subtype\":\"Figure\",\"type\":\"Plot\"},\"source\":{\"id\":\"a62f5116-ae47-4907-812d-a3def08a8dda\",\"type\":\"ColumnDataSource\"},\"text\":{\"field\":\"word\"},\"text_align\":\"right\",\"x\":{\"value\":0},\"x_offset\":{\"value\":-5},\"y\":{\"field\":\"word\"},\"y_offset\":{\"value\":-9}},\"id\":\"b12401b3-fb78-4d54-a310-13216253f17f\",\"type\":\"LabelSet\"},{\"attributes\":{},\"id\":\"a303716a-b547-4538-80f8-c5c57c6964b5\",\"type\":\"CategoricalTickFormatter\"},{\"attributes\":{\"callback\":null,\"column_names\":[\"gender\",\"word\",\"index\",\"ratio\"],\"data\":{\"gender\":[\"f\",\"f\",\"f\",\"f\",\"f\",\"f\",\"f\",\"f\",\"f\",\"f\",\"f\",\"f\",\"f\",\"f\",\"f\",\"f\"],\"index\":[28,25,24,23,22,20,21,19,12,11,10,9,8,7,6,5],\"ratio\":{\"__ndarray__\":\"9w1r37D2GUBwWPuGtW8cQO0A5Q5Q7hxA6KKLLrroHkDWP6CPKEMfQObzXj7v5R9A5vNePu/lH0Cx9g1r37AgQCpBnhLkKSNAXWmzOMK5I0BmZmZmZmYkQPMT4qz8hCZA37D2DWvfJkDfsPYNa98mQBvWvmHtGyhAHNa+Ye0bKEA=\",\"dtype\":\"float64\",\"shape\":[16]},\"word\":[\"contemporary\",\"carefully\",\"fine\",\"nourishes\",\"pure\",\"freesia\",\"soft\",\"conditioning\",\"package\",\"mist\",\"orchid\",\"women\",\"victoria\",\"delicate\",\"aloe\",\"essential\"]},\"selected\":null,\"selection_policy\":null},\"id\":\"64059485-1d07-4e6f-99ba-6fbbf3195782\",\"type\":\"ColumnDataSource\"},{\"attributes\":{},\"id\":\"43295a9e-7b2f-4a9a-8aed-bf443a309cd1\",\"type\":\"CategoricalScale\"},{\"attributes\":{\"source\":{\"id\":\"64059485-1d07-4e6f-99ba-6fbbf3195782\",\"type\":\"ColumnDataSource\"}},\"id\":\"b86f3a44-572e-408f-8e75-79f62753df0d\",\"type\":\"CDSView\"},{\"attributes\":{\"axis_label\":\"Likelihood Ratio\",\"axis_label_text_font_size\":{\"value\":\"1em\"},\"formatter\":{\"id\":\"bc28f9fe-6dc4-4e75-aca3-9ac9b785a590\",\"type\":\"PrintfTickFormatter\"},\"major_label_text_font_size\":{\"value\":\"1em\"},\"plot\":{\"id\":\"ffb884e4-684b-4af5-ac6a-2558a4f7c8ee\",\"subtype\":\"Figure\",\"type\":\"Plot\"},\"ticker\":{\"id\":\"e5601996-efa0-4f87-9db3-2c00eca970c8\",\"type\":\"BasicTicker\"}},\"id\":\"c67a8fd5-573a-4461-b056-c845e88efa39\",\"type\":\"LinearAxis\"},{\"attributes\":{},\"id\":\"71637f2d-7c2f-49dd-bf30-4ba9b88f356b\",\"type\":\"HelpTool\"},{\"attributes\":{\"fill_alpha\":{\"value\":0.1},\"fill_color\":{\"value\":\"#1f77b4\"},\"height\":{\"value\":0.8},\"left\":{\"field\":\"ratio\"},\"line_alpha\":{\"value\":0.1},\"line_color\":{\"value\":\"#1f77b4\"},\"right\":{\"value\":0},\"y\":{\"field\":\"word\"}},\"id\":\"ff73480c-c761-4f56-bfb6-2fc48f4c7454\",\"type\":\"HBar\"},{\"attributes\":{\"callback\":null,\"factors\":[\"rosewood\",\"sage\",\"tobacco\",\"homme\",\"man\",\"cardamom\",\"men\",\"shave\",\"impression\",\"ellis\",\"deodorant\",\"masculine\",\"manly\",\"wood\",\"contemporary\",\"carefully\",\"fine\",\"nourishes\",\"pure\",\"freesia\",\"soft\",\"conditioning\",\"package\",\"mist\",\"orchid\",\"women\",\"victoria\",\"delicate\",\"aloe\",\"essential\"],\"range_padding\":0.1},\"id\":\"f8a2b70e-7de4-42f2-a095-afa5eca1a05b\",\"type\":\"FactorRange\"},{\"attributes\":{},\"id\":\"743035a9-23fd-41b0-b985-fa41994eaf6b\",\"type\":\"LinearScale\"},{\"attributes\":{\"data_source\":{\"id\":\"64059485-1d07-4e6f-99ba-6fbbf3195782\",\"type\":\"ColumnDataSource\"},\"glyph\":{\"id\":\"f5f7483f-0a43-41c0-90bd-c18a674a3222\",\"type\":\"HBar\"},\"hover_glyph\":null,\"muted_glyph\":null,\"nonselection_glyph\":{\"id\":\"8ee34ed1-5a8d-4f40-b9d2-f7ca40330059\",\"type\":\"HBar\"},\"selection_glyph\":null,\"view\":{\"id\":\"b86f3a44-572e-408f-8e75-79f62753df0d\",\"type\":\"CDSView\"}},\"id\":\"c5411594-a090-457c-8bc1-76543cbb1e07\",\"type\":\"GlyphRenderer\"},{\"attributes\":{\"formatter\":{\"id\":\"a303716a-b547-4538-80f8-c5c57c6964b5\",\"type\":\"CategoricalTickFormatter\"},\"plot\":{\"id\":\"ffb884e4-684b-4af5-ac6a-2558a4f7c8ee\",\"subtype\":\"Figure\",\"type\":\"Plot\"},\"ticker\":{\"id\":\"4240b127-c06b-49c9-9856-c72800bd70f4\",\"type\":\"CategoricalTicker\"},\"visible\":false},\"id\":\"256d9d1d-df1e-425c-8696-3b250c216f99\",\"type\":\"CategoricalAxis\"},{\"attributes\":{},\"id\":\"4240b127-c06b-49c9-9856-c72800bd70f4\",\"type\":\"CategoricalTicker\"},{\"attributes\":{\"label\":{\"value\":\"Female\"},\"renderers\":[{\"id\":\"c5411594-a090-457c-8bc1-76543cbb1e07\",\"type\":\"GlyphRenderer\"}]},\"id\":\"7af10780-1467-4204-bcaf-12dd71b3f01f\",\"type\":\"LegendItem\"},{\"attributes\":{\"level\":\"glyph\",\"plot\":{\"id\":\"ffb884e4-684b-4af5-ac6a-2558a4f7c8ee\",\"subtype\":\"Figure\",\"type\":\"Plot\"},\"source\":{\"id\":\"d07746e7-377c-4f0c-8ad0-6c04dc7a8fc2\",\"type\":\"ColumnDataSource\"},\"text\":{\"field\":\"word\"},\"x\":{\"value\":0},\"x_offset\":{\"value\":5},\"y\":{\"field\":\"word\"},\"y_offset\":{\"value\":-9}},\"id\":\"aecc4f5e-ff84-45e6-a988-91e74d02766c\",\"type\":\"LabelSet\"},{\"attributes\":{\"callback\":null,\"column_names\":[\"gender\",\"word\",\"index\",\"ratio\"],\"data\":{\"gender\":[\"m\",\"m\",\"m\",\"m\",\"m\",\"m\",\"m\",\"m\",\"m\",\"m\",\"m\",\"m\",\"m\",\"m\"],\"index\":[0,1,2,3,4,13,14,17,16,15,18,26,27,29],\"ratio\":{\"__ndarray__\":\"80ed8kedMcAFmLwFmLwvwAoKCgoKCizAf9Qpf9QpKcCynmOynmMowIyMjIyMjCLA8Q3VRmMqIsCkTvmjTvkhwKRO+aNO+SHApE75o075IcCwr6+vr68hwJA65Y865RvAqPxRp/xRG8Bm74xl74wZwA==\",\"dtype\":\"float64\",\"shape\":[14]},\"word\":[\"rosewood\",\"sage\",\"tobacco\",\"homme\",\"man\",\"cardamom\",\"men\",\"shave\",\"impression\",\"ellis\",\"deodorant\",\"masculine\",\"manly\",\"wood\"]},\"selected\":null,\"selection_policy\":null},\"id\":\"d07746e7-377c-4f0c-8ad0-6c04dc7a8fc2\",\"type\":\"ColumnDataSource\"},{\"attributes\":{\"active_drag\":\"auto\",\"active_inspect\":\"auto\",\"active_scroll\":\"auto\",\"active_tap\":\"auto\",\"tools\":[{\"id\":\"b67ce97f-1433-4a36-b0de-a2758fa53950\",\"type\":\"PanTool\"},{\"id\":\"51a8f126-2332-46c6-b514-5e7663957a5c\",\"type\":\"WheelZoomTool\"},{\"id\":\"2aa8a539-8713-45fd-8e75-27c4f41190ac\",\"type\":\"BoxZoomTool\"},{\"id\":\"893a2ebb-97fc-41a0-9ecf-8dc7093bdb80\",\"type\":\"SaveTool\"},{\"id\":\"8df3a54b-2597-4c1c-b53f-04f61f66fc89\",\"type\":\"ResetTool\"},{\"id\":\"71637f2d-7c2f-49dd-bf30-4ba9b88f356b\",\"type\":\"HelpTool\"}]},\"id\":\"fc1a4bb7-56bf-48e0-9abf-12bdec9d822a\",\"type\":\"Toolbar\"},{\"attributes\":{\"below\":[{\"id\":\"c67a8fd5-573a-4461-b056-c845e88efa39\",\"type\":\"LinearAxis\"}],\"left\":[{\"id\":\"256d9d1d-df1e-425c-8696-3b250c216f99\",\"type\":\"CategoricalAxis\"}],\"renderers\":[{\"id\":\"c67a8fd5-573a-4461-b056-c845e88efa39\",\"type\":\"LinearAxis\"},{\"id\":\"e0665a47-af79-4cff-b433-14b41d5be2fe\",\"type\":\"Grid\"},{\"id\":\"256d9d1d-df1e-425c-8696-3b250c216f99\",\"type\":\"CategoricalAxis\"},{\"id\":\"4eece8b5-8c84-4e78-af41-d86de3f7cb4d\",\"type\":\"Grid\"},{\"id\":\"3c62d76e-85a2-4135-a854-a3f420dbe69f\",\"type\":\"BoxAnnotation\"},{\"id\":\"7a5a1e43-6c36-4031-bbd1-1a1711347ee9\",\"type\":\"Legend\"},{\"id\":\"c5411594-a090-457c-8bc1-76543cbb1e07\",\"type\":\"GlyphRenderer\"},{\"id\":\"f1a29163-59a8-4306-8d7c-5e033291f19b\",\"type\":\"GlyphRenderer\"},{\"id\":\"aecc4f5e-ff84-45e6-a988-91e74d02766c\",\"type\":\"LabelSet\"},{\"id\":\"b12401b3-fb78-4d54-a310-13216253f17f\",\"type\":\"LabelSet\"}],\"title\":{\"id\":\"1d3d0731-268e-49b3-aaf9-5858d6bb1394\",\"type\":\"Title\"},\"toolbar\":{\"id\":\"fc1a4bb7-56bf-48e0-9abf-12bdec9d822a\",\"type\":\"Toolbar\"},\"x_range\":{\"id\":\"d050091f-d637-43be-996e-01dc8ade5702\",\"type\":\"Range1d\"},\"x_scale\":{\"id\":\"743035a9-23fd-41b0-b985-fa41994eaf6b\",\"type\":\"LinearScale\"},\"y_range\":{\"id\":\"f8a2b70e-7de4-42f2-a095-afa5eca1a05b\",\"type\":\"FactorRange\"},\"y_scale\":{\"id\":\"43295a9e-7b2f-4a9a-8aed-bf443a309cd1\",\"type\":\"CategoricalScale\"}},\"id\":\"ffb884e4-684b-4af5-ac6a-2558a4f7c8ee\",\"subtype\":\"Figure\",\"type\":\"Plot\"},{\"attributes\":{\"callback\":null,\"end\":22.61437908496732,\"start\":-22.61437908496732},\"id\":\"d050091f-d637-43be-996e-01dc8ade5702\",\"type\":\"Range1d\"},{\"attributes\":{\"label\":{\"value\":\"Male\"},\"renderers\":[{\"id\":\"f1a29163-59a8-4306-8d7c-5e033291f19b\",\"type\":\"GlyphRenderer\"}]},\"id\":\"2465fe89-0917-428d-911b-efcabaeed2d6\",\"type\":\"LegendItem\"},{\"attributes\":{},\"id\":\"b67ce97f-1433-4a36-b0de-a2758fa53950\",\"type\":\"PanTool\"},{\"attributes\":{\"callback\":null,\"column_names\":[\"gender\",\"word\",\"index\",\"ratio\"],\"data\":{\"gender\":[\"f\",\"f\",\"f\",\"f\",\"f\",\"f\",\"f\",\"f\",\"f\",\"f\",\"f\",\"f\",\"f\",\"f\",\"f\",\"f\"],\"index\":[28,25,24,23,22,20,21,19,12,11,10,9,8,7,6,5],\"ratio\":{\"__ndarray__\":\"9w1r37D2GUBwWPuGtW8cQO0A5Q5Q7hxA6KKLLrroHkDWP6CPKEMfQObzXj7v5R9A5vNePu/lH0Cx9g1r37AgQCpBnhLkKSNAXWmzOMK5I0BmZmZmZmYkQPMT4qz8hCZA37D2DWvfJkDfsPYNa98mQBvWvmHtGyhAHNa+Ye0bKEA=\",\"dtype\":\"float64\",\"shape\":[16]},\"word\":[\"contemporary\",\"carefully\",\"fine\",\"nourishes\",\"pure\",\"freesia\",\"soft\",\"conditioning\",\"package\",\"mist\",\"orchid\",\"women\",\"victoria\",\"delicate\",\"aloe\",\"essential\"]},\"selected\":null,\"selection_policy\":null},\"id\":\"a62f5116-ae47-4907-812d-a3def08a8dda\",\"type\":\"ColumnDataSource\"},{\"attributes\":{\"callback\":null,\"column_names\":[\"gender\",\"word\",\"index\",\"ratio\"],\"data\":{\"gender\":[\"m\",\"m\",\"m\",\"m\",\"m\",\"m\",\"m\",\"m\",\"m\",\"m\",\"m\",\"m\",\"m\",\"m\"],\"index\":[0,1,2,3,4,13,14,17,16,15,18,26,27,29],\"ratio\":{\"__ndarray__\":\"80ed8kedMcAFmLwFmLwvwAoKCgoKCizAf9Qpf9QpKcCynmOynmMowIyMjIyMjCLA8Q3VRmMqIsCkTvmjTvkhwKRO+aNO+SHApE75o075IcCwr6+vr68hwJA65Y865RvAqPxRp/xRG8Bm74xl74wZwA==\",\"dtype\":\"float64\",\"shape\":[14]},\"word\":[\"rosewood\",\"sage\",\"tobacco\",\"homme\",\"man\",\"cardamom\",\"men\",\"shave\",\"impression\",\"ellis\",\"deodorant\",\"masculine\",\"manly\",\"wood\"]},\"selected\":null,\"selection_policy\":null},\"id\":\"b6419d67-9582-415a-84ed-fc64881d0989\",\"type\":\"ColumnDataSource\"},{\"attributes\":{\"overlay\":{\"id\":\"3c62d76e-85a2-4135-a854-a3f420dbe69f\",\"type\":\"BoxAnnotation\"}},\"id\":\"2aa8a539-8713-45fd-8e75-27c4f41190ac\",\"type\":\"BoxZoomTool\"},{\"attributes\":{\"fill_alpha\":{\"value\":0.1},\"fill_color\":{\"value\":\"#1f77b4\"},\"height\":{\"value\":0.8},\"line_alpha\":{\"value\":0.1},\"line_color\":{\"value\":\"#1f77b4\"},\"right\":{\"field\":\"ratio\"},\"y\":{\"field\":\"word\"}},\"id\":\"8ee34ed1-5a8d-4f40-b9d2-f7ca40330059\",\"type\":\"HBar\"},{\"attributes\":{},\"id\":\"51a8f126-2332-46c6-b514-5e7663957a5c\",\"type\":\"WheelZoomTool\"},{\"attributes\":{\"bottom_units\":\"screen\",\"fill_alpha\":{\"value\":0.5},\"fill_color\":{\"value\":\"lightgrey\"},\"left_units\":\"screen\",\"level\":\"overlay\",\"line_alpha\":{\"value\":1.0},\"line_color\":{\"value\":\"black\"},\"line_dash\":[4,4],\"line_width\":{\"value\":2},\"plot\":null,\"render_mode\":\"css\",\"right_units\":\"screen\",\"top_units\":\"screen\"},\"id\":\"3c62d76e-85a2-4135-a854-a3f420dbe69f\",\"type\":\"BoxAnnotation\"},{\"attributes\":{\"fill_color\":{\"value\":\"deepskyblue\"},\"height\":{\"value\":0.8},\"left\":{\"field\":\"ratio\"},\"line_color\":{\"value\":\"deepskyblue\"},\"right\":{\"value\":0},\"y\":{\"field\":\"word\"}},\"id\":\"d180b79b-6768-48bc-b56b-a6f334f237b0\",\"type\":\"HBar\"},{\"attributes\":{\"fill_color\":{\"value\":\"deeppink\"},\"height\":{\"value\":0.8},\"line_color\":{\"value\":\"deeppink\"},\"right\":{\"field\":\"ratio\"},\"y\":{\"field\":\"word\"}},\"id\":\"f5f7483f-0a43-41c0-90bd-c18a674a3222\",\"type\":\"HBar\"},{\"attributes\":{\"format\":\"%u\"},\"id\":\"bc28f9fe-6dc4-4e75-aca3-9ac9b785a590\",\"type\":\"PrintfTickFormatter\"},{\"attributes\":{\"source\":{\"id\":\"b6419d67-9582-415a-84ed-fc64881d0989\",\"type\":\"ColumnDataSource\"}},\"id\":\"108d2f5e-0a82-49a7-8b03-d723e4a4d4f8\",\"type\":\"CDSView\"},{\"attributes\":{\"grid_line_color\":{\"value\":null},\"plot\":{\"id\":\"ffb884e4-684b-4af5-ac6a-2558a4f7c8ee\",\"subtype\":\"Figure\",\"type\":\"Plot\"},\"ticker\":{\"id\":\"e5601996-efa0-4f87-9db3-2c00eca970c8\",\"type\":\"BasicTicker\"}},\"id\":\"e0665a47-af79-4cff-b433-14b41d5be2fe\",\"type\":\"Grid\"}],\"root_ids\":[\"ffb884e4-684b-4af5-ac6a-2558a4f7c8ee\"]},\"title\":\"Bokeh Application\",\"version\":\"0.12.15\"}};\n",
       "  var render_items = [{\"docid\":\"8bb77e84-5600-4fc5-8f16-38fbc9dda537\",\"elementid\":\"ab9112ad-0be8-49f4-92a3-858299d4e335\",\"modelid\":\"ffb884e4-684b-4af5-ac6a-2558a4f7c8ee\"}];\n",
       "  root.Bokeh.embed.embed_items_notebook(docs_json, render_items);\n",
       "\n",
       "  }\n",
       "  if (root.Bokeh !== undefined) {\n",
       "    embed_document(root);\n",
       "  } else {\n",
       "    var attempts = 0;\n",
       "    var timer = setInterval(function(root) {\n",
       "      if (root.Bokeh !== undefined) {\n",
       "        embed_document(root);\n",
       "        clearInterval(timer);\n",
       "      }\n",
       "      attempts++;\n",
       "      if (attempts > 100) {\n",
       "        console.log(\"Bokeh: ERROR: Unable to run BokehJS code because BokehJS library is missing\")\n",
       "        clearInterval(timer);\n",
       "      }\n",
       "    }, 10, root)\n",
       "  }\n",
       "})(window);"
      ],
      "application/vnd.bokehjs_exec.v0+json": ""
     },
     "metadata": {
      "application/vnd.bokehjs_exec.v0+json": {
       "id": "ffb884e4-684b-4af5-ac6a-2558a4f7c8ee"
      }
     },
     "output_type": "display_data"
    }
   ],
   "source": [
    "perfume_labeled2 = create_features(Perfume_Corpus2)\n",
    "perfumeSC2 = NB_classify(perfume_labeled2)\n",
    "perfume_features2 = store_most_informative_features(perfumeSC2,30)\n",
    "graph_features(perfume_features2, \"Perfume\")"
   ]
  },
  {
   "cell_type": "markdown",
   "metadata": {},
   "source": [
    "## Graph of Interest 1"
   ]
  },
  {
   "cell_type": "code",
   "execution_count": 115,
   "metadata": {},
   "outputs": [],
   "source": [
    "outfit_indices = [\"SportingGoods\", \"Apparel\", \"Fashion\"]\n",
    "for index in outfit_indices:\n",
    "    Pants_Corpus = build_corpus(index, \"PantsCorpus\", pants)"
   ]
  },
  {
   "cell_type": "code",
   "execution_count": 149,
   "metadata": {},
   "outputs": [
    {
     "name": "stdout",
     "output_type": "stream",
     "text": [
      "Training accuracy: 91.4130434783\n",
      "Test accuracy: 88.6956521739\n"
     ]
    },
    {
     "data": {
      "text/html": [
       "\n",
       "<div class=\"bk-root\">\n",
       "    <div class=\"bk-plotdiv\" id=\"0f8c35ed-20ad-4bf0-8d92-729fdd6103d8\"></div>\n",
       "</div>"
      ]
     },
     "metadata": {},
     "output_type": "display_data"
    },
    {
     "data": {
      "application/javascript": [
       "(function(root) {\n",
       "  function embed_document(root) {\n",
       "    \n",
       "  var docs_json = {\"5344aba7-c8ac-41f5-a835-351d765e8f0e\":{\"roots\":{\"references\":[{\"attributes\":{\"fill_color\":{\"value\":\"deeppink\"},\"height\":{\"value\":0.8},\"line_color\":{\"value\":\"deeppink\"},\"right\":{\"field\":\"ratio\"},\"y\":{\"field\":\"word\"}},\"id\":\"241cb418-3695-4988-aa56-16efedf68e07\",\"type\":\"HBar\"},{\"attributes\":{\"fill_color\":{\"value\":\"deepskyblue\"},\"height\":{\"value\":0.8},\"left\":{\"field\":\"ratio\"},\"line_color\":{\"value\":\"deepskyblue\"},\"right\":{\"value\":0},\"y\":{\"field\":\"word\"}},\"id\":\"713ac09a-af6d-403b-8d95-9ed5265f43fb\",\"type\":\"HBar\"},{\"attributes\":{\"grid_line_color\":{\"value\":null},\"plot\":{\"id\":\"68b09405-bbef-411a-bbea-b01b1987d236\",\"subtype\":\"Figure\",\"type\":\"Plot\"},\"ticker\":{\"id\":\"497772d9-d889-4bb1-a028-a171221aca02\",\"type\":\"BasicTicker\"}},\"id\":\"56bf899c-61a0-4fa9-b1b0-708ebb40ec9e\",\"type\":\"Grid\"},{\"attributes\":{},\"id\":\"15a5f05e-328a-486b-b8aa-ef17f1a8d59b\",\"type\":\"CategoricalTickFormatter\"},{\"attributes\":{\"source\":{\"id\":\"71ec6658-8348-49c5-b5a8-5fbd8c62fde1\",\"type\":\"ColumnDataSource\"}},\"id\":\"019624ad-a5b8-428e-a2e1-935f562fabef\",\"type\":\"CDSView\"},{\"attributes\":{},\"id\":\"03a23a4e-9b12-4e56-bcc2-45022c10ac8f\",\"type\":\"CategoricalScale\"},{\"attributes\":{\"data_source\":{\"id\":\"71ec6658-8348-49c5-b5a8-5fbd8c62fde1\",\"type\":\"ColumnDataSource\"},\"glyph\":{\"id\":\"713ac09a-af6d-403b-8d95-9ed5265f43fb\",\"type\":\"HBar\"},\"hover_glyph\":null,\"muted_glyph\":null,\"nonselection_glyph\":{\"id\":\"a86758e5-3878-4195-b488-47fb9e8171fa\",\"type\":\"HBar\"},\"selection_glyph\":null,\"view\":{\"id\":\"019624ad-a5b8-428e-a2e1-935f562fabef\",\"type\":\"CDSView\"}},\"id\":\"ee82fdf7-3a36-45d0-94b6-12e84514b942\",\"type\":\"GlyphRenderer\"},{\"attributes\":{\"format\":\"%u\"},\"id\":\"42984d05-344d-42f0-a1ef-1f2dd0ef1543\",\"type\":\"PrintfTickFormatter\"},{\"attributes\":{\"data_source\":{\"id\":\"6b27c480-c4d1-4b90-a058-0af84d40bf96\",\"type\":\"ColumnDataSource\"},\"glyph\":{\"id\":\"241cb418-3695-4988-aa56-16efedf68e07\",\"type\":\"HBar\"},\"hover_glyph\":null,\"muted_glyph\":null,\"nonselection_glyph\":{\"id\":\"7ea4cb6f-e2b8-4764-a4b8-5ef2d4ca82d8\",\"type\":\"HBar\"},\"selection_glyph\":null,\"view\":{\"id\":\"059b8104-768d-4863-9df8-ab08f768c6ac\",\"type\":\"CDSView\"}},\"id\":\"24b01af0-5361-4235-99d9-01874a8419d0\",\"type\":\"GlyphRenderer\"},{\"attributes\":{\"level\":\"glyph\",\"plot\":{\"id\":\"68b09405-bbef-411a-bbea-b01b1987d236\",\"subtype\":\"Figure\",\"type\":\"Plot\"},\"source\":{\"id\":\"8b029be5-e274-4ddb-a19b-cd5977931945\",\"type\":\"ColumnDataSource\"},\"text\":{\"field\":\"word\"},\"text_align\":\"right\",\"x\":{\"value\":0},\"x_offset\":{\"value\":-5},\"y\":{\"field\":\"word\"},\"y_offset\":{\"value\":-9}},\"id\":\"6e699b49-8edd-4e8a-b708-6bff8eb900d9\",\"type\":\"LabelSet\"},{\"attributes\":{},\"id\":\"a72ac5f2-cd1e-4672-849b-157ca771036a\",\"type\":\"LinearScale\"},{\"attributes\":{\"active_drag\":\"auto\",\"active_inspect\":\"auto\",\"active_scroll\":\"auto\",\"active_tap\":\"auto\",\"tools\":[{\"id\":\"16577a8c-a159-4d11-a5e8-e0eb940b435b\",\"type\":\"PanTool\"},{\"id\":\"6d0594a9-6a34-4dec-b85e-fca27823d272\",\"type\":\"WheelZoomTool\"},{\"id\":\"9f955ba5-e50a-4d29-ba16-3a6a63fb19af\",\"type\":\"BoxZoomTool\"},{\"id\":\"43a5a3ae-9ec8-4e8b-816e-29f75d53d95a\",\"type\":\"SaveTool\"},{\"id\":\"6d51d6dc-ce3e-4701-9460-e8c24a4517a1\",\"type\":\"ResetTool\"},{\"id\":\"ec8519a4-eb23-45ca-96eb-7cf2fd83a894\",\"type\":\"HelpTool\"}]},\"id\":\"f79fa8bb-ff73-434e-8300-69592948249e\",\"type\":\"Toolbar\"},{\"attributes\":{\"dimension\":1,\"grid_line_color\":{\"value\":null},\"plot\":{\"id\":\"68b09405-bbef-411a-bbea-b01b1987d236\",\"subtype\":\"Figure\",\"type\":\"Plot\"},\"ticker\":{\"id\":\"08150739-6f54-4b3a-9c1c-48bd498e6140\",\"type\":\"CategoricalTicker\"}},\"id\":\"9aac9215-eee0-4ad4-84f1-da03efba0400\",\"type\":\"Grid\"},{\"attributes\":{},\"id\":\"497772d9-d889-4bb1-a028-a171221aca02\",\"type\":\"BasicTicker\"},{\"attributes\":{\"formatter\":{\"id\":\"15a5f05e-328a-486b-b8aa-ef17f1a8d59b\",\"type\":\"CategoricalTickFormatter\"},\"plot\":{\"id\":\"68b09405-bbef-411a-bbea-b01b1987d236\",\"subtype\":\"Figure\",\"type\":\"Plot\"},\"ticker\":{\"id\":\"08150739-6f54-4b3a-9c1c-48bd498e6140\",\"type\":\"CategoricalTicker\"},\"visible\":false},\"id\":\"0db0c49b-2349-448f-a687-bc6d5068190e\",\"type\":\"CategoricalAxis\"},{\"attributes\":{\"callback\":null,\"end\":23.852024922118378,\"start\":-23.852024922118378},\"id\":\"87f32897-cbf2-48b4-8728-eb8c0e0cc654\",\"type\":\"Range1d\"},{\"attributes\":{\"axis_label\":\"Likelihood Ratio\",\"axis_label_text_font_size\":{\"value\":\"1em\"},\"formatter\":{\"id\":\"42984d05-344d-42f0-a1ef-1f2dd0ef1543\",\"type\":\"PrintfTickFormatter\"},\"major_label_text_font_size\":{\"value\":\"1em\"},\"plot\":{\"id\":\"68b09405-bbef-411a-bbea-b01b1987d236\",\"subtype\":\"Figure\",\"type\":\"Plot\"},\"ticker\":{\"id\":\"497772d9-d889-4bb1-a028-a171221aca02\",\"type\":\"BasicTicker\"}},\"id\":\"0861948b-f600-42df-a1cc-9494bf1f12c0\",\"type\":\"LinearAxis\"},{\"attributes\":{\"bottom_units\":\"screen\",\"fill_alpha\":{\"value\":0.5},\"fill_color\":{\"value\":\"lightgrey\"},\"left_units\":\"screen\",\"level\":\"overlay\",\"line_alpha\":{\"value\":1.0},\"line_color\":{\"value\":\"black\"},\"line_dash\":[4,4],\"line_width\":{\"value\":2},\"plot\":null,\"render_mode\":\"css\",\"right_units\":\"screen\",\"top_units\":\"screen\"},\"id\":\"fde8cf05-bbde-46b0-94f8-3c4788147155\",\"type\":\"BoxAnnotation\"},{\"attributes\":{\"label\":{\"value\":\"Female\"},\"renderers\":[{\"id\":\"24b01af0-5361-4235-99d9-01874a8419d0\",\"type\":\"GlyphRenderer\"}]},\"id\":\"6322227d-a45f-4dde-b4bf-20f93476b27b\",\"type\":\"LegendItem\"},{\"attributes\":{},\"id\":\"ec8519a4-eb23-45ca-96eb-7cf2fd83a894\",\"type\":\"HelpTool\"},{\"attributes\":{\"below\":[{\"id\":\"0861948b-f600-42df-a1cc-9494bf1f12c0\",\"type\":\"LinearAxis\"}],\"left\":[{\"id\":\"0db0c49b-2349-448f-a687-bc6d5068190e\",\"type\":\"CategoricalAxis\"}],\"renderers\":[{\"id\":\"0861948b-f600-42df-a1cc-9494bf1f12c0\",\"type\":\"LinearAxis\"},{\"id\":\"56bf899c-61a0-4fa9-b1b0-708ebb40ec9e\",\"type\":\"Grid\"},{\"id\":\"0db0c49b-2349-448f-a687-bc6d5068190e\",\"type\":\"CategoricalAxis\"},{\"id\":\"9aac9215-eee0-4ad4-84f1-da03efba0400\",\"type\":\"Grid\"},{\"id\":\"fde8cf05-bbde-46b0-94f8-3c4788147155\",\"type\":\"BoxAnnotation\"},{\"id\":\"81cd1627-29a4-4106-845e-025fd1cd5f53\",\"type\":\"Legend\"},{\"id\":\"24b01af0-5361-4235-99d9-01874a8419d0\",\"type\":\"GlyphRenderer\"},{\"id\":\"ee82fdf7-3a36-45d0-94b6-12e84514b942\",\"type\":\"GlyphRenderer\"},{\"id\":\"302e46ca-1d8b-4b71-86c6-28c8611fefb8\",\"type\":\"LabelSet\"},{\"id\":\"6e699b49-8edd-4e8a-b708-6bff8eb900d9\",\"type\":\"LabelSet\"}],\"title\":{\"id\":\"44eabadf-d568-426b-b867-c64ee2ea12ef\",\"type\":\"Title\"},\"toolbar\":{\"id\":\"f79fa8bb-ff73-434e-8300-69592948249e\",\"type\":\"Toolbar\"},\"x_range\":{\"id\":\"87f32897-cbf2-48b4-8728-eb8c0e0cc654\",\"type\":\"Range1d\"},\"x_scale\":{\"id\":\"a72ac5f2-cd1e-4672-849b-157ca771036a\",\"type\":\"LinearScale\"},\"y_range\":{\"id\":\"44c7793a-9f69-4229-a90a-3f00fb722cbb\",\"type\":\"FactorRange\"},\"y_scale\":{\"id\":\"03a23a4e-9b12-4e56-bcc2-45022c10ac8f\",\"type\":\"CategoricalScale\"}},\"id\":\"68b09405-bbef-411a-bbea-b01b1987d236\",\"subtype\":\"Figure\",\"type\":\"Plot\"},{\"attributes\":{\"callback\":null,\"factors\":[\"test\",\"men\",\"rugged\",\"tactical\",\"000mmseam\",\"pocketsboot\",\"nature\",\"mother\",\"burst\",\"knowing\",\"waistline\",\"seat\",\"ability\",\"hill\",\"enforcement\",\"law\",\"coin\",\"service\",\"chairlift\",\"rise\",\"jersey\",\"women\",\"white\",\"synthetic\",\"breathes\",\"training\",\"environmentally\",\"womens\",\"yoga\",\"paired\"],\"range_padding\":0.1},\"id\":\"44c7793a-9f69-4229-a90a-3f00fb722cbb\",\"type\":\"FactorRange\"},{\"attributes\":{},\"id\":\"08150739-6f54-4b3a-9c1c-48bd498e6140\",\"type\":\"CategoricalTicker\"},{\"attributes\":{},\"id\":\"43a5a3ae-9ec8-4e8b-816e-29f75d53d95a\",\"type\":\"SaveTool\"},{\"attributes\":{\"items\":[{\"id\":\"6322227d-a45f-4dde-b4bf-20f93476b27b\",\"type\":\"LegendItem\"},{\"id\":\"113a94cd-210e-4b20-bf94-abd37d945275\",\"type\":\"LegendItem\"}],\"label_text_font_size\":{\"value\":\"1em\"},\"location\":\"bottom_right\",\"plot\":{\"id\":\"68b09405-bbef-411a-bbea-b01b1987d236\",\"subtype\":\"Figure\",\"type\":\"Plot\"}},\"id\":\"81cd1627-29a4-4106-845e-025fd1cd5f53\",\"type\":\"Legend\"},{\"attributes\":{\"overlay\":{\"id\":\"fde8cf05-bbde-46b0-94f8-3c4788147155\",\"type\":\"BoxAnnotation\"}},\"id\":\"9f955ba5-e50a-4d29-ba16-3a6a63fb19af\",\"type\":\"BoxZoomTool\"},{\"attributes\":{\"callback\":null,\"column_names\":[\"gender\",\"word\",\"index\",\"ratio\"],\"data\":{\"gender\":[\"m\",\"m\",\"m\",\"m\",\"m\",\"m\",\"m\",\"m\",\"m\",\"m\",\"m\",\"m\",\"m\",\"m\",\"m\",\"m\",\"m\",\"m\",\"m\"],\"index\":[0,1,2,7,5,6,8,9,12,13,16,18,19,22,21,20,27,28,26],\"ratio\":{\"__ndarray__\":\"GeAnTh7aMsAuBzf7hdgxwCWRyoJcjC/AVBbkYoTaJ8BUFuRihNonwFQW5GKE2ifAkMqCXIxQJsDNfiFWlMYkwEfnXkmksiHAR+deSaSyIcCDm/1CrCggwDs/g4Co/x7AgJ84eWg9HcCAnzh5aD0dwICfOHloPR3AgJ84eWg9HcD5B3ZseCkawPkHdmx4KRrA+Qd2bHgpGsA=\",\"dtype\":\"float64\",\"shape\":[19]},\"word\":[\"test\",\"men\",\"rugged\",\"tactical\",\"000mmseam\",\"pocketsboot\",\"nature\",\"mother\",\"burst\",\"knowing\",\"waistline\",\"seat\",\"ability\",\"hill\",\"enforcement\",\"law\",\"coin\",\"service\",\"chairlift\"]},\"selected\":null,\"selection_policy\":null},\"id\":\"80b2f8f3-62d1-43ca-8799-f8eec83b95b8\",\"type\":\"ColumnDataSource\"},{\"attributes\":{\"level\":\"glyph\",\"plot\":{\"id\":\"68b09405-bbef-411a-bbea-b01b1987d236\",\"subtype\":\"Figure\",\"type\":\"Plot\"},\"source\":{\"id\":\"80b2f8f3-62d1-43ca-8799-f8eec83b95b8\",\"type\":\"ColumnDataSource\"},\"text\":{\"field\":\"word\"},\"x\":{\"value\":0},\"x_offset\":{\"value\":5},\"y\":{\"field\":\"word\"},\"y_offset\":{\"value\":-9}},\"id\":\"302e46ca-1d8b-4b71-86c6-28c8611fefb8\",\"type\":\"LabelSet\"},{\"attributes\":{\"fill_alpha\":{\"value\":0.1},\"fill_color\":{\"value\":\"#1f77b4\"},\"height\":{\"value\":0.8},\"line_alpha\":{\"value\":0.1},\"line_color\":{\"value\":\"#1f77b4\"},\"right\":{\"field\":\"ratio\"},\"y\":{\"field\":\"word\"}},\"id\":\"7ea4cb6f-e2b8-4764-a4b8-5ef2d4ca82d8\",\"type\":\"HBar\"},{\"attributes\":{},\"id\":\"6d0594a9-6a34-4dec-b85e-fca27823d272\",\"type\":\"WheelZoomTool\"},{\"attributes\":{},\"id\":\"16577a8c-a159-4d11-a5e8-e0eb940b435b\",\"type\":\"PanTool\"},{\"attributes\":{\"callback\":null,\"column_names\":[\"gender\",\"word\",\"index\",\"ratio\"],\"data\":{\"gender\":[\"f\",\"f\",\"f\",\"f\",\"f\",\"f\",\"f\",\"f\",\"f\",\"f\",\"f\"],\"index\":[29,25,24,23,17,15,14,11,10,4,3],\"ratio\":{\"__ndarray__\":\"VBrbRTWlGUAdKdXLypEaQLKgssRjehxAFE7GmkDhHEByQcYFGRcgQAFMVBwWwCBAtM/SfTv7IEB93swD0echQPlwReuLDyNA1wQKJ2NNLEBSl4IOHnUtQA==\",\"dtype\":\"float64\",\"shape\":[11]},\"word\":[\"rise\",\"jersey\",\"women\",\"white\",\"synthetic\",\"breathes\",\"training\",\"environmentally\",\"womens\",\"yoga\",\"paired\"]},\"selected\":null,\"selection_policy\":null},\"id\":\"6b27c480-c4d1-4b90-a058-0af84d40bf96\",\"type\":\"ColumnDataSource\"},{\"attributes\":{\"callback\":null,\"column_names\":[\"gender\",\"word\",\"index\",\"ratio\"],\"data\":{\"gender\":[\"f\",\"f\",\"f\",\"f\",\"f\",\"f\",\"f\",\"f\",\"f\",\"f\",\"f\"],\"index\":[29,25,24,23,17,15,14,11,10,4,3],\"ratio\":{\"__ndarray__\":\"VBrbRTWlGUAdKdXLypEaQLKgssRjehxAFE7GmkDhHEByQcYFGRcgQAFMVBwWwCBAtM/SfTv7IEB93swD0echQPlwReuLDyNA1wQKJ2NNLEBSl4IOHnUtQA==\",\"dtype\":\"float64\",\"shape\":[11]},\"word\":[\"rise\",\"jersey\",\"women\",\"white\",\"synthetic\",\"breathes\",\"training\",\"environmentally\",\"womens\",\"yoga\",\"paired\"]},\"selected\":null,\"selection_policy\":null},\"id\":\"8b029be5-e274-4ddb-a19b-cd5977931945\",\"type\":\"ColumnDataSource\"},{\"attributes\":{\"plot\":null,\"text\":\"Most Informative Words in Descriptions for Pants\",\"text_font_size\":{\"value\":\"1.2em\"}},\"id\":\"44eabadf-d568-426b-b867-c64ee2ea12ef\",\"type\":\"Title\"},{\"attributes\":{\"label\":{\"value\":\"Male\"},\"renderers\":[{\"id\":\"ee82fdf7-3a36-45d0-94b6-12e84514b942\",\"type\":\"GlyphRenderer\"}]},\"id\":\"113a94cd-210e-4b20-bf94-abd37d945275\",\"type\":\"LegendItem\"},{\"attributes\":{},\"id\":\"6d51d6dc-ce3e-4701-9460-e8c24a4517a1\",\"type\":\"ResetTool\"},{\"attributes\":{\"source\":{\"id\":\"6b27c480-c4d1-4b90-a058-0af84d40bf96\",\"type\":\"ColumnDataSource\"}},\"id\":\"059b8104-768d-4863-9df8-ab08f768c6ac\",\"type\":\"CDSView\"},{\"attributes\":{\"fill_alpha\":{\"value\":0.1},\"fill_color\":{\"value\":\"#1f77b4\"},\"height\":{\"value\":0.8},\"left\":{\"field\":\"ratio\"},\"line_alpha\":{\"value\":0.1},\"line_color\":{\"value\":\"#1f77b4\"},\"right\":{\"value\":0},\"y\":{\"field\":\"word\"}},\"id\":\"a86758e5-3878-4195-b488-47fb9e8171fa\",\"type\":\"HBar\"},{\"attributes\":{\"callback\":null,\"column_names\":[\"gender\",\"word\",\"index\",\"ratio\"],\"data\":{\"gender\":[\"m\",\"m\",\"m\",\"m\",\"m\",\"m\",\"m\",\"m\",\"m\",\"m\",\"m\",\"m\",\"m\",\"m\",\"m\",\"m\",\"m\",\"m\",\"m\"],\"index\":[0,1,2,7,5,6,8,9,12,13,16,18,19,22,21,20,27,28,26],\"ratio\":{\"__ndarray__\":\"GeAnTh7aMsAuBzf7hdgxwCWRyoJcjC/AVBbkYoTaJ8BUFuRihNonwFQW5GKE2ifAkMqCXIxQJsDNfiFWlMYkwEfnXkmksiHAR+deSaSyIcCDm/1CrCggwDs/g4Co/x7AgJ84eWg9HcCAnzh5aD0dwICfOHloPR3AgJ84eWg9HcD5B3ZseCkawPkHdmx4KRrA+Qd2bHgpGsA=\",\"dtype\":\"float64\",\"shape\":[19]},\"word\":[\"test\",\"men\",\"rugged\",\"tactical\",\"000mmseam\",\"pocketsboot\",\"nature\",\"mother\",\"burst\",\"knowing\",\"waistline\",\"seat\",\"ability\",\"hill\",\"enforcement\",\"law\",\"coin\",\"service\",\"chairlift\"]},\"selected\":null,\"selection_policy\":null},\"id\":\"71ec6658-8348-49c5-b5a8-5fbd8c62fde1\",\"type\":\"ColumnDataSource\"}],\"root_ids\":[\"68b09405-bbef-411a-bbea-b01b1987d236\"]},\"title\":\"Bokeh Application\",\"version\":\"0.12.15\"}};\n",
       "  var render_items = [{\"docid\":\"5344aba7-c8ac-41f5-a835-351d765e8f0e\",\"elementid\":\"0f8c35ed-20ad-4bf0-8d92-729fdd6103d8\",\"modelid\":\"68b09405-bbef-411a-bbea-b01b1987d236\"}];\n",
       "  root.Bokeh.embed.embed_items_notebook(docs_json, render_items);\n",
       "\n",
       "  }\n",
       "  if (root.Bokeh !== undefined) {\n",
       "    embed_document(root);\n",
       "  } else {\n",
       "    var attempts = 0;\n",
       "    var timer = setInterval(function(root) {\n",
       "      if (root.Bokeh !== undefined) {\n",
       "        embed_document(root);\n",
       "        clearInterval(timer);\n",
       "      }\n",
       "      attempts++;\n",
       "      if (attempts > 100) {\n",
       "        console.log(\"Bokeh: ERROR: Unable to run BokehJS code because BokehJS library is missing\")\n",
       "        clearInterval(timer);\n",
       "      }\n",
       "    }, 10, root)\n",
       "  }\n",
       "})(window);"
      ],
      "application/vnd.bokehjs_exec.v0+json": ""
     },
     "metadata": {
      "application/vnd.bokehjs_exec.v0+json": {
       "id": "68b09405-bbef-411a-bbea-b01b1987d236"
      }
     },
     "output_type": "display_data"
    }
   ],
   "source": [
    "#PantsFD = get_FD(Pants_Corpus)\n",
    "pants_features = create_features(Pants_Corpus)\n",
    "pantsSC = NB_classify(pants_features)\n",
    "pants_info = store_most_informative_features(pantsSC, 30)\n",
    "graph_features(pants_info, \"Pants\")"
   ]
  },
  {
   "cell_type": "code",
   "execution_count": 148,
   "metadata": {},
   "outputs": [],
   "source": [
    "for index in outfit_indices:\n",
    "    Shirt_Corpus = build_corpus(index, \"ShirtCorpus\", shirts)"
   ]
  },
  {
   "cell_type": "code",
   "execution_count": 154,
   "metadata": {
    "scrolled": true
   },
   "outputs": [
    {
     "name": "stdout",
     "output_type": "stream",
     "text": [
      "Training accuracy: 93.75\n",
      "Test accuracy: 86.3372093023\n"
     ]
    },
    {
     "data": {
      "text/html": [
       "\n",
       "<div class=\"bk-root\">\n",
       "    <div class=\"bk-plotdiv\" id=\"7e769396-156b-460d-b08d-7d1c1a555235\"></div>\n",
       "</div>"
      ]
     },
     "metadata": {},
     "output_type": "display_data"
    },
    {
     "data": {
      "application/javascript": [
       "(function(root) {\n",
       "  function embed_document(root) {\n",
       "    \n",
       "  var docs_json = {\"53513293-e1ea-4f7b-b13d-1019d87cf7ea\":{\"roots\":{\"references\":[{\"attributes\":{\"callback\":null,\"column_names\":[\"gender\",\"word\",\"index\",\"ratio\"],\"data\":{\"gender\":[\"f\",\"f\",\"f\",\"f\",\"f\",\"f\",\"f\",\"f\",\"f\",\"f\",\"f\",\"f\",\"f\",\"f\",\"f\",\"f\",\"f\"],\"index\":[29,28,27,24,23,17,18,16,11,10,12,7,6,5,4,3,0],\"ratio\":{\"__ndarray__\":\"2DumBvYuH0DKJptssukfQMomm2yy6R9AV35CnJWvIECMLrroojshQNlkk002ySNA2WSTTTbJI0DJZ91giuwjQAAAAAAAECVAAAAAAAAQJUAAAAAAABAlQKx9w9o3XCdATjbZZJOdJ0CQpwR5SiAoQJpssskmKypAPCXIU4JsKkA++OCDDzY5QA==\",\"dtype\":\"float64\",\"shape\":[17]},\"word\":[\"stretchy\",\"pattern\",\"rolled\",\"neckline\",\"split\",\"shaped\",\"push\",\"women\",\"plus\",\"inspired\",\"amazing\",\"flattering\",\"strap\",\"scoop\",\"monterey\",\"ladies\",\"bra\"]},\"selected\":null,\"selection_policy\":null},\"id\":\"364ed82e-82d8-4841-b37d-57d5aab36865\",\"type\":\"ColumnDataSource\"},{\"attributes\":{\"source\":{\"id\":\"364ed82e-82d8-4841-b37d-57d5aab36865\",\"type\":\"ColumnDataSource\"}},\"id\":\"9abf18e0-073d-4c59-b68c-2e432790c41b\",\"type\":\"CDSView\"},{\"attributes\":{\"callback\":null,\"column_names\":[\"gender\",\"word\",\"index\",\"ratio\"],\"data\":{\"gender\":[\"m\",\"m\",\"m\",\"m\",\"m\",\"m\",\"m\",\"m\",\"m\",\"m\",\"m\",\"m\",\"m\"],\"index\":[1,2,8,9,13,14,15,19,20,21,22,25,26],\"ratio\":{\"__ndarray__\":\"UN2SVAY9NcA4RIMgAqotwGaVBgIoliXAIQKq3dlOJcDfwwjyemgkwA21N0yhMSTADbU3TKExJMCz1GiWGs0iwI10opFONCLA5BpTKTD3IcBa9Jngk2ghwEanJ09bSyDAARTLKg0EIMA=\",\"dtype\":\"float64\",\"shape\":[13]},\"word\":[\"heatgear\",\"mens\",\"radiation\",\"promotoes\",\"men\",\"pure\",\"cling\",\"smells\",\"dirt\",\"underarm\",\"manual\",\"retention\",\"singlet\"]},\"selected\":null,\"selection_policy\":null},\"id\":\"0d687051-1ae8-4253-ba89-455c1ef25424\",\"type\":\"ColumnDataSource\"},{\"attributes\":{\"active_drag\":\"auto\",\"active_inspect\":\"auto\",\"active_scroll\":\"auto\",\"active_tap\":\"auto\",\"tools\":[{\"id\":\"d1bc430b-de1d-49c7-b18f-1b873e82df85\",\"type\":\"PanTool\"},{\"id\":\"b947755d-7e4c-4bc3-9926-826cdd276f99\",\"type\":\"WheelZoomTool\"},{\"id\":\"1c597ae1-2a49-48be-be36-c68bc3991a56\",\"type\":\"BoxZoomTool\"},{\"id\":\"919d1c75-58eb-466a-83a0-64f885fcfcd3\",\"type\":\"SaveTool\"},{\"id\":\"ef90a541-c8b3-449b-8793-d32cfb2f0b28\",\"type\":\"ResetTool\"},{\"id\":\"4c2fab91-3414-4f47-8735-7c2105ac86e3\",\"type\":\"HelpTool\"}]},\"id\":\"c197763a-9036-4d22-99d6-3aca56033a10\",\"type\":\"Toolbar\"},{\"attributes\":{\"level\":\"glyph\",\"plot\":{\"id\":\"846e5ea4-aa2e-41d4-a897-27597c23e868\",\"subtype\":\"Figure\",\"type\":\"Plot\"},\"source\":{\"id\":\"0d687051-1ae8-4253-ba89-455c1ef25424\",\"type\":\"ColumnDataSource\"},\"text\":{\"field\":\"word\"},\"x\":{\"value\":0},\"x_offset\":{\"value\":5},\"y\":{\"field\":\"word\"},\"y_offset\":{\"value\":-9}},\"id\":\"b900dd4d-12d3-4d2a-96d9-0ff4b43aefa5\",\"type\":\"LabelSet\"},{\"attributes\":{\"fill_color\":{\"value\":\"deeppink\"},\"height\":{\"value\":0.8},\"line_color\":{\"value\":\"deeppink\"},\"right\":{\"field\":\"ratio\"},\"y\":{\"field\":\"word\"}},\"id\":\"88861a6c-bd76-4867-a1d3-874455862243\",\"type\":\"HBar\"},{\"attributes\":{\"data_source\":{\"id\":\"4d5adf88-e48b-439f-81b2-bd952d842290\",\"type\":\"ColumnDataSource\"},\"glyph\":{\"id\":\"c19b0c75-9524-4da3-919a-0b4db0ab2498\",\"type\":\"HBar\"},\"hover_glyph\":null,\"muted_glyph\":null,\"nonselection_glyph\":{\"id\":\"812e4281-ba2e-448b-86b9-fa7ce5e17fe8\",\"type\":\"HBar\"},\"selection_glyph\":null,\"view\":{\"id\":\"b77259b9-ba1b-4cde-842d-108c2bf6a34c\",\"type\":\"CDSView\"}},\"id\":\"4db34fce-b1b5-43e0-a994-be5779d3c7d3\",\"type\":\"GlyphRenderer\"},{\"attributes\":{\"callback\":null,\"column_names\":[\"gender\",\"word\",\"index\",\"ratio\"],\"data\":{\"gender\":[\"f\",\"f\",\"f\",\"f\",\"f\",\"f\",\"f\",\"f\",\"f\",\"f\",\"f\",\"f\",\"f\",\"f\",\"f\",\"f\",\"f\"],\"index\":[29,28,27,24,23,17,18,16,11,10,12,7,6,5,4,3,0],\"ratio\":{\"__ndarray__\":\"2DumBvYuH0DKJptssukfQMomm2yy6R9AV35CnJWvIECMLrroojshQNlkk002ySNA2WSTTTbJI0DJZ91giuwjQAAAAAAAECVAAAAAAAAQJUAAAAAAABAlQKx9w9o3XCdATjbZZJOdJ0CQpwR5SiAoQJpssskmKypAPCXIU4JsKkA++OCDDzY5QA==\",\"dtype\":\"float64\",\"shape\":[17]},\"word\":[\"stretchy\",\"pattern\",\"rolled\",\"neckline\",\"split\",\"shaped\",\"push\",\"women\",\"plus\",\"inspired\",\"amazing\",\"flattering\",\"strap\",\"scoop\",\"monterey\",\"ladies\",\"bra\"]},\"selected\":null,\"selection_policy\":null},\"id\":\"f5b965d5-46de-41ff-b59f-5373e22ff1ad\",\"type\":\"ColumnDataSource\"},{\"attributes\":{\"callback\":null,\"factors\":[\"heatgear\",\"mens\",\"radiation\",\"promotoes\",\"men\",\"pure\",\"cling\",\"smells\",\"dirt\",\"underarm\",\"manual\",\"retention\",\"singlet\",\"stretchy\",\"pattern\",\"rolled\",\"neckline\",\"split\",\"shaped\",\"push\",\"women\",\"plus\",\"inspired\",\"amazing\",\"flattering\",\"strap\",\"scoop\",\"monterey\",\"ladies\",\"bra\"],\"range_padding\":0.1},\"id\":\"438416d6-4a02-434a-bf87-b42124093f1a\",\"type\":\"FactorRange\"},{\"attributes\":{\"label\":{\"value\":\"Female\"},\"renderers\":[{\"id\":\"3af0e345-fcc6-445b-9b9f-002d039ae773\",\"type\":\"GlyphRenderer\"}]},\"id\":\"eeaf1054-2d7a-4bf8-8273-47821194c03e\",\"type\":\"LegendItem\"},{\"attributes\":{\"dimension\":1,\"grid_line_color\":{\"value\":null},\"plot\":{\"id\":\"846e5ea4-aa2e-41d4-a897-27597c23e868\",\"subtype\":\"Figure\",\"type\":\"Plot\"},\"ticker\":{\"id\":\"7a5a7a56-2c8d-40e6-b0bb-22fb6a01f7c0\",\"type\":\"CategoricalTicker\"}},\"id\":\"0d5a4a4d-2fd0-4fd5-8b16-6578703db339\",\"type\":\"Grid\"},{\"attributes\":{\"callback\":null,\"column_names\":[\"gender\",\"word\",\"index\",\"ratio\"],\"data\":{\"gender\":[\"m\",\"m\",\"m\",\"m\",\"m\",\"m\",\"m\",\"m\",\"m\",\"m\",\"m\",\"m\",\"m\"],\"index\":[1,2,8,9,13,14,15,19,20,21,22,25,26],\"ratio\":{\"__ndarray__\":\"UN2SVAY9NcA4RIMgAqotwGaVBgIoliXAIQKq3dlOJcDfwwjyemgkwA21N0yhMSTADbU3TKExJMCz1GiWGs0iwI10opFONCLA5BpTKTD3IcBa9Jngk2ghwEanJ09bSyDAARTLKg0EIMA=\",\"dtype\":\"float64\",\"shape\":[13]},\"word\":[\"heatgear\",\"mens\",\"radiation\",\"promotoes\",\"men\",\"pure\",\"cling\",\"smells\",\"dirt\",\"underarm\",\"manual\",\"retention\",\"singlet\"]},\"selected\":null,\"selection_policy\":null},\"id\":\"4d5adf88-e48b-439f-81b2-bd952d842290\",\"type\":\"ColumnDataSource\"},{\"attributes\":{\"format\":\"%u\"},\"id\":\"c8119d2f-f268-4eab-9410-ce1727830867\",\"type\":\"PrintfTickFormatter\"},{\"attributes\":{},\"id\":\"d1bc430b-de1d-49c7-b18f-1b873e82df85\",\"type\":\"PanTool\"},{\"attributes\":{\"items\":[{\"id\":\"eeaf1054-2d7a-4bf8-8273-47821194c03e\",\"type\":\"LegendItem\"},{\"id\":\"53fa8ee4-d8ce-412b-b8c2-7224d6202d0b\",\"type\":\"LegendItem\"}],\"label_text_font_size\":{\"value\":\"1em\"},\"location\":\"bottom_right\",\"plot\":{\"id\":\"846e5ea4-aa2e-41d4-a897-27597c23e868\",\"subtype\":\"Figure\",\"type\":\"Plot\"}},\"id\":\"d90e2ebf-5ba8-4dbb-8b7d-75dcff315c5a\",\"type\":\"Legend\"},{\"attributes\":{},\"id\":\"abfda84c-84ce-4754-9956-c1ee49f2ddf7\",\"type\":\"CategoricalScale\"},{\"attributes\":{\"fill_alpha\":{\"value\":0.1},\"fill_color\":{\"value\":\"#1f77b4\"},\"height\":{\"value\":0.8},\"left\":{\"field\":\"ratio\"},\"line_alpha\":{\"value\":0.1},\"line_color\":{\"value\":\"#1f77b4\"},\"right\":{\"value\":0},\"y\":{\"field\":\"word\"}},\"id\":\"812e4281-ba2e-448b-86b9-fa7ce5e17fe8\",\"type\":\"HBar\"},{\"attributes\":{},\"id\":\"3f2fcac0-be8d-4d02-933f-23e43b50215d\",\"type\":\"LinearScale\"},{\"attributes\":{},\"id\":\"73583af4-dd4e-461e-a53a-fc2fae0dfe96\",\"type\":\"BasicTicker\"},{\"attributes\":{\"overlay\":{\"id\":\"66c052e7-e61f-421f-a120-685d5bbfc53e\",\"type\":\"BoxAnnotation\"}},\"id\":\"1c597ae1-2a49-48be-be36-c68bc3991a56\",\"type\":\"BoxZoomTool\"},{\"attributes\":{\"source\":{\"id\":\"4d5adf88-e48b-439f-81b2-bd952d842290\",\"type\":\"ColumnDataSource\"}},\"id\":\"b77259b9-ba1b-4cde-842d-108c2bf6a34c\",\"type\":\"CDSView\"},{\"attributes\":{\"bottom_units\":\"screen\",\"fill_alpha\":{\"value\":0.5},\"fill_color\":{\"value\":\"lightgrey\"},\"left_units\":\"screen\",\"level\":\"overlay\",\"line_alpha\":{\"value\":1.0},\"line_color\":{\"value\":\"black\"},\"line_dash\":[4,4],\"line_width\":{\"value\":2},\"plot\":null,\"render_mode\":\"css\",\"right_units\":\"screen\",\"top_units\":\"screen\"},\"id\":\"66c052e7-e61f-421f-a120-685d5bbfc53e\",\"type\":\"BoxAnnotation\"},{\"attributes\":{\"grid_line_color\":{\"value\":null},\"plot\":{\"id\":\"846e5ea4-aa2e-41d4-a897-27597c23e868\",\"subtype\":\"Figure\",\"type\":\"Plot\"},\"ticker\":{\"id\":\"73583af4-dd4e-461e-a53a-fc2fae0dfe96\",\"type\":\"BasicTicker\"}},\"id\":\"6c85890d-4c3e-4679-9f7d-bde8a2fe5ca3\",\"type\":\"Grid\"},{\"attributes\":{\"fill_alpha\":{\"value\":0.1},\"fill_color\":{\"value\":\"#1f77b4\"},\"height\":{\"value\":0.8},\"line_alpha\":{\"value\":0.1},\"line_color\":{\"value\":\"#1f77b4\"},\"right\":{\"field\":\"ratio\"},\"y\":{\"field\":\"word\"}},\"id\":\"dc5f7550-96cd-4f13-8887-3a10c76782b7\",\"type\":\"HBar\"},{\"attributes\":{\"callback\":null,\"end\":30.211174242424242,\"start\":-30.211174242424242},\"id\":\"3d80bc43-ac3f-4eb9-9ea7-6e8b9f5e0f03\",\"type\":\"Range1d\"},{\"attributes\":{},\"id\":\"4c2fab91-3414-4f47-8735-7c2105ac86e3\",\"type\":\"HelpTool\"},{\"attributes\":{\"label\":{\"value\":\"Male\"},\"renderers\":[{\"id\":\"4db34fce-b1b5-43e0-a994-be5779d3c7d3\",\"type\":\"GlyphRenderer\"}]},\"id\":\"53fa8ee4-d8ce-412b-b8c2-7224d6202d0b\",\"type\":\"LegendItem\"},{\"attributes\":{},\"id\":\"ef90a541-c8b3-449b-8793-d32cfb2f0b28\",\"type\":\"ResetTool\"},{\"attributes\":{\"axis_label\":\"Likelihood Ratio\",\"axis_label_text_font_size\":{\"value\":\"1em\"},\"formatter\":{\"id\":\"c8119d2f-f268-4eab-9410-ce1727830867\",\"type\":\"PrintfTickFormatter\"},\"major_label_text_font_size\":{\"value\":\"1em\"},\"plot\":{\"id\":\"846e5ea4-aa2e-41d4-a897-27597c23e868\",\"subtype\":\"Figure\",\"type\":\"Plot\"},\"ticker\":{\"id\":\"73583af4-dd4e-461e-a53a-fc2fae0dfe96\",\"type\":\"BasicTicker\"}},\"id\":\"c1c022c7-a133-412c-86f6-929269572fe9\",\"type\":\"LinearAxis\"},{\"attributes\":{\"data_source\":{\"id\":\"364ed82e-82d8-4841-b37d-57d5aab36865\",\"type\":\"ColumnDataSource\"},\"glyph\":{\"id\":\"88861a6c-bd76-4867-a1d3-874455862243\",\"type\":\"HBar\"},\"hover_glyph\":null,\"muted_glyph\":null,\"nonselection_glyph\":{\"id\":\"dc5f7550-96cd-4f13-8887-3a10c76782b7\",\"type\":\"HBar\"},\"selection_glyph\":null,\"view\":{\"id\":\"9abf18e0-073d-4c59-b68c-2e432790c41b\",\"type\":\"CDSView\"}},\"id\":\"3af0e345-fcc6-445b-9b9f-002d039ae773\",\"type\":\"GlyphRenderer\"},{\"attributes\":{},\"id\":\"7a5a7a56-2c8d-40e6-b0bb-22fb6a01f7c0\",\"type\":\"CategoricalTicker\"},{\"attributes\":{\"level\":\"glyph\",\"plot\":{\"id\":\"846e5ea4-aa2e-41d4-a897-27597c23e868\",\"subtype\":\"Figure\",\"type\":\"Plot\"},\"source\":{\"id\":\"f5b965d5-46de-41ff-b59f-5373e22ff1ad\",\"type\":\"ColumnDataSource\"},\"text\":{\"field\":\"word\"},\"text_align\":\"right\",\"x\":{\"value\":0},\"x_offset\":{\"value\":-5},\"y\":{\"field\":\"word\"},\"y_offset\":{\"value\":-9}},\"id\":\"3f6be9bd-5003-41c3-80b1-fa8e2ece3645\",\"type\":\"LabelSet\"},{\"attributes\":{},\"id\":\"919d1c75-58eb-466a-83a0-64f885fcfcd3\",\"type\":\"SaveTool\"},{\"attributes\":{\"fill_color\":{\"value\":\"deepskyblue\"},\"height\":{\"value\":0.8},\"left\":{\"field\":\"ratio\"},\"line_color\":{\"value\":\"deepskyblue\"},\"right\":{\"value\":0},\"y\":{\"field\":\"word\"}},\"id\":\"c19b0c75-9524-4da3-919a-0b4db0ab2498\",\"type\":\"HBar\"},{\"attributes\":{},\"id\":\"b947755d-7e4c-4bc3-9926-826cdd276f99\",\"type\":\"WheelZoomTool\"},{\"attributes\":{\"plot\":null,\"text\":\"Most Informative Words in Descriptions for Shirts\",\"text_font_size\":{\"value\":\"1.2em\"}},\"id\":\"d04947fc-49b7-44a2-b734-b7e0b8d38355\",\"type\":\"Title\"},{\"attributes\":{\"below\":[{\"id\":\"c1c022c7-a133-412c-86f6-929269572fe9\",\"type\":\"LinearAxis\"}],\"left\":[{\"id\":\"396ee4a0-db2f-4cf4-afe5-d171f2f168df\",\"type\":\"CategoricalAxis\"}],\"renderers\":[{\"id\":\"c1c022c7-a133-412c-86f6-929269572fe9\",\"type\":\"LinearAxis\"},{\"id\":\"6c85890d-4c3e-4679-9f7d-bde8a2fe5ca3\",\"type\":\"Grid\"},{\"id\":\"396ee4a0-db2f-4cf4-afe5-d171f2f168df\",\"type\":\"CategoricalAxis\"},{\"id\":\"0d5a4a4d-2fd0-4fd5-8b16-6578703db339\",\"type\":\"Grid\"},{\"id\":\"66c052e7-e61f-421f-a120-685d5bbfc53e\",\"type\":\"BoxAnnotation\"},{\"id\":\"d90e2ebf-5ba8-4dbb-8b7d-75dcff315c5a\",\"type\":\"Legend\"},{\"id\":\"3af0e345-fcc6-445b-9b9f-002d039ae773\",\"type\":\"GlyphRenderer\"},{\"id\":\"4db34fce-b1b5-43e0-a994-be5779d3c7d3\",\"type\":\"GlyphRenderer\"},{\"id\":\"b900dd4d-12d3-4d2a-96d9-0ff4b43aefa5\",\"type\":\"LabelSet\"},{\"id\":\"3f6be9bd-5003-41c3-80b1-fa8e2ece3645\",\"type\":\"LabelSet\"}],\"title\":{\"id\":\"d04947fc-49b7-44a2-b734-b7e0b8d38355\",\"type\":\"Title\"},\"toolbar\":{\"id\":\"c197763a-9036-4d22-99d6-3aca56033a10\",\"type\":\"Toolbar\"},\"x_range\":{\"id\":\"3d80bc43-ac3f-4eb9-9ea7-6e8b9f5e0f03\",\"type\":\"Range1d\"},\"x_scale\":{\"id\":\"3f2fcac0-be8d-4d02-933f-23e43b50215d\",\"type\":\"LinearScale\"},\"y_range\":{\"id\":\"438416d6-4a02-434a-bf87-b42124093f1a\",\"type\":\"FactorRange\"},\"y_scale\":{\"id\":\"abfda84c-84ce-4754-9956-c1ee49f2ddf7\",\"type\":\"CategoricalScale\"}},\"id\":\"846e5ea4-aa2e-41d4-a897-27597c23e868\",\"subtype\":\"Figure\",\"type\":\"Plot\"},{\"attributes\":{\"formatter\":{\"id\":\"ad4b9a20-79ac-467a-a826-861ff38ac080\",\"type\":\"CategoricalTickFormatter\"},\"plot\":{\"id\":\"846e5ea4-aa2e-41d4-a897-27597c23e868\",\"subtype\":\"Figure\",\"type\":\"Plot\"},\"ticker\":{\"id\":\"7a5a7a56-2c8d-40e6-b0bb-22fb6a01f7c0\",\"type\":\"CategoricalTicker\"},\"visible\":false},\"id\":\"396ee4a0-db2f-4cf4-afe5-d171f2f168df\",\"type\":\"CategoricalAxis\"},{\"attributes\":{},\"id\":\"ad4b9a20-79ac-467a-a826-861ff38ac080\",\"type\":\"CategoricalTickFormatter\"}],\"root_ids\":[\"846e5ea4-aa2e-41d4-a897-27597c23e868\"]},\"title\":\"Bokeh Application\",\"version\":\"0.12.15\"}};\n",
       "  var render_items = [{\"docid\":\"53513293-e1ea-4f7b-b13d-1019d87cf7ea\",\"elementid\":\"7e769396-156b-460d-b08d-7d1c1a555235\",\"modelid\":\"846e5ea4-aa2e-41d4-a897-27597c23e868\"}];\n",
       "  root.Bokeh.embed.embed_items_notebook(docs_json, render_items);\n",
       "\n",
       "  }\n",
       "  if (root.Bokeh !== undefined) {\n",
       "    embed_document(root);\n",
       "  } else {\n",
       "    var attempts = 0;\n",
       "    var timer = setInterval(function(root) {\n",
       "      if (root.Bokeh !== undefined) {\n",
       "        embed_document(root);\n",
       "        clearInterval(timer);\n",
       "      }\n",
       "      attempts++;\n",
       "      if (attempts > 100) {\n",
       "        console.log(\"Bokeh: ERROR: Unable to run BokehJS code because BokehJS library is missing\")\n",
       "        clearInterval(timer);\n",
       "      }\n",
       "    }, 10, root)\n",
       "  }\n",
       "})(window);"
      ],
      "application/vnd.bokehjs_exec.v0+json": ""
     },
     "metadata": {
      "application/vnd.bokehjs_exec.v0+json": {
       "id": "846e5ea4-aa2e-41d4-a897-27597c23e868"
      }
     },
     "output_type": "display_data"
    }
   ],
   "source": [
    "#ShirtFD = get_FD(Shirt_Corpus)\n",
    "shirt_labeled = create_features(Shirt_Corpus)\n",
    "shirtSC = NB_classify(shirt_labeled)\n",
    "shirt_features = store_most_informative_features(shirtSC, 30)\n",
    "graph_features(shirt_features, \"Shirts\")"
   ]
  },
  {
   "cell_type": "code",
   "execution_count": 132,
   "metadata": {},
   "outputs": [],
   "source": [
    "socks_exclude = [2376198011, 1044936, 1044934, 2376199011, 2376200011]\n",
    "for index in outfit_indices:\n",
    "    Socks_Corpus = build_corpus(index, \"SocksCorpus\", socks, socks_exclude)"
   ]
  },
  {
   "cell_type": "code",
   "execution_count": 146,
   "metadata": {
    "scrolled": true
   },
   "outputs": [
    {
     "name": "stdout",
     "output_type": "stream",
     "text": [
      "Training accuracy: 91.7400881057\n",
      "Test accuracy: 80.0884955752\n"
     ]
    },
    {
     "data": {
      "text/html": [
       "\n",
       "<div class=\"bk-root\">\n",
       "    <div class=\"bk-plotdiv\" id=\"18c395db-2402-43b3-8ac2-5e6b9c864710\"></div>\n",
       "</div>"
      ]
     },
     "metadata": {},
     "output_type": "display_data"
    },
    {
     "data": {
      "application/javascript": [
       "(function(root) {\n",
       "  function embed_document(root) {\n",
       "    \n",
       "  var docs_json = {\"6cc3f70f-dc74-452b-861a-f55e0467f399\":{\"roots\":{\"references\":[{\"attributes\":{\"active_drag\":\"auto\",\"active_inspect\":\"auto\",\"active_scroll\":\"auto\",\"active_tap\":\"auto\",\"tools\":[{\"id\":\"e5a41199-768c-439a-9614-979953843017\",\"type\":\"PanTool\"},{\"id\":\"993aaf20-a67f-4aed-b6ce-4156cada3495\",\"type\":\"WheelZoomTool\"},{\"id\":\"a1131069-8692-43f3-8a28-208551bdef47\",\"type\":\"BoxZoomTool\"},{\"id\":\"35a75f49-2381-4baf-a1cb-94610348f21a\",\"type\":\"SaveTool\"},{\"id\":\"d49f265a-a31d-4656-aeac-da54e882619d\",\"type\":\"ResetTool\"},{\"id\":\"a2f5462d-490c-4881-a09c-d33af0ddaf41\",\"type\":\"HelpTool\"}]},\"id\":\"ae53ec90-9294-421b-8dae-cde7747619ef\",\"type\":\"Toolbar\"},{\"attributes\":{},\"id\":\"8536089d-0a2f-4735-9e4a-f8c6ab1721c9\",\"type\":\"CategoricalTicker\"},{\"attributes\":{\"callback\":null,\"column_names\":[\"gender\",\"word\",\"index\",\"ratio\"],\"data\":{\"gender\":[\"m\",\"m\",\"m\",\"m\",\"m\",\"m\",\"m\",\"m\",\"m\",\"m\",\"m\",\"m\",\"m\",\"m\",\"m\"],\"index\":[0,1,3,10,11,12,16,15,21,20,19,18,22,27,29],\"ratio\":{\"__ndarray__\":\"xiVDsI42MMA8OE3k8LEqwBaXDME62iLAep/ikiFYIcC9T3HJEKwfwL1PcckQrB/Ah2Adbd6nHMCHYB1t3qccwFFxyRCsoxnAUXHJEKyjGcBRcckQrKMZwFFxyRCsoxnAfGLgarY8GcA+zALyRaIYwNREDh/LbhjA\",\"dtype\":\"float64\",\"shape\":[15]},\"word\":[\"formal\",\"argyle\",\"manufacturer\",\"deliver\",\"green\",\"tall\",\"fully\",\"cuffs\",\"360\",\"funky\",\"thing\",\"manufactured\",\"men\",\"athlete\",\"hours\"]},\"selected\":null,\"selection_policy\":null},\"id\":\"58bee237-1e13-4d80-a30b-fe87317c9415\",\"type\":\"ColumnDataSource\"},{\"attributes\":{\"callback\":null,\"column_names\":[\"gender\",\"word\",\"index\",\"ratio\"],\"data\":{\"gender\":[\"m\",\"m\",\"m\",\"m\",\"m\",\"m\",\"m\",\"m\",\"m\",\"m\",\"m\",\"m\",\"m\",\"m\",\"m\"],\"index\":[0,1,3,10,11,12,16,15,21,20,19,18,22,27,29],\"ratio\":{\"__ndarray__\":\"xiVDsI42MMA8OE3k8LEqwBaXDME62iLAep/ikiFYIcC9T3HJEKwfwL1PcckQrB/Ah2Adbd6nHMCHYB1t3qccwFFxyRCsoxnAUXHJEKyjGcBRcckQrKMZwFFxyRCsoxnAfGLgarY8GcA+zALyRaIYwNREDh/LbhjA\",\"dtype\":\"float64\",\"shape\":[15]},\"word\":[\"formal\",\"argyle\",\"manufacturer\",\"deliver\",\"green\",\"tall\",\"fully\",\"cuffs\",\"360\",\"funky\",\"thing\",\"manufactured\",\"men\",\"athlete\",\"hours\"]},\"selected\":null,\"selection_policy\":null},\"id\":\"114220fd-2a74-4f7c-a9e0-0c2b41f3d84e\",\"type\":\"ColumnDataSource\"},{\"attributes\":{\"fill_alpha\":{\"value\":0.1},\"fill_color\":{\"value\":\"#1f77b4\"},\"height\":{\"value\":0.8},\"line_alpha\":{\"value\":0.1},\"line_color\":{\"value\":\"#1f77b4\"},\"right\":{\"field\":\"ratio\"},\"y\":{\"field\":\"word\"}},\"id\":\"1d0d0ccf-9efd-4d38-9840-684ae6e6647b\",\"type\":\"HBar\"},{\"attributes\":{\"fill_color\":{\"value\":\"deepskyblue\"},\"height\":{\"value\":0.8},\"left\":{\"field\":\"ratio\"},\"line_color\":{\"value\":\"deepskyblue\"},\"right\":{\"value\":0},\"y\":{\"field\":\"word\"}},\"id\":\"6ad648db-a46f-4c43-8c80-6e9cc5db232e\",\"type\":\"HBar\"},{\"attributes\":{\"grid_line_color\":{\"value\":null},\"plot\":{\"id\":\"4426a7fa-5906-4079-990a-76a2bee93f23\",\"subtype\":\"Figure\",\"type\":\"Plot\"},\"ticker\":{\"id\":\"f3e0d223-290b-48a5-994a-c10c9ba7b521\",\"type\":\"BasicTicker\"}},\"id\":\"7b12f2ab-7e57-4f19-9923-cc34f192fa13\",\"type\":\"Grid\"},{\"attributes\":{\"label\":{\"value\":\"Male\"},\"renderers\":[{\"id\":\"9bfd19d4-73eb-48d3-9115-8fb50d0459da\",\"type\":\"GlyphRenderer\"}]},\"id\":\"4ba77dd2-27f3-4bb3-9db9-86bc6435d402\",\"type\":\"LegendItem\"},{\"attributes\":{\"fill_alpha\":{\"value\":0.1},\"fill_color\":{\"value\":\"#1f77b4\"},\"height\":{\"value\":0.8},\"left\":{\"field\":\"ratio\"},\"line_alpha\":{\"value\":0.1},\"line_color\":{\"value\":\"#1f77b4\"},\"right\":{\"value\":0},\"y\":{\"field\":\"word\"}},\"id\":\"108a5e39-e47b-43e4-b724-40c58d1e4fe0\",\"type\":\"HBar\"},{\"attributes\":{\"below\":[{\"id\":\"dfd2671c-7fe2-4587-bb3e-362d307b5f9c\",\"type\":\"LinearAxis\"}],\"left\":[{\"id\":\"1e28b308-b0c0-4e58-af11-da1c31505d9c\",\"type\":\"CategoricalAxis\"}],\"renderers\":[{\"id\":\"dfd2671c-7fe2-4587-bb3e-362d307b5f9c\",\"type\":\"LinearAxis\"},{\"id\":\"7b12f2ab-7e57-4f19-9923-cc34f192fa13\",\"type\":\"Grid\"},{\"id\":\"1e28b308-b0c0-4e58-af11-da1c31505d9c\",\"type\":\"CategoricalAxis\"},{\"id\":\"4888cd45-7a15-4611-896a-a4a4262416d6\",\"type\":\"Grid\"},{\"id\":\"7ae9b9ab-c37b-4850-8df7-272b01d20892\",\"type\":\"BoxAnnotation\"},{\"id\":\"1c030358-27d0-486d-b269-25f5751930de\",\"type\":\"Legend\"},{\"id\":\"077ac115-9238-46c6-b1b4-55c175838925\",\"type\":\"GlyphRenderer\"},{\"id\":\"9bfd19d4-73eb-48d3-9115-8fb50d0459da\",\"type\":\"GlyphRenderer\"},{\"id\":\"180aeb27-439a-4b7e-aab0-0ce86e0a2613\",\"type\":\"LabelSet\"},{\"id\":\"f9d01e50-3f66-4dda-b895-3e3ed60cc226\",\"type\":\"LabelSet\"}],\"title\":{\"id\":\"fa9c717c-245b-4dc3-93a2-f90b8b2888c2\",\"type\":\"Title\"},\"toolbar\":{\"id\":\"ae53ec90-9294-421b-8dae-cde7747619ef\",\"type\":\"Toolbar\"},\"x_range\":{\"id\":\"ec077912-e574-4990-898c-a10d712a350a\",\"type\":\"Range1d\"},\"x_scale\":{\"id\":\"b91f00d5-d32b-4cb0-8532-23e71ef3056e\",\"type\":\"LinearScale\"},\"y_range\":{\"id\":\"a56338bd-6472-497a-8394-75601e98a09a\",\"type\":\"FactorRange\"},\"y_scale\":{\"id\":\"fdc84960-4125-463a-ac82-1dc0278f50b8\",\"type\":\"CategoricalScale\"}},\"id\":\"4426a7fa-5906-4079-990a-76a2bee93f23\",\"subtype\":\"Figure\",\"type\":\"Plot\"},{\"attributes\":{\"data_source\":{\"id\":\"4e5212dc-e871-479e-9d12-1af5ab61bbfe\",\"type\":\"ColumnDataSource\"},\"glyph\":{\"id\":\"f79e8917-598a-450a-ae19-26c331fe0152\",\"type\":\"HBar\"},\"hover_glyph\":null,\"muted_glyph\":null,\"nonselection_glyph\":{\"id\":\"1d0d0ccf-9efd-4d38-9840-684ae6e6647b\",\"type\":\"HBar\"},\"selection_glyph\":null,\"view\":{\"id\":\"33076a66-5ec3-49d5-b6fa-ed8e58dd3f14\",\"type\":\"CDSView\"}},\"id\":\"077ac115-9238-46c6-b1b4-55c175838925\",\"type\":\"GlyphRenderer\"},{\"attributes\":{},\"id\":\"63e9c3e8-8155-4ae8-87da-552c19da2943\",\"type\":\"CategoricalTickFormatter\"},{\"attributes\":{\"callback\":null,\"column_names\":[\"gender\",\"word\",\"index\",\"ratio\"],\"data\":{\"gender\":[\"f\",\"f\",\"f\",\"f\",\"f\",\"f\",\"f\",\"f\",\"f\",\"f\",\"f\",\"f\",\"f\",\"f\",\"f\"],\"index\":[28,23,24,25,26,17,13,14,9,8,7,6,5,4,2],\"ratio\":{\"__ndarray__\":\"VDbNZ3VwGEDMtQNz7cAYQMy1A3PtwBhAzLUDc+3AGEDMtQNz7cAYQGLzeKUJKxpAwy01G/Z3HUDDLTUb9ncdQDFyt28VfCFAQNFWg+cIIkBA0VaD5wgiQNqwv4tBRSJA2rC/i0FFIkAu0MOZ16kiQMhCFrKQhSpA\",\"dtype\":\"float64\",\"shape\":[15]},\"word\":[\"women\",\"growth\",\"simple\",\"outfits\",\"plus\",\"cart\",\"giving\",\"gym\",\"womens\",\"trouser\",\"yoga\",\"23\",\"six\",\"knee\",\"cute\"]},\"selected\":null,\"selection_policy\":null},\"id\":\"c643391a-8def-40a8-b005-ffdac75de766\",\"type\":\"ColumnDataSource\"},{\"attributes\":{\"data_source\":{\"id\":\"58bee237-1e13-4d80-a30b-fe87317c9415\",\"type\":\"ColumnDataSource\"},\"glyph\":{\"id\":\"6ad648db-a46f-4c43-8c80-6e9cc5db232e\",\"type\":\"HBar\"},\"hover_glyph\":null,\"muted_glyph\":null,\"nonselection_glyph\":{\"id\":\"108a5e39-e47b-43e4-b724-40c58d1e4fe0\",\"type\":\"HBar\"},\"selection_glyph\":null,\"view\":{\"id\":\"7f217911-59f8-4da6-be6c-307cb8f42b99\",\"type\":\"CDSView\"}},\"id\":\"9bfd19d4-73eb-48d3-9115-8fb50d0459da\",\"type\":\"GlyphRenderer\"},{\"attributes\":{},\"id\":\"f3e0d223-290b-48a5-994a-c10c9ba7b521\",\"type\":\"BasicTicker\"},{\"attributes\":{},\"id\":\"d49f265a-a31d-4656-aeac-da54e882619d\",\"type\":\"ResetTool\"},{\"attributes\":{\"plot\":null,\"text\":\"Most Informative Words in Descriptions for Socks\",\"text_font_size\":{\"value\":\"1.2em\"}},\"id\":\"fa9c717c-245b-4dc3-93a2-f90b8b2888c2\",\"type\":\"Title\"},{\"attributes\":{},\"id\":\"fdc84960-4125-463a-ac82-1dc0278f50b8\",\"type\":\"CategoricalScale\"},{\"attributes\":{\"callback\":null,\"factors\":[\"formal\",\"argyle\",\"manufacturer\",\"deliver\",\"green\",\"tall\",\"fully\",\"cuffs\",\"360\",\"funky\",\"thing\",\"manufactured\",\"men\",\"athlete\",\"hours\",\"women\",\"growth\",\"simple\",\"outfits\",\"plus\",\"cart\",\"giving\",\"gym\",\"womens\",\"trouser\",\"yoga\",\"23\",\"six\",\"knee\",\"cute\"],\"range_padding\":0.1},\"id\":\"a56338bd-6472-497a-8394-75601e98a09a\",\"type\":\"FactorRange\"},{\"attributes\":{\"format\":\"%u\"},\"id\":\"9359a2a5-db48-486c-80bb-7d6845bd070a\",\"type\":\"PrintfTickFormatter\"},{\"attributes\":{},\"id\":\"b91f00d5-d32b-4cb0-8532-23e71ef3056e\",\"type\":\"LinearScale\"},{\"attributes\":{\"level\":\"glyph\",\"plot\":{\"id\":\"4426a7fa-5906-4079-990a-76a2bee93f23\",\"subtype\":\"Figure\",\"type\":\"Plot\"},\"source\":{\"id\":\"114220fd-2a74-4f7c-a9e0-0c2b41f3d84e\",\"type\":\"ColumnDataSource\"},\"text\":{\"field\":\"word\"},\"x\":{\"value\":0},\"x_offset\":{\"value\":5},\"y\":{\"field\":\"word\"},\"y_offset\":{\"value\":-9}},\"id\":\"180aeb27-439a-4b7e-aab0-0ce86e0a2613\",\"type\":\"LabelSet\"},{\"attributes\":{\"fill_color\":{\"value\":\"deeppink\"},\"height\":{\"value\":0.8},\"line_color\":{\"value\":\"deeppink\"},\"right\":{\"field\":\"ratio\"},\"y\":{\"field\":\"word\"}},\"id\":\"f79e8917-598a-450a-ae19-26c331fe0152\",\"type\":\"HBar\"},{\"attributes\":{\"dimension\":1,\"grid_line_color\":{\"value\":null},\"plot\":{\"id\":\"4426a7fa-5906-4079-990a-76a2bee93f23\",\"subtype\":\"Figure\",\"type\":\"Plot\"},\"ticker\":{\"id\":\"8536089d-0a2f-4735-9e4a-f8c6ab1721c9\",\"type\":\"CategoricalTicker\"}},\"id\":\"4888cd45-7a15-4611-896a-a4a4262416d6\",\"type\":\"Grid\"},{\"attributes\":{\"formatter\":{\"id\":\"63e9c3e8-8155-4ae8-87da-552c19da2943\",\"type\":\"CategoricalTickFormatter\"},\"plot\":{\"id\":\"4426a7fa-5906-4079-990a-76a2bee93f23\",\"subtype\":\"Figure\",\"type\":\"Plot\"},\"ticker\":{\"id\":\"8536089d-0a2f-4735-9e4a-f8c6ab1721c9\",\"type\":\"CategoricalTicker\"},\"visible\":false},\"id\":\"1e28b308-b0c0-4e58-af11-da1c31505d9c\",\"type\":\"CategoricalAxis\"},{\"attributes\":{\"callback\":null,\"end\":21.213114754098363,\"start\":-21.213114754098363},\"id\":\"ec077912-e574-4990-898c-a10d712a350a\",\"type\":\"Range1d\"},{\"attributes\":{\"bottom_units\":\"screen\",\"fill_alpha\":{\"value\":0.5},\"fill_color\":{\"value\":\"lightgrey\"},\"left_units\":\"screen\",\"level\":\"overlay\",\"line_alpha\":{\"value\":1.0},\"line_color\":{\"value\":\"black\"},\"line_dash\":[4,4],\"line_width\":{\"value\":2},\"plot\":null,\"render_mode\":\"css\",\"right_units\":\"screen\",\"top_units\":\"screen\"},\"id\":\"7ae9b9ab-c37b-4850-8df7-272b01d20892\",\"type\":\"BoxAnnotation\"},{\"attributes\":{\"source\":{\"id\":\"58bee237-1e13-4d80-a30b-fe87317c9415\",\"type\":\"ColumnDataSource\"}},\"id\":\"7f217911-59f8-4da6-be6c-307cb8f42b99\",\"type\":\"CDSView\"},{\"attributes\":{},\"id\":\"a2f5462d-490c-4881-a09c-d33af0ddaf41\",\"type\":\"HelpTool\"},{\"attributes\":{\"label\":{\"value\":\"Female\"},\"renderers\":[{\"id\":\"077ac115-9238-46c6-b1b4-55c175838925\",\"type\":\"GlyphRenderer\"}]},\"id\":\"cde536d7-fa69-4d92-946c-0fd776c0eccd\",\"type\":\"LegendItem\"},{\"attributes\":{},\"id\":\"993aaf20-a67f-4aed-b6ce-4156cada3495\",\"type\":\"WheelZoomTool\"},{\"attributes\":{\"level\":\"glyph\",\"plot\":{\"id\":\"4426a7fa-5906-4079-990a-76a2bee93f23\",\"subtype\":\"Figure\",\"type\":\"Plot\"},\"source\":{\"id\":\"c643391a-8def-40a8-b005-ffdac75de766\",\"type\":\"ColumnDataSource\"},\"text\":{\"field\":\"word\"},\"text_align\":\"right\",\"x\":{\"value\":0},\"x_offset\":{\"value\":-5},\"y\":{\"field\":\"word\"},\"y_offset\":{\"value\":-9}},\"id\":\"f9d01e50-3f66-4dda-b895-3e3ed60cc226\",\"type\":\"LabelSet\"},{\"attributes\":{\"overlay\":{\"id\":\"7ae9b9ab-c37b-4850-8df7-272b01d20892\",\"type\":\"BoxAnnotation\"}},\"id\":\"a1131069-8692-43f3-8a28-208551bdef47\",\"type\":\"BoxZoomTool\"},{\"attributes\":{\"axis_label\":\"Likelihood Ratio\",\"axis_label_text_font_size\":{\"value\":\"1em\"},\"formatter\":{\"id\":\"9359a2a5-db48-486c-80bb-7d6845bd070a\",\"type\":\"PrintfTickFormatter\"},\"major_label_text_font_size\":{\"value\":\"1em\"},\"plot\":{\"id\":\"4426a7fa-5906-4079-990a-76a2bee93f23\",\"subtype\":\"Figure\",\"type\":\"Plot\"},\"ticker\":{\"id\":\"f3e0d223-290b-48a5-994a-c10c9ba7b521\",\"type\":\"BasicTicker\"}},\"id\":\"dfd2671c-7fe2-4587-bb3e-362d307b5f9c\",\"type\":\"LinearAxis\"},{\"attributes\":{\"source\":{\"id\":\"4e5212dc-e871-479e-9d12-1af5ab61bbfe\",\"type\":\"ColumnDataSource\"}},\"id\":\"33076a66-5ec3-49d5-b6fa-ed8e58dd3f14\",\"type\":\"CDSView\"},{\"attributes\":{},\"id\":\"35a75f49-2381-4baf-a1cb-94610348f21a\",\"type\":\"SaveTool\"},{\"attributes\":{},\"id\":\"e5a41199-768c-439a-9614-979953843017\",\"type\":\"PanTool\"},{\"attributes\":{\"callback\":null,\"column_names\":[\"gender\",\"word\",\"index\",\"ratio\"],\"data\":{\"gender\":[\"f\",\"f\",\"f\",\"f\",\"f\",\"f\",\"f\",\"f\",\"f\",\"f\",\"f\",\"f\",\"f\",\"f\",\"f\"],\"index\":[28,23,24,25,26,17,13,14,9,8,7,6,5,4,2],\"ratio\":{\"__ndarray__\":\"VDbNZ3VwGEDMtQNz7cAYQMy1A3PtwBhAzLUDc+3AGEDMtQNz7cAYQGLzeKUJKxpAwy01G/Z3HUDDLTUb9ncdQDFyt28VfCFAQNFWg+cIIkBA0VaD5wgiQNqwv4tBRSJA2rC/i0FFIkAu0MOZ16kiQMhCFrKQhSpA\",\"dtype\":\"float64\",\"shape\":[15]},\"word\":[\"women\",\"growth\",\"simple\",\"outfits\",\"plus\",\"cart\",\"giving\",\"gym\",\"womens\",\"trouser\",\"yoga\",\"23\",\"six\",\"knee\",\"cute\"]},\"selected\":null,\"selection_policy\":null},\"id\":\"4e5212dc-e871-479e-9d12-1af5ab61bbfe\",\"type\":\"ColumnDataSource\"},{\"attributes\":{\"items\":[{\"id\":\"cde536d7-fa69-4d92-946c-0fd776c0eccd\",\"type\":\"LegendItem\"},{\"id\":\"4ba77dd2-27f3-4bb3-9db9-86bc6435d402\",\"type\":\"LegendItem\"}],\"label_text_font_size\":{\"value\":\"1em\"},\"location\":\"bottom_right\",\"plot\":{\"id\":\"4426a7fa-5906-4079-990a-76a2bee93f23\",\"subtype\":\"Figure\",\"type\":\"Plot\"}},\"id\":\"1c030358-27d0-486d-b269-25f5751930de\",\"type\":\"Legend\"}],\"root_ids\":[\"4426a7fa-5906-4079-990a-76a2bee93f23\"]},\"title\":\"Bokeh Application\",\"version\":\"0.12.15\"}};\n",
       "  var render_items = [{\"docid\":\"6cc3f70f-dc74-452b-861a-f55e0467f399\",\"elementid\":\"18c395db-2402-43b3-8ac2-5e6b9c864710\",\"modelid\":\"4426a7fa-5906-4079-990a-76a2bee93f23\"}];\n",
       "  root.Bokeh.embed.embed_items_notebook(docs_json, render_items);\n",
       "\n",
       "  }\n",
       "  if (root.Bokeh !== undefined) {\n",
       "    embed_document(root);\n",
       "  } else {\n",
       "    var attempts = 0;\n",
       "    var timer = setInterval(function(root) {\n",
       "      if (root.Bokeh !== undefined) {\n",
       "        embed_document(root);\n",
       "        clearInterval(timer);\n",
       "      }\n",
       "      attempts++;\n",
       "      if (attempts > 100) {\n",
       "        console.log(\"Bokeh: ERROR: Unable to run BokehJS code because BokehJS library is missing\")\n",
       "        clearInterval(timer);\n",
       "      }\n",
       "    }, 10, root)\n",
       "  }\n",
       "})(window);"
      ],
      "application/vnd.bokehjs_exec.v0+json": ""
     },
     "metadata": {
      "application/vnd.bokehjs_exec.v0+json": {
       "id": "4426a7fa-5906-4079-990a-76a2bee93f23"
      }
     },
     "output_type": "display_data"
    }
   ],
   "source": [
    "#SocksFD = get_FD(Socks_Corpus)\n",
    "sock_labeled = create_features(Socks_Corpus)\n",
    "socksSC = NB_classify(sock_labeled)\n",
    "store_most_informative_features(socksSC, 30)\n",
    "socks_features = store_most_informative_features(socksSC,30)\n",
    "graph_features(socks_features, \"Socks\")"
   ]
  },
  {
   "cell_type": "code",
   "execution_count": 180,
   "metadata": {},
   "outputs": [
    {
     "name": "stdout",
     "output_type": "stream",
     "text": [
      "No child nodes found\n",
      "No child nodes found\n"
     ]
    }
   ],
   "source": [
    "Wallet_Corpus = build_corpus(\"Fashion\", \"WalletCorpus\", wallets)\n",
    "# WalletFD = get_FD(Wallet_Corpus)"
   ]
  },
  {
   "cell_type": "code",
   "execution_count": 181,
   "metadata": {
    "scrolled": true
   },
   "outputs": [
    {
     "name": "stdout",
     "output_type": "stream",
     "text": [
      "Train accuracy: 98.064516129\n",
      " Test accuracy: 78.9473684211\n"
     ]
    },
    {
     "data": {
      "text/html": [
       "\n",
       "<div class=\"bk-root\">\n",
       "    <div class=\"bk-plotdiv\" id=\"c2a88553-58a4-4d2d-acfb-1b856ee8ed2c\"></div>\n",
       "</div>"
      ]
     },
     "metadata": {},
     "output_type": "display_data"
    },
    {
     "data": {
      "application/javascript": [
       "(function(root) {\n",
       "  function embed_document(root) {\n",
       "    \n",
       "  var docs_json = {\"943b4c72-9e4f-467b-9811-f771827e10a3\":{\"roots\":{\"references\":[{\"attributes\":{\"data_source\":{\"id\":\"963559d4-cb0c-4229-9e9e-191d0f571342\",\"type\":\"ColumnDataSource\"},\"glyph\":{\"id\":\"4b1c3229-c2db-4044-99df-c6cfb20b789a\",\"type\":\"HBar\"},\"hover_glyph\":null,\"muted_glyph\":null,\"nonselection_glyph\":{\"id\":\"c3210fa1-40c0-4fef-8d2f-50b64b08ccfc\",\"type\":\"HBar\"},\"selection_glyph\":null,\"view\":{\"id\":\"9eb0dda8-ea99-4cc8-8277-006bbd2812d1\",\"type\":\"CDSView\"}},\"id\":\"e3ff2e09-affb-4500-90db-b5c0a0161181\",\"type\":\"GlyphRenderer\"},{\"attributes\":{},\"id\":\"c439d278-b7cb-4e96-b155-f25724a789de\",\"type\":\"CategoricalTicker\"},{\"attributes\":{\"fill_alpha\":{\"value\":0.1},\"fill_color\":{\"value\":\"#1f77b4\"},\"height\":{\"value\":0.8},\"left\":{\"field\":\"ratio\"},\"line_alpha\":{\"value\":0.1},\"line_color\":{\"value\":\"#1f77b4\"},\"right\":{\"value\":0},\"y\":{\"field\":\"word\"}},\"id\":\"cb84c64f-fc34-4309-b5bb-38133e46521b\",\"type\":\"HBar\"},{\"attributes\":{\"axis_label\":\"Likelihood Ratio\",\"axis_label_text_font_size\":{\"value\":\"1em\"},\"formatter\":{\"id\":\"069f2a4d-fbf4-4881-bf56-e05821312822\",\"type\":\"PrintfTickFormatter\"},\"major_label_text_font_size\":{\"value\":\"1em\"},\"plot\":{\"id\":\"f98e2a47-da46-4752-831f-4099843c3b87\",\"subtype\":\"Figure\",\"type\":\"Plot\"},\"ticker\":{\"id\":\"22b9da52-e3ba-4bd9-9b5f-9b0715a7823d\",\"type\":\"BasicTicker\"}},\"id\":\"a3a8d5b3-ea73-41b0-b6c7-85ebc97da9e7\",\"type\":\"LinearAxis\"},{\"attributes\":{\"callback\":null,\"column_names\":[\"gender\",\"word\",\"index\",\"ratio\"],\"data\":{\"gender\":[\"f\",\"f\",\"f\",\"f\",\"f\",\"f\",\"f\",\"f\",\"f\",\"f\",\"f\",\"f\",\"f\"],\"index\":[14,13,12,10,11,9,8,6,5,4,3,2,0],\"ratio\":{\"__ndarray__\":\"h3qoh3qoGUC+5Vu+5VscQL7lW77lWxxA9VAP9VAPH0D1UA/1UA8fQBZe4RVe4SBAFl7hFV7hIECxEzuxEzsiQLETO7ETOyJAsRM7sRM7IkDnfu7nfu4kQFVVVVVVVSpAjMAIjMAILUA=\",\"dtype\":\"float64\",\"shape\":[13]},\"word\":[\"zippered\",\"bags\",\"actual\",\"come\",\"many\",\"change\",\"pu\",\"scans\",\"zip\",\"phone\",\"closure\",\"fashion\",\"zipper\"]},\"selected\":null,\"selection_policy\":null},\"id\":\"963559d4-cb0c-4229-9e9e-191d0f571342\",\"type\":\"ColumnDataSource\"},{\"attributes\":{},\"id\":\"31b83ddf-aacc-493a-a457-e0bbaf224b37\",\"type\":\"CategoricalScale\"},{\"attributes\":{\"label\":{\"value\":\"Male\"},\"renderers\":[{\"id\":\"655c8940-4eab-4c7c-9fb1-fb6fb90d5595\",\"type\":\"GlyphRenderer\"}]},\"id\":\"a5c0b212-e1a4-4f38-a30f-213d62870989\",\"type\":\"LegendItem\"},{\"attributes\":{\"active_drag\":\"auto\",\"active_inspect\":\"auto\",\"active_scroll\":\"auto\",\"active_tap\":\"auto\",\"tools\":[{\"id\":\"f5c4e08d-82d4-4853-bc55-ae9668159458\",\"type\":\"PanTool\"},{\"id\":\"4ef48cb0-5a00-4a69-9402-7bc8a901f7b5\",\"type\":\"WheelZoomTool\"},{\"id\":\"6dfde28d-0458-48d1-92a9-64899af52a12\",\"type\":\"BoxZoomTool\"},{\"id\":\"12250707-4c1c-4f5f-97a9-8b76e50d1899\",\"type\":\"SaveTool\"},{\"id\":\"894a2b43-4685-4bc6-82fe-a898350e7257\",\"type\":\"ResetTool\"},{\"id\":\"a8d77b2c-771c-49c9-b55c-61f4f90d7ee2\",\"type\":\"HelpTool\"}]},\"id\":\"3ccf63dd-a43d-475c-9255-f185aef630c9\",\"type\":\"Toolbar\"},{\"attributes\":{\"format\":\"%u\"},\"id\":\"069f2a4d-fbf4-4881-bf56-e05821312822\",\"type\":\"PrintfTickFormatter\"},{\"attributes\":{},\"id\":\"894a2b43-4685-4bc6-82fe-a898350e7257\",\"type\":\"ResetTool\"},{\"attributes\":{\"dimension\":1,\"grid_line_color\":{\"value\":null},\"plot\":{\"id\":\"f98e2a47-da46-4752-831f-4099843c3b87\",\"subtype\":\"Figure\",\"type\":\"Plot\"},\"ticker\":{\"id\":\"c439d278-b7cb-4e96-b155-f25724a789de\",\"type\":\"CategoricalTicker\"}},\"id\":\"60a6169b-3eb5-4308-8e1e-1fb91e35d05c\",\"type\":\"Grid\"},{\"attributes\":{\"fill_alpha\":{\"value\":0.1},\"fill_color\":{\"value\":\"#1f77b4\"},\"height\":{\"value\":0.8},\"line_alpha\":{\"value\":0.1},\"line_color\":{\"value\":\"#1f77b4\"},\"right\":{\"field\":\"ratio\"},\"y\":{\"field\":\"word\"}},\"id\":\"c3210fa1-40c0-4fef-8d2f-50b64b08ccfc\",\"type\":\"HBar\"},{\"attributes\":{\"level\":\"glyph\",\"plot\":{\"id\":\"f98e2a47-da46-4752-831f-4099843c3b87\",\"subtype\":\"Figure\",\"type\":\"Plot\"},\"source\":{\"id\":\"714ae156-f824-4ec1-8d91-f66ac2c9319f\",\"type\":\"ColumnDataSource\"},\"text\":{\"field\":\"word\"},\"text_align\":\"right\",\"x\":{\"value\":0},\"x_offset\":{\"value\":-5},\"y\":{\"field\":\"word\"},\"y_offset\":{\"value\":-9}},\"id\":\"f6715b92-e036-425d-8fe3-0eea522969e6\",\"type\":\"LabelSet\"},{\"attributes\":{\"callback\":null,\"factors\":[\"minimalist\",\"clip\",\"aluminum\",\"hotel\",\"less\",\"strong\",\"front\",\"zippered\",\"bags\",\"actual\",\"come\",\"many\",\"change\",\"pu\",\"scans\",\"zip\",\"phone\",\"closure\",\"fashion\",\"zipper\"],\"range_padding\":0.1},\"id\":\"54b192ed-0e77-4d00-8fad-c3672cfeeebd\",\"type\":\"FactorRange\"},{\"attributes\":{\"grid_line_color\":{\"value\":null},\"plot\":{\"id\":\"f98e2a47-da46-4752-831f-4099843c3b87\",\"subtype\":\"Figure\",\"type\":\"Plot\"},\"ticker\":{\"id\":\"22b9da52-e3ba-4bd9-9b5f-9b0715a7823d\",\"type\":\"BasicTicker\"}},\"id\":\"46dc2907-5bdd-43f6-b0b4-185a80d4616b\",\"type\":\"Grid\"},{\"attributes\":{\"label\":{\"value\":\"Female\"},\"renderers\":[{\"id\":\"e3ff2e09-affb-4500-90db-b5c0a0161181\",\"type\":\"GlyphRenderer\"}]},\"id\":\"da8727b0-2ea1-4b2c-9921-c79df81d81a8\",\"type\":\"LegendItem\"},{\"attributes\":{\"overlay\":{\"id\":\"5cb70351-748a-4bed-8b28-7ae7609365bc\",\"type\":\"BoxAnnotation\"}},\"id\":\"6dfde28d-0458-48d1-92a9-64899af52a12\",\"type\":\"BoxZoomTool\"},{\"attributes\":{\"items\":[{\"id\":\"da8727b0-2ea1-4b2c-9921-c79df81d81a8\",\"type\":\"LegendItem\"},{\"id\":\"a5c0b212-e1a4-4f38-a30f-213d62870989\",\"type\":\"LegendItem\"}],\"label_text_font_size\":{\"value\":\"1em\"},\"location\":\"bottom_right\",\"plot\":{\"id\":\"f98e2a47-da46-4752-831f-4099843c3b87\",\"subtype\":\"Figure\",\"type\":\"Plot\"}},\"id\":\"5da7e871-d73d-4dd4-9157-edadb774ca60\",\"type\":\"Legend\"},{\"attributes\":{\"level\":\"glyph\",\"plot\":{\"id\":\"f98e2a47-da46-4752-831f-4099843c3b87\",\"subtype\":\"Figure\",\"type\":\"Plot\"},\"source\":{\"id\":\"d79c00f1-17d3-4439-b97c-3cfab2038048\",\"type\":\"ColumnDataSource\"},\"text\":{\"field\":\"word\"},\"x\":{\"value\":0},\"x_offset\":{\"value\":5},\"y\":{\"field\":\"word\"},\"y_offset\":{\"value\":-9}},\"id\":\"cf61baa0-3850-4355-b898-76e550d2219d\",\"type\":\"LabelSet\"},{\"attributes\":{\"bottom_units\":\"screen\",\"fill_alpha\":{\"value\":0.5},\"fill_color\":{\"value\":\"lightgrey\"},\"left_units\":\"screen\",\"level\":\"overlay\",\"line_alpha\":{\"value\":1.0},\"line_color\":{\"value\":\"black\"},\"line_dash\":[4,4],\"line_width\":{\"value\":2},\"plot\":null,\"render_mode\":\"css\",\"right_units\":\"screen\",\"top_units\":\"screen\"},\"id\":\"5cb70351-748a-4bed-8b28-7ae7609365bc\",\"type\":\"BoxAnnotation\"},{\"attributes\":{},\"id\":\"12250707-4c1c-4f5f-97a9-8b76e50d1899\",\"type\":\"SaveTool\"},{\"attributes\":{\"plot\":null,\"text\":\"Most Informative Words in Descriptions for Wallets\",\"text_font_size\":{\"value\":\"1.2em\"}},\"id\":\"55e9c667-7136-45ec-83e8-eee97c447a33\",\"type\":\"Title\"},{\"attributes\":{\"below\":[{\"id\":\"a3a8d5b3-ea73-41b0-b6c7-85ebc97da9e7\",\"type\":\"LinearAxis\"}],\"left\":[{\"id\":\"ae1c0592-0f88-43ab-beec-40612f3d57f1\",\"type\":\"CategoricalAxis\"}],\"renderers\":[{\"id\":\"a3a8d5b3-ea73-41b0-b6c7-85ebc97da9e7\",\"type\":\"LinearAxis\"},{\"id\":\"46dc2907-5bdd-43f6-b0b4-185a80d4616b\",\"type\":\"Grid\"},{\"id\":\"ae1c0592-0f88-43ab-beec-40612f3d57f1\",\"type\":\"CategoricalAxis\"},{\"id\":\"60a6169b-3eb5-4308-8e1e-1fb91e35d05c\",\"type\":\"Grid\"},{\"id\":\"5cb70351-748a-4bed-8b28-7ae7609365bc\",\"type\":\"BoxAnnotation\"},{\"id\":\"5da7e871-d73d-4dd4-9157-edadb774ca60\",\"type\":\"Legend\"},{\"id\":\"e3ff2e09-affb-4500-90db-b5c0a0161181\",\"type\":\"GlyphRenderer\"},{\"id\":\"655c8940-4eab-4c7c-9fb1-fb6fb90d5595\",\"type\":\"GlyphRenderer\"},{\"id\":\"cf61baa0-3850-4355-b898-76e550d2219d\",\"type\":\"LabelSet\"},{\"id\":\"f6715b92-e036-425d-8fe3-0eea522969e6\",\"type\":\"LabelSet\"}],\"title\":{\"id\":\"55e9c667-7136-45ec-83e8-eee97c447a33\",\"type\":\"Title\"},\"toolbar\":{\"id\":\"3ccf63dd-a43d-475c-9255-f185aef630c9\",\"type\":\"Toolbar\"},\"x_range\":{\"id\":\"be2a6a66-cc5e-4dd0-94be-b41257432b4e\",\"type\":\"Range1d\"},\"x_scale\":{\"id\":\"001fd969-a537-4de1-9b42-09e3e4ff1200\",\"type\":\"LinearScale\"},\"y_range\":{\"id\":\"54b192ed-0e77-4d00-8fad-c3672cfeeebd\",\"type\":\"FactorRange\"},\"y_scale\":{\"id\":\"31b83ddf-aacc-493a-a457-e0bbaf224b37\",\"type\":\"CategoricalScale\"}},\"id\":\"f98e2a47-da46-4752-831f-4099843c3b87\",\"subtype\":\"Figure\",\"type\":\"Plot\"},{\"attributes\":{},\"id\":\"a8d77b2c-771c-49c9-b55c-61f4f90d7ee2\",\"type\":\"HelpTool\"},{\"attributes\":{\"callback\":null,\"column_names\":[\"gender\",\"word\",\"index\",\"ratio\"],\"data\":{\"gender\":[\"m\",\"m\",\"m\",\"m\",\"m\",\"m\",\"m\"],\"index\":[1,7,17,16,15,18,19],\"ratio\":{\"__ndarray__\":\"+V0tbsL8KsCMmzC/q8UhwAai0pE9AxnABqLSkT0DGcAGotKRPQMZwAai0pE9AxnALoll6uNBF8A=\",\"dtype\":\"float64\",\"shape\":[7]},\"word\":[\"minimalist\",\"clip\",\"aluminum\",\"hotel\",\"less\",\"strong\",\"front\"]},\"selected\":null,\"selection_policy\":null},\"id\":\"d79c00f1-17d3-4439-b97c-3cfab2038048\",\"type\":\"ColumnDataSource\"},{\"attributes\":{},\"id\":\"4ef48cb0-5a00-4a69-9402-7bc8a901f7b5\",\"type\":\"WheelZoomTool\"},{\"attributes\":{\"callback\":null,\"column_names\":[\"gender\",\"word\",\"index\",\"ratio\"],\"data\":{\"gender\":[\"m\",\"m\",\"m\",\"m\",\"m\",\"m\",\"m\"],\"index\":[1,7,17,16,15,18,19],\"ratio\":{\"__ndarray__\":\"+V0tbsL8KsCMmzC/q8UhwAai0pE9AxnABqLSkT0DGcAGotKRPQMZwAai0pE9AxnALoll6uNBF8A=\",\"dtype\":\"float64\",\"shape\":[7]},\"word\":[\"minimalist\",\"clip\",\"aluminum\",\"hotel\",\"less\",\"strong\",\"front\"]},\"selected\":null,\"selection_policy\":null},\"id\":\"8ac6c5cd-e6e6-4f5d-969f-e076d080b5b9\",\"type\":\"ColumnDataSource\"},{\"attributes\":{\"source\":{\"id\":\"963559d4-cb0c-4229-9e9e-191d0f571342\",\"type\":\"ColumnDataSource\"}},\"id\":\"9eb0dda8-ea99-4cc8-8277-006bbd2812d1\",\"type\":\"CDSView\"},{\"attributes\":{},\"id\":\"001fd969-a537-4de1-9b42-09e3e4ff1200\",\"type\":\"LinearScale\"},{\"attributes\":{\"fill_color\":{\"value\":\"deepskyblue\"},\"height\":{\"value\":0.8},\"left\":{\"field\":\"ratio\"},\"line_color\":{\"value\":\"deepskyblue\"},\"right\":{\"value\":0},\"y\":{\"field\":\"word\"}},\"id\":\"7a187bf5-9a2f-4f44-a38b-98519c741c2a\",\"type\":\"HBar\"},{\"attributes\":{\"formatter\":{\"id\":\"12572212-cee8-488f-a73a-13f154209637\",\"type\":\"CategoricalTickFormatter\"},\"plot\":{\"id\":\"f98e2a47-da46-4752-831f-4099843c3b87\",\"subtype\":\"Figure\",\"type\":\"Plot\"},\"ticker\":{\"id\":\"c439d278-b7cb-4e96-b155-f25724a789de\",\"type\":\"CategoricalTicker\"},\"visible\":false},\"id\":\"ae1c0592-0f88-43ab-beec-40612f3d57f1\",\"type\":\"CategoricalAxis\"},{\"attributes\":{\"source\":{\"id\":\"8ac6c5cd-e6e6-4f5d-969f-e076d080b5b9\",\"type\":\"ColumnDataSource\"}},\"id\":\"cfa1a0c6-1a9c-4084-ae6b-be4e2cd309c0\",\"type\":\"CDSView\"},{\"attributes\":{\"fill_color\":{\"value\":\"deeppink\"},\"height\":{\"value\":0.8},\"line_color\":{\"value\":\"deeppink\"},\"right\":{\"field\":\"ratio\"},\"y\":{\"field\":\"word\"}},\"id\":\"4b1c3229-c2db-4044-99df-c6cfb20b789a\",\"type\":\"HBar\"},{\"attributes\":{},\"id\":\"22b9da52-e3ba-4bd9-9b5f-9b0715a7823d\",\"type\":\"BasicTicker\"},{\"attributes\":{\"callback\":null,\"end\":19.517094017094017,\"start\":-19.517094017094017},\"id\":\"be2a6a66-cc5e-4dd0-94be-b41257432b4e\",\"type\":\"Range1d\"},{\"attributes\":{\"callback\":null,\"column_names\":[\"gender\",\"word\",\"index\",\"ratio\"],\"data\":{\"gender\":[\"f\",\"f\",\"f\",\"f\",\"f\",\"f\",\"f\",\"f\",\"f\",\"f\",\"f\",\"f\",\"f\"],\"index\":[14,13,12,10,11,9,8,6,5,4,3,2,0],\"ratio\":{\"__ndarray__\":\"h3qoh3qoGUC+5Vu+5VscQL7lW77lWxxA9VAP9VAPH0D1UA/1UA8fQBZe4RVe4SBAFl7hFV7hIECxEzuxEzsiQLETO7ETOyJAsRM7sRM7IkDnfu7nfu4kQFVVVVVVVSpAjMAIjMAILUA=\",\"dtype\":\"float64\",\"shape\":[13]},\"word\":[\"zippered\",\"bags\",\"actual\",\"come\",\"many\",\"change\",\"pu\",\"scans\",\"zip\",\"phone\",\"closure\",\"fashion\",\"zipper\"]},\"selected\":null,\"selection_policy\":null},\"id\":\"714ae156-f824-4ec1-8d91-f66ac2c9319f\",\"type\":\"ColumnDataSource\"},{\"attributes\":{\"data_source\":{\"id\":\"8ac6c5cd-e6e6-4f5d-969f-e076d080b5b9\",\"type\":\"ColumnDataSource\"},\"glyph\":{\"id\":\"7a187bf5-9a2f-4f44-a38b-98519c741c2a\",\"type\":\"HBar\"},\"hover_glyph\":null,\"muted_glyph\":null,\"nonselection_glyph\":{\"id\":\"cb84c64f-fc34-4309-b5bb-38133e46521b\",\"type\":\"HBar\"},\"selection_glyph\":null,\"view\":{\"id\":\"cfa1a0c6-1a9c-4084-ae6b-be4e2cd309c0\",\"type\":\"CDSView\"}},\"id\":\"655c8940-4eab-4c7c-9fb1-fb6fb90d5595\",\"type\":\"GlyphRenderer\"},{\"attributes\":{},\"id\":\"12572212-cee8-488f-a73a-13f154209637\",\"type\":\"CategoricalTickFormatter\"},{\"attributes\":{},\"id\":\"f5c4e08d-82d4-4853-bc55-ae9668159458\",\"type\":\"PanTool\"}],\"root_ids\":[\"f98e2a47-da46-4752-831f-4099843c3b87\"]},\"title\":\"Bokeh Application\",\"version\":\"0.12.15\"}};\n",
       "  var render_items = [{\"docid\":\"943b4c72-9e4f-467b-9811-f771827e10a3\",\"elementid\":\"c2a88553-58a4-4d2d-acfb-1b856ee8ed2c\",\"modelid\":\"f98e2a47-da46-4752-831f-4099843c3b87\"}];\n",
       "  root.Bokeh.embed.embed_items_notebook(docs_json, render_items);\n",
       "\n",
       "  }\n",
       "  if (root.Bokeh !== undefined) {\n",
       "    embed_document(root);\n",
       "  } else {\n",
       "    var attempts = 0;\n",
       "    var timer = setInterval(function(root) {\n",
       "      if (root.Bokeh !== undefined) {\n",
       "        embed_document(root);\n",
       "        clearInterval(timer);\n",
       "      }\n",
       "      attempts++;\n",
       "      if (attempts > 100) {\n",
       "        console.log(\"Bokeh: ERROR: Unable to run BokehJS code because BokehJS library is missing\")\n",
       "        clearInterval(timer);\n",
       "      }\n",
       "    }, 10, root)\n",
       "  }\n",
       "})(window);"
      ],
      "application/vnd.bokehjs_exec.v0+json": ""
     },
     "metadata": {
      "application/vnd.bokehjs_exec.v0+json": {
       "id": "f98e2a47-da46-4752-831f-4099843c3b87"
      }
     },
     "output_type": "display_data"
    }
   ],
   "source": [
    "wallet_labeled = create_features(Wallet_Corpus)\n",
    "walletSC = NB_classify(wallet_labeled)\n",
    "wallet_features = store_most_informative_features(walletSC, 20)\n",
    "graph_features(wallet_features, \"Wallets\")"
   ]
  },
  {
   "cell_type": "markdown",
   "metadata": {},
   "source": [
    "## Less Predictable (by Naive Bayes)\n",
    "\n",
    "Shoes and watches seem to do less well. Their accuracies on the test cases falls below 70s, although it is debatable if humans can do better. And for glasses, it seems to be so bad as to draw with random assignment at 50% accuracy.\n",
    "\n",
    "It could have more to do with the quality of descriptions for these descriptions. They may contain a large amount of \"nondescript\" desriptions that tend to be brief and generic, or messy and filled with technical measurements, copy and pasted over and over."
   ]
  },
  {
   "cell_type": "code",
   "execution_count": 41,
   "metadata": {},
   "outputs": [],
   "source": [
    "shoes_indices = [\"SportingGoods\", \"Fashion\", \"Shoes\"]\n",
    "for i in shoes_indices:\n",
    "    Shoes_Corpus = build_corpus(i, \"ShoesCorpus\", shoes_running)"
   ]
  },
  {
   "cell_type": "code",
   "execution_count": 150,
   "metadata": {
    "scrolled": false
   },
   "outputs": [
    {
     "name": "stdout",
     "output_type": "stream",
     "text": [
      "Training accuracy: 85.0509626274\n",
      "Test accuracy: 66.0633484163\n"
     ]
    },
    {
     "data": {
      "text/html": [
       "\n",
       "<div class=\"bk-root\">\n",
       "    <div class=\"bk-plotdiv\" id=\"6ce3dc53-e25e-4b48-ab4a-6cea648271d0\"></div>\n",
       "</div>"
      ]
     },
     "metadata": {},
     "output_type": "display_data"
    },
    {
     "data": {
      "application/javascript": [
       "(function(root) {\n",
       "  function embed_document(root) {\n",
       "    \n",
       "  var docs_json = {\"a8aac162-f5d5-4e31-9652-ab3db1644cf6\":{\"roots\":{\"references\":[{\"attributes\":{\"fill_alpha\":{\"value\":0.1},\"fill_color\":{\"value\":\"#1f77b4\"},\"height\":{\"value\":0.8},\"line_alpha\":{\"value\":0.1},\"line_color\":{\"value\":\"#1f77b4\"},\"right\":{\"field\":\"ratio\"},\"y\":{\"field\":\"word\"}},\"id\":\"26436b4a-b65e-41b3-ae5a-2ea790b6281b\",\"type\":\"HBar\"},{\"attributes\":{\"source\":{\"id\":\"a3f2dd1f-330e-4cdc-8728-090813512633\",\"type\":\"ColumnDataSource\"}},\"id\":\"546ad39d-1ed9-4b17-983e-fb0b81f21969\",\"type\":\"CDSView\"},{\"attributes\":{\"fill_color\":{\"value\":\"deepskyblue\"},\"height\":{\"value\":0.8},\"left\":{\"field\":\"ratio\"},\"line_color\":{\"value\":\"deepskyblue\"},\"right\":{\"value\":0},\"y\":{\"field\":\"word\"}},\"id\":\"ff92bf16-20fa-4071-87c7-7dbfc7c9b0b2\",\"type\":\"HBar\"},{\"attributes\":{},\"id\":\"5aa272f7-2846-4b60-a9f4-a994236da55a\",\"type\":\"CategoricalScale\"},{\"attributes\":{\"below\":[{\"id\":\"a5e617b1-ddd8-427f-b09a-a038982ab8d3\",\"type\":\"LinearAxis\"}],\"left\":[{\"id\":\"d90d0b9f-eef8-4fb8-9c1c-38239614cf6e\",\"type\":\"CategoricalAxis\"}],\"renderers\":[{\"id\":\"a5e617b1-ddd8-427f-b09a-a038982ab8d3\",\"type\":\"LinearAxis\"},{\"id\":\"3f4dbe43-0fe7-4155-9796-ffe5cea7e6a6\",\"type\":\"Grid\"},{\"id\":\"d90d0b9f-eef8-4fb8-9c1c-38239614cf6e\",\"type\":\"CategoricalAxis\"},{\"id\":\"28d857cc-4710-4102-94a3-7432cd79ae69\",\"type\":\"Grid\"},{\"id\":\"da4b03c0-f3ae-4a7e-93b0-11ce339560bd\",\"type\":\"BoxAnnotation\"},{\"id\":\"c41c453b-138a-418e-86cd-94e450bb9a7b\",\"type\":\"Legend\"},{\"id\":\"13993c1c-a12b-46d5-a2c8-0407c26c13aa\",\"type\":\"GlyphRenderer\"},{\"id\":\"340f5985-99da-4c9b-87d7-5fb0f89e5942\",\"type\":\"GlyphRenderer\"},{\"id\":\"f7a30329-dfad-4d71-866b-8b66cf19293d\",\"type\":\"LabelSet\"},{\"id\":\"c8b199a1-4eb5-43ec-82b4-0c49912b75d7\",\"type\":\"LabelSet\"}],\"title\":{\"id\":\"eb61000d-f27d-4f11-a757-77ce3849ce6b\",\"type\":\"Title\"},\"toolbar\":{\"id\":\"74e4c0d1-637b-4b89-80d9-2f69e4cfa151\",\"type\":\"Toolbar\"},\"x_range\":{\"id\":\"e1648700-87e3-4f4a-80ba-ce28e7500d0b\",\"type\":\"Range1d\"},\"x_scale\":{\"id\":\"ea1d9bf5-1009-4ff2-94dd-77aba53960af\",\"type\":\"LinearScale\"},\"y_range\":{\"id\":\"8fdbd7d8-1429-4fd7-b245-2acad4c7c1c7\",\"type\":\"FactorRange\"},\"y_scale\":{\"id\":\"5aa272f7-2846-4b60-a9f4-a994236da55a\",\"type\":\"CategoricalScale\"}},\"id\":\"7fd4699b-3e4d-4f82-a509-62dfcb0fe49e\",\"subtype\":\"Figure\",\"type\":\"Plot\"},{\"attributes\":{},\"id\":\"a9936f9d-8020-4111-82cd-101918927e1d\",\"type\":\"CategoricalTickFormatter\"},{\"attributes\":{\"dimension\":1,\"grid_line_color\":{\"value\":null},\"plot\":{\"id\":\"7fd4699b-3e4d-4f82-a509-62dfcb0fe49e\",\"subtype\":\"Figure\",\"type\":\"Plot\"},\"ticker\":{\"id\":\"ee5d0a20-4a43-4895-9f27-c9216fbb7eb8\",\"type\":\"CategoricalTicker\"}},\"id\":\"28d857cc-4710-4102-94a3-7432cd79ae69\",\"type\":\"Grid\"},{\"attributes\":{\"label\":{\"value\":\"Female\"},\"renderers\":[{\"id\":\"13993c1c-a12b-46d5-a2c8-0407c26c13aa\",\"type\":\"GlyphRenderer\"}]},\"id\":\"f45aaefb-9b14-4f3c-b7ea-c38c06c12b9f\",\"type\":\"LegendItem\"},{\"attributes\":{\"data_source\":{\"id\":\"a3f2dd1f-330e-4cdc-8728-090813512633\",\"type\":\"ColumnDataSource\"},\"glyph\":{\"id\":\"ff92bf16-20fa-4071-87c7-7dbfc7c9b0b2\",\"type\":\"HBar\"},\"hover_glyph\":null,\"muted_glyph\":null,\"nonselection_glyph\":{\"id\":\"5b082658-4465-459d-a1ab-d38d63a6cfae\",\"type\":\"HBar\"},\"selection_glyph\":null,\"view\":{\"id\":\"546ad39d-1ed9-4b17-983e-fb0b81f21969\",\"type\":\"CDSView\"}},\"id\":\"340f5985-99da-4c9b-87d7-5fb0f89e5942\",\"type\":\"GlyphRenderer\"},{\"attributes\":{\"items\":[{\"id\":\"f45aaefb-9b14-4f3c-b7ea-c38c06c12b9f\",\"type\":\"LegendItem\"},{\"id\":\"1d9bc300-b011-4f28-b3d9-7763d9c611c0\",\"type\":\"LegendItem\"}],\"label_text_font_size\":{\"value\":\"1em\"},\"location\":\"bottom_right\",\"plot\":{\"id\":\"7fd4699b-3e4d-4f82-a509-62dfcb0fe49e\",\"subtype\":\"Figure\",\"type\":\"Plot\"}},\"id\":\"c41c453b-138a-418e-86cd-94e450bb9a7b\",\"type\":\"Legend\"},{\"attributes\":{\"source\":{\"id\":\"1d4ac416-9bc8-466b-8246-102bcc0ac95b\",\"type\":\"ColumnDataSource\"}},\"id\":\"95187a6a-c9f0-4437-8ef3-e1eeca2056b1\",\"type\":\"CDSView\"},{\"attributes\":{\"grid_line_color\":{\"value\":null},\"plot\":{\"id\":\"7fd4699b-3e4d-4f82-a509-62dfcb0fe49e\",\"subtype\":\"Figure\",\"type\":\"Plot\"},\"ticker\":{\"id\":\"0e936a30-e6f2-49fa-a8c1-291155b4dbbb\",\"type\":\"BasicTicker\"}},\"id\":\"3f4dbe43-0fe7-4155-9796-ffe5cea7e6a6\",\"type\":\"Grid\"},{\"attributes\":{},\"id\":\"cdae1db4-abe1-4cb2-92e5-dc0b3116941d\",\"type\":\"SaveTool\"},{\"attributes\":{\"callback\":null,\"end\":23.03553660270078,\"start\":-23.03553660270078},\"id\":\"e1648700-87e3-4f4a-80ba-ce28e7500d0b\",\"type\":\"Range1d\"},{\"attributes\":{},\"id\":\"503f10f4-9e93-442a-b6b8-9ebd4b222e4b\",\"type\":\"HelpTool\"},{\"attributes\":{\"data_source\":{\"id\":\"1d4ac416-9bc8-466b-8246-102bcc0ac95b\",\"type\":\"ColumnDataSource\"},\"glyph\":{\"id\":\"13721418-2c0c-45b9-88ed-3ccdb76a9f18\",\"type\":\"HBar\"},\"hover_glyph\":null,\"muted_glyph\":null,\"nonselection_glyph\":{\"id\":\"26436b4a-b65e-41b3-ae5a-2ea790b6281b\",\"type\":\"HBar\"},\"selection_glyph\":null,\"view\":{\"id\":\"95187a6a-c9f0-4437-8ef3-e1eeca2056b1\",\"type\":\"CDSView\"}},\"id\":\"13993c1c-a12b-46d5-a2c8-0407c26c13aa\",\"type\":\"GlyphRenderer\"},{\"attributes\":{\"level\":\"glyph\",\"plot\":{\"id\":\"7fd4699b-3e4d-4f82-a509-62dfcb0fe49e\",\"subtype\":\"Figure\",\"type\":\"Plot\"},\"source\":{\"id\":\"0f512532-0fc7-47fc-8864-8c7cca11c506\",\"type\":\"ColumnDataSource\"},\"text\":{\"field\":\"word\"},\"text_align\":\"right\",\"x\":{\"value\":0},\"x_offset\":{\"value\":-5},\"y\":{\"field\":\"word\"},\"y_offset\":{\"value\":-9}},\"id\":\"c8b199a1-4eb5-43ec-82b4-0c49912b75d7\",\"type\":\"LabelSet\"},{\"attributes\":{\"active_drag\":\"auto\",\"active_inspect\":\"auto\",\"active_scroll\":\"auto\",\"active_tap\":\"auto\",\"tools\":[{\"id\":\"d6e9d676-14f0-4476-80af-a44248d15f39\",\"type\":\"PanTool\"},{\"id\":\"fc5e53e2-0ed4-426f-9693-1b0d799395fe\",\"type\":\"WheelZoomTool\"},{\"id\":\"5edb06bd-6bd4-4477-a8a0-79cd85f9b520\",\"type\":\"BoxZoomTool\"},{\"id\":\"cdae1db4-abe1-4cb2-92e5-dc0b3116941d\",\"type\":\"SaveTool\"},{\"id\":\"a0fcf483-3652-4848-b0fd-2b0f69a65fc3\",\"type\":\"ResetTool\"},{\"id\":\"503f10f4-9e93-442a-b6b8-9ebd4b222e4b\",\"type\":\"HelpTool\"}]},\"id\":\"74e4c0d1-637b-4b89-80d9-2f69e4cfa151\",\"type\":\"Toolbar\"},{\"attributes\":{\"callback\":null,\"factors\":[\"ghost\",\"lost\",\"sets\",\"gender\",\"accommodates\",\"men\",\"stellar\",\"blend\",\"energizing\",\"fluidity\",\"earth\",\"thoughts\",\"11\",\"pu\",\"270mm\",\"variety\",\"md\",\"22\",\"12mm\",\"stay\",\"man\",\"boost\",\"tire\",\"reebok\",\"endless\",\"membrane\",\"terrex\",\"push\",\"hugs\",\"limits\"],\"range_padding\":0.1},\"id\":\"8fdbd7d8-1429-4fd7-b245-2acad4c7c1c7\",\"type\":\"FactorRange\"},{\"attributes\":{\"fill_alpha\":{\"value\":0.1},\"fill_color\":{\"value\":\"#1f77b4\"},\"height\":{\"value\":0.8},\"left\":{\"field\":\"ratio\"},\"line_alpha\":{\"value\":0.1},\"line_color\":{\"value\":\"#1f77b4\"},\"right\":{\"value\":0},\"y\":{\"field\":\"word\"}},\"id\":\"5b082658-4465-459d-a1ab-d38d63a6cfae\",\"type\":\"HBar\"},{\"attributes\":{\"callback\":null,\"column_names\":[\"gender\",\"word\",\"index\",\"ratio\"],\"data\":{\"gender\":[\"m\",\"m\",\"m\",\"m\",\"m\",\"m\",\"m\",\"m\",\"m\",\"m\",\"m\",\"m\",\"m\",\"m\",\"m\",\"m\",\"m\",\"m\",\"m\"],\"index\":[2,3,5,7,8,9,11,12,14,17,18,19,22,24,26,27,23,25,28],\"ratio\":{\"__ndarray__\":\"AAAAAABQLcCRG7mRG2kswHZiJ3ZiFyrAwiu8witMJsAAAAAAAPAkwFzlglvl0iTAshM7sRNLJMCoh3qoh0ojwHCvgllSPiLAkymZkinJIMCO4ziO40ggwBI7sRM7kR/Am2GqK+c2HcD5lm/5lo8cwPmWb/mWjxzA+ZZv+ZaPHMD5lm/5lo8cwPmWb/mWjxzAk3JAZLh3G8A=\",\"dtype\":\"float64\",\"shape\":[19]},\"word\":[\"ghost\",\"lost\",\"sets\",\"gender\",\"accommodates\",\"men\",\"stellar\",\"blend\",\"energizing\",\"fluidity\",\"earth\",\"thoughts\",\"11\",\"pu\",\"270mm\",\"variety\",\"md\",\"22\",\"12mm\"]},\"selected\":null,\"selection_policy\":null},\"id\":\"26cc54b4-b690-430f-9e66-0e319eeb945f\",\"type\":\"ColumnDataSource\"},{\"attributes\":{\"callback\":null,\"column_names\":[\"gender\",\"word\",\"index\",\"ratio\"],\"data\":{\"gender\":[\"m\",\"m\",\"m\",\"m\",\"m\",\"m\",\"m\",\"m\",\"m\",\"m\",\"m\",\"m\",\"m\",\"m\",\"m\",\"m\",\"m\",\"m\",\"m\"],\"index\":[2,3,5,7,8,9,11,12,14,17,18,19,22,24,26,27,23,25,28],\"ratio\":{\"__ndarray__\":\"AAAAAABQLcCRG7mRG2kswHZiJ3ZiFyrAwiu8witMJsAAAAAAAPAkwFzlglvl0iTAshM7sRNLJMCoh3qoh0ojwHCvgllSPiLAkymZkinJIMCO4ziO40ggwBI7sRM7kR/Am2GqK+c2HcD5lm/5lo8cwPmWb/mWjxzA+ZZv+ZaPHMD5lm/5lo8cwPmWb/mWjxzAk3JAZLh3G8A=\",\"dtype\":\"float64\",\"shape\":[19]},\"word\":[\"ghost\",\"lost\",\"sets\",\"gender\",\"accommodates\",\"men\",\"stellar\",\"blend\",\"energizing\",\"fluidity\",\"earth\",\"thoughts\",\"11\",\"pu\",\"270mm\",\"variety\",\"md\",\"22\",\"12mm\"]},\"selected\":null,\"selection_policy\":null},\"id\":\"a3f2dd1f-330e-4cdc-8728-090813512633\",\"type\":\"ColumnDataSource\"},{\"attributes\":{\"formatter\":{\"id\":\"a9936f9d-8020-4111-82cd-101918927e1d\",\"type\":\"CategoricalTickFormatter\"},\"plot\":{\"id\":\"7fd4699b-3e4d-4f82-a509-62dfcb0fe49e\",\"subtype\":\"Figure\",\"type\":\"Plot\"},\"ticker\":{\"id\":\"ee5d0a20-4a43-4895-9f27-c9216fbb7eb8\",\"type\":\"CategoricalTicker\"},\"visible\":false},\"id\":\"d90d0b9f-eef8-4fb8-9c1c-38239614cf6e\",\"type\":\"CategoricalAxis\"},{\"attributes\":{},\"id\":\"ee5d0a20-4a43-4895-9f27-c9216fbb7eb8\",\"type\":\"CategoricalTicker\"},{\"attributes\":{},\"id\":\"a0fcf483-3652-4848-b0fd-2b0f69a65fc3\",\"type\":\"ResetTool\"},{\"attributes\":{\"callback\":null,\"column_names\":[\"gender\",\"word\",\"index\",\"ratio\"],\"data\":{\"gender\":[\"f\",\"f\",\"f\",\"f\",\"f\",\"f\",\"f\",\"f\",\"f\",\"f\",\"f\"],\"index\":[29,21,20,16,15,13,10,6,4,1,0],\"ratio\":{\"__ndarray__\":\"Za/EuX0zG0DHydUXA5EdQF7bi1axJB9ARf/76QYmIUBUlUeuh3whQIpebkXkzSJA2KYV906yJEA6wSZV1A8nQAfffWdsByxAkZ1iHidXL0AqaULtGAkyQA==\",\"dtype\":\"float64\",\"shape\":[11]},\"word\":[\"stay\",\"man\",\"boost\",\"tire\",\"reebok\",\"endless\",\"membrane\",\"terrex\",\"push\",\"hugs\",\"limits\"]},\"selected\":null,\"selection_policy\":null},\"id\":\"1d4ac416-9bc8-466b-8246-102bcc0ac95b\",\"type\":\"ColumnDataSource\"},{\"attributes\":{\"format\":\"%u\"},\"id\":\"6185ed4d-5f09-4fe5-973c-f95e9a41bef8\",\"type\":\"PrintfTickFormatter\"},{\"attributes\":{\"bottom_units\":\"screen\",\"fill_alpha\":{\"value\":0.5},\"fill_color\":{\"value\":\"lightgrey\"},\"left_units\":\"screen\",\"level\":\"overlay\",\"line_alpha\":{\"value\":1.0},\"line_color\":{\"value\":\"black\"},\"line_dash\":[4,4],\"line_width\":{\"value\":2},\"plot\":null,\"render_mode\":\"css\",\"right_units\":\"screen\",\"top_units\":\"screen\"},\"id\":\"da4b03c0-f3ae-4a7e-93b0-11ce339560bd\",\"type\":\"BoxAnnotation\"},{\"attributes\":{},\"id\":\"d6e9d676-14f0-4476-80af-a44248d15f39\",\"type\":\"PanTool\"},{\"attributes\":{\"axis_label\":\"Likelihood Ratio\",\"axis_label_text_font_size\":{\"value\":\"1em\"},\"formatter\":{\"id\":\"6185ed4d-5f09-4fe5-973c-f95e9a41bef8\",\"type\":\"PrintfTickFormatter\"},\"major_label_text_font_size\":{\"value\":\"1em\"},\"plot\":{\"id\":\"7fd4699b-3e4d-4f82-a509-62dfcb0fe49e\",\"subtype\":\"Figure\",\"type\":\"Plot\"},\"ticker\":{\"id\":\"0e936a30-e6f2-49fa-a8c1-291155b4dbbb\",\"type\":\"BasicTicker\"}},\"id\":\"a5e617b1-ddd8-427f-b09a-a038982ab8d3\",\"type\":\"LinearAxis\"},{\"attributes\":{},\"id\":\"fc5e53e2-0ed4-426f-9693-1b0d799395fe\",\"type\":\"WheelZoomTool\"},{\"attributes\":{\"label\":{\"value\":\"Male\"},\"renderers\":[{\"id\":\"340f5985-99da-4c9b-87d7-5fb0f89e5942\",\"type\":\"GlyphRenderer\"}]},\"id\":\"1d9bc300-b011-4f28-b3d9-7763d9c611c0\",\"type\":\"LegendItem\"},{\"attributes\":{\"level\":\"glyph\",\"plot\":{\"id\":\"7fd4699b-3e4d-4f82-a509-62dfcb0fe49e\",\"subtype\":\"Figure\",\"type\":\"Plot\"},\"source\":{\"id\":\"26cc54b4-b690-430f-9e66-0e319eeb945f\",\"type\":\"ColumnDataSource\"},\"text\":{\"field\":\"word\"},\"x\":{\"value\":0},\"x_offset\":{\"value\":5},\"y\":{\"field\":\"word\"},\"y_offset\":{\"value\":-9}},\"id\":\"f7a30329-dfad-4d71-866b-8b66cf19293d\",\"type\":\"LabelSet\"},{\"attributes\":{\"plot\":null,\"text\":\"Most Informative Words in Descriptions for Running Shoes\",\"text_font_size\":{\"value\":\"1.2em\"}},\"id\":\"eb61000d-f27d-4f11-a757-77ce3849ce6b\",\"type\":\"Title\"},{\"attributes\":{\"overlay\":{\"id\":\"da4b03c0-f3ae-4a7e-93b0-11ce339560bd\",\"type\":\"BoxAnnotation\"}},\"id\":\"5edb06bd-6bd4-4477-a8a0-79cd85f9b520\",\"type\":\"BoxZoomTool\"},{\"attributes\":{\"fill_color\":{\"value\":\"deeppink\"},\"height\":{\"value\":0.8},\"line_color\":{\"value\":\"deeppink\"},\"right\":{\"field\":\"ratio\"},\"y\":{\"field\":\"word\"}},\"id\":\"13721418-2c0c-45b9-88ed-3ccdb76a9f18\",\"type\":\"HBar\"},{\"attributes\":{},\"id\":\"0e936a30-e6f2-49fa-a8c1-291155b4dbbb\",\"type\":\"BasicTicker\"},{\"attributes\":{},\"id\":\"ea1d9bf5-1009-4ff2-94dd-77aba53960af\",\"type\":\"LinearScale\"},{\"attributes\":{\"callback\":null,\"column_names\":[\"gender\",\"word\",\"index\",\"ratio\"],\"data\":{\"gender\":[\"f\",\"f\",\"f\",\"f\",\"f\",\"f\",\"f\",\"f\",\"f\",\"f\",\"f\"],\"index\":[29,21,20,16,15,13,10,6,4,1,0],\"ratio\":{\"__ndarray__\":\"Za/EuX0zG0DHydUXA5EdQF7bi1axJB9ARf/76QYmIUBUlUeuh3whQIpebkXkzSJA2KYV906yJEA6wSZV1A8nQAfffWdsByxAkZ1iHidXL0AqaULtGAkyQA==\",\"dtype\":\"float64\",\"shape\":[11]},\"word\":[\"stay\",\"man\",\"boost\",\"tire\",\"reebok\",\"endless\",\"membrane\",\"terrex\",\"push\",\"hugs\",\"limits\"]},\"selected\":null,\"selection_policy\":null},\"id\":\"0f512532-0fc7-47fc-8864-8c7cca11c506\",\"type\":\"ColumnDataSource\"}],\"root_ids\":[\"7fd4699b-3e4d-4f82-a509-62dfcb0fe49e\"]},\"title\":\"Bokeh Application\",\"version\":\"0.12.15\"}};\n",
       "  var render_items = [{\"docid\":\"a8aac162-f5d5-4e31-9652-ab3db1644cf6\",\"elementid\":\"6ce3dc53-e25e-4b48-ab4a-6cea648271d0\",\"modelid\":\"7fd4699b-3e4d-4f82-a509-62dfcb0fe49e\"}];\n",
       "  root.Bokeh.embed.embed_items_notebook(docs_json, render_items);\n",
       "\n",
       "  }\n",
       "  if (root.Bokeh !== undefined) {\n",
       "    embed_document(root);\n",
       "  } else {\n",
       "    var attempts = 0;\n",
       "    var timer = setInterval(function(root) {\n",
       "      if (root.Bokeh !== undefined) {\n",
       "        embed_document(root);\n",
       "        clearInterval(timer);\n",
       "      }\n",
       "      attempts++;\n",
       "      if (attempts > 100) {\n",
       "        console.log(\"Bokeh: ERROR: Unable to run BokehJS code because BokehJS library is missing\")\n",
       "        clearInterval(timer);\n",
       "      }\n",
       "    }, 10, root)\n",
       "  }\n",
       "})(window);"
      ],
      "application/vnd.bokehjs_exec.v0+json": ""
     },
     "metadata": {
      "application/vnd.bokehjs_exec.v0+json": {
       "id": "7fd4699b-3e4d-4f82-a509-62dfcb0fe49e"
      }
     },
     "output_type": "display_data"
    }
   ],
   "source": [
    "# ShoesFD = get_FD(Shoes_Corpus)\n",
    "shoes_features = create_features(Shoes_Corpus)\n",
    "shoesSC = NB_classify(shoes_features)\n",
    "shoes_info = store_most_informative_features(shoesSC, 30)\n",
    "graph_features(shoes_info, \"Running Shoes\")"
   ]
  },
  {
   "cell_type": "code",
   "execution_count": 182,
   "metadata": {},
   "outputs": [],
   "source": [
    "watch_indices = ['Fashion', \"Electronics\", \"Jewelry\"]\n",
    "for i in watch_indices:\n",
    "    Watch_Corpus = build_corpus(i, \"WatchesCorpus\", watch)"
   ]
  },
  {
   "cell_type": "code",
   "execution_count": 186,
   "metadata": {},
   "outputs": [
    {
     "name": "stdout",
     "output_type": "stream",
     "text": [
      "Train accuracy: 77.8618732261\n",
      " Test accuracy: 61.3636363636\n"
     ]
    },
    {
     "data": {
      "text/html": [
       "\n",
       "<div class=\"bk-root\">\n",
       "    <div class=\"bk-plotdiv\" id=\"005150a3-aa3b-40dc-8fc2-7f77d5f42bbe\"></div>\n",
       "</div>"
      ]
     },
     "metadata": {},
     "output_type": "display_data"
    },
    {
     "data": {
      "application/javascript": [
       "(function(root) {\n",
       "  function embed_document(root) {\n",
       "    \n",
       "  var docs_json = {\"19ac1f9d-fc32-4fae-9f72-ce8ba1d28a46\":{\"roots\":{\"references\":[{\"attributes\":{},\"id\":\"4ac5e337-2ea9-4ce8-ae1c-6e919d8155eb\",\"type\":\"CategoricalScale\"},{\"attributes\":{\"fill_color\":{\"value\":\"deeppink\"},\"height\":{\"value\":0.8},\"line_color\":{\"value\":\"deeppink\"},\"right\":{\"field\":\"ratio\"},\"y\":{\"field\":\"word\"}},\"id\":\"67df2f35-59c8-490f-a0a0-9a8caebd53b3\",\"type\":\"HBar\"},{\"attributes\":{},\"id\":\"c08c8f20-3277-4d9c-a549-83cdecc4c3c6\",\"type\":\"HelpTool\"},{\"attributes\":{\"callback\":null,\"column_names\":[\"gender\",\"word\",\"index\",\"ratio\"],\"data\":{\"gender\":[\"m\",\"m\",\"m\",\"m\",\"m\",\"m\",\"m\",\"m\",\"m\",\"m\",\"m\",\"m\",\"m\"],\"index\":[1,6,7,14,17,16,15,18,25,24,23,27,26],\"ratio\":{\"__ndarray__\":\"6ZWx/Y5eKMDKvGsxmswiwIJGWv4caCHA5bNuMEU+HcDls24wRT4dwOWzbjBFPh3A5bNuMEU+HcAnWfO/e5IbwFXHS8pKdRrAVcdLykp1GsBVx0vKSnUawGr+d0+y5hnAav53T7LmGcA=\",\"dtype\":\"float64\",\"shape\":[13]},\"word\":[\"much\",\"mens\",\"wound\",\"pressure\",\"known\",\"heuer\",\"47mm\",\"engraved\",\"breitling\",\"temperature\",\"instructions\",\"jewel\",\"otherwise\"]},\"selected\":null,\"selection_policy\":null},\"id\":\"e6feaa5a-49b9-4309-98dc-974c6e2af7ca\",\"type\":\"ColumnDataSource\"},{\"attributes\":{\"fill_alpha\":{\"value\":0.1},\"fill_color\":{\"value\":\"#1f77b4\"},\"height\":{\"value\":0.8},\"line_alpha\":{\"value\":0.1},\"line_color\":{\"value\":\"#1f77b4\"},\"right\":{\"field\":\"ratio\"},\"y\":{\"field\":\"word\"}},\"id\":\"4c079434-a6e7-4857-bb69-0102abfce7d2\",\"type\":\"HBar\"},{\"attributes\":{\"data_source\":{\"id\":\"f0966dc2-74ed-48e8-92aa-e380125454a3\",\"type\":\"ColumnDataSource\"},\"glyph\":{\"id\":\"67df2f35-59c8-490f-a0a0-9a8caebd53b3\",\"type\":\"HBar\"},\"hover_glyph\":null,\"muted_glyph\":null,\"nonselection_glyph\":{\"id\":\"4c079434-a6e7-4857-bb69-0102abfce7d2\",\"type\":\"HBar\"},\"selection_glyph\":null,\"view\":{\"id\":\"b67a512a-ea65-4557-bf5b-4561a916b8d1\",\"type\":\"CDSView\"}},\"id\":\"f0dae2ab-355a-44a7-95ce-27a498c472c9\",\"type\":\"GlyphRenderer\"},{\"attributes\":{\"label\":{\"value\":\"Female\"},\"renderers\":[{\"id\":\"f0dae2ab-355a-44a7-95ce-27a498c472c9\",\"type\":\"GlyphRenderer\"}]},\"id\":\"6cdc2971-02d1-4884-b586-8f08ecb88135\",\"type\":\"LegendItem\"},{\"attributes\":{},\"id\":\"4144d897-bbac-4b9b-813a-af8aec1732c4\",\"type\":\"PanTool\"},{\"attributes\":{\"source\":{\"id\":\"e6feaa5a-49b9-4309-98dc-974c6e2af7ca\",\"type\":\"ColumnDataSource\"}},\"id\":\"2ad078be-8e4d-4035-8ba1-fe582fa6c624\",\"type\":\"CDSView\"},{\"attributes\":{\"formatter\":{\"id\":\"f3b2e4d3-182b-4e9a-aad2-6609c902f7b1\",\"type\":\"CategoricalTickFormatter\"},\"plot\":{\"id\":\"1a5ac1aa-f030-4e13-a328-5f1f874bedff\",\"subtype\":\"Figure\",\"type\":\"Plot\"},\"ticker\":{\"id\":\"625c6e8b-981d-464f-81e2-f91df9ff8071\",\"type\":\"CategoricalTicker\"},\"visible\":false},\"id\":\"3303c002-1501-484b-9aee-f3768d879698\",\"type\":\"CategoricalAxis\"},{\"attributes\":{\"plot\":null,\"text\":\"Most Informative Words in Descriptions for Watches\",\"text_font_size\":{\"value\":\"1.2em\"}},\"id\":\"d61ec5b7-01f6-4729-ac2c-4b46c1d5e243\",\"type\":\"Title\"},{\"attributes\":{\"format\":\"%u\"},\"id\":\"0a8f05c9-5147-4f4c-a2bc-bfe304e402c3\",\"type\":\"PrintfTickFormatter\"},{\"attributes\":{},\"id\":\"220df5b0-790e-4b4d-9cc7-451431819491\",\"type\":\"WheelZoomTool\"},{\"attributes\":{},\"id\":\"3ae51e35-af8d-41d1-a7cd-a6bebbf19ed3\",\"type\":\"ResetTool\"},{\"attributes\":{},\"id\":\"f3b2e4d3-182b-4e9a-aad2-6609c902f7b1\",\"type\":\"CategoricalTickFormatter\"},{\"attributes\":{\"level\":\"glyph\",\"plot\":{\"id\":\"1a5ac1aa-f030-4e13-a328-5f1f874bedff\",\"subtype\":\"Figure\",\"type\":\"Plot\"},\"source\":{\"id\":\"d4c5aca3-8b9e-4514-a970-025794246004\",\"type\":\"ColumnDataSource\"},\"text\":{\"field\":\"word\"},\"text_align\":\"right\",\"x\":{\"value\":0},\"x_offset\":{\"value\":-5},\"y\":{\"field\":\"word\"},\"y_offset\":{\"value\":-9}},\"id\":\"e2e166a4-ab21-4e45-a9f5-fb6a962abda1\",\"type\":\"LabelSet\"},{\"attributes\":{\"fill_alpha\":{\"value\":0.1},\"fill_color\":{\"value\":\"#1f77b4\"},\"height\":{\"value\":0.8},\"left\":{\"field\":\"ratio\"},\"line_alpha\":{\"value\":0.1},\"line_color\":{\"value\":\"#1f77b4\"},\"right\":{\"value\":0},\"y\":{\"field\":\"word\"}},\"id\":\"7569ec84-f743-4d9b-be35-7359d92ccf04\",\"type\":\"HBar\"},{\"attributes\":{\"axis_label\":\"Likelihood Ratio\",\"axis_label_text_font_size\":{\"value\":\"1em\"},\"formatter\":{\"id\":\"0a8f05c9-5147-4f4c-a2bc-bfe304e402c3\",\"type\":\"PrintfTickFormatter\"},\"major_label_text_font_size\":{\"value\":\"1em\"},\"plot\":{\"id\":\"1a5ac1aa-f030-4e13-a328-5f1f874bedff\",\"subtype\":\"Figure\",\"type\":\"Plot\"},\"ticker\":{\"id\":\"b83482cf-25ec-4c7f-9d86-5102eb300027\",\"type\":\"BasicTicker\"}},\"id\":\"882f3b40-c6e9-4751-882e-065412e4229d\",\"type\":\"LinearAxis\"},{\"attributes\":{\"data_source\":{\"id\":\"e6feaa5a-49b9-4309-98dc-974c6e2af7ca\",\"type\":\"ColumnDataSource\"},\"glyph\":{\"id\":\"69108798-5470-41e4-8d6c-db0e32c96c2f\",\"type\":\"HBar\"},\"hover_glyph\":null,\"muted_glyph\":null,\"nonselection_glyph\":{\"id\":\"7569ec84-f743-4d9b-be35-7359d92ccf04\",\"type\":\"HBar\"},\"selection_glyph\":null,\"view\":{\"id\":\"2ad078be-8e4d-4035-8ba1-fe582fa6c624\",\"type\":\"CDSView\"}},\"id\":\"bfed4483-d070-4f13-9ba8-3d3e3d298324\",\"type\":\"GlyphRenderer\"},{\"attributes\":{\"source\":{\"id\":\"f0966dc2-74ed-48e8-92aa-e380125454a3\",\"type\":\"ColumnDataSource\"}},\"id\":\"b67a512a-ea65-4557-bf5b-4561a916b8d1\",\"type\":\"CDSView\"},{\"attributes\":{\"callback\":null,\"column_names\":[\"gender\",\"word\",\"index\",\"ratio\"],\"data\":{\"gender\":[\"f\",\"f\",\"f\",\"f\",\"f\",\"f\",\"f\",\"f\",\"f\",\"f\",\"f\",\"f\",\"f\",\"f\",\"f\",\"f\",\"f\"],\"index\":[28,29,19,20,21,22,13,12,11,10,9,8,5,4,3,2,0],\"ratio\":{\"__ndarray__\":\"bMyQpiC3GUBszJCmILcZQAkRjLhCzxpACRGMuELPGkAJEYy4Qs8aQAkRjLhCzxpAIrErjedcHUA8UcthjOofQDxRy2GM6h9Aq3g1mxg8IUCreDWbGDwhQKt4NZsYPCFAxBjVb73JI0DEGNVvvckjQNHoJNqPECVA3bh0RGJXJkD2WBQZB+UoQA==\",\"dtype\":\"float64\",\"shape\":[17]},\"word\":[\"guaranteed\",\"goldtone\",\"26mm\",\"26\",\"chart\",\"mother\",\"unit\",\"pearl\",\"party\",\"nurse\",\"xl\",\"klein\",\"satisfied\",\"hospital\",\"doctors\",\"nurses\",\"womens\"]},\"selected\":null,\"selection_policy\":null},\"id\":\"d4c5aca3-8b9e-4514-a970-025794246004\",\"type\":\"ColumnDataSource\"},{\"attributes\":{},\"id\":\"c61f1b7b-d762-4788-878c-0ddc22960065\",\"type\":\"SaveTool\"},{\"attributes\":{},\"id\":\"625c6e8b-981d-464f-81e2-f91df9ff8071\",\"type\":\"CategoricalTicker\"},{\"attributes\":{},\"id\":\"b83482cf-25ec-4c7f-9d86-5102eb300027\",\"type\":\"BasicTicker\"},{\"attributes\":{\"callback\":null,\"factors\":[\"much\",\"mens\",\"wound\",\"pressure\",\"known\",\"heuer\",\"47mm\",\"engraved\",\"breitling\",\"temperature\",\"instructions\",\"jewel\",\"otherwise\",\"guaranteed\",\"goldtone\",\"26mm\",\"26\",\"chart\",\"mother\",\"unit\",\"pearl\",\"party\",\"nurse\",\"xl\",\"klein\",\"satisfied\",\"hospital\",\"doctors\",\"nurses\",\"womens\"],\"range_padding\":0.1},\"id\":\"d04aeee8-02d8-435b-b001-18e2335d4f54\",\"type\":\"FactorRange\"},{\"attributes\":{\"callback\":null,\"end\":17.44731977818854,\"start\":-17.44731977818854},\"id\":\"d08ba8ce-30ed-4a43-8744-25dc4ac658bc\",\"type\":\"Range1d\"},{\"attributes\":{\"dimension\":1,\"grid_line_color\":{\"value\":null},\"plot\":{\"id\":\"1a5ac1aa-f030-4e13-a328-5f1f874bedff\",\"subtype\":\"Figure\",\"type\":\"Plot\"},\"ticker\":{\"id\":\"625c6e8b-981d-464f-81e2-f91df9ff8071\",\"type\":\"CategoricalTicker\"}},\"id\":\"4dceb52b-5108-4149-873a-43218f42e80e\",\"type\":\"Grid\"},{\"attributes\":{\"overlay\":{\"id\":\"2a2f8e54-3363-4705-af18-ca3d17be3954\",\"type\":\"BoxAnnotation\"}},\"id\":\"645148db-293f-43b2-8dbd-7dda4caea3a2\",\"type\":\"BoxZoomTool\"},{\"attributes\":{\"label\":{\"value\":\"Male\"},\"renderers\":[{\"id\":\"bfed4483-d070-4f13-9ba8-3d3e3d298324\",\"type\":\"GlyphRenderer\"}]},\"id\":\"2a477b61-e06e-4dd1-a14f-70121119af2b\",\"type\":\"LegendItem\"},{\"attributes\":{\"callback\":null,\"column_names\":[\"gender\",\"word\",\"index\",\"ratio\"],\"data\":{\"gender\":[\"m\",\"m\",\"m\",\"m\",\"m\",\"m\",\"m\",\"m\",\"m\",\"m\",\"m\",\"m\",\"m\"],\"index\":[1,6,7,14,17,16,15,18,25,24,23,27,26],\"ratio\":{\"__ndarray__\":\"6ZWx/Y5eKMDKvGsxmswiwIJGWv4caCHA5bNuMEU+HcDls24wRT4dwOWzbjBFPh3A5bNuMEU+HcAnWfO/e5IbwFXHS8pKdRrAVcdLykp1GsBVx0vKSnUawGr+d0+y5hnAav53T7LmGcA=\",\"dtype\":\"float64\",\"shape\":[13]},\"word\":[\"much\",\"mens\",\"wound\",\"pressure\",\"known\",\"heuer\",\"47mm\",\"engraved\",\"breitling\",\"temperature\",\"instructions\",\"jewel\",\"otherwise\"]},\"selected\":null,\"selection_policy\":null},\"id\":\"16535168-6a4d-4b0c-ad5b-6c6bad91557e\",\"type\":\"ColumnDataSource\"},{\"attributes\":{\"fill_color\":{\"value\":\"deepskyblue\"},\"height\":{\"value\":0.8},\"left\":{\"field\":\"ratio\"},\"line_color\":{\"value\":\"deepskyblue\"},\"right\":{\"value\":0},\"y\":{\"field\":\"word\"}},\"id\":\"69108798-5470-41e4-8d6c-db0e32c96c2f\",\"type\":\"HBar\"},{\"attributes\":{\"grid_line_color\":{\"value\":null},\"plot\":{\"id\":\"1a5ac1aa-f030-4e13-a328-5f1f874bedff\",\"subtype\":\"Figure\",\"type\":\"Plot\"},\"ticker\":{\"id\":\"b83482cf-25ec-4c7f-9d86-5102eb300027\",\"type\":\"BasicTicker\"}},\"id\":\"a0ab3e52-22c1-4927-99dc-6752335e25cb\",\"type\":\"Grid\"},{\"attributes\":{\"below\":[{\"id\":\"882f3b40-c6e9-4751-882e-065412e4229d\",\"type\":\"LinearAxis\"}],\"left\":[{\"id\":\"3303c002-1501-484b-9aee-f3768d879698\",\"type\":\"CategoricalAxis\"}],\"renderers\":[{\"id\":\"882f3b40-c6e9-4751-882e-065412e4229d\",\"type\":\"LinearAxis\"},{\"id\":\"a0ab3e52-22c1-4927-99dc-6752335e25cb\",\"type\":\"Grid\"},{\"id\":\"3303c002-1501-484b-9aee-f3768d879698\",\"type\":\"CategoricalAxis\"},{\"id\":\"4dceb52b-5108-4149-873a-43218f42e80e\",\"type\":\"Grid\"},{\"id\":\"2a2f8e54-3363-4705-af18-ca3d17be3954\",\"type\":\"BoxAnnotation\"},{\"id\":\"447bac0e-5f42-479e-b2a8-a87ebe8dcee4\",\"type\":\"Legend\"},{\"id\":\"f0dae2ab-355a-44a7-95ce-27a498c472c9\",\"type\":\"GlyphRenderer\"},{\"id\":\"bfed4483-d070-4f13-9ba8-3d3e3d298324\",\"type\":\"GlyphRenderer\"},{\"id\":\"0910420e-af32-4967-a594-6f8dfae3172c\",\"type\":\"LabelSet\"},{\"id\":\"e2e166a4-ab21-4e45-a9f5-fb6a962abda1\",\"type\":\"LabelSet\"}],\"title\":{\"id\":\"d61ec5b7-01f6-4729-ac2c-4b46c1d5e243\",\"type\":\"Title\"},\"toolbar\":{\"id\":\"13d3ce08-8103-421e-9604-f3ec45ac2861\",\"type\":\"Toolbar\"},\"x_range\":{\"id\":\"d08ba8ce-30ed-4a43-8744-25dc4ac658bc\",\"type\":\"Range1d\"},\"x_scale\":{\"id\":\"8aabfda6-11ed-45b4-8594-17f00831a606\",\"type\":\"LinearScale\"},\"y_range\":{\"id\":\"d04aeee8-02d8-435b-b001-18e2335d4f54\",\"type\":\"FactorRange\"},\"y_scale\":{\"id\":\"4ac5e337-2ea9-4ce8-ae1c-6e919d8155eb\",\"type\":\"CategoricalScale\"}},\"id\":\"1a5ac1aa-f030-4e13-a328-5f1f874bedff\",\"subtype\":\"Figure\",\"type\":\"Plot\"},{\"attributes\":{\"active_drag\":\"auto\",\"active_inspect\":\"auto\",\"active_scroll\":\"auto\",\"active_tap\":\"auto\",\"tools\":[{\"id\":\"4144d897-bbac-4b9b-813a-af8aec1732c4\",\"type\":\"PanTool\"},{\"id\":\"220df5b0-790e-4b4d-9cc7-451431819491\",\"type\":\"WheelZoomTool\"},{\"id\":\"645148db-293f-43b2-8dbd-7dda4caea3a2\",\"type\":\"BoxZoomTool\"},{\"id\":\"c61f1b7b-d762-4788-878c-0ddc22960065\",\"type\":\"SaveTool\"},{\"id\":\"3ae51e35-af8d-41d1-a7cd-a6bebbf19ed3\",\"type\":\"ResetTool\"},{\"id\":\"c08c8f20-3277-4d9c-a549-83cdecc4c3c6\",\"type\":\"HelpTool\"}]},\"id\":\"13d3ce08-8103-421e-9604-f3ec45ac2861\",\"type\":\"Toolbar\"},{\"attributes\":{\"items\":[{\"id\":\"6cdc2971-02d1-4884-b586-8f08ecb88135\",\"type\":\"LegendItem\"},{\"id\":\"2a477b61-e06e-4dd1-a14f-70121119af2b\",\"type\":\"LegendItem\"}],\"label_text_font_size\":{\"value\":\"1em\"},\"location\":\"bottom_right\",\"plot\":{\"id\":\"1a5ac1aa-f030-4e13-a328-5f1f874bedff\",\"subtype\":\"Figure\",\"type\":\"Plot\"}},\"id\":\"447bac0e-5f42-479e-b2a8-a87ebe8dcee4\",\"type\":\"Legend\"},{\"attributes\":{\"callback\":null,\"column_names\":[\"gender\",\"word\",\"index\",\"ratio\"],\"data\":{\"gender\":[\"f\",\"f\",\"f\",\"f\",\"f\",\"f\",\"f\",\"f\",\"f\",\"f\",\"f\",\"f\",\"f\",\"f\",\"f\",\"f\",\"f\"],\"index\":[28,29,19,20,21,22,13,12,11,10,9,8,5,4,3,2,0],\"ratio\":{\"__ndarray__\":\"bMyQpiC3GUBszJCmILcZQAkRjLhCzxpACRGMuELPGkAJEYy4Qs8aQAkRjLhCzxpAIrErjedcHUA8UcthjOofQDxRy2GM6h9Aq3g1mxg8IUCreDWbGDwhQKt4NZsYPCFAxBjVb73JI0DEGNVvvckjQNHoJNqPECVA3bh0RGJXJkD2WBQZB+UoQA==\",\"dtype\":\"float64\",\"shape\":[17]},\"word\":[\"guaranteed\",\"goldtone\",\"26mm\",\"26\",\"chart\",\"mother\",\"unit\",\"pearl\",\"party\",\"nurse\",\"xl\",\"klein\",\"satisfied\",\"hospital\",\"doctors\",\"nurses\",\"womens\"]},\"selected\":null,\"selection_policy\":null},\"id\":\"f0966dc2-74ed-48e8-92aa-e380125454a3\",\"type\":\"ColumnDataSource\"},{\"attributes\":{\"level\":\"glyph\",\"plot\":{\"id\":\"1a5ac1aa-f030-4e13-a328-5f1f874bedff\",\"subtype\":\"Figure\",\"type\":\"Plot\"},\"source\":{\"id\":\"16535168-6a4d-4b0c-ad5b-6c6bad91557e\",\"type\":\"ColumnDataSource\"},\"text\":{\"field\":\"word\"},\"x\":{\"value\":0},\"x_offset\":{\"value\":5},\"y\":{\"field\":\"word\"},\"y_offset\":{\"value\":-9}},\"id\":\"0910420e-af32-4967-a594-6f8dfae3172c\",\"type\":\"LabelSet\"},{\"attributes\":{},\"id\":\"8aabfda6-11ed-45b4-8594-17f00831a606\",\"type\":\"LinearScale\"},{\"attributes\":{\"bottom_units\":\"screen\",\"fill_alpha\":{\"value\":0.5},\"fill_color\":{\"value\":\"lightgrey\"},\"left_units\":\"screen\",\"level\":\"overlay\",\"line_alpha\":{\"value\":1.0},\"line_color\":{\"value\":\"black\"},\"line_dash\":[4,4],\"line_width\":{\"value\":2},\"plot\":null,\"render_mode\":\"css\",\"right_units\":\"screen\",\"top_units\":\"screen\"},\"id\":\"2a2f8e54-3363-4705-af18-ca3d17be3954\",\"type\":\"BoxAnnotation\"}],\"root_ids\":[\"1a5ac1aa-f030-4e13-a328-5f1f874bedff\"]},\"title\":\"Bokeh Application\",\"version\":\"0.12.15\"}};\n",
       "  var render_items = [{\"docid\":\"19ac1f9d-fc32-4fae-9f72-ce8ba1d28a46\",\"elementid\":\"005150a3-aa3b-40dc-8fc2-7f77d5f42bbe\",\"modelid\":\"1a5ac1aa-f030-4e13-a328-5f1f874bedff\"}];\n",
       "  root.Bokeh.embed.embed_items_notebook(docs_json, render_items);\n",
       "\n",
       "  }\n",
       "  if (root.Bokeh !== undefined) {\n",
       "    embed_document(root);\n",
       "  } else {\n",
       "    var attempts = 0;\n",
       "    var timer = setInterval(function(root) {\n",
       "      if (root.Bokeh !== undefined) {\n",
       "        embed_document(root);\n",
       "        clearInterval(timer);\n",
       "      }\n",
       "      attempts++;\n",
       "      if (attempts > 100) {\n",
       "        console.log(\"Bokeh: ERROR: Unable to run BokehJS code because BokehJS library is missing\")\n",
       "        clearInterval(timer);\n",
       "      }\n",
       "    }, 10, root)\n",
       "  }\n",
       "})(window);"
      ],
      "application/vnd.bokehjs_exec.v0+json": ""
     },
     "metadata": {
      "application/vnd.bokehjs_exec.v0+json": {
       "id": "1a5ac1aa-f030-4e13-a328-5f1f874bedff"
      }
     },
     "output_type": "display_data"
    }
   ],
   "source": [
    "watch_label = create_features(Watch_Corpus) \n",
    "watchSC = NB_classify(watch_label)\n",
    "watch_features = store_most_informative_features(watchSC, 30)\n",
    "graph_features(watch_features, \"Watches\")"
   ]
  },
  {
   "cell_type": "code",
   "execution_count": 170,
   "metadata": {
    "collapsed": true
   },
   "outputs": [
    {
     "name": "stdout",
     "output_type": "stream",
     "text": [
      "No child nodes found\n",
      "No child nodes found\n"
     ]
    }
   ],
   "source": [
    "Eyewear_Corpus = build_corpus(\"Fashion\", \"EyewearCorpus\", eyewear)\n",
    "Eyewear_Corpus = build_corpus(\"Fashion\", \"EyewearCorpus\", glasses)"
   ]
  },
  {
   "cell_type": "code",
   "execution_count": 176,
   "metadata": {
    "collapsed": true
   },
   "outputs": [
    {
     "name": "stdout",
     "output_type": "stream",
     "text": [
      "Train accuracy: 77.0913770914\n",
      " Test accuracy: 50.0\n"
     ]
    },
    {
     "data": {
      "text/html": [
       "\n",
       "<div class=\"bk-root\">\n",
       "    <div class=\"bk-plotdiv\" id=\"dd063006-917d-4598-a4d6-8c5a0354390f\"></div>\n",
       "</div>"
      ]
     },
     "metadata": {},
     "output_type": "display_data"
    },
    {
     "data": {
      "application/javascript": [
       "(function(root) {\n",
       "  function embed_document(root) {\n",
       "    \n",
       "  var docs_json = {\"1b315fab-d6ab-49da-be01-dbc721450ff3\":{\"roots\":{\"references\":[{\"attributes\":{\"fill_alpha\":{\"value\":0.1},\"fill_color\":{\"value\":\"#1f77b4\"},\"height\":{\"value\":0.8},\"line_alpha\":{\"value\":0.1},\"line_color\":{\"value\":\"#1f77b4\"},\"right\":{\"field\":\"ratio\"},\"y\":{\"field\":\"word\"}},\"id\":\"acb142b7-ee66-454e-8bd7-2449eab22cd8\",\"type\":\"HBar\"},{\"attributes\":{\"below\":[{\"id\":\"c324903f-6211-4978-a19e-f1c8c9566745\",\"type\":\"LinearAxis\"}],\"left\":[{\"id\":\"342fecaf-f714-46e3-9843-f1d9b601500c\",\"type\":\"CategoricalAxis\"}],\"renderers\":[{\"id\":\"c324903f-6211-4978-a19e-f1c8c9566745\",\"type\":\"LinearAxis\"},{\"id\":\"0ceddb9d-5658-4cff-a950-31a203fa6abc\",\"type\":\"Grid\"},{\"id\":\"342fecaf-f714-46e3-9843-f1d9b601500c\",\"type\":\"CategoricalAxis\"},{\"id\":\"55a01732-8cda-4dde-9fcd-740015bac4ff\",\"type\":\"Grid\"},{\"id\":\"133bbd9c-f5e5-4193-b01e-a6f445172479\",\"type\":\"BoxAnnotation\"},{\"id\":\"a28f9ad2-2b78-4479-8a49-f2ba37b93682\",\"type\":\"Legend\"},{\"id\":\"2e27b0df-9d05-456d-a54b-06c750f65c45\",\"type\":\"GlyphRenderer\"},{\"id\":\"4d93081c-b251-4e12-9d23-07cc1af07b1f\",\"type\":\"GlyphRenderer\"},{\"id\":\"fdc056a2-3064-479a-bf70-0bef44ae3ce1\",\"type\":\"LabelSet\"},{\"id\":\"fc70a8cb-e534-4c36-930c-887cf5985117\",\"type\":\"LabelSet\"}],\"title\":{\"id\":\"994bf82e-5253-4084-8f79-1be65c725759\",\"type\":\"Title\"},\"toolbar\":{\"id\":\"c1538a74-284d-4d58-8158-ee44d49cbc0d\",\"type\":\"Toolbar\"},\"x_range\":{\"id\":\"378d9eb1-6c4e-4770-8a69-92d98e630906\",\"type\":\"Range1d\"},\"x_scale\":{\"id\":\"651e12fc-ce07-49ce-a5cb-4280c4987d02\",\"type\":\"LinearScale\"},\"y_range\":{\"id\":\"548804ac-7247-4128-b0ae-fe96283ea113\",\"type\":\"FactorRange\"},\"y_scale\":{\"id\":\"55eeddf5-48bc-43ac-9a33-ed047e888adb\",\"type\":\"CategoricalScale\"}},\"id\":\"a48113e5-d620-4581-993d-0dd35be25791\",\"subtype\":\"Figure\",\"type\":\"Plot\"},{\"attributes\":{\"callback\":null,\"column_names\":[\"gender\",\"word\",\"index\",\"ratio\"],\"data\":{\"gender\":[\"f\",\"f\",\"f\",\"f\"],\"index\":[15,16,17,9],\"ratio\":{\"__ndarray__\":\"W01hQ/DsGUBbTWFD8OwZQFtNYUPw7BlA9LuQUTBiH0A=\",\"dtype\":\"float64\",\"shape\":[4]},\"word\":[\"padded\",\"cat\",\"started\",\"exclusively\"]},\"selected\":null,\"selection_policy\":null},\"id\":\"8eb7bc05-874c-49c2-b780-557a51133fcb\",\"type\":\"ColumnDataSource\"},{\"attributes\":{\"format\":\"%u\"},\"id\":\"31d8a16a-96b3-4077-b592-d519f9ae7dd9\",\"type\":\"PrintfTickFormatter\"},{\"attributes\":{},\"id\":\"1ec4246d-5a5b-4eeb-9630-e2f3ca32ce0d\",\"type\":\"SaveTool\"},{\"attributes\":{\"dimension\":1,\"grid_line_color\":{\"value\":null},\"plot\":{\"id\":\"a48113e5-d620-4581-993d-0dd35be25791\",\"subtype\":\"Figure\",\"type\":\"Plot\"},\"ticker\":{\"id\":\"281d729f-7e24-437d-9c16-7e0fb626eb77\",\"type\":\"CategoricalTicker\"}},\"id\":\"55a01732-8cda-4dde-9fcd-740015bac4ff\",\"type\":\"Grid\"},{\"attributes\":{\"level\":\"glyph\",\"plot\":{\"id\":\"a48113e5-d620-4581-993d-0dd35be25791\",\"subtype\":\"Figure\",\"type\":\"Plot\"},\"source\":{\"id\":\"bb180663-7229-45d3-8e1d-5465977ba5e5\",\"type\":\"ColumnDataSource\"},\"text\":{\"field\":\"word\"},\"x\":{\"value\":0},\"x_offset\":{\"value\":5},\"y\":{\"field\":\"word\"},\"y_offset\":{\"value\":-9}},\"id\":\"fdc056a2-3064-479a-bf70-0bef44ae3ce1\",\"type\":\"LabelSet\"},{\"attributes\":{\"fill_color\":{\"value\":\"deepskyblue\"},\"height\":{\"value\":0.8},\"left\":{\"field\":\"ratio\"},\"line_color\":{\"value\":\"deepskyblue\"},\"right\":{\"value\":0},\"y\":{\"field\":\"word\"}},\"id\":\"486e975e-dc0c-40ca-a02b-7d0481706959\",\"type\":\"HBar\"},{\"attributes\":{},\"id\":\"066f491f-5393-4804-9bf5-b1045f4977c9\",\"type\":\"HelpTool\"},{\"attributes\":{\"bottom_units\":\"screen\",\"fill_alpha\":{\"value\":0.5},\"fill_color\":{\"value\":\"lightgrey\"},\"left_units\":\"screen\",\"level\":\"overlay\",\"line_alpha\":{\"value\":1.0},\"line_color\":{\"value\":\"black\"},\"line_dash\":[4,4],\"line_width\":{\"value\":2},\"plot\":null,\"render_mode\":\"css\",\"right_units\":\"screen\",\"top_units\":\"screen\"},\"id\":\"133bbd9c-f5e5-4193-b01e-a6f445172479\",\"type\":\"BoxAnnotation\"},{\"attributes\":{\"axis_label\":\"Likelihood Ratio\",\"axis_label_text_font_size\":{\"value\":\"1em\"},\"formatter\":{\"id\":\"31d8a16a-96b3-4077-b592-d519f9ae7dd9\",\"type\":\"PrintfTickFormatter\"},\"major_label_text_font_size\":{\"value\":\"1em\"},\"plot\":{\"id\":\"a48113e5-d620-4581-993d-0dd35be25791\",\"subtype\":\"Figure\",\"type\":\"Plot\"},\"ticker\":{\"id\":\"976f9382-a725-4b50-b648-221b295d5210\",\"type\":\"BasicTicker\"}},\"id\":\"c324903f-6211-4978-a19e-f1c8c9566745\",\"type\":\"LinearAxis\"},{\"attributes\":{\"label\":{\"value\":\"Male\"},\"renderers\":[{\"id\":\"4d93081c-b251-4e12-9d23-07cc1af07b1f\",\"type\":\"GlyphRenderer\"}]},\"id\":\"ba3eabcc-53f6-40fc-b261-ca29cb9200f4\",\"type\":\"LegendItem\"},{\"attributes\":{\"active_drag\":\"auto\",\"active_inspect\":\"auto\",\"active_scroll\":\"auto\",\"active_tap\":\"auto\",\"tools\":[{\"id\":\"e8d14068-8d6f-4759-86ac-852ef831a678\",\"type\":\"PanTool\"},{\"id\":\"9fead3df-1ba7-4e1f-b644-3ad98ba8eb9e\",\"type\":\"WheelZoomTool\"},{\"id\":\"3ee9d63c-fd98-45de-9466-5e879374eeaf\",\"type\":\"BoxZoomTool\"},{\"id\":\"1ec4246d-5a5b-4eeb-9630-e2f3ca32ce0d\",\"type\":\"SaveTool\"},{\"id\":\"9593493f-9079-4c64-baa6-1523356aea6d\",\"type\":\"ResetTool\"},{\"id\":\"066f491f-5393-4804-9bf5-b1045f4977c9\",\"type\":\"HelpTool\"}]},\"id\":\"c1538a74-284d-4d58-8158-ee44d49cbc0d\",\"type\":\"Toolbar\"},{\"attributes\":{},\"id\":\"e8d14068-8d6f-4759-86ac-852ef831a678\",\"type\":\"PanTool\"},{\"attributes\":{},\"id\":\"9fead3df-1ba7-4e1f-b644-3ad98ba8eb9e\",\"type\":\"WheelZoomTool\"},{\"attributes\":{\"callback\":null,\"end\":22.91455160744501,\"start\":-22.91455160744501},\"id\":\"378d9eb1-6c4e-4770-8a69-92d98e630906\",\"type\":\"Range1d\"},{\"attributes\":{\"fill_alpha\":{\"value\":0.1},\"fill_color\":{\"value\":\"#1f77b4\"},\"height\":{\"value\":0.8},\"left\":{\"field\":\"ratio\"},\"line_alpha\":{\"value\":0.1},\"line_color\":{\"value\":\"#1f77b4\"},\"right\":{\"value\":0},\"y\":{\"field\":\"word\"}},\"id\":\"c349c93d-c5bb-4cfa-849c-688a29130b68\",\"type\":\"HBar\"},{\"attributes\":{\"source\":{\"id\":\"9f1ab562-b6f0-40d0-aa53-57193362d1cc\",\"type\":\"ColumnDataSource\"}},\"id\":\"00657b0b-674e-44bc-9304-53ceb919fa1f\",\"type\":\"CDSView\"},{\"attributes\":{},\"id\":\"9593493f-9079-4c64-baa6-1523356aea6d\",\"type\":\"ResetTool\"},{\"attributes\":{},\"id\":\"6cbf977f-2498-4282-9d53-10d74a642b07\",\"type\":\"CategoricalTickFormatter\"},{\"attributes\":{\"label\":{\"value\":\"Female\"},\"renderers\":[{\"id\":\"2e27b0df-9d05-456d-a54b-06c750f65c45\",\"type\":\"GlyphRenderer\"}]},\"id\":\"67e60a95-98ca-4b9a-a6fd-dae79e100534\",\"type\":\"LegendItem\"},{\"attributes\":{\"callback\":null,\"column_names\":[\"gender\",\"word\",\"index\",\"ratio\"],\"data\":{\"gender\":[\"f\",\"f\",\"f\",\"f\"],\"index\":[15,16,17,9],\"ratio\":{\"__ndarray__\":\"W01hQ/DsGUBbTWFD8OwZQFtNYUPw7BlA9LuQUTBiH0A=\",\"dtype\":\"float64\",\"shape\":[4]},\"word\":[\"padded\",\"cat\",\"started\",\"exclusively\"]},\"selected\":null,\"selection_policy\":null},\"id\":\"bcb0d1db-0e48-4f95-9ebb-034fdd61686c\",\"type\":\"ColumnDataSource\"},{\"attributes\":{},\"id\":\"281d729f-7e24-437d-9c16-7e0fb626eb77\",\"type\":\"CategoricalTicker\"},{\"attributes\":{\"data_source\":{\"id\":\"9f1ab562-b6f0-40d0-aa53-57193362d1cc\",\"type\":\"ColumnDataSource\"},\"glyph\":{\"id\":\"486e975e-dc0c-40ca-a02b-7d0481706959\",\"type\":\"HBar\"},\"hover_glyph\":null,\"muted_glyph\":null,\"nonselection_glyph\":{\"id\":\"c349c93d-c5bb-4cfa-849c-688a29130b68\",\"type\":\"HBar\"},\"selection_glyph\":null,\"view\":{\"id\":\"00657b0b-674e-44bc-9304-53ceb919fa1f\",\"type\":\"CDSView\"}},\"id\":\"4d93081c-b251-4e12-9d23-07cc1af07b1f\",\"type\":\"GlyphRenderer\"},{\"attributes\":{},\"id\":\"55eeddf5-48bc-43ac-9a33-ed047e888adb\",\"type\":\"CategoricalScale\"},{\"attributes\":{\"plot\":null,\"text\":\"Most Informative Words in Descriptions for Eyewear\",\"text_font_size\":{\"value\":\"1.2em\"}},\"id\":\"994bf82e-5253-4084-8f79-1be65c725759\",\"type\":\"Title\"},{\"attributes\":{\"grid_line_color\":{\"value\":null},\"plot\":{\"id\":\"a48113e5-d620-4581-993d-0dd35be25791\",\"subtype\":\"Figure\",\"type\":\"Plot\"},\"ticker\":{\"id\":\"976f9382-a725-4b50-b648-221b295d5210\",\"type\":\"BasicTicker\"}},\"id\":\"0ceddb9d-5658-4cff-a950-31a203fa6abc\",\"type\":\"Grid\"},{\"attributes\":{\"items\":[{\"id\":\"67e60a95-98ca-4b9a-a6fd-dae79e100534\",\"type\":\"LegendItem\"},{\"id\":\"ba3eabcc-53f6-40fc-b261-ca29cb9200f4\",\"type\":\"LegendItem\"}],\"label_text_font_size\":{\"value\":\"1em\"},\"location\":\"bottom_right\",\"plot\":{\"id\":\"a48113e5-d620-4581-993d-0dd35be25791\",\"subtype\":\"Figure\",\"type\":\"Plot\"}},\"id\":\"a28f9ad2-2b78-4479-8a49-f2ba37b93682\",\"type\":\"Legend\"},{\"attributes\":{\"overlay\":{\"id\":\"133bbd9c-f5e5-4193-b01e-a6f445172479\",\"type\":\"BoxAnnotation\"}},\"id\":\"3ee9d63c-fd98-45de-9466-5e879374eeaf\",\"type\":\"BoxZoomTool\"},{\"attributes\":{\"callback\":null,\"factors\":[\"exclusive\",\"tech\",\"tint\",\"shipped\",\"safest\",\"seawater\",\"fog\",\"type\",\"optimized\",\"zero\",\"increase\",\"excessive\",\"rainbow\",\"athletes\",\"enhanced\",\"nanometers\",\"padded\",\"cat\",\"started\",\"exclusively\"],\"range_padding\":0.1},\"id\":\"548804ac-7247-4128-b0ae-fe96283ea113\",\"type\":\"FactorRange\"},{\"attributes\":{\"fill_color\":{\"value\":\"deeppink\"},\"height\":{\"value\":0.8},\"line_color\":{\"value\":\"deeppink\"},\"right\":{\"field\":\"ratio\"},\"y\":{\"field\":\"word\"}},\"id\":\"a82084aa-fb7c-4fe0-b59a-7532a5db567b\",\"type\":\"HBar\"},{\"attributes\":{\"source\":{\"id\":\"bcb0d1db-0e48-4f95-9ebb-034fdd61686c\",\"type\":\"ColumnDataSource\"}},\"id\":\"d3e77e22-da10-4f17-b08f-41fb29068d9c\",\"type\":\"CDSView\"},{\"attributes\":{},\"id\":\"976f9382-a725-4b50-b648-221b295d5210\",\"type\":\"BasicTicker\"},{\"attributes\":{\"callback\":null,\"column_names\":[\"gender\",\"word\",\"index\",\"ratio\"],\"data\":{\"gender\":[\"m\",\"m\",\"m\",\"m\",\"m\",\"m\",\"m\",\"m\",\"m\",\"m\",\"m\",\"m\",\"m\",\"m\",\"m\",\"m\"],\"index\":[0,1,2,3,4,5,6,7,8,10,11,14,12,13,19,18],\"ratio\":{\"__ndarray__\":\"BXvcDSDqMcDR07m9lpwwwDoVgUpsGijAnx8ZWtAxJMBrePYJR+QiwGt49glH5CLAa3j2CUfkIsA40dO5vZYhwAQqsWk0SSDAogUdM1b3HcCiBR0zVvcdwDu315JDXBvAO7fXkkNcG8A7t9eSQ1wbwNNokvIwwRjA02iS8jDBGMA=\",\"dtype\":\"float64\",\"shape\":[16]},\"word\":[\"exclusive\",\"tech\",\"tint\",\"shipped\",\"safest\",\"seawater\",\"fog\",\"type\",\"optimized\",\"zero\",\"increase\",\"excessive\",\"rainbow\",\"athletes\",\"enhanced\",\"nanometers\"]},\"selected\":null,\"selection_policy\":null},\"id\":\"9f1ab562-b6f0-40d0-aa53-57193362d1cc\",\"type\":\"ColumnDataSource\"},{\"attributes\":{},\"id\":\"651e12fc-ce07-49ce-a5cb-4280c4987d02\",\"type\":\"LinearScale\"},{\"attributes\":{\"formatter\":{\"id\":\"6cbf977f-2498-4282-9d53-10d74a642b07\",\"type\":\"CategoricalTickFormatter\"},\"plot\":{\"id\":\"a48113e5-d620-4581-993d-0dd35be25791\",\"subtype\":\"Figure\",\"type\":\"Plot\"},\"ticker\":{\"id\":\"281d729f-7e24-437d-9c16-7e0fb626eb77\",\"type\":\"CategoricalTicker\"},\"visible\":false},\"id\":\"342fecaf-f714-46e3-9843-f1d9b601500c\",\"type\":\"CategoricalAxis\"},{\"attributes\":{\"level\":\"glyph\",\"plot\":{\"id\":\"a48113e5-d620-4581-993d-0dd35be25791\",\"subtype\":\"Figure\",\"type\":\"Plot\"},\"source\":{\"id\":\"8eb7bc05-874c-49c2-b780-557a51133fcb\",\"type\":\"ColumnDataSource\"},\"text\":{\"field\":\"word\"},\"text_align\":\"right\",\"x\":{\"value\":0},\"x_offset\":{\"value\":-5},\"y\":{\"field\":\"word\"},\"y_offset\":{\"value\":-9}},\"id\":\"fc70a8cb-e534-4c36-930c-887cf5985117\",\"type\":\"LabelSet\"},{\"attributes\":{\"data_source\":{\"id\":\"bcb0d1db-0e48-4f95-9ebb-034fdd61686c\",\"type\":\"ColumnDataSource\"},\"glyph\":{\"id\":\"a82084aa-fb7c-4fe0-b59a-7532a5db567b\",\"type\":\"HBar\"},\"hover_glyph\":null,\"muted_glyph\":null,\"nonselection_glyph\":{\"id\":\"acb142b7-ee66-454e-8bd7-2449eab22cd8\",\"type\":\"HBar\"},\"selection_glyph\":null,\"view\":{\"id\":\"d3e77e22-da10-4f17-b08f-41fb29068d9c\",\"type\":\"CDSView\"}},\"id\":\"2e27b0df-9d05-456d-a54b-06c750f65c45\",\"type\":\"GlyphRenderer\"},{\"attributes\":{\"callback\":null,\"column_names\":[\"gender\",\"word\",\"index\",\"ratio\"],\"data\":{\"gender\":[\"m\",\"m\",\"m\",\"m\",\"m\",\"m\",\"m\",\"m\",\"m\",\"m\",\"m\",\"m\",\"m\",\"m\",\"m\",\"m\"],\"index\":[0,1,2,3,4,5,6,7,8,10,11,14,12,13,19,18],\"ratio\":{\"__ndarray__\":\"BXvcDSDqMcDR07m9lpwwwDoVgUpsGijAnx8ZWtAxJMBrePYJR+QiwGt49glH5CLAa3j2CUfkIsA40dO5vZYhwAQqsWk0SSDAogUdM1b3HcCiBR0zVvcdwDu315JDXBvAO7fXkkNcG8A7t9eSQ1wbwNNokvIwwRjA02iS8jDBGMA=\",\"dtype\":\"float64\",\"shape\":[16]},\"word\":[\"exclusive\",\"tech\",\"tint\",\"shipped\",\"safest\",\"seawater\",\"fog\",\"type\",\"optimized\",\"zero\",\"increase\",\"excessive\",\"rainbow\",\"athletes\",\"enhanced\",\"nanometers\"]},\"selected\":null,\"selection_policy\":null},\"id\":\"bb180663-7229-45d3-8e1d-5465977ba5e5\",\"type\":\"ColumnDataSource\"}],\"root_ids\":[\"a48113e5-d620-4581-993d-0dd35be25791\"]},\"title\":\"Bokeh Application\",\"version\":\"0.12.15\"}};\n",
       "  var render_items = [{\"docid\":\"1b315fab-d6ab-49da-be01-dbc721450ff3\",\"elementid\":\"dd063006-917d-4598-a4d6-8c5a0354390f\",\"modelid\":\"a48113e5-d620-4581-993d-0dd35be25791\"}];\n",
       "  root.Bokeh.embed.embed_items_notebook(docs_json, render_items);\n",
       "\n",
       "  }\n",
       "  if (root.Bokeh !== undefined) {\n",
       "    embed_document(root);\n",
       "  } else {\n",
       "    var attempts = 0;\n",
       "    var timer = setInterval(function(root) {\n",
       "      if (root.Bokeh !== undefined) {\n",
       "        embed_document(root);\n",
       "        clearInterval(timer);\n",
       "      }\n",
       "      attempts++;\n",
       "      if (attempts > 100) {\n",
       "        console.log(\"Bokeh: ERROR: Unable to run BokehJS code because BokehJS library is missing\")\n",
       "        clearInterval(timer);\n",
       "      }\n",
       "    }, 10, root)\n",
       "  }\n",
       "})(window);"
      ],
      "application/vnd.bokehjs_exec.v0+json": ""
     },
     "metadata": {
      "application/vnd.bokehjs_exec.v0+json": {
       "id": "a48113e5-d620-4581-993d-0dd35be25791"
      }
     },
     "output_type": "display_data"
    }
   ],
   "source": [
    "# EyewearFD = get_FD(Eyewear_Corpus)\n",
    "eyewear_labeled = create_features(Eyewear_Corpus)\n",
    "eyewearSC = NB_classify(eyewear_labeled)\n",
    "eyewear_features = store_most_informative_features(eyewearSC, 20)\n",
    "graph_features(eyewear_features, \"Eyewear\")"
   ]
  },
  {
   "cell_type": "markdown",
   "metadata": {},
   "source": [
    "## All the Functions and Methods\n",
    "\n",
    "Some really helpful tools:\n",
    "\n",
    "### NLTK\n",
    "Convenient corpus manipulation. Very easy to label and process in batch, filter out stopwords, get the filenames. Has built in Naive Bayes classifier. Can easily get frequency distributions\n",
    "\n",
    "### Bokeh\n",
    "Takes a lot of word to customize, but will be useful for interactive graphics on a site later.\n",
    "\n",
    "### Amazon product advertisement API wrapper. \n",
    "Besides not being available in Python 3, generally easy to use. Having realized the first issue a bit late, might stick with it unless there's noticeable lapses in fetching/ parsing. Experimented with another that seemed less intuitive at first, could experiment with others later."
   ]
  },
  {
   "cell_type": "code",
   "execution_count": 79,
   "metadata": {},
   "outputs": [],
   "source": [
    "def graph_features(featlist, name):\n",
    "    \n",
    "    \"\"\"\n",
    "    Function takes as input, a list of features as outputed by store_most_informative_features, and a str for product\n",
    "    Function creates a labeled dataframe, transforms the df by\n",
    "        retaining positive values for \"f\" features, negative values for \"m\" features, sorting by descending order\n",
    "        use Bokeh to graph the most informative features from most \"f\" indicating to most \"m\" indicating\n",
    "    Function returns None\n",
    "    \"\"\"\n",
    "    featdf = pd.DataFrame(featlist)\n",
    "    featdf.columns = ['word','gender','ratio']\n",
    "    if (featdf[featdf.gender=='m'].ratio > 0).any():\n",
    "        featdf.loc[featdf.gender=='m','ratio'] *= -1\n",
    "    featdf.sort_values(by='ratio',ascending = True, inplace = True)\n",
    "    x_max = featdf.ratio.abs().max() + 5\n",
    "    p = figure(y_range=list(featdf.word), x_range=(-x_max,x_max), \n",
    "               title=\"Most Informative Words in Descriptions for \" + name)\n",
    "\n",
    "    p.hbar(y='word', right='ratio', left = 0, height = 0.8, legend = \"Female\",\n",
    "           color = 'deeppink', source=ColumnDataSource(featdf[featdf.gender=='f']))\n",
    "    p.hbar(y='word', left ='ratio', right = 0, height = 0.8, legend = \"Male\",\n",
    "           color = 'deepskyblue', source=ColumnDataSource(featdf[featdf.gender=='m']))\n",
    "    labels_m = LabelSet(x=0, y='word', text='word', level='glyph', x_offset = 5,\n",
    "              source=ColumnDataSource(featdf[featdf.gender=='m']), y_offset = -9, render_mode='canvas')\n",
    "    labels_f = LabelSet(x=0, y='word', text='word', level='glyph', x_offset = -5, text_align = 'right',\n",
    "              source=ColumnDataSource(featdf[featdf.gender=='f']), y_offset = -9, render_mode='canvas')\n",
    "    p.add_layout(labels_m)\n",
    "    p.add_layout(labels_f)\n",
    "    p.yaxis.visible = False\n",
    "    p.y_range.range_padding = 0.1\n",
    "    p.xaxis.axis_label = \"Likelihood Ratio\"\n",
    "    p.xaxis.axis_label_text_font_size = '1em'\n",
    "    p.xaxis.major_label_text_font_size = '1em'\n",
    "    p.title.text_font_size = '1.2em'\n",
    "    p.xaxis[0].formatter = PrintfTickFormatter(format=\"%uX\")\n",
    "    p.legend.location = \"bottom_right\"\n",
    "    p.legend.label_text_font_size = '1em'\n",
    "    p.xgrid.grid_line_color = None\n",
    "    p.ygrid.grid_line_color = None\n",
    "    show(p)\n",
    "#    return featdf"
   ]
  },
  {
   "cell_type": "code",
   "execution_count": 11,
   "metadata": {},
   "outputs": [],
   "source": [
    "def store_most_informative_features(self, n=20):\n",
    "    # function acts on a Naive Bayes classifier object outputed by NLTK\n",
    "    # function outputs list of n most informative features, the label of lean, and the ratio\n",
    "    cpdist = self._feature_probdist\n",
    "    feat_list = []\n",
    "\n",
    "    for (fname, fval) in self.most_informative_features(n):\n",
    "        def labelprob(l):\n",
    "            return cpdist[l, fname].prob(fval)\n",
    "\n",
    "        labels = sorted([l for l in self._labels\n",
    "                         if fval in cpdist[l, fname].samples()],\n",
    "                        key=labelprob)\n",
    "        if len(labels) == 1:\n",
    "            continue\n",
    "        l0 = labels[0]\n",
    "        l1 = labels[-1]\n",
    "        if cpdist[l0, fname].prob(fval) == 0:\n",
    "            ratio = 'INF'\n",
    "        else:\n",
    "            ratio = (cpdist[l1, fname].prob(fval) /\n",
    "                               cpdist[l0, fname].prob(fval))\n",
    "        feat_list.append([fname, (\"%s\" % l1)[:6], ratio])\n",
    "    return feat_list"
   ]
  },
  {
   "cell_type": "code",
   "execution_count": 173,
   "metadata": {},
   "outputs": [],
   "source": [
    "def NB_classify(feature, fraction = 0.8, cats = ['f','m']):\n",
    "    \"\"\"\n",
    "    Function takes as inputs:\n",
    "        feature(dic) as dictionary of labeled features\n",
    "        fraction(0-1.0) as proportion of raw files to include in the training set\n",
    "    Function scrambles file order, kept the same scramble here with seeding for reference purposes\n",
    "        takes the portion of training data to train the NLTK Naive Bayes classifier, prints its accuracy,\n",
    "        prints accuracy of the classifier on the test data\n",
    "    Function outputs the Naive Bayes Sentiment classifier object\n",
    "    \"\"\"\n",
    "    test = []\n",
    "    train = []\n",
    "    for cat in cats:\n",
    "        featlist = feature[cat]\n",
    "        split = int(round(len(featlist) * fraction))\n",
    "        random.seed(9876543210)\n",
    "        random.shuffle(featlist)\n",
    "        train += featlist[:split]\n",
    "        test += featlist[split:]\n",
    "    sentiment_classifier = NaiveBayesClassifier.train(train)\n",
    "    print(\"Train accuracy: {}\".format(util.accuracy(sentiment_classifier, train) * 100))\n",
    "    print(\" Test accuracy: {}\". format(util.accuracy(sentiment_classifier, test) * 100))\n",
    "    return sentiment_classifier"
   ]
  },
  {
   "cell_type": "code",
   "execution_count": 16,
   "metadata": {},
   "outputs": [],
   "source": [
    "def get_FD(corpus, n = 10, cat = None):\n",
    "    # Function takes categorized NLTK corpus and returns FreqDist object while printing n most common words of corpus\n",
    "    words = corpus.words(categories = cat)\n",
    "    filtered = filter_lower(words)\n",
    "    FD = FreqDist(filtered)\n",
    "    print(FD.most_common(n))\n",
    "    return FD"
   ]
  },
  {
   "cell_type": "code",
   "execution_count": 124,
   "metadata": {},
   "outputs": [],
   "source": [
    "def build_corpus(index, dirname, dictionary, exclude = None):\n",
    "    \"\"\"\n",
    "    function takes as inputs:\n",
    "        index(str) as optioned by Amazon\n",
    "        dirname(str) as chosen by user for folder for output\n",
    "        dictionary(dic) of pair matched parent node IDs, with keys as 'f' or 'm'\n",
    "        nodelimit(list) as a range of lower and upper limit to the child nodes\n",
    "    function retrieves item descriptions by calling save_item_files() for the node itself,\n",
    "        and child nodes up to the numerical nodelimit\n",
    "    function outputs:\n",
    "        Corpus, an NLTK categorized corpus, labeling each item item\n",
    "    \"\"\"\n",
    "    corpusdir = dirname + \"/\"\n",
    "    if not os.path.isdir(corpusdir):\n",
    "        os.mkdir(corpusdir)\n",
    "    \n",
    "    for k,v in dictionary.items():\n",
    "        save_item_files(corpusdir, index, v , tag = k)\n",
    "        for childnode in get_child_nodes(v):\n",
    "            if exclude is None:\n",
    "                save_item_files(corpusdir, index, childnode, tag = k)\n",
    "            elif childnode not in exclude:\n",
    "                save_item_files(corpusdir, index, childnode, tag = k)\n",
    "            else:\n",
    "                continue\n",
    "            \n",
    "    corpus = read_corpus(corpusdir)\n",
    "    return corpus"
   ]
  },
  {
   "cell_type": "code",
   "execution_count": 112,
   "metadata": {},
   "outputs": [],
   "source": [
    "def read_corpus(corpusdir):\n",
    "    if not os.path.isdir(corpusdir):\n",
    "        os.mkdir(corpusdir)\n",
    "    corpus = CategorizedPlaintextCorpusReader(corpusdir, r'.*.txt', cat_pattern=r'\\w+_([fm]).txt')\n",
    "    return corpus"
   ]
  },
  {
   "cell_type": "code",
   "execution_count": 17,
   "metadata": {},
   "outputs": [],
   "source": [
    "def create_features(corpus, cats = ['f','m']):\n",
    "    # function takes categorized NLTK corpus, and creates a dictionary of features labeled 'f' or 'm'\n",
    "    dictout = {}\n",
    "    for cat in cats:\n",
    "        dictout[cat] = [\n",
    "        (bag_filter_lower(corpus.words(fileids=[f])), cat) \\\n",
    "        for f in corpus.fileids(categories=cat)]\n",
    "    return dictout"
   ]
  },
  {
   "cell_type": "code",
   "execution_count": 18,
   "metadata": {},
   "outputs": [],
   "source": [
    "def save_item_files(corpusdir, SearchIndex, Node, tag=\"\"):\n",
    "    \"\"\"\n",
    "    function takes as inputs:\n",
    "        corpusdir(str) of the directory where corpus files will be created and saved to\n",
    "        SearchIndex(str) of item to be searched as optioned by Amazon\n",
    "        node(int) of the node ID for the item search\n",
    "        tag(str) of the \"tag\" that goes at end of filename to indicate \"f\" or \"m\"\n",
    "    function uses created Amazon api object and saves description of each item as a text file\n",
    "        with item ASIN as filename, with usually the indicated tag at the end following underscore\n",
    "    function returns nothing\n",
    "    \"\"\"\n",
    "    items = api.item_search(\n",
    "        SearchIndex, ResponseGroup = 'EditorialReview', BrowseNode = Node)\n",
    "\n",
    "    for i, item in enumerate(items):\n",
    "        try:\n",
    "            content = item.EditorialReviews.EditorialReview.Content.text\n",
    "            content = re.sub('<[^<]+?>', '', content)\n",
    "            with open(corpusdir + item.ASIN.text + \"_\" + tag + '.txt','w') as fout:\n",
    "                fout.write(content.encode('utf-8'))\n",
    "                \n",
    "        except AttributeError:\n",
    "            pass"
   ]
  },
  {
   "cell_type": "code",
   "execution_count": 19,
   "metadata": {
    "scrolled": false
   },
   "outputs": [],
   "source": [
    "def filter_lower(words):\n",
    "    # function filters for stopwords and punctuations from a list of words and returns list with all lowercase words\n",
    "    uselesswords = stopwords.words(\"english\") + list(string.punctuation)\n",
    "    #otherwords = [\"\\s\", \"br\", \"b\", \"</\", \"><\", \".</\", \"/>\", \".<\", \">-\", \"\"\"+)\"\"\", \"\"\")<\\\\\"\"\"]\n",
    "    #uselesswords += otherwords\n",
    "    return [word.lower() for word in words if not word.lower() in uselesswords]"
   ]
  },
  {
   "cell_type": "code",
   "execution_count": 20,
   "metadata": {},
   "outputs": [],
   "source": [
    "def bag_filter_lower(words):\n",
    "    # function filters for stopwords and punctuations from a list of words \n",
    "    # and returns dictionary with all lowercase words with value 1\n",
    "    uselesswords = stopwords.words(\"english\") + list(string.punctuation)\n",
    "    return {word.lower():1 for word in words if not word.lower() in uselesswords}"
   ]
  },
  {
   "cell_type": "code",
   "execution_count": 122,
   "metadata": {},
   "outputs": [],
   "source": [
    "def get_child_nodes(node_id):\n",
    "    # function takes the node ID(int) and returns a list of child_nodes\n",
    "    child_nodes = []\n",
    "    result = api.browse_node_lookup(node_id)\n",
    "    try:\n",
    "        for child in result.BrowseNodes.BrowseNode.Children.BrowseNode:\n",
    "            nodeout = child.BrowseNodeId.text\n",
    "            child_nodes.append(int(nodeout))\n",
    "    except AttributeError:\n",
    "        print(\"No child nodes found\")\n",
    "    return child_nodes"
   ]
  },
  {
   "cell_type": "code",
   "execution_count": 22,
   "metadata": {},
   "outputs": [],
   "source": [
    "def print_child_nodes(node_id):\n",
    "    # function takes as input the node ID(int) and prints descriptions and node ID of children nodes\n",
    "    result = api.browse_node_lookup(node_id)\n",
    "    for child in result.BrowseNodes.BrowseNode.Children.BrowseNode:\n",
    "         print('{} ({})'.format(child.Name, child.BrowseNodeId))"
   ]
  }
 ],
 "metadata": {
  "kernelspec": {
   "display_name": "Python 2",
   "language": "python",
   "name": "python2"
  },
  "language_info": {
   "codemirror_mode": {
    "name": "ipython",
    "version": 2
   },
   "file_extension": ".py",
   "mimetype": "text/x-python",
   "name": "python",
   "nbconvert_exporter": "python",
   "pygments_lexer": "ipython2",
   "version": "2.7.14"
  }
 },
 "nbformat": 4,
 "nbformat_minor": 2
}
