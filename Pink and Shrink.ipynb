{
 "cells": [
  {
   "cell_type": "code",
   "execution_count": 1,
   "metadata": {
    "collapsed": true
   },
   "outputs": [],
   "source": [
    "from amazonproduct import API\n",
    "import os\n",
    "from nltk.corpus.reader.plaintext import CategorizedPlaintextCorpusReader\n",
    "from nltk import word_tokenize, FreqDist\n",
    "from nltk.corpus import stopwords\n",
    "import string\n",
    "from nltk.classify import NaiveBayesClassifier, util\n",
    "import random\n",
    "import pandas as pd\n",
    "import re"
   ]
  },
  {
   "cell_type": "code",
   "execution_count": 1,
   "metadata": {
    "collapsed": true
   },
   "outputs": [],
   "source": [
    "cfg = {\n",
    "    'access_key': 'ABCDEFG1234X',\n",
    "    'secret_key': 'Ydjkei78HdkffdklieAHDJWE3134',\n",
    "    'associate_tag': 'redtoad-10',\n",
    "    'locale': 'us'\n",
    "}"
   ]
  },
  {
   "cell_type": "code",
   "execution_count": 2,
   "metadata": {
    "collapsed": true
   },
   "outputs": [],
   "source": []
  },
  {
   "cell_type": "code",
   "execution_count": 3,
   "metadata": {
    "collapsed": true
   },
   "outputs": [],
   "source": [
    "api = API(cfg = cfg)"
   ]
  },
  {
   "cell_type": "code",
   "execution_count": null,
   "metadata": {
    "collapsed": true
   },
   "outputs": [],
   "source": [
    "\"\"\"\n",
    "'All','Wine','Wireless','ArtsAndCrafts','Miscellaneous','Electronics','Jewelry','MobileApps','Photo','Shoes','KindleStore','Automotive','Vehicles','Pantry','MusicalInstruments','DigitalMusic','GiftCards','FashionBaby','FashionGirls','GourmetFood','HomeGarden','MusicTracks','UnboxVideo','FashionWomen','VideoGames','FashionMen','Kitchen','Video','Software','Beauty','Grocery',,'FashionBoys','Industrial','PetSupplies','OfficeProducts','Magazines','Watches','Luggage','OutdoorLiving','Toys','SportingGoods','PCHardware','Movies','Books','Collectibles','Handmade','VHS','MP3Downloads','HomeAndBusinessServices','Fashion','Tools','Baby','Apparel','Marketplace','DVD','Appliances','Music','LawnAndGarden','WirelessAccessories','Blended','HealthPersonalCare','Classical'\n",
    "\"\"\""
   ]
  },
  {
   "cell_type": "code",
   "execution_count": 44,
   "metadata": {
    "collapsed": true
   },
   "outputs": [],
   "source": [
    "\"Fashion\"\n",
    "\"FashionMen\"\n",
    "\"FashionWomen\"\n",
    "shoes_running = {}\n",
    "#shoes_running['ind'] = \"Fashion\"\n",
    "shoes_running['f'] = 679360011\n",
    "shoes_running['m'] = 679286011\n",
    "\n",
    "# dict_shoes = {'index':[], 'node'}\n",
    "\"Beauty\" \n",
    "\"HealthPersonalCare\"\n",
    "perfume = {}\n",
    "#perfume['ind'] = 'Beauty'\n",
    "perfume['f'] = 11056931\n",
    "perfume['m'] = 11056761\n",
    "\n",
    "\"Fashion\"\n",
    "watch = {}\n",
    "watch['f'] = 6358543011\n",
    "watch['m'] = 6358539011\n",
    "\n",
    "razor = {}\n",
    "razor['f'] = 13269991011\n",
    "\n",
    "\"\"\"Cartridges & Refills (13269995011a)\n",
    "Disposable Razors (13269997011a)\n",
    "Razor Systems (13269993011a)\n",
    "\"\"\"\n",
    "\n",
    "razor['m'] = 13271080011\n",
    "\n",
    "\"\"\"Razor Systems (13271082011a)\n",
    "Cartridges & Refills (13271084011a)\n",
    "Disposable Razors (13271086011a)\"\"\"\n",
    "\n",
    "\"Fasion\"\n",
    "eyewear = {}\n",
    "eyewear['m'] = 7072330011\n",
    "eyewear['f'] = 7072321011\n",
    "\n",
    "glasses = {}\n",
    "glasses['m'] = 2474995011\n",
    "glasses['f'] = 2474971011\n",
    "\n",
    "socks = {}\n",
    "socks['f'] = 1044886\n",
    "\n",
    "\"\"\"Casual Socks (2376196011a)\n",
    "Dress & Trouser Socks (2376197011a)\n",
    "Athletic Socks (1044920a)\n",
    "Leg Warmers (2376198011a)\n",
    "Tights (1044936a)\n",
    "Sheers (1044934a)\n",
    "Slipper Socks (2376199011a)\n",
    "No Show & Liner Socks (2376200011a)\"\"\"\n",
    "\n",
    "socks['m'] = 1045708\n",
    "\n",
    "\"\"\"Casual Socks (2476509011a)\n",
    "Dress & Trouser Socks (1045726a)\n",
    "Athletic Socks (1045724a)\"\"\"\n",
    "\n",
    "wallets = {}\n",
    "wallets['m'] = 2475895011\n",
    "wallets['f'] = 2475898011\n",
    "\n",
    "\"Fashion\"\n",
    "\"SportingGoods\"\n",
    "shirts = {}\n",
    "shirts['m'] = 11444073011\n",
    "shirts['f'] = 11444120011\n",
    "\n",
    "\"Health\"\n",
    "vitamins = {}\n",
    "vitamins['m'] = 3760901\n",
    "vitamins['f'] = 3764441\n",
    "\n",
    "\"\"\n",
    "pants = {}\n",
    "pants['f'] = 11443933011\n",
    "pants['m'] = 11443885011"
   ]
  },
  {
   "cell_type": "code",
   "execution_count": 69,
   "metadata": {
    "collapsed": true
   },
   "outputs": [],
   "source": [
    "Shoes_Corpus = build_corpus(\"SportingGoods\", \"ShoesCorpus\", shoes_running)"
   ]
  },
  {
   "cell_type": "code",
   "execution_count": 71,
   "metadata": {},
   "outputs": [],
   "source": [
    "Shoes_Corpus = build_corpus(\"Fashion\", \"ShoesCorpus\", shoes_running)"
   ]
  },
  {
   "cell_type": "code",
   "execution_count": 78,
   "metadata": {
    "scrolled": true
   },
   "outputs": [
    {
     "name": "stdout",
     "output_type": "stream",
     "text": [
      "[(u'shoe', 583), (u'foot', 569), (u'upper', 535), (u'us', 491), (u'length', 473), (u'shoes', 449), (u'comfort', 442), (u'fit', 429), (u'running', 406), (u'outsole', 397), (u'mesh', 385), (u'cushioning', 378), (u'lightweight', 370), (u'size', 359), (u'5', 354)]\n",
      "84.4349680171\n",
      "72.3404255319\n"
     ]
    }
   ],
   "source": [
    "ShoesFD = get_FD(Shoes_Corpus)\n",
    "shoes_features = create_features(Shoes_Corpus)\n",
    "shoesSC = NB_classify(shoes_features, 0.8)\n",
    "shoes_info = store_most_informative_features(shoesSC, 30)"
   ]
  },
  {
   "cell_type": "code",
   "execution_count": 85,
   "metadata": {},
   "outputs": [
    {
     "ename": "AttributeError",
     "evalue": "unexpected attribute 'range_padding' to FactorRange, possible attributes are bounds, callback, factors, js_event_callbacks, js_property_callbacks, max_interval, min_interval, name, offset, subscribed_events or tags",
     "output_type": "error",
     "traceback": [
      "\u001b[1;31m---------------------------------------------------------------------------\u001b[0m",
      "\u001b[1;31mAttributeError\u001b[0m                            Traceback (most recent call last)",
      "\u001b[1;32m<ipython-input-85-19d249bc6e72>\u001b[0m in \u001b[0;36m<module>\u001b[1;34m()\u001b[0m\n\u001b[1;32m----> 1\u001b[1;33m \u001b[0mgraph_features\u001b[0m\u001b[1;33m(\u001b[0m\u001b[0mshoes_info\u001b[0m\u001b[1;33m,\u001b[0m \u001b[1;34m\"Running Shoes\"\u001b[0m\u001b[1;33m)\u001b[0m\u001b[1;33m\u001b[0m\u001b[0m\n\u001b[0m",
      "\u001b[1;32m<ipython-input-84-8a46bf445127>\u001b[0m in \u001b[0;36mgraph_features\u001b[1;34m(featlist, name)\u001b[0m\n\u001b[0;32m     30\u001b[0m     \u001b[0mp\u001b[0m\u001b[1;33m.\u001b[0m\u001b[0madd_layout\u001b[0m\u001b[1;33m(\u001b[0m\u001b[0mlabels_f\u001b[0m\u001b[1;33m)\u001b[0m\u001b[1;33m\u001b[0m\u001b[0m\n\u001b[0;32m     31\u001b[0m     \u001b[0mp\u001b[0m\u001b[1;33m.\u001b[0m\u001b[0myaxis\u001b[0m\u001b[1;33m.\u001b[0m\u001b[0mvisible\u001b[0m \u001b[1;33m=\u001b[0m \u001b[0mFalse\u001b[0m\u001b[1;33m\u001b[0m\u001b[0m\n\u001b[1;32m---> 32\u001b[1;33m     \u001b[0mp\u001b[0m\u001b[1;33m.\u001b[0m\u001b[0my_range\u001b[0m\u001b[1;33m.\u001b[0m\u001b[0mrange_padding\u001b[0m \u001b[1;33m=\u001b[0m \u001b[1;36m0.1\u001b[0m\u001b[1;33m\u001b[0m\u001b[0m\n\u001b[0m\u001b[0;32m     33\u001b[0m     \u001b[0mp\u001b[0m\u001b[1;33m.\u001b[0m\u001b[0mxaxis\u001b[0m\u001b[1;33m.\u001b[0m\u001b[0maxis_label\u001b[0m \u001b[1;33m=\u001b[0m \u001b[1;34m\"Likelihood Ratio\"\u001b[0m\u001b[1;33m\u001b[0m\u001b[0m\n\u001b[0;32m     34\u001b[0m     \u001b[0mp\u001b[0m\u001b[1;33m.\u001b[0m\u001b[0mxaxis\u001b[0m\u001b[1;33m.\u001b[0m\u001b[0maxis_label_text_font_size\u001b[0m \u001b[1;33m=\u001b[0m \u001b[1;34m'1em'\u001b[0m\u001b[1;33m\u001b[0m\u001b[0m\n",
      "\u001b[1;32mC:\\Users\\sli\\AppData\\Local\\Continuum\\Anaconda2\\lib\\site-packages\\bokeh\\core\\has_props.pyc\u001b[0m in \u001b[0;36m__setattr__\u001b[1;34m(self, name, value)\u001b[0m\n\u001b[0;32m    280\u001b[0m \u001b[1;33m\u001b[0m\u001b[0m\n\u001b[0;32m    281\u001b[0m             raise AttributeError(\"unexpected attribute '%s' to %s, %s attributes are %s\" %\n\u001b[1;32m--> 282\u001b[1;33m                 (name, self.__class__.__name__, text, nice_join(matches)))\n\u001b[0m\u001b[0;32m    283\u001b[0m \u001b[1;33m\u001b[0m\u001b[0m\n\u001b[0;32m    284\u001b[0m     \u001b[1;32mdef\u001b[0m \u001b[0m__str__\u001b[0m\u001b[1;33m(\u001b[0m\u001b[0mself\u001b[0m\u001b[1;33m)\u001b[0m\u001b[1;33m:\u001b[0m\u001b[1;33m\u001b[0m\u001b[0m\n",
      "\u001b[1;31mAttributeError\u001b[0m: unexpected attribute 'range_padding' to FactorRange, possible attributes are bounds, callback, factors, js_event_callbacks, js_property_callbacks, max_interval, min_interval, name, offset, subscribed_events or tags"
     ]
    }
   ],
   "source": [
    "graph_features(shoes_info, \"Running Shoes\")"
   ]
  },
  {
   "cell_type": "code",
   "execution_count": 45,
   "metadata": {},
   "outputs": [],
   "source": [
    "Pants_Corpus = build_corpus(\"SportingGoods\", \"PantsCorpus\", pants)"
   ]
  },
  {
   "cell_type": "code",
   "execution_count": 55,
   "metadata": {
    "collapsed": true
   },
   "outputs": [],
   "source": [
    "Pants_Corpus = build_corpus(\"Fashion\", \"PantsCorpus\", pants)"
   ]
  },
  {
   "cell_type": "code",
   "execution_count": 67,
   "metadata": {
    "scrolled": true
   },
   "outputs": [
    {
     "name": "stdout",
     "output_type": "stream",
     "text": [
      "[(u'waist', 1061), (u'pants', 970), (u'pant', 782), (u'\",', 762), (u'fabric', 639), (u'fit', 589), (u'5', 578), (u'length', 557), (u'size', 537), (u'pockets', 518), (u'keep', 437), (u'\"),', 420), (u'snow', 415), (u'dry', 408), (u'waterproof', 400)]\n",
      "90.1939655172\n",
      "81.3852813853\n"
     ]
    }
   ],
   "source": [
    "PantsFD = get_FD(Pants_Corpus)\n",
    "pants_features = create_features(Pants_Corpus)\n",
    "pantsSC = NB_classify(pants_features, 0.8)\n",
    "pants_info = store_most_informative_features(pantsSC, 30)"
   ]
  },
  {
   "cell_type": "code",
   "execution_count": 68,
   "metadata": {},
   "outputs": [
    {
     "data": {
      "text/html": [
       "\n",
       "\n",
       "    <div class=\"bk-root\">\n",
       "        <div class=\"bk-plotdiv\" id=\"b020d5b5-6ce4-472f-a2b1-62c20544cc1b\"></div>\n",
       "    </div>\n",
       "<script type=\"text/javascript\">\n",
       "  \n",
       "  (function(global) {\n",
       "    function now() {\n",
       "      return new Date();\n",
       "    }\n",
       "  \n",
       "    var force = false;\n",
       "  \n",
       "    if (typeof (window._bokeh_onload_callbacks) === \"undefined\" || force === true) {\n",
       "      window._bokeh_onload_callbacks = [];\n",
       "      window._bokeh_is_loading = undefined;\n",
       "    }\n",
       "  \n",
       "  \n",
       "    \n",
       "    if (typeof (window._bokeh_timeout) === \"undefined\" || force === true) {\n",
       "      window._bokeh_timeout = Date.now() + 0;\n",
       "      window._bokeh_failed_load = false;\n",
       "    }\n",
       "  \n",
       "    var NB_LOAD_WARNING = {'data': {'text/html':\n",
       "       \"<div style='background-color: #fdd'>\\n\"+\n",
       "       \"<p>\\n\"+\n",
       "       \"BokehJS does not appear to have successfully loaded. If loading BokehJS from CDN, this \\n\"+\n",
       "       \"may be due to a slow or bad network connection. Possible fixes:\\n\"+\n",
       "       \"</p>\\n\"+\n",
       "       \"<ul>\\n\"+\n",
       "       \"<li>re-rerun `output_notebook()` to attempt to load from CDN again, or</li>\\n\"+\n",
       "       \"<li>use INLINE resources instead, as so:</li>\\n\"+\n",
       "       \"</ul>\\n\"+\n",
       "       \"<code>\\n\"+\n",
       "       \"from bokeh.resources import INLINE\\n\"+\n",
       "       \"output_notebook(resources=INLINE)\\n\"+\n",
       "       \"</code>\\n\"+\n",
       "       \"</div>\"}};\n",
       "  \n",
       "    function display_loaded() {\n",
       "      if (window.Bokeh !== undefined) {\n",
       "        var el = document.getElementById(\"b020d5b5-6ce4-472f-a2b1-62c20544cc1b\");\n",
       "        el.textContent = \"BokehJS \" + Bokeh.version + \" successfully loaded.\";\n",
       "      } else if (Date.now() < window._bokeh_timeout) {\n",
       "        setTimeout(display_loaded, 100)\n",
       "      }\n",
       "    }\n",
       "  \n",
       "    function run_callbacks() {\n",
       "      try {\n",
       "        window._bokeh_onload_callbacks.forEach(function(callback) { callback() });\n",
       "      }\n",
       "      finally {\n",
       "        delete window._bokeh_onload_callbacks\n",
       "      }\n",
       "      console.info(\"Bokeh: all callbacks have finished\");\n",
       "    }\n",
       "  \n",
       "    function load_libs(js_urls, callback) {\n",
       "      window._bokeh_onload_callbacks.push(callback);\n",
       "      if (window._bokeh_is_loading > 0) {\n",
       "        console.log(\"Bokeh: BokehJS is being loaded, scheduling callback at\", now());\n",
       "        return null;\n",
       "      }\n",
       "      if (js_urls == null || js_urls.length === 0) {\n",
       "        run_callbacks();\n",
       "        return null;\n",
       "      }\n",
       "      console.log(\"Bokeh: BokehJS not loaded, scheduling load and callback at\", now());\n",
       "      window._bokeh_is_loading = js_urls.length;\n",
       "      for (var i = 0; i < js_urls.length; i++) {\n",
       "        var url = js_urls[i];\n",
       "        var s = document.createElement('script');\n",
       "        s.src = url;\n",
       "        s.async = false;\n",
       "        s.onreadystatechange = s.onload = function() {\n",
       "          window._bokeh_is_loading--;\n",
       "          if (window._bokeh_is_loading === 0) {\n",
       "            console.log(\"Bokeh: all BokehJS libraries loaded\");\n",
       "            run_callbacks()\n",
       "          }\n",
       "        };\n",
       "        s.onerror = function() {\n",
       "          console.warn(\"failed to load library \" + url);\n",
       "        };\n",
       "        console.log(\"Bokeh: injecting script tag for BokehJS library: \", url);\n",
       "        document.getElementsByTagName(\"head\")[0].appendChild(s);\n",
       "      }\n",
       "    };var element = document.getElementById(\"b020d5b5-6ce4-472f-a2b1-62c20544cc1b\");\n",
       "    if (element == null) {\n",
       "      console.log(\"Bokeh: ERROR: autoload.js configured with elementid 'b020d5b5-6ce4-472f-a2b1-62c20544cc1b' but no matching script tag was found. \")\n",
       "      return false;\n",
       "    }\n",
       "  \n",
       "    var js_urls = [];\n",
       "  \n",
       "    var inline_js = [\n",
       "      function(Bokeh) {\n",
       "        (function() {\n",
       "          var fn = function() {\n",
       "            var docs_json = {\"199eebda-e203-4765-844d-4d42c65422a4\":{\"roots\":{\"references\":[{\"attributes\":{},\"id\":\"b16243d3-242f-4f68-aa98-c1df2f947d95\",\"type\":\"CategoricalTickFormatter\"},{\"attributes\":{\"bottom_units\":\"screen\",\"fill_alpha\":{\"value\":0.5},\"fill_color\":{\"value\":\"lightgrey\"},\"left_units\":\"screen\",\"level\":\"overlay\",\"line_alpha\":{\"value\":1.0},\"line_color\":{\"value\":\"black\"},\"line_dash\":[4,4],\"line_width\":{\"value\":2},\"plot\":null,\"render_mode\":\"css\",\"right_units\":\"screen\",\"top_units\":\"screen\"},\"id\":\"6bf8a9fb-9c39-40d6-895b-18893401396f\",\"type\":\"BoxAnnotation\"},{\"attributes\":{},\"id\":\"e7324255-5d75-455b-a0b6-5b759763d51b\",\"type\":\"BasicTicker\"},{\"attributes\":{\"callback\":null,\"column_names\":[\"gender\",\"word\",\"index\",\"ratio\"],\"data\":{\"gender\":[\"f\",\"f\",\"f\",\"f\",\"f\",\"f\",\"f\",\"f\",\"f\",\"f\",\"f\",\"f\"],\"index\":[29,24,21,17,18,14,13,8,7,5,2,1],\"ratio\":{\"__ndarray__\":\"RUt5FX8yF0Cr2FUa1nwaQMmkxpDD8hpA1NG9uhwYH0DV0b26HBgfQDXneAXgsiBAcH9a8rqeIUDJ46xVgwAjQPYVVodnsSNAp976Tfh0JkDHZn9vlPwwQFtjs783SjNA\",\"dtype\":\"float64\",\"shape\":[12]},\"word\":[\"cozy\",\"highly\",\"production\",\"hit\",\"women\",\"gaiterswaist\",\"paired\",\"breathes\",\"training\",\"tailored\",\"yoga\",\"workout\"]}},\"id\":\"9142f232-f5b7-413f-a707-72caf3d4984c\",\"type\":\"ColumnDataSource\"},{\"attributes\":{\"below\":[{\"id\":\"1158d3d8-976c-420e-a926-745a5a7a155f\",\"type\":\"LinearAxis\"}],\"left\":[{\"id\":\"c0108d8e-79ee-4ff1-8134-b4cd17d2533c\",\"type\":\"CategoricalAxis\"}],\"renderers\":[{\"id\":\"1158d3d8-976c-420e-a926-745a5a7a155f\",\"type\":\"LinearAxis\"},{\"id\":\"394ff3d5-e873-47de-befe-54f21018d642\",\"type\":\"Grid\"},{\"id\":\"c0108d8e-79ee-4ff1-8134-b4cd17d2533c\",\"type\":\"CategoricalAxis\"},{\"id\":\"5f4e1183-0017-4f4c-94f3-7f7b88bd74e3\",\"type\":\"Grid\"},{\"id\":\"6bf8a9fb-9c39-40d6-895b-18893401396f\",\"type\":\"BoxAnnotation\"},{\"id\":\"bdde9e53-dbdb-49ab-a0cd-051bbff9cd0f\",\"type\":\"Legend\"},{\"id\":\"897f7ae9-9f89-4b64-860b-367f9bc376e5\",\"type\":\"GlyphRenderer\"},{\"id\":\"3f8d0f31-2b87-4f43-83d4-5a8568f9371c\",\"type\":\"GlyphRenderer\"},{\"id\":\"6900894d-e868-43eb-b857-ff512c9f3df7\",\"type\":\"LabelSet\"},{\"id\":\"01a8b215-1567-44bf-9b85-7f8e0b29530e\",\"type\":\"LabelSet\"}],\"title\":{\"id\":\"956c12e8-25a7-4ce7-9a18-3ce3cec8f723\",\"type\":\"Title\"},\"tool_events\":{\"id\":\"76d701da-2b69-4796-a6e2-2f60a7877fca\",\"type\":\"ToolEvents\"},\"toolbar\":{\"id\":\"71e93364-3cda-4463-a458-5514e9fb3516\",\"type\":\"Toolbar\"},\"x_range\":{\"id\":\"12d93be5-4e4a-4fce-b94f-8bfc0b6fd420\",\"type\":\"Range1d\"},\"x_scale\":{\"id\":\"044ecc40-acd2-471d-b9ad-c8c3cea11059\",\"type\":\"LinearScale\"},\"y_range\":{\"id\":\"30399351-fad3-494e-b041-3d06bfb2332b\",\"type\":\"FactorRange\"},\"y_scale\":{\"id\":\"03984547-b070-48ab-9a23-f2842b2c0984\",\"type\":\"CategoricalScale\"}},\"id\":\"1793ee71-90cf-419b-a899-60e37581fd28\",\"subtype\":\"Figure\",\"type\":\"Plot\"},{\"attributes\":{\"label\":{\"value\":\"Male\"},\"renderers\":[{\"id\":\"3f8d0f31-2b87-4f43-83d4-5a8568f9371c\",\"type\":\"GlyphRenderer\"}]},\"id\":\"6c7f4741-cbed-4540-9a41-d88a7f6b3419\",\"type\":\"LegendItem\"},{\"attributes\":{},\"id\":\"ecb7ef78-85c7-4456-8029-5e146f5ddc6b\",\"type\":\"CategoricalTicker\"},{\"attributes\":{\"plot\":{\"id\":\"1793ee71-90cf-419b-a899-60e37581fd28\",\"subtype\":\"Figure\",\"type\":\"Plot\"}},\"id\":\"e0890c57-175b-48de-a5d7-d81012812b51\",\"type\":\"PanTool\"},{\"attributes\":{\"plot\":{\"id\":\"1793ee71-90cf-419b-a899-60e37581fd28\",\"subtype\":\"Figure\",\"type\":\"Plot\"}},\"id\":\"aaad74ca-7bde-4fe3-98a0-0fc9da072c05\",\"type\":\"ResetTool\"},{\"attributes\":{},\"id\":\"03984547-b070-48ab-9a23-f2842b2c0984\",\"type\":\"CategoricalScale\"},{\"attributes\":{\"plot\":{\"id\":\"1793ee71-90cf-419b-a899-60e37581fd28\",\"subtype\":\"Figure\",\"type\":\"Plot\"}},\"id\":\"93461573-8ef4-4a78-841c-473592192200\",\"type\":\"HelpTool\"},{\"attributes\":{\"active_drag\":\"auto\",\"active_inspect\":\"auto\",\"active_scroll\":\"auto\",\"active_tap\":\"auto\",\"tools\":[{\"id\":\"e0890c57-175b-48de-a5d7-d81012812b51\",\"type\":\"PanTool\"},{\"id\":\"6735209a-2302-4dfe-bd13-be0989f961f4\",\"type\":\"WheelZoomTool\"},{\"id\":\"a85ccf53-f06e-4ef7-bdd8-8a0062c76c3f\",\"type\":\"BoxZoomTool\"},{\"id\":\"4071fe39-a2c9-42b3-b44d-f3ad1036293c\",\"type\":\"SaveTool\"},{\"id\":\"aaad74ca-7bde-4fe3-98a0-0fc9da072c05\",\"type\":\"ResetTool\"},{\"id\":\"93461573-8ef4-4a78-841c-473592192200\",\"type\":\"HelpTool\"}]},\"id\":\"71e93364-3cda-4463-a458-5514e9fb3516\",\"type\":\"Toolbar\"},{\"attributes\":{\"axis_label\":\"Likelihood Ratio\",\"axis_label_text_font_size\":{\"value\":\"1em\"},\"formatter\":{\"id\":\"bff37e2b-6e90-430e-9bc5-0fb4b454e212\",\"type\":\"PrintfTickFormatter\"},\"major_label_text_font_size\":{\"value\":\"1em\"},\"plot\":{\"id\":\"1793ee71-90cf-419b-a899-60e37581fd28\",\"subtype\":\"Figure\",\"type\":\"Plot\"},\"ticker\":{\"id\":\"e7324255-5d75-455b-a0b6-5b759763d51b\",\"type\":\"BasicTicker\"}},\"id\":\"1158d3d8-976c-420e-a926-745a5a7a155f\",\"type\":\"LinearAxis\"},{\"attributes\":{\"callback\":null,\"column_names\":[\"gender\",\"word\",\"index\",\"ratio\"],\"data\":{\"gender\":[\"f\",\"f\",\"f\",\"f\",\"f\",\"f\",\"f\",\"f\",\"f\",\"f\",\"f\",\"f\"],\"index\":[29,24,21,17,18,14,13,8,7,5,2,1],\"ratio\":{\"__ndarray__\":\"RUt5FX8yF0Cr2FUa1nwaQMmkxpDD8hpA1NG9uhwYH0DV0b26HBgfQDXneAXgsiBAcH9a8rqeIUDJ46xVgwAjQPYVVodnsSNAp976Tfh0JkDHZn9vlPwwQFtjs783SjNA\",\"dtype\":\"float64\",\"shape\":[12]},\"word\":[\"cozy\",\"highly\",\"production\",\"hit\",\"women\",\"gaiterswaist\",\"paired\",\"breathes\",\"training\",\"tailored\",\"yoga\",\"workout\"]}},\"id\":\"c0521cef-a36f-437b-9bd2-44c1cb6044f8\",\"type\":\"ColumnDataSource\"},{\"attributes\":{\"fill_color\":{\"value\":\"deepskyblue\"},\"height\":{\"value\":0.8},\"left\":{\"field\":\"ratio\"},\"line_color\":{\"value\":\"deepskyblue\"},\"right\":{\"value\":0},\"y\":{\"field\":\"word\"}},\"id\":\"bc490023-6a98-4301-999a-68b43b4c1c4f\",\"type\":\"HBar\"},{\"attributes\":{\"callback\":null,\"column_names\":[\"gender\",\"word\",\"index\",\"ratio\"],\"data\":{\"gender\":[\"m\",\"m\",\"m\",\"m\",\"m\",\"m\",\"m\",\"m\",\"m\",\"m\",\"m\",\"m\",\"m\",\"m\",\"m\",\"m\",\"m\",\"m\"],\"index\":[0,3,4,6,9,12,11,10,15,16,19,20,23,22,25,26,27,28],\"ratio\":{\"__ndarray__\":\"SIj5zRlfOsCDzTpzIhouwG9Lz02TeCnAW8ljKATXJMAcSCNFrg8iwE0dHLqkwCHATR0cuqTAIcBNHRy6pMAhwEdH+AJ1NSDAR0f4AnU1IMCA4qiXilQdwOSMmoF3thzAD4xvPz7cGsAPjG8/PtwawHI2YSkrPhrAcjZhKSs+GsA6i0T9BAIZwCeL44Lo1hjA\",\"dtype\":\"float64\",\"shape\":[18]},\"word\":[\"men\",\"tactical\",\"test\",\"rugged\",\"items\",\"reinforcements\",\"mother\",\"ability\",\"waistline\",\"insert\",\"purpose\",\"mens\",\"hot\",\"phone\",\"mtb\",\"service\",\"pocketsboot\",\"seat\"]}},\"id\":\"3f6663f2-3522-4633-834c-817b30c7e227\",\"type\":\"ColumnDataSource\"},{\"attributes\":{\"overlay\":{\"id\":\"6bf8a9fb-9c39-40d6-895b-18893401396f\",\"type\":\"BoxAnnotation\"},\"plot\":{\"id\":\"1793ee71-90cf-419b-a899-60e37581fd28\",\"subtype\":\"Figure\",\"type\":\"Plot\"}},\"id\":\"a85ccf53-f06e-4ef7-bdd8-8a0062c76c3f\",\"type\":\"BoxZoomTool\"},{\"attributes\":{},\"id\":\"044ecc40-acd2-471d-b9ad-c8c3cea11059\",\"type\":\"LinearScale\"},{\"attributes\":{\"plot\":{\"id\":\"1793ee71-90cf-419b-a899-60e37581fd28\",\"subtype\":\"Figure\",\"type\":\"Plot\"}},\"id\":\"4071fe39-a2c9-42b3-b44d-f3ad1036293c\",\"type\":\"SaveTool\"},{\"attributes\":{\"callback\":null,\"factors\":[\"men\",\"tactical\",\"test\",\"rugged\",\"items\",\"reinforcements\",\"mother\",\"ability\",\"waistline\",\"insert\",\"purpose\",\"mens\",\"hot\",\"phone\",\"mtb\",\"service\",\"pocketsboot\",\"seat\",\"cozy\",\"highly\",\"production\",\"hit\",\"women\",\"gaiterswaist\",\"paired\",\"breathes\",\"training\",\"tailored\",\"yoga\",\"workout\"]},\"id\":\"30399351-fad3-494e-b041-3d06bfb2332b\",\"type\":\"FactorRange\"},{\"attributes\":{\"dimension\":1,\"grid_line_color\":{\"value\":null},\"plot\":{\"id\":\"1793ee71-90cf-419b-a899-60e37581fd28\",\"subtype\":\"Figure\",\"type\":\"Plot\"},\"ticker\":{\"id\":\"ecb7ef78-85c7-4456-8029-5e146f5ddc6b\",\"type\":\"CategoricalTicker\"}},\"id\":\"5f4e1183-0017-4f4c-94f3-7f7b88bd74e3\",\"type\":\"Grid\"},{\"attributes\":{\"plot\":{\"id\":\"1793ee71-90cf-419b-a899-60e37581fd28\",\"subtype\":\"Figure\",\"type\":\"Plot\"}},\"id\":\"6735209a-2302-4dfe-bd13-be0989f961f4\",\"type\":\"WheelZoomTool\"},{\"attributes\":{\"label\":{\"value\":\"Female\"},\"renderers\":[{\"id\":\"897f7ae9-9f89-4b64-860b-367f9bc376e5\",\"type\":\"GlyphRenderer\"}]},\"id\":\"c97ab780-6721-4c14-8318-d1a5c2a9969d\",\"type\":\"LegendItem\"},{\"attributes\":{\"grid_line_color\":{\"value\":null},\"plot\":{\"id\":\"1793ee71-90cf-419b-a899-60e37581fd28\",\"subtype\":\"Figure\",\"type\":\"Plot\"},\"ticker\":{\"id\":\"e7324255-5d75-455b-a0b6-5b759763d51b\",\"type\":\"BasicTicker\"}},\"id\":\"394ff3d5-e873-47de-befe-54f21018d642\",\"type\":\"Grid\"},{\"attributes\":{\"format\":\"%uX\"},\"id\":\"bff37e2b-6e90-430e-9bc5-0fb4b454e212\",\"type\":\"PrintfTickFormatter\"},{\"attributes\":{\"callback\":null,\"column_names\":[\"gender\",\"word\",\"index\",\"ratio\"],\"data\":{\"gender\":[\"m\",\"m\",\"m\",\"m\",\"m\",\"m\",\"m\",\"m\",\"m\",\"m\",\"m\",\"m\",\"m\",\"m\",\"m\",\"m\",\"m\",\"m\"],\"index\":[0,3,4,6,9,12,11,10,15,16,19,20,23,22,25,26,27,28],\"ratio\":{\"__ndarray__\":\"SIj5zRlfOsCDzTpzIhouwG9Lz02TeCnAW8ljKATXJMAcSCNFrg8iwE0dHLqkwCHATR0cuqTAIcBNHRy6pMAhwEdH+AJ1NSDAR0f4AnU1IMCA4qiXilQdwOSMmoF3thzAD4xvPz7cGsAPjG8/PtwawHI2YSkrPhrAcjZhKSs+GsA6i0T9BAIZwCeL44Lo1hjA\",\"dtype\":\"float64\",\"shape\":[18]},\"word\":[\"men\",\"tactical\",\"test\",\"rugged\",\"items\",\"reinforcements\",\"mother\",\"ability\",\"waistline\",\"insert\",\"purpose\",\"mens\",\"hot\",\"phone\",\"mtb\",\"service\",\"pocketsboot\",\"seat\"]}},\"id\":\"8140476b-1d62-4c03-be14-dd5c582bf815\",\"type\":\"ColumnDataSource\"},{\"attributes\":{\"level\":\"glyph\",\"plot\":{\"id\":\"1793ee71-90cf-419b-a899-60e37581fd28\",\"subtype\":\"Figure\",\"type\":\"Plot\"},\"source\":{\"id\":\"8140476b-1d62-4c03-be14-dd5c582bf815\",\"type\":\"ColumnDataSource\"},\"text\":{\"field\":\"word\"},\"x\":{\"value\":0},\"x_offset\":{\"value\":5},\"y\":{\"field\":\"word\"},\"y_offset\":{\"value\":-9}},\"id\":\"6900894d-e868-43eb-b857-ff512c9f3df7\",\"type\":\"LabelSet\"},{\"attributes\":{},\"id\":\"76d701da-2b69-4796-a6e2-2f60a7877fca\",\"type\":\"ToolEvents\"},{\"attributes\":{\"data_source\":{\"id\":\"9142f232-f5b7-413f-a707-72caf3d4984c\",\"type\":\"ColumnDataSource\"},\"glyph\":{\"id\":\"b0ca3da4-7667-413e-8d0e-ccf3ee817bb1\",\"type\":\"HBar\"},\"hover_glyph\":null,\"muted_glyph\":null,\"nonselection_glyph\":{\"id\":\"b34f78d0-dbd6-4a1e-9267-69132f5bbfdb\",\"type\":\"HBar\"},\"selection_glyph\":null},\"id\":\"897f7ae9-9f89-4b64-860b-367f9bc376e5\",\"type\":\"GlyphRenderer\"},{\"attributes\":{\"formatter\":{\"id\":\"b16243d3-242f-4f68-aa98-c1df2f947d95\",\"type\":\"CategoricalTickFormatter\"},\"plot\":{\"id\":\"1793ee71-90cf-419b-a899-60e37581fd28\",\"subtype\":\"Figure\",\"type\":\"Plot\"},\"ticker\":{\"id\":\"ecb7ef78-85c7-4456-8029-5e146f5ddc6b\",\"type\":\"CategoricalTicker\"},\"visible\":false},\"id\":\"c0108d8e-79ee-4ff1-8134-b4cd17d2533c\",\"type\":\"CategoricalAxis\"},{\"attributes\":{\"fill_alpha\":{\"value\":0.1},\"fill_color\":{\"value\":\"#1f77b4\"},\"height\":{\"value\":0.8},\"line_alpha\":{\"value\":0.1},\"line_color\":{\"value\":\"#1f77b4\"},\"right\":{\"field\":\"ratio\"},\"y\":{\"field\":\"word\"}},\"id\":\"b34f78d0-dbd6-4a1e-9267-69132f5bbfdb\",\"type\":\"HBar\"},{\"attributes\":{\"callback\":null,\"end\":31.37148749677752,\"start\":-31.37148749677752},\"id\":\"12d93be5-4e4a-4fce-b94f-8bfc0b6fd420\",\"type\":\"Range1d\"},{\"attributes\":{\"fill_color\":{\"value\":\"deeppink\"},\"height\":{\"value\":0.8},\"line_color\":{\"value\":\"deeppink\"},\"right\":{\"field\":\"ratio\"},\"y\":{\"field\":\"word\"}},\"id\":\"b0ca3da4-7667-413e-8d0e-ccf3ee817bb1\",\"type\":\"HBar\"},{\"attributes\":{\"level\":\"glyph\",\"plot\":{\"id\":\"1793ee71-90cf-419b-a899-60e37581fd28\",\"subtype\":\"Figure\",\"type\":\"Plot\"},\"source\":{\"id\":\"c0521cef-a36f-437b-9bd2-44c1cb6044f8\",\"type\":\"ColumnDataSource\"},\"text\":{\"field\":\"word\"},\"text_align\":\"right\",\"x\":{\"value\":0},\"x_offset\":{\"value\":-5},\"y\":{\"field\":\"word\"},\"y_offset\":{\"value\":-9}},\"id\":\"01a8b215-1567-44bf-9b85-7f8e0b29530e\",\"type\":\"LabelSet\"},{\"attributes\":{\"plot\":null,\"text\":\"Most Informative Words in Descriptions for Pants\",\"text_font_size\":{\"value\":\"1.2em\"}},\"id\":\"956c12e8-25a7-4ce7-9a18-3ce3cec8f723\",\"type\":\"Title\"},{\"attributes\":{\"items\":[{\"id\":\"c97ab780-6721-4c14-8318-d1a5c2a9969d\",\"type\":\"LegendItem\"},{\"id\":\"6c7f4741-cbed-4540-9a41-d88a7f6b3419\",\"type\":\"LegendItem\"}],\"label_text_font_size\":{\"value\":\"1em\"},\"location\":\"bottom_right\",\"plot\":{\"id\":\"1793ee71-90cf-419b-a899-60e37581fd28\",\"subtype\":\"Figure\",\"type\":\"Plot\"}},\"id\":\"bdde9e53-dbdb-49ab-a0cd-051bbff9cd0f\",\"type\":\"Legend\"},{\"attributes\":{\"data_source\":{\"id\":\"3f6663f2-3522-4633-834c-817b30c7e227\",\"type\":\"ColumnDataSource\"},\"glyph\":{\"id\":\"bc490023-6a98-4301-999a-68b43b4c1c4f\",\"type\":\"HBar\"},\"hover_glyph\":null,\"muted_glyph\":null,\"nonselection_glyph\":{\"id\":\"6426693d-9e97-4718-952d-d92c30a4a536\",\"type\":\"HBar\"},\"selection_glyph\":null},\"id\":\"3f8d0f31-2b87-4f43-83d4-5a8568f9371c\",\"type\":\"GlyphRenderer\"},{\"attributes\":{\"fill_alpha\":{\"value\":0.1},\"fill_color\":{\"value\":\"#1f77b4\"},\"height\":{\"value\":0.8},\"left\":{\"field\":\"ratio\"},\"line_alpha\":{\"value\":0.1},\"line_color\":{\"value\":\"#1f77b4\"},\"right\":{\"value\":0},\"y\":{\"field\":\"word\"}},\"id\":\"6426693d-9e97-4718-952d-d92c30a4a536\",\"type\":\"HBar\"}],\"root_ids\":[\"1793ee71-90cf-419b-a899-60e37581fd28\"]},\"title\":\"Bokeh Application\",\"version\":\"0.12.6\"}};\n",
       "            var render_items = [{\"docid\":\"199eebda-e203-4765-844d-4d42c65422a4\",\"elementid\":\"b020d5b5-6ce4-472f-a2b1-62c20544cc1b\",\"modelid\":\"1793ee71-90cf-419b-a899-60e37581fd28\"}];\n",
       "            \n",
       "            Bokeh.embed.embed_items(docs_json, render_items);\n",
       "          };\n",
       "          if (document.readyState != \"loading\") fn();\n",
       "          else document.addEventListener(\"DOMContentLoaded\", fn);\n",
       "        })();\n",
       "      },\n",
       "      function(Bokeh) {\n",
       "      }\n",
       "    ];\n",
       "  \n",
       "    function run_inline_js() {\n",
       "      \n",
       "      if ((window.Bokeh !== undefined) || (force === true)) {\n",
       "        for (var i = 0; i < inline_js.length; i++) {\n",
       "          inline_js[i](window.Bokeh);\n",
       "        }if (force === true) {\n",
       "          display_loaded();\n",
       "        }} else if (Date.now() < window._bokeh_timeout) {\n",
       "        setTimeout(run_inline_js, 100);\n",
       "      } else if (!window._bokeh_failed_load) {\n",
       "        console.log(\"Bokeh: BokehJS failed to load within specified timeout.\");\n",
       "        window._bokeh_failed_load = true;\n",
       "      } else if (force !== true) {\n",
       "        var cell = $(document.getElementById(\"b020d5b5-6ce4-472f-a2b1-62c20544cc1b\")).parents('.cell').data().cell;\n",
       "        cell.output_area.append_execute_result(NB_LOAD_WARNING)\n",
       "      }\n",
       "  \n",
       "    }\n",
       "  \n",
       "    if (window._bokeh_is_loading === 0) {\n",
       "      console.log(\"Bokeh: BokehJS loaded, going straight to plotting\");\n",
       "      run_inline_js();\n",
       "    } else {\n",
       "      load_libs(js_urls, function() {\n",
       "        console.log(\"Bokeh: BokehJS plotting callback run at\", now());\n",
       "        run_inline_js();\n",
       "      });\n",
       "    }\n",
       "  }(this));\n",
       "</script>"
      ]
     },
     "metadata": {},
     "output_type": "display_data"
    }
   ],
   "source": [
    "graph_features(pants_info, \"Pants\")"
   ]
  },
  {
   "cell_type": "code",
   "execution_count": 56,
   "metadata": {
    "collapsed": true
   },
   "outputs": [],
   "source": [
    "Shirt_Corpus = build_corpus(\"SportingGoods\", \"ShirtCorpus\", shirts)\n",
    "Shirt_Corpus = build_corpus(\"Fashion\", \"ShirtCorpus\", shirts)"
   ]
  },
  {
   "cell_type": "code",
   "execution_count": 58,
   "metadata": {},
   "outputs": [
    {
     "name": "stdout",
     "output_type": "stream",
     "text": [
      "[(u'fabric', 1044), (u'size', 837), (u'shirt', 680), (u'length', 672), (u'fit', 656), (u'sweat', 641), (u'compression', 611), (u'dry', 544), (u'moisture', 512), (u'odor', 508), (u'anti', 491), (u'body', 482), (u'skin', 458), (u'top', 452), (u'soft', 446)]\n"
     ]
    }
   ],
   "source": [
    "ShirtFD = get_FD(Shirt_Corpus)\n",
    "shirt_features = create_features(Shirt_Corpus)"
   ]
  },
  {
   "cell_type": "code",
   "execution_count": 59,
   "metadata": {
    "scrolled": true
   },
   "outputs": [
    {
     "name": "stdout",
     "output_type": "stream",
     "text": [
      "92.1428571429\n",
      "88.1057268722\n",
      "Most Informative Features\n",
      "                     bra = 1                   f : m      =     31.0 : 1.0\n",
      "               promotoes = 1                   m : f      =     21.0 : 1.0\n",
      "                heatgear = 1                   m : f      =     19.7 : 1.0\n",
      "                inspired = 1                   f : m      =     19.0 : 1.0\n",
      "                monterey = 1                   f : m      =     17.7 : 1.0\n",
      "                    tail = 1                   f : m      =     16.3 : 1.0\n",
      "                     men = 1                   m : f      =     15.9 : 1.0\n",
      "                 pinhole = 1                   f : m      =     15.7 : 1.0\n",
      "                   swing = 1                   f : m      =     15.0 : 1.0\n",
      "                   women = 1                   f : m      =     14.7 : 1.0\n",
      "              safeguards = 1                   m : f      =     13.8 : 1.0\n",
      "                      +) = 1                   m : f      =     13.8 : 1.0\n",
      "                 updated = 1                   m : f      =     13.6 : 1.0\n",
      "           deodorization = 1                   m : f      =     13.4 : 1.0\n",
      "                 cleaner = 1                   m : f      =     13.2 : 1.0\n",
      "                     inc = 1                   m : f      =     12.3 : 1.0\n",
      "                   plume = 1                   m : f      =     12.3 : 1.0\n",
      "              flattering = 1                   f : m      =     12.2 : 1.0\n",
      "                    mens = 1                   m : f      =     11.8 : 1.0\n",
      "                  rolled = 1                   f : m      =     11.7 : 1.0\n",
      "                   strap = 1                   f : m      =     11.7 : 1.0\n",
      "               customers = 1                   m : f      =     11.0 : 1.0\n",
      "                ordering = 1                   m : f      =     11.0 : 1.0\n",
      "                   scoop = 1                   f : m      =     11.0 : 1.0\n",
      "                    drop = 1                   f : m      =     10.6 : 1.0\n",
      "                    pick = 1                   m : f      =     10.5 : 1.0\n",
      "                  office = 1                   f : m      =     10.3 : 1.0\n",
      "            unrestricted = 1                   f : m      =     10.3 : 1.0\n",
      "                      22 = 1                   f : m      =     10.2 : 1.0\n",
      "                    pill = 1                   m : f      =      9.9 : 1.0\n"
     ]
    }
   ],
   "source": [
    "shirtSC = NB_classify(shirt_features, 700)\n",
    "shirtSC.show_most_informative_features(30)"
   ]
  },
  {
   "cell_type": "code",
   "execution_count": 153,
   "metadata": {},
   "outputs": [
    {
     "name": "stdout",
     "output_type": "stream",
     "text": [
      "No child nodes found\n",
      "No child nodes found\n"
     ]
    }
   ],
   "source": [
    "Wallet_Corpus = build_corpus(\"Fashion\", \"WalletCorpus\", wallets)"
   ]
  },
  {
   "cell_type": "code",
   "execution_count": 154,
   "metadata": {
    "scrolled": true
   },
   "outputs": [
    {
     "name": "stdout",
     "output_type": "stream",
     "text": [
      "[(u'p', 598), (u'wallet', 500), (u'cards', 436), (u'rfid', 390), (u'leather', 305), (u'card', 261), (u'1', 212), (u'credit', 194), (u'x', 176), (u'id', 160), (u'blocking', 150), (u'strong', 148), (u'2', 143), (u'></', 143), (u'3', 130)]\n"
     ]
    }
   ],
   "source": [
    "WalletFD = get_FD(Wallet_Corpus)\n",
    "wallet_features = create_features(Wallet_Corpus)"
   ]
  },
  {
   "cell_type": "code",
   "execution_count": 155,
   "metadata": {},
   "outputs": [
    {
     "name": "stdout",
     "output_type": "stream",
     "text": [
      "98.0\n",
      "84.0909090909\n",
      "Most Informative Features\n",
      "                 fashion = 1                   f : m      =     10.3 : 1.0\n",
      "                  zipper = 1                   f : m      =      9.7 : 1.0\n",
      "                    clip = 1                   m : f      =      7.4 : 1.0\n",
      "                   women = 1                   f : m      =      7.4 : 1.0\n",
      "            thanksgiving = 1                   f : m      =      6.3 : 1.0\n",
      "                 provide = 1                   f : m      =      6.3 : 1.0\n",
      "                  change = 1                   f : m      =      6.3 : 1.0\n",
      "                    bags = 1                   f : m      =      6.2 : 1.0\n",
      "              minimalist = 1                   m : f      =      6.2 : 1.0\n",
      "                   sleek = 1                   m : f      =      5.7 : 1.0\n",
      "                zippered = 1                   f : m      =      5.7 : 1.0\n",
      "              experience = 1                   f : m      =      5.0 : 1.0\n",
      "                  bifold = 1                   m : f      =      5.0 : 1.0\n",
      "             fashionable = 1                   f : m      =      5.0 : 1.0\n",
      "                 devices = 1                   f : m      =      5.0 : 1.0\n",
      "                      pu = 1                   f : m      =      5.0 : 1.0\n",
      "                shopping = 1                   f : m      =      5.0 : 1.0\n",
      "             replacement = 1                   f : m      =      5.0 : 1.0\n",
      "                 payment = 1                   f : m      =      5.0 : 1.0\n",
      "                  colors = 1                   f : m      =      5.0 : 1.0\n",
      "                    less = 1                   m : f      =      4.3 : 1.0\n",
      "             comfortably = 1                   m : f      =      4.3 : 1.0\n",
      "                 windows = 1                   m : f      =      4.3 : 1.0\n",
      "                    look = 1                   f : m      =      4.3 : 1.0\n",
      "                    sewn = 1                   f : m      =      4.3 : 1.0\n"
     ]
    }
   ],
   "source": [
    "walletSC = NB_classify(wallet_features, 0.8)\n",
    "walletSC.show_most_informative_features(25)"
   ]
  },
  {
   "cell_type": "code",
   "execution_count": 124,
   "metadata": {
    "collapsed": true
   },
   "outputs": [],
   "source": [
    "Socks_Corpus = build_corpus(\"Fashion\", \"SocksCorpus\", socks, nodelimit = 2)"
   ]
  },
  {
   "cell_type": "code",
   "execution_count": 125,
   "metadata": {
    "collapsed": true
   },
   "outputs": [],
   "source": [
    "Socks_Corpus = build_corpus(\"SportingGoods\", \"SocksCorpus\", socks, nodelimit = 2)"
   ]
  },
  {
   "cell_type": "code",
   "execution_count": 126,
   "metadata": {},
   "outputs": [
    {
     "name": "stdout",
     "output_type": "stream",
     "text": [
      "[(u'socks', 2674), (u'cotton', 625), (u'comfort', 582), (u'feet', 572), (u'size', 535), (u'sock', 505), (u'quality', 478), (u'fit', 454), (u'comfortable', 426), (u'dry', 422), (u'high', 420), (u'toe', 377), (u'5', 374), (u'women', 369), (u'soft', 363)]\n"
     ]
    }
   ],
   "source": [
    "SocksFD = get_FD(Socks_Corpus)\n",
    "sock_features = create_features(Socks_Corpus)"
   ]
  },
  {
   "cell_type": "code",
   "execution_count": 127,
   "metadata": {},
   "outputs": [
    {
     "name": "stdout",
     "output_type": "stream",
     "text": [
      "90.5598243688\n",
      "81.5789473684\n",
      "Most Informative Features\n",
      "                    knee = 1                   f : m      =     17.9 : 1.0\n",
      "                  argyle = 1                   m : f      =     13.8 : 1.0\n",
      "                  formal = 1                   m : f      =     13.2 : 1.0\n",
      "                    cute = 1                   f : m      =     12.1 : 1.0\n",
      "            manufacturer = 1                   m : f      =     10.9 : 1.0\n",
      "                     gym = 1                   f : m      =     10.3 : 1.0\n",
      "                  giving = 1                   f : m      =      9.8 : 1.0\n",
      "             comfortably = 1                   f : m      =      9.2 : 1.0\n",
      "                exercise = 1                   f : m      =      8.6 : 1.0\n",
      "                   range = 1                   f : m      =      8.6 : 1.0\n",
      "                     men = 1                   m : f      =      8.0 : 1.0\n",
      "                     six = 1                   f : m      =      8.0 : 1.0\n",
      "                 similar = 1                   f : m      =      8.0 : 1.0\n",
      "                   odors = 1                   m : f      =      7.9 : 1.0\n",
      "                   women = 1                   f : m      =      7.6 : 1.0\n",
      "                extended = 1                   m : f      =      7.4 : 1.0\n",
      "                     tab = 1                   f : m      =      7.4 : 1.0\n",
      "                    loom = 1                   m : f      =      7.0 : 1.0\n",
      "                   fruit = 1                   m : f      =      7.0 : 1.0\n",
      "                   grown = 1                   f : m      =      6.8 : 1.0\n"
     ]
    }
   ],
   "source": [
    "socksSC = NB_classify(sock_features)\n",
    "socksSC.show_most_informative_features(20)"
   ]
  },
  {
   "cell_type": "code",
   "execution_count": 130,
   "metadata": {},
   "outputs": [
    {
     "data": {
      "text/html": [
       "\n",
       "\n",
       "    <div class=\"bk-root\">\n",
       "        <div class=\"bk-plotdiv\" id=\"a29b0efb-89d3-4df5-bd0e-c1b408a67e2d\"></div>\n",
       "    </div>\n",
       "<script type=\"text/javascript\">\n",
       "  \n",
       "  (function(global) {\n",
       "    function now() {\n",
       "      return new Date();\n",
       "    }\n",
       "  \n",
       "    var force = false;\n",
       "  \n",
       "    if (typeof (window._bokeh_onload_callbacks) === \"undefined\" || force === true) {\n",
       "      window._bokeh_onload_callbacks = [];\n",
       "      window._bokeh_is_loading = undefined;\n",
       "    }\n",
       "  \n",
       "  \n",
       "    \n",
       "    if (typeof (window._bokeh_timeout) === \"undefined\" || force === true) {\n",
       "      window._bokeh_timeout = Date.now() + 0;\n",
       "      window._bokeh_failed_load = false;\n",
       "    }\n",
       "  \n",
       "    var NB_LOAD_WARNING = {'data': {'text/html':\n",
       "       \"<div style='background-color: #fdd'>\\n\"+\n",
       "       \"<p>\\n\"+\n",
       "       \"BokehJS does not appear to have successfully loaded. If loading BokehJS from CDN, this \\n\"+\n",
       "       \"may be due to a slow or bad network connection. Possible fixes:\\n\"+\n",
       "       \"</p>\\n\"+\n",
       "       \"<ul>\\n\"+\n",
       "       \"<li>re-rerun `output_notebook()` to attempt to load from CDN again, or</li>\\n\"+\n",
       "       \"<li>use INLINE resources instead, as so:</li>\\n\"+\n",
       "       \"</ul>\\n\"+\n",
       "       \"<code>\\n\"+\n",
       "       \"from bokeh.resources import INLINE\\n\"+\n",
       "       \"output_notebook(resources=INLINE)\\n\"+\n",
       "       \"</code>\\n\"+\n",
       "       \"</div>\"}};\n",
       "  \n",
       "    function display_loaded() {\n",
       "      if (window.Bokeh !== undefined) {\n",
       "        var el = document.getElementById(\"a29b0efb-89d3-4df5-bd0e-c1b408a67e2d\");\n",
       "        el.textContent = \"BokehJS \" + Bokeh.version + \" successfully loaded.\";\n",
       "      } else if (Date.now() < window._bokeh_timeout) {\n",
       "        setTimeout(display_loaded, 100)\n",
       "      }\n",
       "    }\n",
       "  \n",
       "    function run_callbacks() {\n",
       "      try {\n",
       "        window._bokeh_onload_callbacks.forEach(function(callback) { callback() });\n",
       "      }\n",
       "      finally {\n",
       "        delete window._bokeh_onload_callbacks\n",
       "      }\n",
       "      console.info(\"Bokeh: all callbacks have finished\");\n",
       "    }\n",
       "  \n",
       "    function load_libs(js_urls, callback) {\n",
       "      window._bokeh_onload_callbacks.push(callback);\n",
       "      if (window._bokeh_is_loading > 0) {\n",
       "        console.log(\"Bokeh: BokehJS is being loaded, scheduling callback at\", now());\n",
       "        return null;\n",
       "      }\n",
       "      if (js_urls == null || js_urls.length === 0) {\n",
       "        run_callbacks();\n",
       "        return null;\n",
       "      }\n",
       "      console.log(\"Bokeh: BokehJS not loaded, scheduling load and callback at\", now());\n",
       "      window._bokeh_is_loading = js_urls.length;\n",
       "      for (var i = 0; i < js_urls.length; i++) {\n",
       "        var url = js_urls[i];\n",
       "        var s = document.createElement('script');\n",
       "        s.src = url;\n",
       "        s.async = false;\n",
       "        s.onreadystatechange = s.onload = function() {\n",
       "          window._bokeh_is_loading--;\n",
       "          if (window._bokeh_is_loading === 0) {\n",
       "            console.log(\"Bokeh: all BokehJS libraries loaded\");\n",
       "            run_callbacks()\n",
       "          }\n",
       "        };\n",
       "        s.onerror = function() {\n",
       "          console.warn(\"failed to load library \" + url);\n",
       "        };\n",
       "        console.log(\"Bokeh: injecting script tag for BokehJS library: \", url);\n",
       "        document.getElementsByTagName(\"head\")[0].appendChild(s);\n",
       "      }\n",
       "    };var element = document.getElementById(\"a29b0efb-89d3-4df5-bd0e-c1b408a67e2d\");\n",
       "    if (element == null) {\n",
       "      console.log(\"Bokeh: ERROR: autoload.js configured with elementid 'a29b0efb-89d3-4df5-bd0e-c1b408a67e2d' but no matching script tag was found. \")\n",
       "      return false;\n",
       "    }\n",
       "  \n",
       "    var js_urls = [];\n",
       "  \n",
       "    var inline_js = [\n",
       "      function(Bokeh) {\n",
       "        (function() {\n",
       "          var fn = function() {\n",
       "            var docs_json = {\"86d945e8-40c4-497c-9be7-46d4ca7b7890\":{\"roots\":{\"references\":[{\"attributes\":{\"plot\":{\"id\":\"0fa915d9-e77b-432d-ad9a-4390fc666073\",\"subtype\":\"Figure\",\"type\":\"Plot\"}},\"id\":\"f1c74196-6f1e-4ecb-953f-2b606a11294e\",\"type\":\"WheelZoomTool\"},{\"attributes\":{\"label\":{\"value\":\"Female\"},\"renderers\":[{\"id\":\"b4f31b56-51b5-424c-9002-63f8f8f483de\",\"type\":\"GlyphRenderer\"}]},\"id\":\"b5cf5bfb-2fe9-4aad-8b3f-4cbb69410e5c\",\"type\":\"LegendItem\"},{\"attributes\":{\"plot\":{\"id\":\"0fa915d9-e77b-432d-ad9a-4390fc666073\",\"subtype\":\"Figure\",\"type\":\"Plot\"}},\"id\":\"ad36b663-e958-47bb-aeae-e2bbb426cf5f\",\"type\":\"PanTool\"},{\"attributes\":{\"axis_label\":\"Likelihood Ratio\",\"axis_label_text_font_size\":{\"value\":\"1em\"},\"formatter\":{\"id\":\"30408b8f-bb49-403a-b87c-01a2c7a67132\",\"type\":\"PrintfTickFormatter\"},\"major_label_text_font_size\":{\"value\":\"1em\"},\"plot\":{\"id\":\"0fa915d9-e77b-432d-ad9a-4390fc666073\",\"subtype\":\"Figure\",\"type\":\"Plot\"},\"ticker\":{\"id\":\"680cc717-feec-487e-8d1b-16c624272dcf\",\"type\":\"BasicTicker\"}},\"id\":\"ee68d481-58ca-45ea-a157-8428785db30b\",\"type\":\"LinearAxis\"},{\"attributes\":{\"level\":\"glyph\",\"plot\":{\"id\":\"0fa915d9-e77b-432d-ad9a-4390fc666073\",\"subtype\":\"Figure\",\"type\":\"Plot\"},\"source\":{\"id\":\"bfd3ef2f-416a-48aa-bf98-346dacb82b32\",\"type\":\"ColumnDataSource\"},\"text\":{\"field\":\"word\"},\"text_align\":\"right\",\"x\":{\"value\":0},\"x_offset\":{\"value\":-5},\"y\":{\"field\":\"word\"},\"y_offset\":{\"value\":-9}},\"id\":\"989b294c-80e9-40f4-b14e-2b676aaf2411\",\"type\":\"LabelSet\"},{\"attributes\":{\"below\":[{\"id\":\"ee68d481-58ca-45ea-a157-8428785db30b\",\"type\":\"LinearAxis\"}],\"left\":[{\"id\":\"ee63ef66-1115-4e55-81d7-8ba6c2d07377\",\"type\":\"CategoricalAxis\"}],\"renderers\":[{\"id\":\"ee68d481-58ca-45ea-a157-8428785db30b\",\"type\":\"LinearAxis\"},{\"id\":\"f68dd577-1de0-4c35-8516-7058fdf431ec\",\"type\":\"Grid\"},{\"id\":\"ee63ef66-1115-4e55-81d7-8ba6c2d07377\",\"type\":\"CategoricalAxis\"},{\"id\":\"a36147de-8666-4c02-bd73-72aa845b5719\",\"type\":\"Grid\"},{\"id\":\"8bf32381-64a4-4058-8e6c-e31d2f695345\",\"type\":\"BoxAnnotation\"},{\"id\":\"4ce6f432-f320-4508-ba24-82fd957a128d\",\"type\":\"Legend\"},{\"id\":\"b4f31b56-51b5-424c-9002-63f8f8f483de\",\"type\":\"GlyphRenderer\"},{\"id\":\"006835be-2493-4826-9e5e-7390b8b461d9\",\"type\":\"GlyphRenderer\"},{\"id\":\"7dd010d3-a987-493e-8dd3-cab1625ba872\",\"type\":\"LabelSet\"},{\"id\":\"989b294c-80e9-40f4-b14e-2b676aaf2411\",\"type\":\"LabelSet\"}],\"title\":{\"id\":\"c07e3336-deac-40ca-a7aa-9004612483d2\",\"type\":\"Title\"},\"tool_events\":{\"id\":\"36f4a9b7-b887-4dbe-9826-24da4092152f\",\"type\":\"ToolEvents\"},\"toolbar\":{\"id\":\"f8490b23-e669-41ee-a25b-cea5b6ce4a8d\",\"type\":\"Toolbar\"},\"x_range\":{\"id\":\"5e5bc4f8-0f6f-4f23-9eec-c81728a97780\",\"type\":\"Range1d\"},\"x_scale\":{\"id\":\"2bfa3c1f-af3a-4ad1-8ba1-133a0d39a309\",\"type\":\"LinearScale\"},\"y_range\":{\"id\":\"6fbe51c9-34c0-4bd5-9076-0b2110195a31\",\"type\":\"FactorRange\"},\"y_scale\":{\"id\":\"95a81414-9f2c-4e58-bfcc-a29e00fce074\",\"type\":\"CategoricalScale\"}},\"id\":\"0fa915d9-e77b-432d-ad9a-4390fc666073\",\"subtype\":\"Figure\",\"type\":\"Plot\"},{\"attributes\":{},\"id\":\"2bfa3c1f-af3a-4ad1-8ba1-133a0d39a309\",\"type\":\"LinearScale\"},{\"attributes\":{},\"id\":\"95a81414-9f2c-4e58-bfcc-a29e00fce074\",\"type\":\"CategoricalScale\"},{\"attributes\":{\"fill_color\":{\"value\":\"deeppink\"},\"height\":{\"value\":0.8},\"line_color\":{\"value\":\"deeppink\"},\"right\":{\"field\":\"ratio\"},\"y\":{\"field\":\"word\"}},\"id\":\"6f017746-e699-4a37-b537-926b76e94703\",\"type\":\"HBar\"},{\"attributes\":{\"dimension\":1,\"grid_line_color\":{\"value\":null},\"plot\":{\"id\":\"0fa915d9-e77b-432d-ad9a-4390fc666073\",\"subtype\":\"Figure\",\"type\":\"Plot\"},\"ticker\":{\"id\":\"6132e693-4a52-40db-b3c5-107255685153\",\"type\":\"CategoricalTicker\"}},\"id\":\"a36147de-8666-4c02-bd73-72aa845b5719\",\"type\":\"Grid\"},{\"attributes\":{},\"id\":\"6132e693-4a52-40db-b3c5-107255685153\",\"type\":\"CategoricalTicker\"},{\"attributes\":{\"plot\":{\"id\":\"0fa915d9-e77b-432d-ad9a-4390fc666073\",\"subtype\":\"Figure\",\"type\":\"Plot\"}},\"id\":\"f1cbe0d9-a0f1-467a-be0a-0bee8933d0cf\",\"type\":\"HelpTool\"},{\"attributes\":{\"fill_color\":{\"value\":\"deepskyblue\"},\"height\":{\"value\":0.8},\"left\":{\"field\":\"ratio\"},\"line_color\":{\"value\":\"deepskyblue\"},\"right\":{\"value\":0},\"y\":{\"field\":\"word\"}},\"id\":\"3b5a31b9-af21-4642-b3e5-9bc867236ee7\",\"type\":\"HBar\"},{\"attributes\":{\"callback\":null,\"end\":22.904545454545453,\"start\":-22.904545454545453},\"id\":\"5e5bc4f8-0f6f-4f23-9eec-c81728a97780\",\"type\":\"Range1d\"},{\"attributes\":{},\"id\":\"680cc717-feec-487e-8d1b-16c624272dcf\",\"type\":\"BasicTicker\"},{\"attributes\":{\"overlay\":{\"id\":\"8bf32381-64a4-4058-8e6c-e31d2f695345\",\"type\":\"BoxAnnotation\"},\"plot\":{\"id\":\"0fa915d9-e77b-432d-ad9a-4390fc666073\",\"subtype\":\"Figure\",\"type\":\"Plot\"}},\"id\":\"f3a3210a-88f1-44f3-b979-74544873af32\",\"type\":\"BoxZoomTool\"},{\"attributes\":{\"callback\":null,\"column_names\":[\"gender\",\"word\",\"index\",\"ratio\"],\"data\":{\"gender\":[\"f\",\"f\",\"f\",\"f\",\"f\",\"f\",\"f\",\"f\",\"f\",\"f\",\"f\",\"f\",\"f\",\"f\",\"f\",\"f\",\"f\"],\"index\":[29,28,22,21,20,19,16,14,11,12,9,8,7,6,5,3,0],\"ratio\":{\"__ndarray__\":\"0kUXXXTRGEDSRRdddNEYQB5TA3vH1BlAPCXIU4I8GkAvuuiiiy4bQC+66KKLLhtAjC666KKLHUAV+awbTJEeQOmiiy666B9A6aKLLrroH0Cjiy666CIhQKOLLrroIiFA0UUXXXRRIkAAAAAAAIAjQC666KKLriRAuuiiiy46KECnBHlKkOcxQA==\",\"dtype\":\"float64\",\"shape\":[17]},\"word\":[\"pride\",\"formed\",\"sneakers\",\"include\",\"triple\",\"grown\",\"tab\",\"women\",\"six\",\"similar\",\"range\",\"exercise\",\"comfortably\",\"giving\",\"gym\",\"cute\",\"knee\"]}},\"id\":\"a106bdbb-f83f-4b25-9125-2dfcc288937c\",\"type\":\"ColumnDataSource\"},{\"attributes\":{},\"id\":\"36f4a9b7-b887-4dbe-9826-24da4092152f\",\"type\":\"ToolEvents\"},{\"attributes\":{\"fill_alpha\":{\"value\":0.1},\"fill_color\":{\"value\":\"#1f77b4\"},\"height\":{\"value\":0.8},\"left\":{\"field\":\"ratio\"},\"line_alpha\":{\"value\":0.1},\"line_color\":{\"value\":\"#1f77b4\"},\"right\":{\"value\":0},\"y\":{\"field\":\"word\"}},\"id\":\"cc295f78-5b8b-40b4-a518-93b4abf02d44\",\"type\":\"HBar\"},{\"attributes\":{\"items\":[{\"id\":\"b5cf5bfb-2fe9-4aad-8b3f-4cbb69410e5c\",\"type\":\"LegendItem\"},{\"id\":\"39bd97cf-c82d-4f8b-b113-fd5b1031d5f0\",\"type\":\"LegendItem\"}],\"label_text_font_size\":{\"value\":\"1em\"},\"location\":\"bottom_right\",\"plot\":{\"id\":\"0fa915d9-e77b-432d-ad9a-4390fc666073\",\"subtype\":\"Figure\",\"type\":\"Plot\"}},\"id\":\"4ce6f432-f320-4508-ba24-82fd957a128d\",\"type\":\"Legend\"},{\"attributes\":{\"format\":\"%uX\"},\"id\":\"30408b8f-bb49-403a-b87c-01a2c7a67132\",\"type\":\"PrintfTickFormatter\"},{\"attributes\":{\"callback\":null,\"column_names\":[\"gender\",\"word\",\"index\",\"ratio\"],\"data\":{\"gender\":[\"m\",\"m\",\"m\",\"m\",\"m\",\"m\",\"m\",\"m\",\"m\",\"m\",\"m\",\"m\",\"m\"],\"index\":[1,2,4,10,13,15,18,17,27,26,25,24,23],\"ratio\":{\"__ndarray__\":\"cziHcziHK8AyJVMyJVMqwP7cz/3czyXAn4DZUu8JIMBv+ZZv+ZYfwI7cyI3cyB3Aq7/6q7/6G8Crv/qrv/obwCmZkimZkhnAKZmSKZmSGcApmZIpmZIZwCmZkimZkhnAKZmSKZmSGcA=\",\"dtype\":\"float64\",\"shape\":[13]},\"word\":[\"argyle\",\"formal\",\"manufacturer\",\"men\",\"odors\",\"extended\",\"fruit\",\"loom\",\"elasthane\",\"generations\",\"thing\",\"assures\",\"fully\"]}},\"id\":\"924be3a9-af8f-4dd5-b64c-e01aaa9595df\",\"type\":\"ColumnDataSource\"},{\"attributes\":{\"callback\":null,\"factors\":[\"argyle\",\"formal\",\"manufacturer\",\"men\",\"odors\",\"extended\",\"fruit\",\"loom\",\"elasthane\",\"generations\",\"thing\",\"assures\",\"fully\",\"pride\",\"formed\",\"sneakers\",\"include\",\"triple\",\"grown\",\"tab\",\"women\",\"six\",\"similar\",\"range\",\"exercise\",\"comfortably\",\"giving\",\"gym\",\"cute\",\"knee\"]},\"id\":\"6fbe51c9-34c0-4bd5-9076-0b2110195a31\",\"type\":\"FactorRange\"},{\"attributes\":{\"callback\":null,\"column_names\":[\"gender\",\"word\",\"index\",\"ratio\"],\"data\":{\"gender\":[\"f\",\"f\",\"f\",\"f\",\"f\",\"f\",\"f\",\"f\",\"f\",\"f\",\"f\",\"f\",\"f\",\"f\",\"f\",\"f\",\"f\"],\"index\":[29,28,22,21,20,19,16,14,11,12,9,8,7,6,5,3,0],\"ratio\":{\"__ndarray__\":\"0kUXXXTRGEDSRRdddNEYQB5TA3vH1BlAPCXIU4I8GkAvuuiiiy4bQC+66KKLLhtAjC666KKLHUAV+awbTJEeQOmiiy666B9A6aKLLrroH0Cjiy666CIhQKOLLrroIiFA0UUXXXRRIkAAAAAAAIAjQC666KKLriRAuuiiiy46KECnBHlKkOcxQA==\",\"dtype\":\"float64\",\"shape\":[17]},\"word\":[\"pride\",\"formed\",\"sneakers\",\"include\",\"triple\",\"grown\",\"tab\",\"women\",\"six\",\"similar\",\"range\",\"exercise\",\"comfortably\",\"giving\",\"gym\",\"cute\",\"knee\"]}},\"id\":\"bfd3ef2f-416a-48aa-bf98-346dacb82b32\",\"type\":\"ColumnDataSource\"},{\"attributes\":{\"plot\":null,\"text\":\"Most Informative Words in Descriptions for Socks\",\"text_font_size\":{\"value\":\"1.2em\"}},\"id\":\"c07e3336-deac-40ca-a7aa-9004612483d2\",\"type\":\"Title\"},{\"attributes\":{\"grid_line_color\":{\"value\":null},\"plot\":{\"id\":\"0fa915d9-e77b-432d-ad9a-4390fc666073\",\"subtype\":\"Figure\",\"type\":\"Plot\"},\"ticker\":{\"id\":\"680cc717-feec-487e-8d1b-16c624272dcf\",\"type\":\"BasicTicker\"}},\"id\":\"f68dd577-1de0-4c35-8516-7058fdf431ec\",\"type\":\"Grid\"},{\"attributes\":{\"data_source\":{\"id\":\"a106bdbb-f83f-4b25-9125-2dfcc288937c\",\"type\":\"ColumnDataSource\"},\"glyph\":{\"id\":\"6f017746-e699-4a37-b537-926b76e94703\",\"type\":\"HBar\"},\"hover_glyph\":null,\"muted_glyph\":null,\"nonselection_glyph\":{\"id\":\"b6951c19-aec8-4502-93b4-67b44480e9a7\",\"type\":\"HBar\"},\"selection_glyph\":null},\"id\":\"b4f31b56-51b5-424c-9002-63f8f8f483de\",\"type\":\"GlyphRenderer\"},{\"attributes\":{\"callback\":null,\"column_names\":[\"gender\",\"word\",\"index\",\"ratio\"],\"data\":{\"gender\":[\"m\",\"m\",\"m\",\"m\",\"m\",\"m\",\"m\",\"m\",\"m\",\"m\",\"m\",\"m\",\"m\"],\"index\":[1,2,4,10,13,15,18,17,27,26,25,24,23],\"ratio\":{\"__ndarray__\":\"cziHcziHK8AyJVMyJVMqwP7cz/3czyXAn4DZUu8JIMBv+ZZv+ZYfwI7cyI3cyB3Aq7/6q7/6G8Crv/qrv/obwCmZkimZkhnAKZmSKZmSGcApmZIpmZIZwCmZkimZkhnAKZmSKZmSGcA=\",\"dtype\":\"float64\",\"shape\":[13]},\"word\":[\"argyle\",\"formal\",\"manufacturer\",\"men\",\"odors\",\"extended\",\"fruit\",\"loom\",\"elasthane\",\"generations\",\"thing\",\"assures\",\"fully\"]}},\"id\":\"b696bf98-ae71-402a-9cd4-a4feed4762ae\",\"type\":\"ColumnDataSource\"},{\"attributes\":{\"data_source\":{\"id\":\"b696bf98-ae71-402a-9cd4-a4feed4762ae\",\"type\":\"ColumnDataSource\"},\"glyph\":{\"id\":\"3b5a31b9-af21-4642-b3e5-9bc867236ee7\",\"type\":\"HBar\"},\"hover_glyph\":null,\"muted_glyph\":null,\"nonselection_glyph\":{\"id\":\"cc295f78-5b8b-40b4-a518-93b4abf02d44\",\"type\":\"HBar\"},\"selection_glyph\":null},\"id\":\"006835be-2493-4826-9e5e-7390b8b461d9\",\"type\":\"GlyphRenderer\"},{\"attributes\":{\"plot\":{\"id\":\"0fa915d9-e77b-432d-ad9a-4390fc666073\",\"subtype\":\"Figure\",\"type\":\"Plot\"}},\"id\":\"0ef00048-c79f-4ffe-9db4-8fbef97451d6\",\"type\":\"ResetTool\"},{\"attributes\":{\"active_drag\":\"auto\",\"active_inspect\":\"auto\",\"active_scroll\":\"auto\",\"active_tap\":\"auto\",\"tools\":[{\"id\":\"ad36b663-e958-47bb-aeae-e2bbb426cf5f\",\"type\":\"PanTool\"},{\"id\":\"f1c74196-6f1e-4ecb-953f-2b606a11294e\",\"type\":\"WheelZoomTool\"},{\"id\":\"f3a3210a-88f1-44f3-b979-74544873af32\",\"type\":\"BoxZoomTool\"},{\"id\":\"df989de3-59f0-4851-80af-9a44cd4f66b8\",\"type\":\"SaveTool\"},{\"id\":\"0ef00048-c79f-4ffe-9db4-8fbef97451d6\",\"type\":\"ResetTool\"},{\"id\":\"f1cbe0d9-a0f1-467a-be0a-0bee8933d0cf\",\"type\":\"HelpTool\"}]},\"id\":\"f8490b23-e669-41ee-a25b-cea5b6ce4a8d\",\"type\":\"Toolbar\"},{\"attributes\":{\"level\":\"glyph\",\"plot\":{\"id\":\"0fa915d9-e77b-432d-ad9a-4390fc666073\",\"subtype\":\"Figure\",\"type\":\"Plot\"},\"source\":{\"id\":\"924be3a9-af8f-4dd5-b64c-e01aaa9595df\",\"type\":\"ColumnDataSource\"},\"text\":{\"field\":\"word\"},\"x\":{\"value\":0},\"x_offset\":{\"value\":5},\"y\":{\"field\":\"word\"},\"y_offset\":{\"value\":-9}},\"id\":\"7dd010d3-a987-493e-8dd3-cab1625ba872\",\"type\":\"LabelSet\"},{\"attributes\":{\"label\":{\"value\":\"Male\"},\"renderers\":[{\"id\":\"006835be-2493-4826-9e5e-7390b8b461d9\",\"type\":\"GlyphRenderer\"}]},\"id\":\"39bd97cf-c82d-4f8b-b113-fd5b1031d5f0\",\"type\":\"LegendItem\"},{\"attributes\":{},\"id\":\"075e7850-0cf1-4553-80f4-a16c2a9aff3e\",\"type\":\"CategoricalTickFormatter\"},{\"attributes\":{\"formatter\":{\"id\":\"075e7850-0cf1-4553-80f4-a16c2a9aff3e\",\"type\":\"CategoricalTickFormatter\"},\"plot\":{\"id\":\"0fa915d9-e77b-432d-ad9a-4390fc666073\",\"subtype\":\"Figure\",\"type\":\"Plot\"},\"ticker\":{\"id\":\"6132e693-4a52-40db-b3c5-107255685153\",\"type\":\"CategoricalTicker\"},\"visible\":false},\"id\":\"ee63ef66-1115-4e55-81d7-8ba6c2d07377\",\"type\":\"CategoricalAxis\"},{\"attributes\":{\"plot\":{\"id\":\"0fa915d9-e77b-432d-ad9a-4390fc666073\",\"subtype\":\"Figure\",\"type\":\"Plot\"}},\"id\":\"df989de3-59f0-4851-80af-9a44cd4f66b8\",\"type\":\"SaveTool\"},{\"attributes\":{\"bottom_units\":\"screen\",\"fill_alpha\":{\"value\":0.5},\"fill_color\":{\"value\":\"lightgrey\"},\"left_units\":\"screen\",\"level\":\"overlay\",\"line_alpha\":{\"value\":1.0},\"line_color\":{\"value\":\"black\"},\"line_dash\":[4,4],\"line_width\":{\"value\":2},\"plot\":null,\"render_mode\":\"css\",\"right_units\":\"screen\",\"top_units\":\"screen\"},\"id\":\"8bf32381-64a4-4058-8e6c-e31d2f695345\",\"type\":\"BoxAnnotation\"},{\"attributes\":{\"fill_alpha\":{\"value\":0.1},\"fill_color\":{\"value\":\"#1f77b4\"},\"height\":{\"value\":0.8},\"line_alpha\":{\"value\":0.1},\"line_color\":{\"value\":\"#1f77b4\"},\"right\":{\"field\":\"ratio\"},\"y\":{\"field\":\"word\"}},\"id\":\"b6951c19-aec8-4502-93b4-67b44480e9a7\",\"type\":\"HBar\"}],\"root_ids\":[\"0fa915d9-e77b-432d-ad9a-4390fc666073\"]},\"title\":\"Bokeh Application\",\"version\":\"0.12.6\"}};\n",
       "            var render_items = [{\"docid\":\"86d945e8-40c4-497c-9be7-46d4ca7b7890\",\"elementid\":\"a29b0efb-89d3-4df5-bd0e-c1b408a67e2d\",\"modelid\":\"0fa915d9-e77b-432d-ad9a-4390fc666073\"}];\n",
       "            \n",
       "            Bokeh.embed.embed_items(docs_json, render_items);\n",
       "          };\n",
       "          if (document.readyState != \"loading\") fn();\n",
       "          else document.addEventListener(\"DOMContentLoaded\", fn);\n",
       "        })();\n",
       "      },\n",
       "      function(Bokeh) {\n",
       "      }\n",
       "    ];\n",
       "  \n",
       "    function run_inline_js() {\n",
       "      \n",
       "      if ((window.Bokeh !== undefined) || (force === true)) {\n",
       "        for (var i = 0; i < inline_js.length; i++) {\n",
       "          inline_js[i](window.Bokeh);\n",
       "        }if (force === true) {\n",
       "          display_loaded();\n",
       "        }} else if (Date.now() < window._bokeh_timeout) {\n",
       "        setTimeout(run_inline_js, 100);\n",
       "      } else if (!window._bokeh_failed_load) {\n",
       "        console.log(\"Bokeh: BokehJS failed to load within specified timeout.\");\n",
       "        window._bokeh_failed_load = true;\n",
       "      } else if (force !== true) {\n",
       "        var cell = $(document.getElementById(\"a29b0efb-89d3-4df5-bd0e-c1b408a67e2d\")).parents('.cell').data().cell;\n",
       "        cell.output_area.append_execute_result(NB_LOAD_WARNING)\n",
       "      }\n",
       "  \n",
       "    }\n",
       "  \n",
       "    if (window._bokeh_is_loading === 0) {\n",
       "      console.log(\"Bokeh: BokehJS loaded, going straight to plotting\");\n",
       "      run_inline_js();\n",
       "    } else {\n",
       "      load_libs(js_urls, function() {\n",
       "        console.log(\"Bokeh: BokehJS plotting callback run at\", now());\n",
       "        run_inline_js();\n",
       "      });\n",
       "    }\n",
       "  }(this));\n",
       "</script>"
      ]
     },
     "metadata": {},
     "output_type": "display_data"
    }
   ],
   "source": [
    "socks_info = store_most_informative_features(socksSC,30)\n",
    "graph_features(socks_info, \"Socks\")"
   ]
  },
  {
   "cell_type": "code",
   "execution_count": 98,
   "metadata": {
    "collapsed": true
   },
   "outputs": [],
   "source": [
    "Eyewear_Corpus = build_corpus(\"Fashion\", \"EyewearCorpus\", eyewear)"
   ]
  },
  {
   "cell_type": "code",
   "execution_count": 100,
   "metadata": {},
   "outputs": [
    {
     "name": "stdout",
     "output_type": "stream",
     "text": [
      "[(u'p', 1749), (u'lenses', 1581), (u'glasses', 1291), (u'li', 1174), (u'sunglasses', 1049), (u'1', 883), (u'lens', 771), (u'case', 665), (u'polarized', 628), (u'frame', 523), (u'100', 517), (u'quality', 506), (u'protection', 491), (u'strong', 437), (u'></', 420)]\n"
     ]
    }
   ],
   "source": [
    "EyewearFD = get_FD(Eyewear_Corpus)\n",
    "eyewear_features = create_features(Eyewear_Corpus)"
   ]
  },
  {
   "cell_type": "code",
   "execution_count": 106,
   "metadata": {},
   "outputs": [
    {
     "name": "stdout",
     "output_type": "stream",
     "text": [
      "76.625\n",
      "60.0\n",
      "Most Informative Features\n",
      "                    fact = 1                   f : m      =     14.3 : 1.0\n",
      "                    /></ = 1                   f : m      =     14.3 : 1.0\n",
      "              industries = 1                   f : m      =     13.7 : 1.0\n",
      "                 golfers = 1                   f : m      =     13.0 : 1.0\n",
      "                 tension = 1                   f : m      =     13.0 : 1.0\n",
      "                     ask = 1                   f : m      =     13.0 : 1.0\n",
      "                 shipped = 1                   m : f      =     11.0 : 1.0\n",
      "                      co = 1                   f : m      =      8.6 : 1.0\n",
      "                   names = 1                   f : m      =      8.6 : 1.0\n",
      "                      hd = 1                   f : m      =      8.6 : 1.0\n",
      "                 weekend = 1                   f : m      =      8.2 : 1.0\n",
      "                    hide = 1                   f : m      =      8.2 : 1.0\n",
      "                       r = 1                   f : m      =      8.2 : 1.0\n",
      "             proprietary = 1                   f : m      =      7.8 : 1.0\n",
      "                  global = 1                   f : m      =      7.8 : 1.0\n",
      "                 passion = 1                   f : m      =      7.8 : 1.0\n",
      "                enhanced = 1                   m : f      =      7.7 : 1.0\n",
      "                accurate = 1                   m : f      =      7.7 : 1.0\n",
      "                 greatly = 1                   f : m      =      7.0 : 1.0\n",
      "                  issues = 1                   f : m      =      7.0 : 1.0\n",
      "              brightness = 1                   f : m      =      7.0 : 1.0\n",
      "                 vividly = 1                   f : m      =      6.3 : 1.0\n",
      "              crushproof = 1                   f : m      =      6.3 : 1.0\n",
      "                  weaken = 1                   f : m      =      6.3 : 1.0\n",
      "               saltwater = 1                   f : m      =      6.3 : 1.0\n"
     ]
    }
   ],
   "source": [
    "eyewearSC = NB_classify(eyewear_features, 0.8)\n",
    "eyewearSC.show_most_informative_features(25)"
   ]
  },
  {
   "cell_type": "code",
   "execution_count": 78,
   "metadata": {
    "collapsed": true
   },
   "outputs": [],
   "source": [
    "Razor_Corpus = build_corpus(\"HealthPersonalCare\", \"RazorCorpus\", razor)"
   ]
  },
  {
   "cell_type": "code",
   "execution_count": 79,
   "metadata": {},
   "outputs": [
    {
     "name": "stdout",
     "output_type": "stream",
     "text": [
      "[(u'razor', 1418), (u'p', 775), (u'blades', 747), (u'blade', 742), (u'shave', 734), (u'skin', 479), (u'shaving', 459), (u'razors', 437), (u'handle', 295), (u'edge', 236), (u'safety', 233), (u'smooth', 227), (u'gillette', 226), (u'5', 217), (u'close', 205)]\n"
     ]
    }
   ],
   "source": [
    "RazorFD = get_FD(Razor_Corpus)"
   ]
  },
  {
   "cell_type": "code",
   "execution_count": 80,
   "metadata": {
    "collapsed": true
   },
   "outputs": [],
   "source": [
    "razor_features = create_features(Razor_Corpus)"
   ]
  },
  {
   "cell_type": "code",
   "execution_count": 105,
   "metadata": {},
   "outputs": [
    {
     "name": "stdout",
     "output_type": "stream",
     "text": [
      "93.345323741\n",
      "92.8104575163\n",
      "Most Informative Features\n",
      "               intuition = 1                   f : m      =     34.0 : 1.0\n",
      "                straight = 1                   m : f      =     25.3 : 1.0\n",
      "                    step = 1                   f : m      =     22.3 : 1.0\n",
      "                  curves = 1                   f : m      =     19.9 : 1.0\n",
      "            moisturizing = 1                   f : m      =     19.1 : 1.0\n",
      "                  shower = 1                   f : m      =     17.6 : 1.0\n",
      "                 leaving = 1                   f : m      =     17.6 : 1.0\n",
      "                    legs = 1                   f : m      =     15.2 : 1.0\n",
      "                   women = 1                   f : m      =     14.0 : 1.0\n",
      "                    edge = 1                   m : f      =     13.6 : 1.0\n",
      "                    many = 1                   m : f      =     11.7 : 1.0\n",
      "                     end = 1                   m : f      =     11.7 : 1.0\n",
      "                  double = 1                   m : f      =     11.3 : 1.0\n",
      "                 embrace = 1                   f : m      =     11.3 : 1.0\n",
      "                included = 1                   m : f      =     11.1 : 1.0\n",
      "                  weight = 1                   m : f      =     11.1 : 1.0\n",
      "                    wash = 1                   f : m      =     11.0 : 1.0\n",
      "                  parker = 1                   m : f      =     10.5 : 1.0\n",
      "            professional = 1                   m : f      =     10.4 : 1.0\n",
      "                 coating = 1                   m : f      =     10.0 : 1.0\n",
      "                   mach3 = 1                   m : f      =     10.0 : 1.0\n",
      "                   beard = 1                   m : f      =     10.0 : 1.0\n",
      "                    silk = 1                   f : m      =      9.1 : 1.0\n",
      "                delicate = 1                   f : m      =      9.0 : 1.0\n",
      "            conditioning = 1                   f : m      =      8.9 : 1.0\n"
     ]
    }
   ],
   "source": [
    "razorSC = NB_classify(razor_features, 0.8)\n",
    "razorSC.show_most_informative_features(25)"
   ]
  },
  {
   "cell_type": "code",
   "execution_count": 22,
   "metadata": {
    "collapsed": true
   },
   "outputs": [],
   "source": [
    "Watch_Corpus = build_corpus(\"Fashion\", \"WatchesCorpus\", watch)"
   ]
  },
  {
   "cell_type": "code",
   "execution_count": 29,
   "metadata": {},
   "outputs": [
    {
     "name": "stdout",
     "output_type": "stream",
     "text": [
      "[(u'watch', 2145), (u'p', 1513), (u'1', 920), (u'case', 753), (u'steel', 720), (u'stainless', 614), (u'dial', 510), (u'time', 484), (u'band', 460), (u'width', 434), (u'2', 374), (u'q', 342), (u'movement', 340), (u'warranty', 331), (u'features', 327)]\n"
     ]
    }
   ],
   "source": [
    "WatchFD = get_FD(Watch_Corpus)"
   ]
  },
  {
   "cell_type": "code",
   "execution_count": 30,
   "metadata": {
    "collapsed": true
   },
   "outputs": [],
   "source": [
    "watch_feature = create_features(Watch_Corpus) "
   ]
  },
  {
   "cell_type": "code",
   "execution_count": 115,
   "metadata": {},
   "outputs": [
    {
     "name": "stdout",
     "output_type": "stream",
     "text": [
      "80.0\n",
      "61.9047619048\n",
      "Most Informative Features\n",
      "                  womens = 1                   f : m      =     14.3 : 1.0\n",
      "                 reserve = 1                   m : f      =     11.0 : 1.0\n",
      "                  highly = 1                   m : f      =      9.0 : 1.0\n",
      "                   pearl = 1                   f : m      =      9.0 : 1.0\n",
      "                   money = 1                   f : m      =      9.0 : 1.0\n",
      "                  ladies = 1                   f : m      =      8.4 : 1.0\n",
      "                    pink = 1                   f : m      =      8.3 : 1.0\n",
      "                pressure = 1                   m : f      =      8.3 : 1.0\n",
      "                  mother = 1                   f : m      =      8.3 : 1.0\n",
      "                 buttons = 1                   m : f      =      8.3 : 1.0\n",
      "                  sensor = 1                   m : f      =      8.3 : 1.0\n",
      "                 compass = 1                   m : f      =      7.7 : 1.0\n",
      "                  triple = 1                   m : f      =      7.7 : 1.0\n",
      "                   grant = 1                   m : f      =      7.7 : 1.0\n",
      "                     fob = 1                   f : m      =      7.0 : 1.0\n",
      "                    tang = 1                   m : f      =      7.0 : 1.0\n",
      "                goldtone = 1                   f : m      =      7.0 : 1.0\n",
      "                      ii = 1                   m : f      =      7.0 : 1.0\n",
      "                      1x = 1                   f : m      =      7.0 : 1.0\n",
      "                     200 = 1                   m : f      =      6.6 : 1.0\n",
      "                    must = 1                   m : f      =      6.3 : 1.0\n",
      "              reflective = 1                   m : f      =      6.3 : 1.0\n",
      "                   sweep = 1                   m : f      =      6.3 : 1.0\n",
      "                 caliber = 1                   m : f      =      6.3 : 1.0\n",
      "                   drive = 1                   m : f      =      6.3 : 1.0\n"
     ]
    }
   ],
   "source": [
    "watchSC = NB_classify(watch_feature, 400)\n",
    "watchSC.show_most_informative_features(25)"
   ]
  },
  {
   "cell_type": "code",
   "execution_count": 80,
   "metadata": {
    "collapsed": true
   },
   "outputs": [],
   "source": [
    "Perfume_Corpus = build_corpus(\"Beauty\", \"PerfumeCorpus\", perfume)\n",
    "Perfume_Corpus = build_corpus(\"HealthPersonalCare\", \"PerfumeCorpus\", perfume)"
   ]
  },
  {
   "cell_type": "code",
   "execution_count": 81,
   "metadata": {},
   "outputs": [
    {
     "name": "stdout",
     "output_type": "stream",
     "text": [
      "[(u'fragrance', 1085), (u'notes', 642), (u'skin', 515), (u'scent', 492), (u'spray', 465), (u'body', 454), (u'oz', 431), (u'men', 370), (u'eau', 356), (u'oil', 343), (u'affect', 333), (u'wear', 317), (u'3', 310), (u'blend', 280), (u'recommended', 256)]\n"
     ]
    }
   ],
   "source": [
    "PerfumeFD = get_FD(Perfume_Corpus)"
   ]
  },
  {
   "cell_type": "code",
   "execution_count": 82,
   "metadata": {
    "collapsed": true
   },
   "outputs": [],
   "source": [
    "perfume_feature = create_features(Perfume_Corpus)"
   ]
  },
  {
   "cell_type": "code",
   "execution_count": 88,
   "metadata": {},
   "outputs": [
    {
     "name": "stdout",
     "output_type": "stream",
     "text": [
      "91.2835249042\n",
      "81.9230769231\n",
      "Most Informative Features\n",
      "               essential = 1                   f : m      =     25.1 : 1.0\n",
      "                 tobacco = 1                   m : f      =     21.2 : 1.0\n",
      "                rosewood = 1                   m : f      =     18.8 : 1.0\n",
      "                     man = 1                   m : f      =     16.1 : 1.0\n",
      "                sycamore = 1                   m : f      =     14.8 : 1.0\n",
      "                   homme = 1                   m : f      =     13.2 : 1.0\n",
      "                   women = 1                   f : m      =     11.4 : 1.0\n",
      "               deodorant = 1                   m : f      =     11.3 : 1.0\n",
      "                   manly = 1                   m : f      =     10.8 : 1.0\n",
      "                moisture = 1                   m : f      =     10.8 : 1.0\n",
      "                    sage = 1                   m : f      =     10.8 : 1.0\n",
      "                delicate = 1                   f : m      =     10.8 : 1.0\n",
      "                     men = 1                   m : f      =     10.5 : 1.0\n",
      "                 healthy = 1                   f : m      =     10.3 : 1.0\n",
      "                 calming = 1                   f : m      =     10.3 : 1.0\n",
      "                   shave = 1                   m : f      =     10.0 : 1.0\n",
      "                perfumes = 1                   f : m      =      9.7 : 1.0\n",
      "                    male = 1                   m : f      =      9.2 : 1.0\n",
      "                cardamom = 1                   m : f      =      8.7 : 1.0\n",
      "                    ease = 1                   f : m      =      8.6 : 1.0\n",
      "                 freesia = 1                   f : m      =      8.6 : 1.0\n",
      "                 mineral = 1                   m : f      =      8.4 : 1.0\n",
      "                    mist = 1                   f : m      =      7.9 : 1.0\n",
      "                    star = 1                   m : f      =      7.9 : 1.0\n",
      "                  sprays = 1                   m : f      =      7.9 : 1.0\n",
      "               masculine = 1                   m : f      =      7.7 : 1.0\n",
      "                   quick = 1                   m : f      =      7.6 : 1.0\n",
      "                  appeal = 1                   m : f      =      7.6 : 1.0\n",
      "               chamomile = 1                   f : m      =      7.5 : 1.0\n",
      "                    pure = 1                   f : m      =      7.5 : 1.0\n"
     ]
    }
   ],
   "source": [
    "perfumeSC = NB_classify(perfume_feature, 0.8)\n",
    "perfumeSC.show_most_informative_features(30)"
   ]
  },
  {
   "cell_type": "code",
   "execution_count": 101,
   "metadata": {
    "scrolled": true
   },
   "outputs": [
    {
     "data": {
      "text/html": [
       "\n",
       "\n",
       "    <div class=\"bk-root\">\n",
       "        <div class=\"bk-plotdiv\" id=\"51d0cf8b-fe27-4561-9824-213c3a8c3620\"></div>\n",
       "    </div>\n",
       "<script type=\"text/javascript\">\n",
       "  \n",
       "  (function(global) {\n",
       "    function now() {\n",
       "      return new Date();\n",
       "    }\n",
       "  \n",
       "    var force = false;\n",
       "  \n",
       "    if (typeof (window._bokeh_onload_callbacks) === \"undefined\" || force === true) {\n",
       "      window._bokeh_onload_callbacks = [];\n",
       "      window._bokeh_is_loading = undefined;\n",
       "    }\n",
       "  \n",
       "  \n",
       "    \n",
       "    if (typeof (window._bokeh_timeout) === \"undefined\" || force === true) {\n",
       "      window._bokeh_timeout = Date.now() + 0;\n",
       "      window._bokeh_failed_load = false;\n",
       "    }\n",
       "  \n",
       "    var NB_LOAD_WARNING = {'data': {'text/html':\n",
       "       \"<div style='background-color: #fdd'>\\n\"+\n",
       "       \"<p>\\n\"+\n",
       "       \"BokehJS does not appear to have successfully loaded. If loading BokehJS from CDN, this \\n\"+\n",
       "       \"may be due to a slow or bad network connection. Possible fixes:\\n\"+\n",
       "       \"</p>\\n\"+\n",
       "       \"<ul>\\n\"+\n",
       "       \"<li>re-rerun `output_notebook()` to attempt to load from CDN again, or</li>\\n\"+\n",
       "       \"<li>use INLINE resources instead, as so:</li>\\n\"+\n",
       "       \"</ul>\\n\"+\n",
       "       \"<code>\\n\"+\n",
       "       \"from bokeh.resources import INLINE\\n\"+\n",
       "       \"output_notebook(resources=INLINE)\\n\"+\n",
       "       \"</code>\\n\"+\n",
       "       \"</div>\"}};\n",
       "  \n",
       "    function display_loaded() {\n",
       "      if (window.Bokeh !== undefined) {\n",
       "        var el = document.getElementById(\"51d0cf8b-fe27-4561-9824-213c3a8c3620\");\n",
       "        el.textContent = \"BokehJS \" + Bokeh.version + \" successfully loaded.\";\n",
       "      } else if (Date.now() < window._bokeh_timeout) {\n",
       "        setTimeout(display_loaded, 100)\n",
       "      }\n",
       "    }\n",
       "  \n",
       "    function run_callbacks() {\n",
       "      try {\n",
       "        window._bokeh_onload_callbacks.forEach(function(callback) { callback() });\n",
       "      }\n",
       "      finally {\n",
       "        delete window._bokeh_onload_callbacks\n",
       "      }\n",
       "      console.info(\"Bokeh: all callbacks have finished\");\n",
       "    }\n",
       "  \n",
       "    function load_libs(js_urls, callback) {\n",
       "      window._bokeh_onload_callbacks.push(callback);\n",
       "      if (window._bokeh_is_loading > 0) {\n",
       "        console.log(\"Bokeh: BokehJS is being loaded, scheduling callback at\", now());\n",
       "        return null;\n",
       "      }\n",
       "      if (js_urls == null || js_urls.length === 0) {\n",
       "        run_callbacks();\n",
       "        return null;\n",
       "      }\n",
       "      console.log(\"Bokeh: BokehJS not loaded, scheduling load and callback at\", now());\n",
       "      window._bokeh_is_loading = js_urls.length;\n",
       "      for (var i = 0; i < js_urls.length; i++) {\n",
       "        var url = js_urls[i];\n",
       "        var s = document.createElement('script');\n",
       "        s.src = url;\n",
       "        s.async = false;\n",
       "        s.onreadystatechange = s.onload = function() {\n",
       "          window._bokeh_is_loading--;\n",
       "          if (window._bokeh_is_loading === 0) {\n",
       "            console.log(\"Bokeh: all BokehJS libraries loaded\");\n",
       "            run_callbacks()\n",
       "          }\n",
       "        };\n",
       "        s.onerror = function() {\n",
       "          console.warn(\"failed to load library \" + url);\n",
       "        };\n",
       "        console.log(\"Bokeh: injecting script tag for BokehJS library: \", url);\n",
       "        document.getElementsByTagName(\"head\")[0].appendChild(s);\n",
       "      }\n",
       "    };var element = document.getElementById(\"51d0cf8b-fe27-4561-9824-213c3a8c3620\");\n",
       "    if (element == null) {\n",
       "      console.log(\"Bokeh: ERROR: autoload.js configured with elementid '51d0cf8b-fe27-4561-9824-213c3a8c3620' but no matching script tag was found. \")\n",
       "      return false;\n",
       "    }\n",
       "  \n",
       "    var js_urls = [];\n",
       "  \n",
       "    var inline_js = [\n",
       "      function(Bokeh) {\n",
       "        (function() {\n",
       "          var fn = function() {\n",
       "            var docs_json = {\"35b7aa6b-f27b-4d64-ba2f-bcc9ece1fe77\":{\"roots\":{\"references\":[{\"attributes\":{\"overlay\":{\"id\":\"b62f10ed-633b-4347-97f7-44c54be86934\",\"type\":\"BoxAnnotation\"},\"plot\":{\"id\":\"6057c7f8-e471-4cdd-8ef9-39d084f4877b\",\"subtype\":\"Figure\",\"type\":\"Plot\"}},\"id\":\"376b4dd0-1053-45bb-a121-99e7ca6f248a\",\"type\":\"BoxZoomTool\"},{\"attributes\":{\"callback\":null,\"column_names\":[\"gender\",\"word\",\"index\",\"ratio\"],\"data\":{\"gender\":[\"f\",\"f\",\"f\",\"f\",\"f\",\"f\",\"f\",\"f\",\"f\",\"f\",\"f\"],\"index\":[28,29,22,19,20,16,14,13,11,6,0],\"ratio\":{\"__ndarray__\":\"GLEPx4zyHUAYsQ/HjPIdQJ3iCHYwwx9Avb8N5CoxIUC9vw3kKjEhQO6mk2QPaSNAhprWpAGFJECGmtakAYUkQB+OGeXzoCVAoBRWwMnaJkB0DYYvYh85QA==\",\"dtype\":\"float64\",\"shape\":[11]},\"word\":[\"chamomile\",\"pure\",\"mist\",\"ease\",\"freesia\",\"perfumes\",\"calming\",\"healthy\",\"delicate\",\"women\",\"essential\"]}},\"id\":\"80e2192c-f443-41de-ad18-8e9e48b69dbe\",\"type\":\"ColumnDataSource\"},{\"attributes\":{\"below\":[{\"id\":\"3e4740f4-2820-4cd6-91da-2c30251c0e0b\",\"type\":\"LinearAxis\"}],\"left\":[{\"id\":\"47c98157-ae51-413c-8f03-44498bd4dbe4\",\"type\":\"CategoricalAxis\"}],\"renderers\":[{\"id\":\"3e4740f4-2820-4cd6-91da-2c30251c0e0b\",\"type\":\"LinearAxis\"},{\"id\":\"c060093a-3088-47b8-8d59-8f829c7ded38\",\"type\":\"Grid\"},{\"id\":\"47c98157-ae51-413c-8f03-44498bd4dbe4\",\"type\":\"CategoricalAxis\"},{\"id\":\"f98c89e6-f1bb-4662-b413-a874ca174006\",\"type\":\"Grid\"},{\"id\":\"b62f10ed-633b-4347-97f7-44c54be86934\",\"type\":\"BoxAnnotation\"},{\"id\":\"5b4458a1-af35-4e68-a6e1-9bc23af219c5\",\"type\":\"Legend\"},{\"id\":\"b2671e44-dbc3-4427-a69d-a230710bb4cb\",\"type\":\"GlyphRenderer\"},{\"id\":\"5ecfc125-135d-47b7-9c5e-1616c64f3f2b\",\"type\":\"GlyphRenderer\"},{\"id\":\"a0d5b905-4a28-4482-b811-585a63e15961\",\"type\":\"LabelSet\"},{\"id\":\"f4f75b3c-a80a-40c8-bb36-17d24cf7fa5e\",\"type\":\"LabelSet\"}],\"title\":{\"id\":\"1858de8b-6902-44d3-a0e5-24f6769bba31\",\"type\":\"Title\"},\"tool_events\":{\"id\":\"1b3ce109-fa2f-4995-a12f-2c9b3b28583f\",\"type\":\"ToolEvents\"},\"toolbar\":{\"id\":\"8d843084-0878-4da1-b2ce-9e88d48f250a\",\"type\":\"Toolbar\"},\"x_range\":{\"id\":\"cfc60057-f581-4b28-9c83-f576e6a7a1d5\",\"type\":\"Range1d\"},\"x_scale\":{\"id\":\"366e2060-838a-4375-9bf8-06bb0039d28f\",\"type\":\"LinearScale\"},\"y_range\":{\"id\":\"c80f8947-559a-46e6-9ab1-e351fda4994e\",\"type\":\"FactorRange\"},\"y_scale\":{\"id\":\"28e032a4-dc51-422c-a085-3e292524b15b\",\"type\":\"CategoricalScale\"}},\"id\":\"6057c7f8-e471-4cdd-8ef9-39d084f4877b\",\"subtype\":\"Figure\",\"type\":\"Plot\"},{\"attributes\":{\"bottom_units\":\"screen\",\"fill_alpha\":{\"value\":0.5},\"fill_color\":{\"value\":\"lightgrey\"},\"left_units\":\"screen\",\"level\":\"overlay\",\"line_alpha\":{\"value\":1.0},\"line_color\":{\"value\":\"black\"},\"line_dash\":[4,4],\"line_width\":{\"value\":2},\"plot\":null,\"render_mode\":\"css\",\"right_units\":\"screen\",\"top_units\":\"screen\"},\"id\":\"b62f10ed-633b-4347-97f7-44c54be86934\",\"type\":\"BoxAnnotation\"},{\"attributes\":{},\"id\":\"58bd1d93-7470-4ebe-8ceb-e390ff182a7f\",\"type\":\"CategoricalTicker\"},{\"attributes\":{},\"id\":\"1b3ce109-fa2f-4995-a12f-2c9b3b28583f\",\"type\":\"ToolEvents\"},{\"attributes\":{\"plot\":{\"id\":\"6057c7f8-e471-4cdd-8ef9-39d084f4877b\",\"subtype\":\"Figure\",\"type\":\"Plot\"}},\"id\":\"83248c15-d6d6-4d27-b07a-fabae6bcd8a8\",\"type\":\"PanTool\"},{\"attributes\":{\"fill_alpha\":{\"value\":0.1},\"fill_color\":{\"value\":\"#1f77b4\"},\"height\":{\"value\":0.8},\"line_alpha\":{\"value\":0.1},\"line_color\":{\"value\":\"#1f77b4\"},\"right\":{\"field\":\"ratio\"},\"y\":{\"field\":\"word\"}},\"id\":\"f0ad9978-34f3-4685-a1c8-3e14b7466ade\",\"type\":\"HBar\"},{\"attributes\":{\"plot\":null,\"text\":\"Most Informative Words in Descriptions for Perfume\",\"text_font_size\":{\"value\":\"1.2em\"}},\"id\":\"1858de8b-6902-44d3-a0e5-24f6769bba31\",\"type\":\"Title\"},{\"attributes\":{\"label\":{\"value\":\"Skew Female\"},\"renderers\":[{\"id\":\"b2671e44-dbc3-4427-a69d-a230710bb4cb\",\"type\":\"GlyphRenderer\"}]},\"id\":\"cb69330b-522f-4b5a-95a2-922b81cea380\",\"type\":\"LegendItem\"},{\"attributes\":{\"fill_color\":{\"value\":\"deepskyblue\"},\"height\":{\"value\":0.8},\"left\":{\"field\":\"ratio\"},\"line_color\":{\"value\":\"deepskyblue\"},\"right\":{\"value\":0},\"y\":{\"field\":\"word\"}},\"id\":\"6eab85d5-0285-4136-bcbc-d00ce28616f7\",\"type\":\"HBar\"},{\"attributes\":{},\"id\":\"a468c424-b37c-4c33-a20d-e9ade26c958f\",\"type\":\"CategoricalTickFormatter\"},{\"attributes\":{\"callback\":null,\"factors\":[\"tobacco\",\"rosewood\",\"man\",\"sycamore\",\"homme\",\"deodorant\",\"manly\",\"moisture\",\"sage\",\"men\",\"shave\",\"male\",\"cardamom\",\"mineral\",\"star\",\"sprays\",\"masculine\",\"quick\",\"appeal\",\"chamomile\",\"pure\",\"mist\",\"ease\",\"freesia\",\"perfumes\",\"calming\",\"healthy\",\"delicate\",\"women\",\"essential\"]},\"id\":\"c80f8947-559a-46e6-9ab1-e351fda4994e\",\"type\":\"FactorRange\"},{\"attributes\":{\"items\":[{\"id\":\"cb69330b-522f-4b5a-95a2-922b81cea380\",\"type\":\"LegendItem\"},{\"id\":\"75b06636-0fb3-4baa-946a-3cdf840c1532\",\"type\":\"LegendItem\"}],\"label_text_font_size\":{\"value\":\"1em\"},\"location\":\"bottom_right\",\"plot\":{\"id\":\"6057c7f8-e471-4cdd-8ef9-39d084f4877b\",\"subtype\":\"Figure\",\"type\":\"Plot\"}},\"id\":\"5b4458a1-af35-4e68-a6e1-9bc23af219c5\",\"type\":\"Legend\"},{\"attributes\":{},\"id\":\"004f74bb-0a16-49ee-ae08-b24fc0a5be2b\",\"type\":\"BasicTicker\"},{\"attributes\":{\"dimension\":1,\"grid_line_color\":{\"value\":null},\"plot\":{\"id\":\"6057c7f8-e471-4cdd-8ef9-39d084f4877b\",\"subtype\":\"Figure\",\"type\":\"Plot\"},\"ticker\":{\"id\":\"58bd1d93-7470-4ebe-8ceb-e390ff182a7f\",\"type\":\"CategoricalTicker\"}},\"id\":\"f98c89e6-f1bb-4662-b413-a874ca174006\",\"type\":\"Grid\"},{\"attributes\":{\"data_source\":{\"id\":\"f3ed59f7-2820-4e33-89d5-b20cbb820ad5\",\"type\":\"ColumnDataSource\"},\"glyph\":{\"id\":\"a31968d0-49e2-4dba-a77d-11f7ab458fc1\",\"type\":\"HBar\"},\"hover_glyph\":null,\"muted_glyph\":null,\"nonselection_glyph\":{\"id\":\"f0ad9978-34f3-4685-a1c8-3e14b7466ade\",\"type\":\"HBar\"},\"selection_glyph\":null},\"id\":\"b2671e44-dbc3-4427-a69d-a230710bb4cb\",\"type\":\"GlyphRenderer\"},{\"attributes\":{\"axis_label\":\"Likelihood Ratio\",\"axis_label_text_font_size\":{\"value\":\"1em\"},\"formatter\":{\"id\":\"400798a1-a99c-4167-83af-62d5921cc698\",\"type\":\"PrintfTickFormatter\"},\"major_label_text_font_size\":{\"value\":\"1em\"},\"plot\":{\"id\":\"6057c7f8-e471-4cdd-8ef9-39d084f4877b\",\"subtype\":\"Figure\",\"type\":\"Plot\"},\"ticker\":{\"id\":\"004f74bb-0a16-49ee-ae08-b24fc0a5be2b\",\"type\":\"BasicTicker\"}},\"id\":\"3e4740f4-2820-4cd6-91da-2c30251c0e0b\",\"type\":\"LinearAxis\"},{\"attributes\":{\"label\":{\"value\":\"Skew Male\"},\"renderers\":[{\"id\":\"5ecfc125-135d-47b7-9c5e-1616c64f3f2b\",\"type\":\"GlyphRenderer\"}]},\"id\":\"75b06636-0fb3-4baa-946a-3cdf840c1532\",\"type\":\"LegendItem\"},{\"attributes\":{\"plot\":{\"id\":\"6057c7f8-e471-4cdd-8ef9-39d084f4877b\",\"subtype\":\"Figure\",\"type\":\"Plot\"}},\"id\":\"74a9b5c8-1059-4a27-aceb-25cc9ef25b05\",\"type\":\"WheelZoomTool\"},{\"attributes\":{\"level\":\"glyph\",\"plot\":{\"id\":\"6057c7f8-e471-4cdd-8ef9-39d084f4877b\",\"subtype\":\"Figure\",\"type\":\"Plot\"},\"source\":{\"id\":\"db9df23a-1c93-4d75-91cb-27b6891619da\",\"type\":\"ColumnDataSource\"},\"text\":{\"field\":\"word\"},\"x\":{\"value\":0},\"x_offset\":{\"value\":5},\"y\":{\"field\":\"word\"},\"y_offset\":{\"value\":-9}},\"id\":\"a0d5b905-4a28-4482-b811-585a63e15961\",\"type\":\"LabelSet\"},{\"attributes\":{\"callback\":null,\"column_names\":[\"gender\",\"word\",\"index\",\"ratio\"],\"data\":{\"gender\":[\"f\",\"f\",\"f\",\"f\",\"f\",\"f\",\"f\",\"f\",\"f\",\"f\",\"f\"],\"index\":[28,29,22,19,20,16,14,13,11,6,0],\"ratio\":{\"__ndarray__\":\"GLEPx4zyHUAYsQ/HjPIdQJ3iCHYwwx9Avb8N5CoxIUC9vw3kKjEhQO6mk2QPaSNAhprWpAGFJECGmtakAYUkQB+OGeXzoCVAoBRWwMnaJkB0DYYvYh85QA==\",\"dtype\":\"float64\",\"shape\":[11]},\"word\":[\"chamomile\",\"pure\",\"mist\",\"ease\",\"freesia\",\"perfumes\",\"calming\",\"healthy\",\"delicate\",\"women\",\"essential\"]}},\"id\":\"f3ed59f7-2820-4e33-89d5-b20cbb820ad5\",\"type\":\"ColumnDataSource\"},{\"attributes\":{\"active_drag\":\"auto\",\"active_inspect\":\"auto\",\"active_scroll\":\"auto\",\"active_tap\":\"auto\",\"tools\":[{\"id\":\"83248c15-d6d6-4d27-b07a-fabae6bcd8a8\",\"type\":\"PanTool\"},{\"id\":\"74a9b5c8-1059-4a27-aceb-25cc9ef25b05\",\"type\":\"WheelZoomTool\"},{\"id\":\"376b4dd0-1053-45bb-a121-99e7ca6f248a\",\"type\":\"BoxZoomTool\"},{\"id\":\"98ca45f3-443b-425f-9c85-62777a042478\",\"type\":\"SaveTool\"},{\"id\":\"f448e0e4-49d3-4083-94e8-688aecdcb02e\",\"type\":\"ResetTool\"},{\"id\":\"4c2d838b-607b-4c9c-b48c-ff03a30e6b03\",\"type\":\"HelpTool\"}]},\"id\":\"8d843084-0878-4da1-b2ce-9e88d48f250a\",\"type\":\"Toolbar\"},{\"attributes\":{\"callback\":null,\"column_names\":[\"gender\",\"word\",\"index\",\"ratio\"],\"data\":{\"gender\":[\"m\",\"m\",\"m\",\"m\",\"m\",\"m\",\"m\",\"m\",\"m\",\"m\",\"m\",\"m\",\"m\",\"m\",\"m\",\"m\",\"m\",\"m\",\"m\"],\"index\":[1,2,3,4,5,7,8,9,10,12,15,17,18,21,23,24,25,26,27],\"ratio\":{\"__ndarray__\":\"ZX3mrbg8NcC6Q5dWPtUywPWMS+qCEDDAO8d73+SmLcBXemfAQXIqwEZRggF+mSbAAgfJEU2jJcACB8kRTaMlwAIHyRFNoyXAOFAAL4r3JMCP4D6C+wgkwB66tPKpbiLA0vWtPR5dIcCskypjWNQgwM+S4uZOvB/AwJ5HXJmFH8AliY5QmdQewHTaQKcNdB7AdNpApw10HsA=\",\"dtype\":\"float64\",\"shape\":[19]},\"word\":[\"tobacco\",\"rosewood\",\"man\",\"sycamore\",\"homme\",\"deodorant\",\"manly\",\"moisture\",\"sage\",\"men\",\"shave\",\"male\",\"cardamom\",\"mineral\",\"star\",\"sprays\",\"masculine\",\"quick\",\"appeal\"]}},\"id\":\"db9df23a-1c93-4d75-91cb-27b6891619da\",\"type\":\"ColumnDataSource\"},{\"attributes\":{\"formatter\":{\"id\":\"a468c424-b37c-4c33-a20d-e9ade26c958f\",\"type\":\"CategoricalTickFormatter\"},\"plot\":{\"id\":\"6057c7f8-e471-4cdd-8ef9-39d084f4877b\",\"subtype\":\"Figure\",\"type\":\"Plot\"},\"ticker\":{\"id\":\"58bd1d93-7470-4ebe-8ceb-e390ff182a7f\",\"type\":\"CategoricalTicker\"},\"visible\":false},\"id\":\"47c98157-ae51-413c-8f03-44498bd4dbe4\",\"type\":\"CategoricalAxis\"},{\"attributes\":{\"format\":\"%uX\"},\"id\":\"400798a1-a99c-4167-83af-62d5921cc698\",\"type\":\"PrintfTickFormatter\"},{\"attributes\":{\"data_source\":{\"id\":\"559b43fa-65a8-45fc-a969-bea1ae69ac84\",\"type\":\"ColumnDataSource\"},\"glyph\":{\"id\":\"6eab85d5-0285-4136-bcbc-d00ce28616f7\",\"type\":\"HBar\"},\"hover_glyph\":null,\"muted_glyph\":null,\"nonselection_glyph\":{\"id\":\"d81f2568-c2eb-48db-83a6-5313544b27b3\",\"type\":\"HBar\"},\"selection_glyph\":null},\"id\":\"5ecfc125-135d-47b7-9c5e-1616c64f3f2b\",\"type\":\"GlyphRenderer\"},{\"attributes\":{\"plot\":{\"id\":\"6057c7f8-e471-4cdd-8ef9-39d084f4877b\",\"subtype\":\"Figure\",\"type\":\"Plot\"}},\"id\":\"f448e0e4-49d3-4083-94e8-688aecdcb02e\",\"type\":\"ResetTool\"},{\"attributes\":{\"fill_color\":{\"value\":\"deeppink\"},\"height\":{\"value\":0.8},\"line_color\":{\"value\":\"deeppink\"},\"right\":{\"field\":\"ratio\"},\"y\":{\"field\":\"word\"}},\"id\":\"a31968d0-49e2-4dba-a77d-11f7ab458fc1\",\"type\":\"HBar\"},{\"attributes\":{\"plot\":{\"id\":\"6057c7f8-e471-4cdd-8ef9-39d084f4877b\",\"subtype\":\"Figure\",\"type\":\"Plot\"}},\"id\":\"98ca45f3-443b-425f-9c85-62777a042478\",\"type\":\"SaveTool\"},{\"attributes\":{\"callback\":null,\"column_names\":[\"gender\",\"word\",\"index\",\"ratio\"],\"data\":{\"gender\":[\"m\",\"m\",\"m\",\"m\",\"m\",\"m\",\"m\",\"m\",\"m\",\"m\",\"m\",\"m\",\"m\",\"m\",\"m\",\"m\",\"m\",\"m\",\"m\"],\"index\":[1,2,3,4,5,7,8,9,10,12,15,17,18,21,23,24,25,26,27],\"ratio\":{\"__ndarray__\":\"ZX3mrbg8NcC6Q5dWPtUywPWMS+qCEDDAO8d73+SmLcBXemfAQXIqwEZRggF+mSbAAgfJEU2jJcACB8kRTaMlwAIHyRFNoyXAOFAAL4r3JMCP4D6C+wgkwB66tPKpbiLA0vWtPR5dIcCskypjWNQgwM+S4uZOvB/AwJ5HXJmFH8AliY5QmdQewHTaQKcNdB7AdNpApw10HsA=\",\"dtype\":\"float64\",\"shape\":[19]},\"word\":[\"tobacco\",\"rosewood\",\"man\",\"sycamore\",\"homme\",\"deodorant\",\"manly\",\"moisture\",\"sage\",\"men\",\"shave\",\"male\",\"cardamom\",\"mineral\",\"star\",\"sprays\",\"masculine\",\"quick\",\"appeal\"]}},\"id\":\"559b43fa-65a8-45fc-a969-bea1ae69ac84\",\"type\":\"ColumnDataSource\"},{\"attributes\":{\"callback\":null,\"end\":30.12259194395797,\"start\":-30.12259194395797},\"id\":\"cfc60057-f581-4b28-9c83-f576e6a7a1d5\",\"type\":\"Range1d\"},{\"attributes\":{},\"id\":\"366e2060-838a-4375-9bf8-06bb0039d28f\",\"type\":\"LinearScale\"},{\"attributes\":{},\"id\":\"28e032a4-dc51-422c-a085-3e292524b15b\",\"type\":\"CategoricalScale\"},{\"attributes\":{\"grid_line_color\":{\"value\":null},\"plot\":{\"id\":\"6057c7f8-e471-4cdd-8ef9-39d084f4877b\",\"subtype\":\"Figure\",\"type\":\"Plot\"},\"ticker\":{\"id\":\"004f74bb-0a16-49ee-ae08-b24fc0a5be2b\",\"type\":\"BasicTicker\"}},\"id\":\"c060093a-3088-47b8-8d59-8f829c7ded38\",\"type\":\"Grid\"},{\"attributes\":{\"fill_alpha\":{\"value\":0.1},\"fill_color\":{\"value\":\"#1f77b4\"},\"height\":{\"value\":0.8},\"left\":{\"field\":\"ratio\"},\"line_alpha\":{\"value\":0.1},\"line_color\":{\"value\":\"#1f77b4\"},\"right\":{\"value\":0},\"y\":{\"field\":\"word\"}},\"id\":\"d81f2568-c2eb-48db-83a6-5313544b27b3\",\"type\":\"HBar\"},{\"attributes\":{\"plot\":{\"id\":\"6057c7f8-e471-4cdd-8ef9-39d084f4877b\",\"subtype\":\"Figure\",\"type\":\"Plot\"}},\"id\":\"4c2d838b-607b-4c9c-b48c-ff03a30e6b03\",\"type\":\"HelpTool\"},{\"attributes\":{\"level\":\"glyph\",\"plot\":{\"id\":\"6057c7f8-e471-4cdd-8ef9-39d084f4877b\",\"subtype\":\"Figure\",\"type\":\"Plot\"},\"source\":{\"id\":\"80e2192c-f443-41de-ad18-8e9e48b69dbe\",\"type\":\"ColumnDataSource\"},\"text\":{\"field\":\"word\"},\"text_align\":\"right\",\"x\":{\"value\":0},\"x_offset\":{\"value\":-5},\"y\":{\"field\":\"word\"},\"y_offset\":{\"value\":-9}},\"id\":\"f4f75b3c-a80a-40c8-bb36-17d24cf7fa5e\",\"type\":\"LabelSet\"}],\"root_ids\":[\"6057c7f8-e471-4cdd-8ef9-39d084f4877b\"]},\"title\":\"Bokeh Application\",\"version\":\"0.12.6\"}};\n",
       "            var render_items = [{\"docid\":\"35b7aa6b-f27b-4d64-ba2f-bcc9ece1fe77\",\"elementid\":\"51d0cf8b-fe27-4561-9824-213c3a8c3620\",\"modelid\":\"6057c7f8-e471-4cdd-8ef9-39d084f4877b\"}];\n",
       "            \n",
       "            Bokeh.embed.embed_items(docs_json, render_items);\n",
       "          };\n",
       "          if (document.readyState != \"loading\") fn();\n",
       "          else document.addEventListener(\"DOMContentLoaded\", fn);\n",
       "        })();\n",
       "      },\n",
       "      function(Bokeh) {\n",
       "      }\n",
       "    ];\n",
       "  \n",
       "    function run_inline_js() {\n",
       "      \n",
       "      if ((window.Bokeh !== undefined) || (force === true)) {\n",
       "        for (var i = 0; i < inline_js.length; i++) {\n",
       "          inline_js[i](window.Bokeh);\n",
       "        }if (force === true) {\n",
       "          display_loaded();\n",
       "        }} else if (Date.now() < window._bokeh_timeout) {\n",
       "        setTimeout(run_inline_js, 100);\n",
       "      } else if (!window._bokeh_failed_load) {\n",
       "        console.log(\"Bokeh: BokehJS failed to load within specified timeout.\");\n",
       "        window._bokeh_failed_load = true;\n",
       "      } else if (force !== true) {\n",
       "        var cell = $(document.getElementById(\"51d0cf8b-fe27-4561-9824-213c3a8c3620\")).parents('.cell').data().cell;\n",
       "        cell.output_area.append_execute_result(NB_LOAD_WARNING)\n",
       "      }\n",
       "  \n",
       "    }\n",
       "  \n",
       "    if (window._bokeh_is_loading === 0) {\n",
       "      console.log(\"Bokeh: BokehJS loaded, going straight to plotting\");\n",
       "      run_inline_js();\n",
       "    } else {\n",
       "      load_libs(js_urls, function() {\n",
       "        console.log(\"Bokeh: BokehJS plotting callback run at\", now());\n",
       "        run_inline_js();\n",
       "      });\n",
       "    }\n",
       "  }(this));\n",
       "</script>"
      ]
     },
     "metadata": {},
     "output_type": "display_data"
    }
   ],
   "source": [
    "perfume_info = store_most_informative_features(perfumeSC,30)\n",
    "graph_features(perfume_info, \"Perfume\")"
   ]
  },
  {
   "cell_type": "code",
   "execution_count": 37,
   "metadata": {},
   "outputs": [
    {
     "data": {
      "text/html": [
       "\n",
       "    <div class=\"bk-root\">\n",
       "        <a href=\"http://bokeh.pydata.org\" target=\"_blank\" class=\"bk-logo bk-logo-small bk-logo-notebook\"></a>\n",
       "        <span id=\"498836a2-0c20-4370-a8b9-2925b44e0d67\">Loading BokehJS ...</span>\n",
       "    </div>"
      ]
     },
     "metadata": {},
     "output_type": "display_data"
    },
    {
     "data": {
      "application/javascript": [
       "\n",
       "(function(global) {\n",
       "  function now() {\n",
       "    return new Date();\n",
       "  }\n",
       "\n",
       "  var force = true;\n",
       "\n",
       "  if (typeof (window._bokeh_onload_callbacks) === \"undefined\" || force === true) {\n",
       "    window._bokeh_onload_callbacks = [];\n",
       "    window._bokeh_is_loading = undefined;\n",
       "  }\n",
       "\n",
       "\n",
       "  \n",
       "  if (typeof (window._bokeh_timeout) === \"undefined\" || force === true) {\n",
       "    window._bokeh_timeout = Date.now() + 5000;\n",
       "    window._bokeh_failed_load = false;\n",
       "  }\n",
       "\n",
       "  var NB_LOAD_WARNING = {'data': {'text/html':\n",
       "     \"<div style='background-color: #fdd'>\\n\"+\n",
       "     \"<p>\\n\"+\n",
       "     \"BokehJS does not appear to have successfully loaded. If loading BokehJS from CDN, this \\n\"+\n",
       "     \"may be due to a slow or bad network connection. Possible fixes:\\n\"+\n",
       "     \"</p>\\n\"+\n",
       "     \"<ul>\\n\"+\n",
       "     \"<li>re-rerun `output_notebook()` to attempt to load from CDN again, or</li>\\n\"+\n",
       "     \"<li>use INLINE resources instead, as so:</li>\\n\"+\n",
       "     \"</ul>\\n\"+\n",
       "     \"<code>\\n\"+\n",
       "     \"from bokeh.resources import INLINE\\n\"+\n",
       "     \"output_notebook(resources=INLINE)\\n\"+\n",
       "     \"</code>\\n\"+\n",
       "     \"</div>\"}};\n",
       "\n",
       "  function display_loaded() {\n",
       "    if (window.Bokeh !== undefined) {\n",
       "      var el = document.getElementById(\"498836a2-0c20-4370-a8b9-2925b44e0d67\");\n",
       "      el.textContent = \"BokehJS \" + Bokeh.version + \" successfully loaded.\";\n",
       "    } else if (Date.now() < window._bokeh_timeout) {\n",
       "      setTimeout(display_loaded, 100)\n",
       "    }\n",
       "  }\n",
       "\n",
       "  function run_callbacks() {\n",
       "    try {\n",
       "      window._bokeh_onload_callbacks.forEach(function(callback) { callback() });\n",
       "    }\n",
       "    finally {\n",
       "      delete window._bokeh_onload_callbacks\n",
       "    }\n",
       "    console.info(\"Bokeh: all callbacks have finished\");\n",
       "  }\n",
       "\n",
       "  function load_libs(js_urls, callback) {\n",
       "    window._bokeh_onload_callbacks.push(callback);\n",
       "    if (window._bokeh_is_loading > 0) {\n",
       "      console.log(\"Bokeh: BokehJS is being loaded, scheduling callback at\", now());\n",
       "      return null;\n",
       "    }\n",
       "    if (js_urls == null || js_urls.length === 0) {\n",
       "      run_callbacks();\n",
       "      return null;\n",
       "    }\n",
       "    console.log(\"Bokeh: BokehJS not loaded, scheduling load and callback at\", now());\n",
       "    window._bokeh_is_loading = js_urls.length;\n",
       "    for (var i = 0; i < js_urls.length; i++) {\n",
       "      var url = js_urls[i];\n",
       "      var s = document.createElement('script');\n",
       "      s.src = url;\n",
       "      s.async = false;\n",
       "      s.onreadystatechange = s.onload = function() {\n",
       "        window._bokeh_is_loading--;\n",
       "        if (window._bokeh_is_loading === 0) {\n",
       "          console.log(\"Bokeh: all BokehJS libraries loaded\");\n",
       "          run_callbacks()\n",
       "        }\n",
       "      };\n",
       "      s.onerror = function() {\n",
       "        console.warn(\"failed to load library \" + url);\n",
       "      };\n",
       "      console.log(\"Bokeh: injecting script tag for BokehJS library: \", url);\n",
       "      document.getElementsByTagName(\"head\")[0].appendChild(s);\n",
       "    }\n",
       "  };var element = document.getElementById(\"498836a2-0c20-4370-a8b9-2925b44e0d67\");\n",
       "  if (element == null) {\n",
       "    console.log(\"Bokeh: ERROR: autoload.js configured with elementid '498836a2-0c20-4370-a8b9-2925b44e0d67' but no matching script tag was found. \")\n",
       "    return false;\n",
       "  }\n",
       "\n",
       "  var js_urls = [\"https://cdn.pydata.org/bokeh/release/bokeh-0.12.6.min.js\", \"https://cdn.pydata.org/bokeh/release/bokeh-widgets-0.12.6.min.js\"];\n",
       "\n",
       "  var inline_js = [\n",
       "    function(Bokeh) {\n",
       "      Bokeh.set_log_level(\"info\");\n",
       "    },\n",
       "    \n",
       "    function(Bokeh) {\n",
       "      \n",
       "    },\n",
       "    \n",
       "    function(Bokeh) {\n",
       "      \n",
       "      document.getElementById(\"498836a2-0c20-4370-a8b9-2925b44e0d67\").textContent = \"BokehJS is loading...\";\n",
       "    },\n",
       "    function(Bokeh) {\n",
       "      console.log(\"Bokeh: injecting CSS: https://cdn.pydata.org/bokeh/release/bokeh-0.12.6.min.css\");\n",
       "      Bokeh.embed.inject_css(\"https://cdn.pydata.org/bokeh/release/bokeh-0.12.6.min.css\");\n",
       "      console.log(\"Bokeh: injecting CSS: https://cdn.pydata.org/bokeh/release/bokeh-widgets-0.12.6.min.css\");\n",
       "      Bokeh.embed.inject_css(\"https://cdn.pydata.org/bokeh/release/bokeh-widgets-0.12.6.min.css\");\n",
       "    }\n",
       "  ];\n",
       "\n",
       "  function run_inline_js() {\n",
       "    \n",
       "    if ((window.Bokeh !== undefined) || (force === true)) {\n",
       "      for (var i = 0; i < inline_js.length; i++) {\n",
       "        inline_js[i](window.Bokeh);\n",
       "      }if (force === true) {\n",
       "        display_loaded();\n",
       "      }} else if (Date.now() < window._bokeh_timeout) {\n",
       "      setTimeout(run_inline_js, 100);\n",
       "    } else if (!window._bokeh_failed_load) {\n",
       "      console.log(\"Bokeh: BokehJS failed to load within specified timeout.\");\n",
       "      window._bokeh_failed_load = true;\n",
       "    } else if (force !== true) {\n",
       "      var cell = $(document.getElementById(\"498836a2-0c20-4370-a8b9-2925b44e0d67\")).parents('.cell').data().cell;\n",
       "      cell.output_area.append_execute_result(NB_LOAD_WARNING)\n",
       "    }\n",
       "\n",
       "  }\n",
       "\n",
       "  if (window._bokeh_is_loading === 0) {\n",
       "    console.log(\"Bokeh: BokehJS loaded, going straight to plotting\");\n",
       "    run_inline_js();\n",
       "  } else {\n",
       "    load_libs(js_urls, function() {\n",
       "      console.log(\"Bokeh: BokehJS plotting callback run at\", now());\n",
       "      run_inline_js();\n",
       "    });\n",
       "  }\n",
       "}(this));"
      ]
     },
     "metadata": {},
     "output_type": "display_data"
    }
   ],
   "source": [
    "from bokeh.io import show\n",
    "from bokeh.models import ColumnDataSource, PrintfTickFormatter, LabelSet\n",
    "from bokeh.plotting import figure\n",
    "from bokeh.models.glyphs import HBar\n",
    "from bokeh.io import output_notebook\n",
    "from bokeh.models import Range1d, CategoricalAxis, FactorRange\n",
    "output_notebook()"
   ]
  },
  {
   "cell_type": "code",
   "execution_count": 84,
   "metadata": {
    "collapsed": true
   },
   "outputs": [],
   "source": [
    "def graph_features(featlist, name):\n",
    "    \"\"\"\n",
    "    Function takes as input, a list of features as outputed by store_most_informative_features, and a str for product\n",
    "    Function creates a labeled dataframe, transforms the df by\n",
    "        retaining positive values for \"f\" features, negative values for \"m\" features, sorting by descending order\n",
    "        use Bokeh to graph the most informative features from most \"f\" indicating to most \"m\" indicating\n",
    "    Function returns the DataFrame\n",
    "    \"\"\"\n",
    "    featdf = pd.DataFrame(featlist)\n",
    "    featdf.columns = ['word','gender','ratio']\n",
    "    if featdf[featdf.gender=='m'].ratio.all > 0:\n",
    "        featdf.loc[featdf.gender=='m','ratio'] =-1*featdf[featdf.gender=='m'].ratio\n",
    "    featdf.sort_values(by='ratio',ascending = True, inplace = True)\n",
    "    x_max = featdf.ratio.abs().max() + 5\n",
    "    p = figure(y_range=list(featdf.word), x_range=(-x_max,x_max), \n",
    "               title=\"Most Informative Words in Descriptions for \" + name)\n",
    "    \n",
    "#    p.extra_y_ranges = {\"foo\": FactorRange(factors=list(featdf.word))}\n",
    "#    p.add_layout(CategoricalAxis(y_range_name=\"foo\"), \"center\")\n",
    "\n",
    "    p.hbar(y='word', right='ratio', left = 0, height = 0.8, legend = \"Female\",\n",
    "           color = 'deeppink', source=ColumnDataSource(featdf[featdf.gender=='f']))\n",
    "    p.hbar(y='word', left ='ratio', right = 0, height = 0.8, legend = \"Male\",\n",
    "           color = 'deepskyblue', source=ColumnDataSource(featdf[featdf.gender=='m']))\n",
    "    labels_m = LabelSet(x=0, y='word', text='word', level='glyph', x_offset = 5,\n",
    "              source=ColumnDataSource(featdf[featdf.gender=='m']), y_offset = -9, render_mode='canvas')\n",
    "    labels_f = LabelSet(x=0, y='word', text='word', level='glyph', x_offset = -5, text_align = 'right',\n",
    "              source=ColumnDataSource(featdf[featdf.gender=='f']), y_offset = -9, render_mode='canvas')\n",
    "    p.add_layout(labels_m)\n",
    "    p.add_layout(labels_f)\n",
    "    p.yaxis.visible = False\n",
    "    p.y_range.range_padding = 0.1\n",
    "    p.xaxis.axis_label = \"Likelihood Ratio\"\n",
    "    p.xaxis.axis_label_text_font_size = '1em'\n",
    "    p.xaxis.major_label_text_font_size = '1em'\n",
    "    p.title.text_font_size = '1.2em'\n",
    "    p.xaxis[0].formatter = PrintfTickFormatter(format=\"%uX\")\n",
    "    p.legend.location = \"bottom_right\"\n",
    "    p.legend.label_text_font_size = '1em'\n",
    "    p.xgrid.grid_line_color = None\n",
    "    p.ygrid.grid_line_color = None\n",
    "    show(p)\n",
    "#    return featdf"
   ]
  },
  {
   "cell_type": "code",
   "execution_count": 7,
   "metadata": {
    "collapsed": true
   },
   "outputs": [],
   "source": [
    "def store_most_informative_features(self, n=20):\n",
    "    # function acts on a Naive Bayes classifier object outputed by NLTK\n",
    "    # function outputs list of n most informative features, the label of lean, and the ratio\n",
    "    cpdist = self._feature_probdist\n",
    "    feat_list = []\n",
    "\n",
    "    for (fname, fval) in self.most_informative_features(n):\n",
    "        def labelprob(l):\n",
    "            return cpdist[l, fname].prob(fval)\n",
    "\n",
    "        labels = sorted([l for l in self._labels\n",
    "                         if fval in cpdist[l, fname].samples()],\n",
    "                        key=labelprob)\n",
    "        if len(labels) == 1:\n",
    "            continue\n",
    "        l0 = labels[0]\n",
    "        l1 = labels[-1]\n",
    "        if cpdist[l0, fname].prob(fval) == 0:\n",
    "            ratio = 'INF'\n",
    "        else:\n",
    "            ratio = (cpdist[l1, fname].prob(fval) /\n",
    "                               cpdist[l0, fname].prob(fval))\n",
    "        feat_list.append([fname, (\"%s\" % l1)[:6], ratio])\n",
    "    return feat_list"
   ]
  },
  {
   "cell_type": "code",
   "execution_count": 8,
   "metadata": {
    "collapsed": true
   },
   "outputs": [],
   "source": [
    "def NB_classify(feature, fraction = 0.8, cats = ['f','m']):\n",
    "    \"\"\"\n",
    "    Function takes as inputs:\n",
    "        feature(dic) as dictionary of labeled features\n",
    "        fraction(0-1.0) as proportion of raw files to include in the training set\n",
    "    Function scrambles file order randomly,\n",
    "        takes the portion of training data to train the NLTK Naive Bayes classifier, prints its accuracy,\n",
    "        prints accuracy of the classifier on the test data\n",
    "    Function outputs the Naive Bayes Sentiment classifier object\n",
    "    \"\"\"\n",
    "    test = []\n",
    "    train = []\n",
    "    for cat in cats:\n",
    "        featlist = feature[cat]\n",
    "        split = int(round(len(featlist) * fraction))\n",
    "        random.shuffle(featlist)\n",
    "        train += featlist[:split]\n",
    "        test += featlist[split:]\n",
    "    sentiment_classifier = NaiveBayesClassifier.train(train)\n",
    "    print(util.accuracy(sentiment_classifier, train) * 100)\n",
    "    print(util.accuracy(sentiment_classifier, test) * 100)\n",
    "    return sentiment_classifier"
   ]
  },
  {
   "cell_type": "code",
   "execution_count": 25,
   "metadata": {},
   "outputs": [
    {
     "ename": "SyntaxError",
     "evalue": "invalid syntax (<ipython-input-25-a0596086a4c1>, line 22)",
     "output_type": "error",
     "traceback": [
      "\u001b[1;36m  File \u001b[1;32m\"<ipython-input-25-a0596086a4c1>\"\u001b[1;36m, line \u001b[1;32m22\u001b[0m\n\u001b[1;33m    elif nodelimit != None i >= nodelimit[0] and i <= nodelimit[1]:\u001b[0m\n\u001b[1;37m                           ^\u001b[0m\n\u001b[1;31mSyntaxError\u001b[0m\u001b[1;31m:\u001b[0m invalid syntax\n"
     ]
    }
   ],
   "source": [
    "def build_corpus(index, dirname, dictionary, nodelimit = None):\n",
    "    \"\"\"\n",
    "    function takes as inputs:\n",
    "        index(str) as optioned by Amazon\n",
    "        dirname(str) as chosen by user for folder for output\n",
    "        dictionary(dic) of pair matched parent node IDs, with keys as 'f' or 'm'\n",
    "        nodelimit(list) as a range of lower and upper limit to the child nodes\n",
    "    function retrieves item descriptions by calling save_item_files() for the node itself,\n",
    "        and child nodes up to the numerical nodelimit\n",
    "    function outputs:\n",
    "        Corpus, an NLTK categorized corpus, labeling each item item\n",
    "    \"\"\"\n",
    "    corpusdir = dirname + \"/\"\n",
    "    if not os.path.isdir(corpusdir):\n",
    "        os.mkdir(corpusdir)\n",
    "    \n",
    "    for k,v in dictionary.items():\n",
    "        save_item_files(corpusdir, index, v , tag = k)\n",
    "        for i, childnode in enumerate(get_child_nodes(v)):\n",
    "            if nodelimit is None:\n",
    "                save_item_files(corpusdir, index, childnode, tag = k)\n",
    "            elif nodelimit != None i >= nodelimit[0] and i <= nodelimit[1]:\n",
    "                save_item_files(corpusdir, index, childnode, tag = k)\n",
    "            else:\n",
    "                continue\n",
    "            \n",
    "    Corpus = CategorizedPlaintextCorpusReader(corpusdir, r'.*.txt', cat_pattern=r'\\w+_([fm]).txt')\n",
    "    return Corpus"
   ]
  },
  {
   "cell_type": "code",
   "execution_count": 10,
   "metadata": {
    "collapsed": true
   },
   "outputs": [],
   "source": [
    "def get_FD(corpus, cat = None):\n",
    "    # Function takes categorized NLTK corpus and returns FreqDist object while printing 15 most common words of corpus\n",
    "    words = corpus.words(categories = cat)\n",
    "    filtered = filter_lower(words)\n",
    "    FD = FreqDist(filtered)\n",
    "    print(FD.most_common(15))\n",
    "    return FD"
   ]
  },
  {
   "cell_type": "code",
   "execution_count": 11,
   "metadata": {
    "collapsed": true
   },
   "outputs": [],
   "source": [
    "def create_features(corpus, cats = ['f','m']):\n",
    "    # function takes categorized NLTK corpus, and creates a dictionary of features labeled 'f' or 'm'\n",
    "    dictout = {}\n",
    "    for cat in cats:\n",
    "        dictout[cat] = [\n",
    "        (bag_filter_lower(corpus.words(fileids=[f])), cat) \\\n",
    "        for f in corpus.fileids(categories=cat)]\n",
    "    return dictout"
   ]
  },
  {
   "cell_type": "code",
   "execution_count": 12,
   "metadata": {
    "collapsed": true
   },
   "outputs": [],
   "source": [
    "def save_item_files(corpusdir, SearchIndex, Node, tag=\"\"):\n",
    "    \"\"\"\n",
    "    function takes as inputs:\n",
    "        corpusdir(str) of the directory where corpus files will be created and saved to\n",
    "        SearchIndex(str) of item to be searched as optioned by Amazon\n",
    "        node(int) of the node ID for the item search\n",
    "        tag(str) of the \"tag\" that goes at end of filename to indicate \"f\" or \"m\"\n",
    "    function uses created Amazon api object and saves description of each item as a text file\n",
    "        with item ASIN as filename, with usually the indicated tag at the end following underscore\n",
    "    function returns nothing\n",
    "    \"\"\"\n",
    "    items = api.item_search(\n",
    "        SearchIndex, ResponseGroup = 'EditorialReview', BrowseNode = Node)\n",
    "\n",
    "    for i, item in enumerate(items):\n",
    "        try:\n",
    "            content = item.EditorialReviews.EditorialReview.Content.text\n",
    "            content = re.sub('<[^<]+?>', '', content)\n",
    "            with open(corpusdir + item.ASIN.text + \"_\" + tag + '.txt','w') as fout:\n",
    "                fout.write(content.encode('utf-8'))\n",
    "                \n",
    "        except AttributeError:\n",
    "            pass"
   ]
  },
  {
   "cell_type": "code",
   "execution_count": 13,
   "metadata": {
    "collapsed": true,
    "scrolled": false
   },
   "outputs": [],
   "source": [
    "def filter_lower(words):\n",
    "    # function filters for stopwords and punctuations from a list of words and returns list with all lowercase words\n",
    "    uselesswords = stopwords.words(\"english\") + list(string.punctuation)\n",
    "    #otherwords = [\"\\s\", \"br\", \"b\", \"</\", \"><\", \".</\", \"/>\", \".<\", \">-\", \"\"\"+)\"\"\", \"\"\")<\\\\\"\"\"]\n",
    "    #uselesswords += otherwords\n",
    "    return [word.lower() for word in words if not word.lower() in uselesswords]"
   ]
  },
  {
   "cell_type": "code",
   "execution_count": 14,
   "metadata": {
    "collapsed": true
   },
   "outputs": [],
   "source": [
    "def bag_filter_lower(words):\n",
    "    # function filters for stopwords and punctuations from a list of words \n",
    "    # and returns dictionary with all lowercase words with value 1\n",
    "    uselesswords = stopwords.words(\"english\") + list(string.punctuation)\n",
    "    return {word.lower():1 for word in words if not word.lower() in uselesswords}"
   ]
  },
  {
   "cell_type": "code",
   "execution_count": 15,
   "metadata": {
    "collapsed": true
   },
   "outputs": [],
   "source": [
    "def get_child_nodes(node_id):\n",
    "    # function takes the node ID(int) and returns a list of child_nodes\n",
    "    child_nodes = []\n",
    "    result = api.browse_node_lookup(node_id)\n",
    "    try:\n",
    "        for child in result.BrowseNodes.BrowseNode.Children.BrowseNode:\n",
    "            nodeout = child.BrowseNodeId.text\n",
    "            child_nodes.append(nodeout)\n",
    "    except AttributeError:\n",
    "        print(\"No child nodes found\")\n",
    "    return child_nodes"
   ]
  },
  {
   "cell_type": "code",
   "execution_count": 16,
   "metadata": {
    "collapsed": true
   },
   "outputs": [],
   "source": [
    "def print_child_nodes(node_id):\n",
    "    # function takes as input the node ID(int) and prints descriptions and node ID of children nodes\n",
    "    result = api.browse_node_lookup(node_id)\n",
    "    for child in result.BrowseNodes.BrowseNode.Children.BrowseNode:\n",
    "         print('{} ({})'.format(child.Name, child.BrowseNodeId))"
   ]
  },
  {
   "cell_type": "code",
   "execution_count": 94,
   "metadata": {},
   "outputs": [
    {
     "name": "stdout",
     "output_type": "stream",
     "text": [
      "After Shaves (13271113011)\n",
      "Beard & Mustache Care (13271118011)\n",
      "Body Groomers (7697066011)\n",
      "Depilatories (3779081)\n",
      "Electric Shavers (13271092011)\n",
      "Eyebrow Trimmers (7706129011)\n",
      "Nose & Ear Hair Trimmers (234950011)\n",
      "Razors & Blades (13271080011)\n",
      "Shaving & Grooming Sets (13271122011)\n",
      "Shaving Accessories (13271115011)\n",
      "Shaving Creams, Lotions & Gels (13271103011)\n",
      "Tweezers (3779181)\n",
      "Waxing (3779191)\n"
     ]
    }
   ],
   "source": [
    "print_child_nodes(13271079011)"
   ]
  },
  {
   "cell_type": "code",
   "execution_count": 93,
   "metadata": {},
   "outputs": [
    {
     "name": "stdout",
     "output_type": "stream",
     "text": [
      "Bleaching (3779061)\n",
      "Depilatories (3779081)\n",
      "Electric Shavers (13295180011)\n",
      "Epilators, Groomers & Trimmers (13269998011)\n",
      "Laser, Light & Electrolysis Hair Removal (13406780011)\n",
      "Razors & Blades (13269991011)\n",
      "Shaving & Grooming Sets (13270009011)\n",
      "Shaving Creams, Lotions & Gels (13270001011)\n",
      "Tweezers (3779181)\n",
      "Waxing (3779191)\n"
     ]
    }
   ],
   "source": [
    "print_child_nodes(13269990011)"
   ]
  },
  {
   "cell_type": "code",
   "execution_count": 95,
   "metadata": {},
   "outputs": [
    {
     "name": "stdout",
     "output_type": "stream",
     "text": [
      "Cartridges & Refills (13269995011)\n",
      "Disposable Razors (13269997011)\n",
      "Razor Systems (13269993011)\n",
      "Razors with Soap Bars (13295188011)\n"
     ]
    }
   ],
   "source": [
    "print_child_nodes(razor['f'])"
   ]
  },
  {
   "cell_type": "code",
   "execution_count": 96,
   "metadata": {},
   "outputs": [
    {
     "name": "stdout",
     "output_type": "stream",
     "text": [
      "Razor Systems (13271082011)\n",
      "Cartridges & Refills (13271084011)\n",
      "Disposable Razors (13271086011)\n",
      "Safety Razors (13271088011)\n",
      "Straight Razors (13271090011)\n"
     ]
    }
   ],
   "source": [
    "print_child_nodes(razor['m'])"
   ]
  },
  {
   "cell_type": "code",
   "execution_count": 25,
   "metadata": {},
   "outputs": [
    {
     "name": "stdout",
     "output_type": "stream",
     "text": [
      "Casual Socks (2476509011)\n",
      "Dress & Trouser Socks (1045726)\n",
      "Athletic Socks (1045724)\n"
     ]
    }
   ],
   "source": [
    "print_child_nodes(socks['m'])"
   ]
  },
  {
   "cell_type": "code",
   "execution_count": 24,
   "metadata": {
    "scrolled": true
   },
   "outputs": [
    {
     "name": "stdout",
     "output_type": "stream",
     "text": [
      "Casual Socks (2376196011)\n",
      "Dress & Trouser Socks (2376197011)\n",
      "Athletic Socks (1044920)\n",
      "Leg Warmers (2376198011)\n",
      "Tights (1044936)\n",
      "Sheers (1044934)\n",
      "Slipper Socks (2376199011)\n",
      "No Show & Liner Socks (2376200011)\n"
     ]
    }
   ],
   "source": [
    "print_child_nodes(socks['f'])"
   ]
  },
  {
   "cell_type": "code",
   "execution_count": 97,
   "metadata": {},
   "outputs": [
    {
     "name": "stdout",
     "output_type": "stream",
     "text": [
      "Compression Tops (9590778011)\n",
      "Polo Shirts (11444121011)\n",
      "T-Shirts (11444122011)\n",
      "Tank Tops (11444123011)\n"
     ]
    }
   ],
   "source": [
    "print_child_nodes(shirts['f'])"
   ]
  },
  {
   "cell_type": "code",
   "execution_count": 98,
   "metadata": {},
   "outputs": [
    {
     "name": "stdout",
     "output_type": "stream",
     "text": [
      "Compression Tops (9590779011)\n",
      "Polo Shirts (11444074011)\n",
      "T-Shirts (11444075011)\n",
      "Tank Tops (11444076011)\n"
     ]
    }
   ],
   "source": [
    "print_child_nodes(shirts['m'])"
   ]
  },
  {
   "cell_type": "code",
   "execution_count": 17,
   "metadata": {},
   "outputs": [
    {
     "name": "stdout",
     "output_type": "stream",
     "text": [
      "Body Sprays (3783161)\n",
      "Cologne (11057051)\n",
      "Eau Fraiche (16262036011)\n",
      "Eau de Parfum (11057071)\n",
      "Eau de Toilette (11057081)\n",
      "Essential Oils (11057091)\n",
      "Sets (11057111)\n"
     ]
    }
   ],
   "source": [
    "print_child_nodes(perfume['f'])"
   ]
  },
  {
   "cell_type": "code",
   "execution_count": 18,
   "metadata": {},
   "outputs": [
    {
     "name": "stdout",
     "output_type": "stream",
     "text": [
      "Body Sprays (16262034011)\n",
      "Cologne (11059721)\n",
      "Eau Fraiche (16262035011)\n",
      "Eau de Parfum (363235011)\n",
      "Eau de Toilette (363236011)\n",
      "Sets (11059741)\n"
     ]
    }
   ],
   "source": [
    "print_child_nodes(perfume['m'])"
   ]
  },
  {
   "cell_type": "code",
   "execution_count": 112,
   "metadata": {},
   "outputs": [
    {
     "name": "stdout",
     "output_type": "stream",
     "text": [
      "Baby & Child Care (10787321)\n",
      "Health Care (3760941)\n",
      "Household Supplies (15342811)\n",
      "Medical Supplies & Equipment (3775161)\n",
      "Oral Care (10079992011)\n",
      "Personal Care (3777891)\n",
      "Sexual Wellness (3777371)\n",
      "Sports Nutrition (6973663011)\n",
      "Stationery & Gift Wrapping Supplies (723418011)\n",
      "Vision Care (10079994011)\n",
      "Vitamins & Dietary Supplements (3764441)\n",
      "Wellness & Relaxation (10079996011)\n"
     ]
    }
   ],
   "source": [
    "#print_child_nodes(3764441)\n",
    "print_child_nodes(3760931)"
   ]
  },
  {
   "cell_type": "code",
   "execution_count": 33,
   "metadata": {},
   "outputs": [
    {
     "name": "stdout",
     "output_type": "stream",
     "text": [
      "Insulated Pants (11443887011)\n",
      "Shell Pants (11443888011)\n"
     ]
    }
   ],
   "source": [
    "print_child_nodes(11443885011)"
   ]
  },
  {
   "cell_type": "code",
   "execution_count": 34,
   "metadata": {},
   "outputs": [
    {
     "name": "stdout",
     "output_type": "stream",
     "text": [
      "Capri Pants (11443934011)\n",
      "Insulated Pants (11443935011)\n",
      "Shell Pants (11443936011)\n"
     ]
    }
   ],
   "source": [
    "print_child_nodes(11443933011)"
   ]
  },
  {
   "cell_type": "code",
   "execution_count": 76,
   "metadata": {},
   "outputs": [
    {
     "name": "stdout",
     "output_type": "stream",
     "text": [
      "Road Running (14210388011)\n",
      "Track & Field & Cross Country (3412255011)\n",
      "Trail Running (1264582011)\n"
     ]
    }
   ],
   "source": [
    "print_child_nodes(shoes_running['f'])"
   ]
  },
  {
   "cell_type": "code",
   "execution_count": 77,
   "metadata": {},
   "outputs": [
    {
     "name": "stdout",
     "output_type": "stream",
     "text": [
      "Road Running (14210389011)\n",
      "Track & Field & Cross Country (3420973011)\n",
      "Trail Running (1264575011)\n"
     ]
    }
   ],
   "source": [
    "print_child_nodes(shoes_running['m'])"
   ]
  }
 ],
 "metadata": {
  "kernelspec": {
   "display_name": "Python 2",
   "language": "python",
   "name": "python2"
  },
  "language_info": {
   "codemirror_mode": {
    "name": "ipython",
    "version": 2
   },
   "file_extension": ".py",
   "mimetype": "text/x-python",
   "name": "python",
   "nbconvert_exporter": "python",
   "pygments_lexer": "ipython2",
   "version": "2.7.13"
  }
 },
 "nbformat": 4,
 "nbformat_minor": 2
}
